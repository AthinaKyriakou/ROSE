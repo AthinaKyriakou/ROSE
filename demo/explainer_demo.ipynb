{
 "cells": [
  {
   "cell_type": "markdown",
   "metadata": {},
   "source": [
    "## Usage of one explainer\n",
    "\n",
    "Take EFM and Exp_EFM as an example, and use dataset amazon_toy."
   ]
  },
  {
   "cell_type": "code",
   "execution_count": 1,
   "metadata": {},
   "outputs": [
    {
     "name": "stderr",
     "output_type": "stream",
     "text": [
      "/home/linan/miniconda3/envs/cornac/lib/python3.11/site-packages/tensorflow/python/debug/cli/debugger_cli_common.py:19: DeprecationWarning: module 'sre_constants' is deprecated\n",
      "  import sre_constants\n"
     ]
    },
    {
     "name": "stdout",
     "output_type": "stream",
     "text": [
      "rating_threshold = 1.0\n",
      "exclude_unknowns = True\n",
      "---\n",
      "Training data:\n",
      "Number of users = 4188\n",
      "Number of items = 10839\n",
      "Number of ratings = 57970\n",
      "Max rating = 5.0\n",
      "Min rating = 1.0\n",
      "Global mean = 4.3\n",
      "---\n",
      "Test data:\n",
      "Number of users = 4188\n",
      "Number of items = 10839\n",
      "Number of ratings = 14325\n",
      "Number of unknown users = 0\n",
      "Number of unknown items = 0\n",
      "---\n",
      "Total users = 4188\n",
      "Total items = 10839\n"
     ]
    }
   ],
   "source": [
    "from cornac.datasets import amazon_toy\n",
    "from cornac.data.reader import Reader\n",
    "from cornac.eval_methods import StratifiedSplit\n",
    "from cornac.data.sentiment import SentimentModality\n",
    "from cornac.models import EFM\n",
    "from cornac.explainer import Exp_EFM\n",
    "\n",
    "# Load the Amazon toy dataset\n",
    "rating = amazon_toy.load_feedback(fmt=\"UIRT\", reader=Reader(min_user_freq=10))\n",
    "sentiment_data = amazon_toy.load_sentiment(reader=Reader(min_user_freq=10))\n",
    "\n",
    "md = SentimentModality(data=sentiment_data)\n",
    "\n",
    "eval_method = StratifiedSplit(\n",
    "    data=rating,\n",
    "    group_by=\"user\",\n",
    "    chrono=True,\n",
    "    sentiment=md,\n",
    "    test_size=0.2,\n",
    "    exclude_unknowns=True,\n",
    "    verbose=True,\n",
    ")\n",
    "\n",
    "# Instantiate the EFM model\n",
    "efm = EFM(\n",
    "    max_iter=20,\n",
    "    num_explicit_factors=128,\n",
    "    num_latent_factors=128,\n",
    "    num_most_cared_aspects=100,\n",
    "    rating_scale=5.0,\n",
    "    alpha=0.9,\n",
    "    lambda_x=1,\n",
    "    lambda_y=1,\n",
    "    lambda_u=0.01,\n",
    "    lambda_h=0.01,\n",
    "    lambda_v=0.01,\n",
    "    trainable=True,\n",
    ")\n",
    "efm.fit(eval_method.train_set)\n",
    "\n",
    "\n",
    "# Instantiate the explainer\n",
    "explainer = Exp_EFM(rec_model=efm, dataset=eval_method.train_set)\n"
   ]
  },
  {
   "cell_type": "markdown",
   "metadata": {},
   "source": [
    "### Explain recommendations"
   ]
  },
  {
   "cell_type": "code",
   "execution_count": 2,
   "metadata": {},
   "outputs": [
    {
     "name": "stdout",
     "output_type": "stream",
     "text": [
      "           user_id     item_id  prediction\n",
      "0   A2B8GXSCB1R05T  B0000524NG    3.675621\n",
      "1   A2B8GXSCB1R05T  B006IMX18W    3.585776\n",
      "2   A2B8GXSCB1R05T  B00154QBPI    3.265129\n",
      "3   A2B8GXSCB1R05T  B009TQA8O4    3.255679\n",
      "4   A2B8GXSCB1R05T  B0087SUH4Q    3.223850\n",
      "5   A3TNM3C9ENUCFW  B0000524NG    3.630252\n",
      "6   A3TNM3C9ENUCFW  B006IMX18W    3.530249\n",
      "7   A3TNM3C9ENUCFW  B00154QBPI    3.266358\n",
      "8   A3TNM3C9ENUCFW  B0087SUH4Q    3.263294\n",
      "9   A3TNM3C9ENUCFW  B009TQA8O4    3.261469\n",
      "10  A2TXMYYGSZCSZ1  B0000524NG    3.965525\n",
      "11  A2TXMYYGSZCSZ1  B006IMX18W    3.767599\n",
      "12  A2TXMYYGSZCSZ1  B00154QBPI    3.489161\n",
      "13  A2TXMYYGSZCSZ1  B009TQA8O4    3.473320\n",
      "14  A2TXMYYGSZCSZ1  B0087SUH4Q    3.452914\n"
     ]
    }
   ],
   "source": [
    "# first, we need some recommendations\n",
    "some_users = eval_method.test_set.user_ids[:3]\n",
    "recomedations = efm.recommend_to_multiple_users(some_users, k=5)\n",
    "print(recomedations)"
   ]
  },
  {
   "cell_type": "code",
   "execution_count": 3,
   "metadata": {},
   "outputs": [
    {
     "data": {
      "application/vnd.jupyter.widget-view+json": {
       "model_id": "56a4c1fab4444083a04080f08f5920d0",
       "version_major": 2,
       "version_minor": 0
      },
      "text/plain": [
       "Computing explanations:   0%|          | 0/15 [00:00<?, ?it/s]"
      ]
     },
     "metadata": {},
     "output_type": "display_data"
    },
    {
     "data": {
      "text/html": [
       "<div>\n",
       "<style scoped>\n",
       "    .dataframe tbody tr th:only-of-type {\n",
       "        vertical-align: middle;\n",
       "    }\n",
       "\n",
       "    .dataframe tbody tr th {\n",
       "        vertical-align: top;\n",
       "    }\n",
       "\n",
       "    .dataframe thead th {\n",
       "        text-align: right;\n",
       "    }\n",
       "</style>\n",
       "<table border=\"1\" class=\"dataframe\">\n",
       "  <thead>\n",
       "    <tr style=\"text-align: right;\">\n",
       "      <th></th>\n",
       "      <th>user_id</th>\n",
       "      <th>item_id</th>\n",
       "      <th>prediction</th>\n",
       "      <th>explanations</th>\n",
       "    </tr>\n",
       "  </thead>\n",
       "  <tbody>\n",
       "    <tr>\n",
       "      <th>0</th>\n",
       "      <td>A2B8GXSCB1R05T</td>\n",
       "      <td>B0000524NG</td>\n",
       "      <td>3.675621</td>\n",
       "      <td>{'really': 5.853303, 'game': 5.668482, 'toy': ...</td>\n",
       "    </tr>\n",
       "    <tr>\n",
       "      <th>1</th>\n",
       "      <td>A2B8GXSCB1R05T</td>\n",
       "      <td>B006IMX18W</td>\n",
       "      <td>3.585776</td>\n",
       "      <td>{'really': 5.4458485, 'game': 5.7008715, 'toy'...</td>\n",
       "    </tr>\n",
       "    <tr>\n",
       "      <th>2</th>\n",
       "      <td>A2B8GXSCB1R05T</td>\n",
       "      <td>B00154QBPI</td>\n",
       "      <td>3.265129</td>\n",
       "      <td>{'really': 5.322633, 'game': 5.282972, 'toy': ...</td>\n",
       "    </tr>\n",
       "    <tr>\n",
       "      <th>3</th>\n",
       "      <td>A2B8GXSCB1R05T</td>\n",
       "      <td>B009TQA8O4</td>\n",
       "      <td>3.255679</td>\n",
       "      <td>{'really': 5.1935964, 'game': 5.377282, 'toy':...</td>\n",
       "    </tr>\n",
       "    <tr>\n",
       "      <th>4</th>\n",
       "      <td>A2B8GXSCB1R05T</td>\n",
       "      <td>B0087SUH4Q</td>\n",
       "      <td>3.223850</td>\n",
       "      <td>{'really': 5.6865864, 'game': 5.3711033, 'toy'...</td>\n",
       "    </tr>\n",
       "    <tr>\n",
       "      <th>5</th>\n",
       "      <td>A3TNM3C9ENUCFW</td>\n",
       "      <td>B0000524NG</td>\n",
       "      <td>3.630252</td>\n",
       "      <td>{'toy': 5.84621, 'game': 5.668482, 'doll': 5.8...</td>\n",
       "    </tr>\n",
       "    <tr>\n",
       "      <th>6</th>\n",
       "      <td>A3TNM3C9ENUCFW</td>\n",
       "      <td>B006IMX18W</td>\n",
       "      <td>3.530249</td>\n",
       "      <td>{'toy': 6.130971, 'game': 5.7008715, 'doll': 5...</td>\n",
       "    </tr>\n",
       "    <tr>\n",
       "      <th>7</th>\n",
       "      <td>A3TNM3C9ENUCFW</td>\n",
       "      <td>B00154QBPI</td>\n",
       "      <td>3.266358</td>\n",
       "      <td>{'toy': 5.663911, 'game': 5.282972, 'doll': 5....</td>\n",
       "    </tr>\n",
       "    <tr>\n",
       "      <th>8</th>\n",
       "      <td>A3TNM3C9ENUCFW</td>\n",
       "      <td>B0087SUH4Q</td>\n",
       "      <td>3.263294</td>\n",
       "      <td>{'toy': 5.795534, 'game': 5.3711033, 'doll': 5...</td>\n",
       "    </tr>\n",
       "    <tr>\n",
       "      <th>9</th>\n",
       "      <td>A3TNM3C9ENUCFW</td>\n",
       "      <td>B009TQA8O4</td>\n",
       "      <td>3.261469</td>\n",
       "      <td>{'toy': 5.8542466, 'game': 5.377282, 'doll': 5...</td>\n",
       "    </tr>\n",
       "    <tr>\n",
       "      <th>10</th>\n",
       "      <td>A2TXMYYGSZCSZ1</td>\n",
       "      <td>B0000524NG</td>\n",
       "      <td>3.965525</td>\n",
       "      <td>{'toy': 5.84621, 'really': 5.853303, 'doll': 5...</td>\n",
       "    </tr>\n",
       "    <tr>\n",
       "      <th>11</th>\n",
       "      <td>A2TXMYYGSZCSZ1</td>\n",
       "      <td>B006IMX18W</td>\n",
       "      <td>3.767599</td>\n",
       "      <td>{'toy': 6.130971, 'really': 5.4458485, 'doll':...</td>\n",
       "    </tr>\n",
       "    <tr>\n",
       "      <th>12</th>\n",
       "      <td>A2TXMYYGSZCSZ1</td>\n",
       "      <td>B00154QBPI</td>\n",
       "      <td>3.489161</td>\n",
       "      <td>{'toy': 5.663911, 'really': 5.322633, 'doll': ...</td>\n",
       "    </tr>\n",
       "    <tr>\n",
       "      <th>13</th>\n",
       "      <td>A2TXMYYGSZCSZ1</td>\n",
       "      <td>B009TQA8O4</td>\n",
       "      <td>3.473320</td>\n",
       "      <td>{'toy': 5.8542466, 'really': 5.1935964, 'doll'...</td>\n",
       "    </tr>\n",
       "    <tr>\n",
       "      <th>14</th>\n",
       "      <td>A2TXMYYGSZCSZ1</td>\n",
       "      <td>B0087SUH4Q</td>\n",
       "      <td>3.452914</td>\n",
       "      <td>{'toy': 5.795534, 'really': 5.6865864, 'doll':...</td>\n",
       "    </tr>\n",
       "  </tbody>\n",
       "</table>\n",
       "</div>"
      ],
      "text/plain": [
       "           user_id     item_id  prediction  \\\n",
       "0   A2B8GXSCB1R05T  B0000524NG    3.675621   \n",
       "1   A2B8GXSCB1R05T  B006IMX18W    3.585776   \n",
       "2   A2B8GXSCB1R05T  B00154QBPI    3.265129   \n",
       "3   A2B8GXSCB1R05T  B009TQA8O4    3.255679   \n",
       "4   A2B8GXSCB1R05T  B0087SUH4Q    3.223850   \n",
       "5   A3TNM3C9ENUCFW  B0000524NG    3.630252   \n",
       "6   A3TNM3C9ENUCFW  B006IMX18W    3.530249   \n",
       "7   A3TNM3C9ENUCFW  B00154QBPI    3.266358   \n",
       "8   A3TNM3C9ENUCFW  B0087SUH4Q    3.263294   \n",
       "9   A3TNM3C9ENUCFW  B009TQA8O4    3.261469   \n",
       "10  A2TXMYYGSZCSZ1  B0000524NG    3.965525   \n",
       "11  A2TXMYYGSZCSZ1  B006IMX18W    3.767599   \n",
       "12  A2TXMYYGSZCSZ1  B00154QBPI    3.489161   \n",
       "13  A2TXMYYGSZCSZ1  B009TQA8O4    3.473320   \n",
       "14  A2TXMYYGSZCSZ1  B0087SUH4Q    3.452914   \n",
       "\n",
       "                                         explanations  \n",
       "0   {'really': 5.853303, 'game': 5.668482, 'toy': ...  \n",
       "1   {'really': 5.4458485, 'game': 5.7008715, 'toy'...  \n",
       "2   {'really': 5.322633, 'game': 5.282972, 'toy': ...  \n",
       "3   {'really': 5.1935964, 'game': 5.377282, 'toy':...  \n",
       "4   {'really': 5.6865864, 'game': 5.3711033, 'toy'...  \n",
       "5   {'toy': 5.84621, 'game': 5.668482, 'doll': 5.8...  \n",
       "6   {'toy': 6.130971, 'game': 5.7008715, 'doll': 5...  \n",
       "7   {'toy': 5.663911, 'game': 5.282972, 'doll': 5....  \n",
       "8   {'toy': 5.795534, 'game': 5.3711033, 'doll': 5...  \n",
       "9   {'toy': 5.8542466, 'game': 5.377282, 'doll': 5...  \n",
       "10  {'toy': 5.84621, 'really': 5.853303, 'doll': 5...  \n",
       "11  {'toy': 6.130971, 'really': 5.4458485, 'doll':...  \n",
       "12  {'toy': 5.663911, 'really': 5.322633, 'doll': ...  \n",
       "13  {'toy': 5.8542466, 'really': 5.1935964, 'doll'...  \n",
       "14  {'toy': 5.795534, 'really': 5.6865864, 'doll':...  "
      ]
     },
     "execution_count": 3,
     "metadata": {},
     "output_type": "execute_result"
    }
   ],
   "source": [
    "explainer.explain_recommendations(recomedations)"
   ]
  },
  {
   "cell_type": "markdown",
   "metadata": {},
   "source": [
    "### Explain one user-item pair"
   ]
  },
  {
   "cell_type": "code",
   "execution_count": 4,
   "metadata": {},
   "outputs": [
    {
     "name": "stdout",
     "output_type": "stream",
     "text": [
      "For User A2B8GXSCB1R05T and Item B00004SDAP:\n",
      "Explanation:\n",
      "{'really': 3.861682, 'game': 2.7133155, 'toy': 3.9144073}\n"
     ]
    }
   ],
   "source": [
    "one_user = eval_method.train_set.user_ids[0]\n",
    "one_item = eval_method.train_set.item_ids[0]\n",
    "explanation = explainer.explain_one_recommendation_to_user(one_user, one_item)\n",
    "print(f\"For User {one_user} and Item {one_item}:\")\n",
    "print(\"Explanation:\")\n",
    "print(explanation)"
   ]
  },
  {
   "cell_type": "markdown",
   "metadata": {},
   "source": [
    "### Explain one user-item with ref-item"
   ]
  },
  {
   "cell_type": "code",
   "execution_count": 5,
   "metadata": {},
   "outputs": [
    {
     "data": {
      "text/html": [
       "<div>\n",
       "<style scoped>\n",
       "    .dataframe tbody tr th:only-of-type {\n",
       "        vertical-align: middle;\n",
       "    }\n",
       "\n",
       "    .dataframe tbody tr th {\n",
       "        vertical-align: top;\n",
       "    }\n",
       "\n",
       "    .dataframe thead th {\n",
       "        text-align: right;\n",
       "    }\n",
       "</style>\n",
       "<table border=\"1\" class=\"dataframe\">\n",
       "  <thead>\n",
       "    <tr style=\"text-align: right;\">\n",
       "      <th></th>\n",
       "      <th>user_id</th>\n",
       "      <th>item_id</th>\n",
       "      <th>explanation</th>\n",
       "      <th>ref_item_id</th>\n",
       "      <th>ref_explanation</th>\n",
       "    </tr>\n",
       "  </thead>\n",
       "  <tbody>\n",
       "    <tr>\n",
       "      <th>0</th>\n",
       "      <td>A2B8GXSCB1R05T</td>\n",
       "      <td>B00004SDAP</td>\n",
       "      <td>{'really': 3.861682, 'game': 2.7133155, 'toy':...</td>\n",
       "      <td>B0045OV9IO</td>\n",
       "      <td>{'really': 4.7144423, 'game': 4.8436193, 'toy'...</td>\n",
       "    </tr>\n",
       "  </tbody>\n",
       "</table>\n",
       "</div>"
      ],
      "text/plain": [
       "          user_id     item_id  \\\n",
       "0  A2B8GXSCB1R05T  B00004SDAP   \n",
       "\n",
       "                                         explanation ref_item_id  \\\n",
       "0  {'really': 3.861682, 'game': 2.7133155, 'toy':...  B0045OV9IO   \n",
       "\n",
       "                                     ref_explanation  \n",
       "0  {'really': 4.7144423, 'game': 4.8436193, 'toy'...  "
      ]
     },
     "execution_count": 5,
     "metadata": {},
     "output_type": "execute_result"
    }
   ],
   "source": [
    "one_user = eval_method.train_set.user_ids[0]\n",
    "one_item = eval_method.train_set.item_ids[0]\n",
    "ref_item = eval_method.train_set.item_ids[10]\n",
    "explanation = explainer.explain_one_with_ref(user_id=one_user, item_id=one_item, ref_item_id=ref_item)\n",
    "explanation"
   ]
  },
  {
   "cell_type": "code",
   "execution_count": 6,
   "metadata": {},
   "outputs": [
    {
     "name": "stdout",
     "output_type": "stream",
     "text": [
      "0    {'really': 3.861682, 'game': 2.7133155, 'toy':...\n",
      "Name: explanation, dtype: object\n",
      "0    {'really': 4.7144423, 'game': 4.8436193, 'toy'...\n",
      "Name: ref_explanation, dtype: object\n"
     ]
    }
   ],
   "source": [
    "# explanation for user-item\n",
    "print(explanation['explanation'])\n",
    "# and explanation for user-ref_item\n",
    "print(explanation['ref_explanation'])"
   ]
  },
  {
   "cell_type": "markdown",
   "metadata": {},
   "source": [
    "### Generate plot for Exp_EFM"
   ]
  },
  {
   "cell_type": "code",
   "execution_count": 7,
   "metadata": {},
   "outputs": [
    {
     "data": {
      "application/vnd.jupyter.widget-view+json": {
       "model_id": "16efa9745c6e4e69adf10b43d80dc219",
       "version_major": 2,
       "version_minor": 0
      },
      "text/plain": [
       "Computing explanations:   0%|          | 0/41880 [00:00<?, ?it/s]"
      ]
     },
     "metadata": {},
     "output_type": "display_data"
    }
   ],
   "source": [
    "users = eval_method.test_set.user_ids\n",
    "recommendations = efm.recommend_to_multiple_users(users, k=10)\n",
    "explanations = explainer.explain_recommendations(recommendations, feature_k=6)\n",
    "explanations_df = explanations.copy()"
   ]
  },
  {
   "cell_type": "code",
   "execution_count": 8,
   "metadata": {},
   "outputs": [
    {
     "name": "stderr",
     "output_type": "stream",
     "text": [
      "/home/linan/miniconda3/envs/cornac/lib/python3.11/site-packages/cornac-2.0.0-py3.11-linux-x86_64.egg/cornac/visualization/visualization.py:297: UserWarning: set_ticklabels() should only be used with a fixed number of ticks, i.e. after set_ticks() or using a FixedLocator.\n",
      "  axes[0].set_xticklabels(x_count, rotation=45)\n",
      "/home/linan/miniconda3/envs/cornac/lib/python3.11/site-packages/cornac-2.0.0-py3.11-linux-x86_64.egg/cornac/visualization/visualization.py:299: UserWarning: set_ticklabels() should only be used with a fixed number of ticks, i.e. after set_ticks() or using a FixedLocator.\n",
      "  axes[1].set_xticklabels(x_coeff, rotation=45)\n"
     ]
    },
    {
     "data": {
      "image/png": "[encoded data removed]",
      "text/plain": [
       "<Figure size 2000x1000 with 2 Axes>"
      ]
     },
     "metadata": {},
     "output_type": "display_data"
    }
   ],
   "source": [
    "from cornac.visualization import Visualization\n",
    "my_plots = Visualization()\n",
    "\n",
    "# Create a plot for a specific user and item\n",
    "one_user = eval_method.train_set.user_ids[15]\n",
    "one_item = eval_method.train_set.item_ids[0]\n",
    "ind_df = my_plots.create_individual_feature_importance_plot(\n",
    "    explanations,\n",
    "    user_id=one_user,\n",
    "    item_id=one_item,\n",
    "    type=\"bar\",\n",
    "    top_k=6,\n",
    "    save_plot=False,\n",
    ")\n",
    "\n",
    "filtered_df = my_plots.create_aggregate_feature_importance_plot(\n",
    "    explanations, type=\"bar\", top_k=8, save_plot=False\n",
    ")"
   ]
  }
 ],
 "metadata": {
  "kernelspec": {
   "display_name": "cornac",
   "language": "python",
   "name": "python3"
  },
  "language_info": {
   "codemirror_mode": {
    "name": "ipython",
    "version": 3
   },
   "file_extension": ".py",
   "mimetype": "text/x-python",
   "name": "python",
   "nbconvert_exporter": "python",
   "pygments_lexer": "ipython3",
   "version": "3.11.5"
  }
 },
 "nbformat": 4,
 "nbformat_minor": 2
}
