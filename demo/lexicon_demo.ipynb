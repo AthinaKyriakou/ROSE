{
 "cells": [
  {
   "cell_type": "code",
   "execution_count": 1,
   "metadata": {},
   "outputs": [
    {
     "name": "stderr",
     "output_type": "stream",
     "text": [
      "/Users/yaoyao/miniconda3/envs/rose/lib/python3.9/site-packages/tqdm/auto.py:21: TqdmWarning: IProgress not found. Please update jupyter and ipywidgets. See https://ipywidgets.readthedocs.io/en/stable/user_install.html\n",
      "  from .autonotebook import tqdm as notebook_tqdm\n"
     ]
    }
   ],
   "source": [
    "from cornac.data import SentimentAnalysis, LexiconsStatistics"
   ]
  },
  {
   "cell_type": "code",
   "execution_count": 2,
   "metadata": {},
   "outputs": [
    {
     "name": "stderr",
     "output_type": "stream",
     "text": [
      "  0%|          | 0/145 [00:00<?, ?it/s]/Users/yaoyao/miniconda3/envs/rose/lib/python3.9/site-packages/cornac-2.0.0-py3.9-macosx-11.1-arm64.egg/cornac/data/lexicon.py:157: FutureWarning: Setting an item of incompatible dtype is deprecated and will raise an error in a future version of pandas. Value 'story:plain:-1,story:dull:1,story:suspense:-1,suspense:romantic:-1' has dtype incompatible with float64, please explicitly cast to a compatible dtype first.\n",
      "  df.at[i, 'lexicon'] = self.build_lexicons_one_text(row[text_name]) if row[text_name] is not np.NaN else np.NaN\n",
      "100%|██████████| 145/145 [00:03<00:00, 45.77it/s]"
     ]
    },
    {
     "name": "stdout",
     "output_type": "stream",
     "text": [
      "number of users: 143\n",
      "number of items: 52\n",
      "total145\n",
      "27 rows have no lexicon\n",
      "118 rows after dropping users having less than 1 reviews\n"
     ]
    },
    {
     "name": "stderr",
     "output_type": "stream",
     "text": [
      "\n"
     ]
    }
   ],
   "source": [
    "input_filename = '../tests/dataset/input/Goodreads_for_lexicon_demo.csv'\n",
    "sep = '\\t'\n",
    "output_lexicon = './output/full_lexicon.txt'\n",
    "output_rating = './output/full_rating.txt'\n",
    "#SA = SentimentAnalysis() # If columns in raw data same as the default.\n",
    "SA = SentimentAnalysis(input_filename, sep='\\t', usecols = ['user_id', 'book_id', 'rating', 'review_text']) # If not\n",
    "full_df = SA.build_lexicons()\n",
    "SA.save_to_file(output_lexicon, output_rating)\n"
   ]
  },
  {
   "cell_type": "code",
   "execution_count": 3,
   "metadata": {},
   "outputs": [
    {
     "name": "stdout",
     "output_type": "stream",
     "text": [
      "number of users: 116\n",
      "number of items: 48\n",
      "number of unique aspects: 422\n",
      "number of unique opinions: 394\n"
     ]
    }
   ],
   "source": [
    "LS = LexiconsStatistics(lexicon_path=output_lexicon)\n",
    "user_aspect_frequency_dict = LS.statistics()\n"
   ]
  },
  {
   "cell_type": "code",
   "execution_count": null,
   "metadata": {},
   "outputs": [],
   "source": []
  }
 ],
 "metadata": {
  "kernelspec": {
   "display_name": "tf",
   "language": "python",
   "name": "python3"
  },
  "language_info": {
   "codemirror_mode": {
    "name": "ipython",
    "version": 3
   },
   "file_extension": ".py",
   "mimetype": "text/x-python",
   "name": "python",
   "nbconvert_exporter": "python",
   "pygments_lexer": "ipython3",
   "version": "3.9.19"
  },
  "orig_nbformat": 4
 },
 "nbformat": 4,
 "nbformat_minor": 2
}
