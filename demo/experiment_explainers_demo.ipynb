{
 "cells": [
  {
   "cell_type": "markdown",
   "metadata": {},
   "source": [
    "### Explainer Experiment Demo\n",
    "\n",
    "Below we show some examples on how you can use the **Experiment_Explainers** class. \n",
    "\n",
    "You can set distribution=True to enable distribution plots while running the experiments. When the experiment is completed, result table is saved in /experiment_plots."
   ]
  },
  {
   "cell_type": "code",
   "execution_count": 1,
   "metadata": {},
   "outputs": [
    {
     "name": "stderr",
     "output_type": "stream",
     "text": [
      "/home/linan/miniconda3/envs/cornac/lib/python3.11/site-packages/tensorflow/python/debug/cli/debugger_cli_common.py:19: DeprecationWarning: module 'sre_constants' is deprecated\n",
      "  import sre_constants\n"
     ]
    }
   ],
   "source": [
    "import warnings\n",
    "from cornac.datasets import goodreads\n",
    "from cornac.experiment.experiment_explainers import Experiment_Explainers\n",
    "from cornac.models import EMF, ALS, FMRec, MTER, EFM, NEMF\n",
    "from cornac.explainer import Exp_EFM, Exp_LIMERS, Exp_MTER, Exp_ALS, Exp_PHI4MF, Exp_SU4EMF\n",
    "from cornac.datasets.goodreads import prepare_data\n",
    "from cornac.metrics_explainer import Metric_Exp_PSPNFNS as PSPN, Metric_Exp_PGF as PGF, Metric_Exp_MEP as MEP, Metric_Exp_EnDCG as EnDCG\n",
    "from cornac.metrics_explainer import Metric_Exp_DIV as DIV, Metric_Exp_FPR as FPR, Metric_Exp_FA as FA, Metric_Exp_RA as RA\n",
    "\n",
    "warnings.filterwarnings('ignore') "
   ]
  },
  {
   "cell_type": "markdown",
   "metadata": {},
   "source": [
    "Experiment 1: run PSPNFNS, FDIV and FPR on (FM, Exp_LIMERS) pair using data from goodreads_limers"
   ]
  },
  {
   "cell_type": "code",
   "execution_count": 4,
   "metadata": {},
   "outputs": [
    {
     "name": "stderr",
     "output_type": "stream",
     "text": [
      "INFO:cornac.experiment.experiment_explainers:Start training Recommender FMRec...\n"
     ]
    },
    {
     "name": "stdout",
     "output_type": "stream",
     "text": [
      "Creating validation dataset of 0.01 of training for adaptive regularization\n",
      "-- Epoch 1\n",
      "Training MSE: 0.93451\n",
      "-- Epoch 2\n",
      "Training MSE: 0.79441\n",
      "-- Epoch 3\n",
      "Training MSE: 0.75649\n",
      "-- Epoch 4\n",
      "Training MSE: 0.73454\n",
      "-- Epoch 5\n",
      "Training MSE: 0.71571\n",
      "-- Epoch 6\n",
      "Training MSE: 0.70002\n",
      "-- Epoch 7\n"
     ]
    },
    {
     "name": "stderr",
     "output_type": "stream",
     "text": [
      "INFO:cornac.experiment.experiment_explainers:*****Start evaluating model-explainer: 'FMRec:Exp_LIMERS'...\n",
      "INFO:cornac.experiment.experiment_explainers:Step 1/3: Recommender FMRec creates recommendations\n"
     ]
    },
    {
     "name": "stdout",
     "output_type": "stream",
     "text": [
      "Training MSE: 0.69143\n",
      "-- Epoch 8\n",
      "Training MSE: 0.67739\n",
      "-- Epoch 9\n",
      "Training MSE: 0.66803\n",
      "-- Epoch 10\n",
      "Training MSE: 0.65927\n"
     ]
    },
    {
     "name": "stderr",
     "output_type": "stream",
     "text": [
      "INFO:cornac.experiment.experiment_explainers:Step 2/3: Explainer Exp_LIMERS create explanation for all recommendations\n",
      "Computing explanations: 100%|██████████| 1000/1000 [00:14<00:00, 67.14it/s]\n",
      "INFO:cornac.experiment.experiment_explainers:Step 3/3: Metric Metric_Exp_PSPNFNS starts evaluation...\n",
      "INFO:cornac.experiment.experiment_explainers:self.current_rec: FMRec, self.current_exp: Exp_LIMERS\n",
      "Re-evaluate after features removal... : 100%|██████████| 1000/1000 [00:16<00:00, 60.11it/s]\n",
      "INFO:cornac.experiment.experiment_explainers:Result: Probability of Necessity: 0.46; Probability of Sufficiency: 0.317; Harmonic Mean: 0.37534105534105533\n",
      "INFO:cornac.experiment.experiment_explainers:Step 3/3: Metric Metric_Exp_DIV starts evaluation...\n",
      "INFO:cornac.experiment.experiment_explainers:Result: Feature diversity: 0.45654413858288023\n",
      "INFO:cornac.experiment.experiment_explainers:Step 3/3: Metric Metric_Exp_FPR starts evaluation...\n",
      "ERROR:cornac.experiment.experiment_explainers:Metric Metric_Exp_FPR does not support Exp_LIMERS.\n",
      "INFO:cornac.experiment.experiment_explainers:experiment data: [[0.37534105534105533, 0.45654413858288023, 'N/A', 6.215931177139282, 33.280783891677856]]\n",
      "INFO:cornac.experiment.experiment_explainers:Experiment result: \n",
      " recommender:explainer |  Metric_Exp_PSPNFNS |      Metric_Exp_DIV | Metric_Exp_FPR |          Train(s) |        Evaluate(s)\n",
      "FMRec:Exp_LIMERS      | 0.37534105534105533 | 0.45654413858288023 |            N/A | 6.215931177139282 | 33.280783891677856\n",
      "\n"
     ]
    }
   ],
   "source": [
    "rs = prepare_data(data_name=\"goodreads_limers\", test_size=0.2, dense=True, item=True, user=True, sample_size=1, seed=21)\n",
    "fm = FMRec()\n",
    "limers = Exp_LIMERS(rec_model=fm, dataset=rs.train_set)\n",
    "pspnfns = PSPN()\n",
    "fdiv = DIV()\n",
    "fpr = FPR()\n",
    "\n",
    "models = [(fm, limers)]\n",
    "metrics = [pspnfns, fdiv, fpr]\n",
    "experiment = Experiment_Explainers(eval_method=rs, models=models, metrics=metrics,distribution=True, rec_k=10, feature_k=10, eval_train=True)\n",
    "experiment.run()"
   ]
  },
  {
   "cell_type": "markdown",
   "metadata": {},
   "source": [
    "Experiment 2: run PSPN, FDIV and FPR on (EFM, Exp_EFM) and (MTER, Exp_MTER) pairs using data from goodreads"
   ]
  },
  {
   "cell_type": "code",
   "execution_count": 5,
   "metadata": {},
   "outputs": [
    {
     "name": "stderr",
     "output_type": "stream",
     "text": [
      "INFO:cornac.experiment.experiment_explainers:Start training Recommender EFM...\n",
      "INFO:cornac.experiment.experiment_explainers:*****Start evaluating model-explainer: 'EFM:Exp_EFM'...\n",
      "INFO:cornac.experiment.experiment_explainers:Step 1/3: Recommender EFM creates recommendations\n",
      "INFO:cornac.experiment.experiment_explainers:Step 2/3: Explainer Exp_EFM create explanation for all recommendations\n",
      "Computing explanations: 100%|██████████| 1000/1000 [00:00<00:00, 9238.31it/s]\n",
      "INFO:cornac.experiment.experiment_explainers:Step 3/3: Metric Metric_Exp_DIV starts evaluation...\n",
      "INFO:cornac.experiment.experiment_explainers:Result: Feature diversity: 0.5131798465131876\n",
      "INFO:cornac.experiment.experiment_explainers:Step 3/3: Metric Metric_Exp_FPR starts evaluation...\n",
      "Start evaluation... :  20%|██        | 1440/7200 [00:00<00:02, 2327.50it/s] \n",
      "INFO:cornac.experiment.experiment_explainers:Result: Feature Precision: 0.37676609105180536; Feature Recall: 0.06329162981303943; Harmonic Mean: 0.09951375281973754\n",
      "INFO:cornac.experiment.experiment_explainers:Step 3/3: Metric Metric_Exp_PSPNFNS starts evaluation...\n",
      "INFO:cornac.experiment.experiment_explainers:self.current_rec: EFM, self.current_exp: Exp_EFM\n",
      "Re-evaluate after features removal... : 100%|██████████| 1000/1000 [00:01<00:00, 628.60it/s]\n",
      "INFO:cornac.experiment.experiment_explainers:Result: Probability of Necessity: 0.044; Probability of Sufficiency: 0.604; Harmonic Mean: 0.08202469135802469\n",
      "INFO:cornac.experiment.experiment_explainers:Start training Recommender MTER...\n",
      "INFO:cornac.experiment.experiment_explainers:*****Start evaluating model-explainer: 'MTER:Exp_MTER'...\n",
      "INFO:cornac.experiment.experiment_explainers:Step 1/3: Recommender MTER creates recommendations\n",
      "INFO:cornac.experiment.experiment_explainers:Step 2/3: Explainer Exp_MTER create explanation for all recommendations\n",
      "Computing explanations: 100%|██████████| 1000/1000 [00:00<00:00, 4833.58it/s]\n",
      "INFO:cornac.experiment.experiment_explainers:Step 3/3: Metric Metric_Exp_DIV starts evaluation...\n",
      "INFO:cornac.experiment.experiment_explainers:Result: Feature diversity: 0.06991958625288289\n",
      "INFO:cornac.experiment.experiment_explainers:Step 3/3: Metric Metric_Exp_FPR starts evaluation...\n",
      "ERROR:cornac.experiment.experiment_explainers:Metric Metric_Exp_FPR does not support Exp_MTER.\n",
      "INFO:cornac.experiment.experiment_explainers:Step 3/3: Metric Metric_Exp_PSPNFNS starts evaluation...\n",
      "INFO:cornac.experiment.experiment_explainers:self.current_rec: MTER, self.current_exp: Exp_MTER\n",
      "Re-evaluate after features removal... : 100%|██████████| 1000/1000 [00:01<00:00, 938.74it/s]\n",
      "INFO:cornac.experiment.experiment_explainers:Result: Probability of Necessity: 0.0; Probability of Sufficiency: 0.666; Harmonic Mean: 0.0\n",
      "INFO:cornac.experiment.experiment_explainers:experiment data: [[0.5131798465131876, 0.09951375281973754, 0.08202469135802469, 0.04655718803405762, 3.418052911758423], [0.06991958625288289, 'N/A', 0.0, 0.08477306365966797, 1.3908720016479492]]\n",
      "INFO:cornac.experiment.experiment_explainers:Experiment result: \n",
      " recommender:explainer |      Metric_Exp_DIV |      Metric_Exp_FPR |  Metric_Exp_PSPNFNS |            Train(s) |        Evaluate(s)\n",
      "EFM:Exp_EFM           |  0.5131798465131876 | 0.09951375281973754 | 0.08202469135802469 | 0.04655718803405762 |  3.418052911758423\n",
      "MTER:Exp_MTER         | 0.06991958625288289 |                 N/A |                 0.0 | 0.08477306365966797 | 1.3908720016479492\n",
      "\n"
     ]
    }
   ],
   "source": [
    "rs = prepare_data(data_name=\"goodreads\", test_size=0.2, dense=True, item=True, user=True, sample_size=1, seed=21)\n",
    "efm = EFM(max_iter=20, num_explicit_factors=50, num_latent_factors=50, num_most_cared_aspects=50, alpha=0.85,lambda_h=0.1, lambda_u=0.001, lambda_v=0.01, lambda_x=1.0, lambda_y= 0.1)\n",
    "efm_exp = Exp_EFM(rec_model=efm, dataset=rs.train_set)\n",
    "mter = MTER(max_iter=20, n_aspect_factors=8, n_item_factors=5, n_opinion_factors= 5, n_user_factors= 10, lambda_bpr=10, lambda_reg= 10, n_bpr_samples=1000, n_element_samples=50)\n",
    "mter_exp = Exp_MTER(rec_model=mter, dataset=rs.train_set)\n",
    "\n",
    "pspnfns = PSPN()\n",
    "fdiv = DIV()\n",
    "fpr = FPR()\n",
    "\n",
    "models = [(efm, efm_exp), (mter, mter_exp)]\n",
    "metrics = [fdiv, fpr, pspnfns]\n",
    "experiment = Experiment_Explainers(eval_method=rs, models=models, metrics=metrics,rec_k=10, distribution=False, feature_k=10, eval_train=True)\n",
    "experiment.run()"
   ]
  },
  {
   "cell_type": "markdown",
   "metadata": {},
   "source": [
    "Experiment 3: run FDIV, PGF, MEP and EnDCG on (ALS, Exp_ALS), (EMF, Exp_PHI4MF) and (NEMF, Exp_SU4EMF) pairs using data from goodreads"
   ]
  },
  {
   "cell_type": "code",
   "execution_count": 2,
   "metadata": {},
   "outputs": [
    {
     "name": "stderr",
     "output_type": "stream",
     "text": [
      "INFO:cornac.experiment.experiment_explainers:Start training Recommender ALS...\n"
     ]
    },
    {
     "data": {
      "application/vnd.jupyter.widget-view+json": {
       "model_id": "cdc20252ebd54f569e55863e4e7ce2e2",
       "version_major": 2,
       "version_minor": 0
      },
      "text/plain": [
       "  0%|          | 0/500 [00:00<?, ?it/s]"
      ]
     },
     "metadata": {},
     "output_type": "display_data"
    },
    {
     "name": "stderr",
     "output_type": "stream",
     "text": [
      "INFO:implicit:Final training loss 0.0284\n",
      "INFO:cornac.experiment.experiment_explainers:*****Start evaluating model-explainer: 'ALS:Exp_ALS'...\n",
      "INFO:cornac.experiment.experiment_explainers:Step 1/3: Recommender ALS creates recommendations\n",
      "INFO:cornac.experiment.experiment_explainers:Step 2/3: Explainer Exp_ALS create explanation for all recommendations\n"
     ]
    },
    {
     "data": {
      "application/vnd.jupyter.widget-view+json": {
       "model_id": "559807c7bf7748228e5eb946600b6e5b",
       "version_major": 2,
       "version_minor": 0
      },
      "text/plain": [
       "Computing explanations:   0%|          | 0/1000 [00:00<?, ?it/s]"
      ]
     },
     "metadata": {},
     "output_type": "display_data"
    },
    {
     "name": "stderr",
     "output_type": "stream",
     "text": [
      "INFO:cornac.experiment.experiment_explainers:Step 3/3: Metric Metric_Exp_DIV starts evaluation...\n",
      "INFO:cornac.experiment.experiment_explainers:Result: Feature diversity: 0.14335795795775053\n",
      "INFO:cornac.experiment.experiment_explainers:Step 3/3: Metric Metric_Exp_PGF starts evaluation...\n",
      "100%|██████████| 100/100 [00:00<00:00, 1306.53it/s]\n",
      "INFO:cornac.experiment.experiment_explainers:Result: Metric_Exp_PGF: 0.36180768906387434\n",
      "ERROR:cornac.experiment.experiment_explainers:Metric Metric_Exp_MEP does not support Exp_ALS.\n",
      "ERROR:cornac.experiment.experiment_explainers:Metric Metric_Exp_EnDCG does not support Exp_ALS.\n",
      "INFO:cornac.experiment.experiment_explainers:Start training Recommender EMF...\n"
     ]
    },
    {
     "data": {
      "application/vnd.jupyter.widget-view+json": {
       "model_id": "ccdc6578d24045daa108b5a44eec5512",
       "version_major": 2,
       "version_minor": 0
      },
      "text/plain": [
       "  0%|          | 0/500 [00:00<?, ?it/s]"
      ]
     },
     "metadata": {},
     "output_type": "display_data"
    },
    {
     "name": "stderr",
     "output_type": "stream",
     "text": [
      "INFO:cornac.experiment.experiment_explainers:*****Start evaluating model-explainer: 'EMF:Exp_PHI4MF'...\n",
      "INFO:cornac.experiment.experiment_explainers:Step 1/3: Recommender EMF creates recommendations\n",
      "INFO:cornac.experiment.experiment_explainers:Step 2/3: Explainer Exp_PHI4MF create explanation for all recommendations\n"
     ]
    },
    {
     "name": "stdout",
     "output_type": "stream",
     "text": [
      "Optimization finished!\n"
     ]
    },
    {
     "data": {
      "application/vnd.jupyter.widget-view+json": {
       "model_id": "6d00ac05e0c449ab963b79a316ef4b0a",
       "version_major": 2,
       "version_minor": 0
      },
      "text/plain": [
       "Computing explanations:   0%|          | 0/1000 [00:00<?, ?it/s]"
      ]
     },
     "metadata": {},
     "output_type": "display_data"
    },
    {
     "name": "stdout",
     "output_type": "stream",
     "text": [
      "Association rules generated\n"
     ]
    },
    {
     "name": "stderr",
     "output_type": "stream",
     "text": [
      "INFO:cornac.experiment.experiment_explainers:Step 3/3: Metric Metric_Exp_DIV starts evaluation...\n",
      "INFO:cornac.experiment.experiment_explainers:Result: Feature diversity: 0.002826826826826498\n",
      "INFO:cornac.experiment.experiment_explainers:Step 3/3: Metric Metric_Exp_PGF starts evaluation...\n",
      "100%|██████████| 100/100 [00:00<00:00, 929.75it/s]\n",
      "INFO:cornac.experiment.experiment_explainers:Result: Metric_Exp_PGF: 0.08231880964711308\n",
      "INFO:cornac.experiment.experiment_explainers:Step 3/3: Metric Metric_Exp_MEP starts evaluation...\n",
      "INFO:cornac.experiment.experiment_explainers:Result: Metric_Exp_MEP: 0.99\n",
      "INFO:cornac.experiment.experiment_explainers:Step 3/3: Metric Metric_Exp_EnDCG starts evaluation...\n",
      "INFO:cornac.experiment.experiment_explainers:Result: Metric_Exp_EnDCG: 0.5553590878855101\n",
      "INFO:cornac.experiment.experiment_explainers:Start training Recommender NEMF...\n"
     ]
    },
    {
     "name": "stdout",
     "output_type": "stream",
     "text": [
      "Start compute edge weight matrix...\n",
      "Start compute novel matrix...\n",
      "Matrix computation finished!\n"
     ]
    },
    {
     "data": {
      "application/vnd.jupyter.widget-view+json": {
       "model_id": "a49a78da5f504545a5b84a18a22f88c2",
       "version_major": 2,
       "version_minor": 0
      },
      "text/plain": [
       "  0%|          | 0/500 [00:00<?, ?it/s]"
      ]
     },
     "metadata": {},
     "output_type": "display_data"
    },
    {
     "name": "stderr",
     "output_type": "stream",
     "text": [
      "INFO:cornac.experiment.experiment_explainers:*****Start evaluating model-explainer: 'NEMF:Exp_SU4EMF'...\n",
      "INFO:cornac.experiment.experiment_explainers:Step 1/3: Recommender NEMF creates recommendations\n",
      "INFO:cornac.experiment.experiment_explainers:Step 2/3: Explainer Exp_SU4EMF create explanation for all recommendations\n"
     ]
    },
    {
     "name": "stdout",
     "output_type": "stream",
     "text": [
      "Optimization finished!\n"
     ]
    },
    {
     "data": {
      "application/vnd.jupyter.widget-view+json": {
       "model_id": "41afee763b3f4b75a038d6ab75f748e0",
       "version_major": 2,
       "version_minor": 0
      },
      "text/plain": [
       "Computing explanations:   0%|          | 0/1000 [00:00<?, ?it/s]"
      ]
     },
     "metadata": {},
     "output_type": "display_data"
    },
    {
     "name": "stderr",
     "output_type": "stream",
     "text": [
      "INFO:cornac.experiment.experiment_explainers:Step 3/3: Metric Metric_Exp_DIV starts evaluation...\n",
      "INFO:cornac.experiment.experiment_explainers:Result: Feature diversity: 0.38766852169618093\n",
      "INFO:cornac.experiment.experiment_explainers:Step 3/3: Metric Metric_Exp_PGF starts evaluation...\n",
      "100%|██████████| 100/100 [00:00<00:00, 912.11it/s]\n",
      "INFO:cornac.experiment.experiment_explainers:Result: Metric_Exp_PGF: 0.2339124830812216\n",
      "INFO:cornac.experiment.experiment_explainers:Step 3/3: Metric Metric_Exp_MEP starts evaluation...\n",
      "INFO:cornac.experiment.experiment_explainers:Result: Metric_Exp_MEP: 0.992\n",
      "INFO:cornac.experiment.experiment_explainers:Step 3/3: Metric Metric_Exp_EnDCG starts evaluation...\n",
      "INFO:cornac.experiment.experiment_explainers:Result: Metric_Exp_EnDCG: 0.5730672228840049\n",
      "INFO:cornac.experiment.experiment_explainers:experiment data: [[0.14335795795775053, 0.36180768906387434, 'N/A', 'N/A', 1.8691916465759277, 4.350937843322754], [0.002826826826826498, 0.08231880964711308, 0.99, 0.5553590878855101, 0.5005459785461426, 50.2514374256134], [0.38766852169618093, 0.2339124830812216, 0.992, 0.5730672228840049, 0.6666903495788574, 2.3122637271881104]]\n",
      "INFO:cornac.experiment.experiment_explainers:Experiment result: \n",
      " recommender:explainer |       Metric_Exp_DIV |      Metric_Exp_PGF | Metric_Exp_MEP |   Metric_Exp_EnDCG |           Train(s) |        Evaluate(s)\n",
      "ALS:Exp_ALS           |  0.14335795795775053 | 0.36180768906387434 |            N/A |                N/A | 1.8691916465759277 |  4.350937843322754\n",
      "EMF:Exp_PHI4MF        | 0.002826826826826498 | 0.08231880964711308 |           0.99 | 0.5553590878855101 | 0.5005459785461426 |   50.2514374256134\n",
      "NEMF:Exp_SU4EMF       |  0.38766852169618093 |  0.2339124830812216 |          0.992 | 0.5730672228840049 | 0.6666903495788574 | 2.3122637271881104\n",
      "\n"
     ]
    }
   ],
   "source": [
    "rs_dense = prepare_data(data_name=\"goodreads_uir_1000\", test_size=0, dense=True, item=True, user=True, sample_size=1, seed=21)\n",
    "emf = EMF(k=10, max_iter=500, learning_rate=0.001, lambda_reg=0.1, explain_reg=0.01, verbose=True, seed=6, num_threads=6, early_stop=True)\n",
    "nemf = NEMF(k=10, max_iter=500, learning_rate=0.001, lambda_reg=0.1, explain_reg=0.01, novel_reg=1, verbose=True, seed=6, num_threads=6, early_stop=True)\n",
    "als = ALS(k=10, max_iter=500, lambda_reg=0.001, alpha=1, verbose=True, seed=6)\n",
    "als_exp = Exp_ALS(rec_model=als, dataset=rs_dense.train_set)\n",
    "emf_exp = Exp_PHI4MF(rec_model=emf, dataset=rs_dense.train_set)\n",
    "nemf_exp = Exp_SU4EMF(rec_model=nemf, dataset=rs_dense.train_set)\n",
    "fdiv = DIV()\n",
    "pgf = PGF()\n",
    "mep = MEP()\n",
    "endcg = EnDCG()\n",
    "models = [(als, als_exp), (emf, emf_exp), (nemf, nemf_exp)]\n",
    "metrics = [fdiv, pgf, mep, endcg]\n",
    "experiment = Experiment_Explainers(eval_method=rs_dense, models=models, metrics=metrics,distribution=False, rec_k=10, feature_k=10, eval_train=True)\n",
    "experiment.run()"
   ]
  },
  {
   "cell_type": "markdown",
   "metadata": {},
   "source": [
    "Experiment 4: Run RA and FA on pairwise models "
   ]
  },
  {
   "cell_type": "code",
   "execution_count": 7,
   "metadata": {},
   "outputs": [
    {
     "name": "stderr",
     "output_type": "stream",
     "text": [
      "INFO:cornac.experiment.experiment_explainers:Start training Recommender1 EFM...\n",
      "INFO:cornac.experiment.experiment_explainers:Start training Recommender2 MTER...\n",
      "INFO:cornac.experiment.experiment_explainers:*****Start evaluating model-explainer: 'EFM:Exp_EFM'vs'MTER:Exp_MTER'...\n",
      "INFO:cornac.experiment.experiment_explainers:Step 1/3: Creates fake recommendations from dataset for common used\n",
      "INFO:cornac.experiment.experiment_explainers:Step 2/3: Explainer1 Exp_EFM create explanation for all recommendations\n",
      "Computing explanations: 100%|██████████| 100/100 [00:00<00:00, 3468.86it/s]\n",
      "INFO:cornac.experiment.experiment_explainers:Step 2/3: Explainer2 Exp_MTER create explanation for all recommendations\n",
      "Computing explanations: 100%|██████████| 100/100 [00:00<00:00, 4499.26it/s]\n",
      "INFO:cornac.experiment.experiment_explainers:Step 3/3: Metric Metric_Exp_FA starts evaluation...\n",
      "INFO:cornac.experiment.experiment_explainers:Result: Average Metric_Exp_FA: 0.016666666666666666\n",
      "INFO:cornac.experiment.experiment_explainers:Step 3/3: Metric Metric_Exp_RA starts evaluation...\n",
      "INFO:cornac.experiment.experiment_explainers:Result: Average Metric_Exp_RA: 0.003333333333333333\n",
      "ERROR:cornac.experiment.experiment_explainers:Metric Metric_Exp_DIV does not support ('Exp_EFM', 'Exp_MTER').\n",
      "INFO:cornac.experiment.experiment_explainers:Start training Recommender EFM...\n",
      "INFO:cornac.experiment.experiment_explainers:*****Start evaluating model-explainer: 'EFM:Exp_EFM'...\n",
      "INFO:cornac.experiment.experiment_explainers:Step 1/3: Recommender EFM creates recommendations\n",
      "INFO:cornac.experiment.experiment_explainers:Step 2/3: Explainer Exp_EFM create explanation for all recommendations\n",
      "Computing explanations: 100%|██████████| 1000/1000 [00:00<00:00, 6797.26it/s]\n",
      "INFO:cornac.experiment.experiment_explainers:Step 3/3: Metric Metric_Exp_FA starts evaluation...\n",
      "INFO:cornac.experiment.experiment_explainers:Step 3/3: Metric Metric_Exp_RA starts evaluation...\n",
      "INFO:cornac.experiment.experiment_explainers:Step 3/3: Metric Metric_Exp_DIV starts evaluation...\n",
      "INFO:cornac.experiment.experiment_explainers:Result: Feature diversity: 0.33626960293623176\n",
      "INFO:cornac.experiment.experiment_explainers:Start training Recommender MTER...\n",
      "INFO:cornac.experiment.experiment_explainers:*****Start evaluating model-explainer: 'MTER:Exp_MTER'...\n",
      "INFO:cornac.experiment.experiment_explainers:Step 1/3: Recommender MTER creates recommendations\n",
      "INFO:cornac.experiment.experiment_explainers:Step 2/3: Explainer Exp_MTER create explanation for all recommendations\n",
      "Computing explanations: 100%|██████████| 1000/1000 [00:00<00:00, 8020.47it/s]\n",
      "INFO:cornac.experiment.experiment_explainers:Step 3/3: Metric Metric_Exp_FA starts evaluation...\n",
      "INFO:cornac.experiment.experiment_explainers:Step 3/3: Metric Metric_Exp_RA starts evaluation...\n",
      "INFO:cornac.experiment.experiment_explainers:Step 3/3: Metric Metric_Exp_DIV starts evaluation...\n",
      "INFO:cornac.experiment.experiment_explainers:Result: Feature diversity: 0.08023890557223955\n",
      "INFO:cornac.experiment.experiment_explainers:experiment data: [[0.016666666666666666, 0.003333333333333333, 'N/A', 0.10521697998046875, 0.25635814666748047], ['N/A', 'N/A', 0.33626960293623176, 0.07253193855285645, 0.8561139106750488], ['N/A', 'N/A', 0.08023890557223955, 0.05696272850036621, 0.7012832164764404]]\n",
      "INFO:cornac.experiment.experiment_explainers:Experiment result: \n",
      " recommender:explainer        |        Metric_Exp_FA |        Metric_Exp_RA |      Metric_Exp_DIV |            Train(s) |         Evaluate(s)\n",
      "EFM:Exp_EFM'vs'MTER:Exp_MTER | 0.016666666666666666 | 0.003333333333333333 |                 N/A | 0.10521697998046875 | 0.25635814666748047\n",
      "EFM:Exp_EFM                  |                  N/A |                  N/A | 0.33626960293623176 | 0.07253193855285645 |  0.8561139106750488\n",
      "MTER:Exp_MTER                |                  N/A |                  N/A | 0.08023890557223955 | 0.05696272850036621 |  0.7012832164764404\n",
      "\n"
     ]
    }
   ],
   "source": [
    "rs = prepare_data(data_name=\"goodreads\", test_size=0.2, dense=True, item=True, user=True, sample_size=1, seed=21)\n",
    "efm = EFM(max_iter=20, num_explicit_factors=50, num_latent_factors=50, num_most_cared_aspects=50, alpha=0.85,lambda_h=0.1, lambda_u=0.001, lambda_v=0.01, lambda_x=1.0, lambda_y= 0.1)\n",
    "efm_exp = Exp_EFM(rec_model=efm, dataset=rs.train_set)\n",
    "mter = MTER(max_iter=20, n_aspect_factors=8, n_item_factors=5, n_opinion_factors= 5, n_user_factors= 10, lambda_bpr=10, lambda_reg= 10, n_bpr_samples=1000, n_element_samples=50)\n",
    "mter_exp = Exp_MTER(rec_model=mter, dataset=rs.train_set)\n",
    "\n",
    "fa = FA()\n",
    "ra = RA()\n",
    "fdiv = DIV()\n",
    "models = [[(efm, mter), (efm_exp, mter_exp)], (efm, efm_exp), (mter, mter_exp)]\n",
    "metrics = [fa,ra, fdiv]\n",
    "experiment = Experiment_Explainers(eval_method=rs, models=models, metrics=metrics,rec_k=10, feature_k=10, eval_train=True)\n",
    "experiment.run()"
   ]
  }
 ],
 "metadata": {
  "kernelspec": {
   "display_name": "my_venv",
   "language": "python",
   "name": "python3"
  },
  "language_info": {
   "codemirror_mode": {
    "name": "ipython",
    "version": 3
   },
   "file_extension": ".py",
   "mimetype": "text/x-python",
   "name": "python",
   "nbconvert_exporter": "python",
   "pygments_lexer": "ipython3",
   "version": "3.11.5"
  },
  "orig_nbformat": 4,
  "vscode": {
   "interpreter": {
    "hash": "8ebbe97ee2486d44b314e7fb9a74c6e9ddf9ecd1c9e636490160d240e80178cb"
   }
  }
 },
 "nbformat": 4,
 "nbformat_minor": 2
}
