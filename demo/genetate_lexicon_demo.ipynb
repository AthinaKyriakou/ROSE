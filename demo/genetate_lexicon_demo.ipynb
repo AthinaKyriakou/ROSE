{
 "cells": [
  {
   "cell_type": "markdown",
   "metadata": {},
   "source": [
    "# How to Start With a Raw Dataset?\n",
    "\n",
    "This demo shows how to deal with the raw datasets with reviews into lexicon format, which is required by sentiment-related models, e.g. EFM, MTER..."
   ]
  },
  {
   "cell_type": "markdown",
   "metadata": {},
   "source": [
    "### Step 1: Prepare the raw data file\n",
    "**Make sure the first line in the file indicates the column names**\n",
    "\n",
    "At least including 4 columns named [user_id, item_id, rating, review_text], see example ./dataset/data_demo.csv\n"
   ]
  },
  {
   "cell_type": "code",
   "execution_count": 66,
   "metadata": {},
   "outputs": [],
   "source": [
    "raw_file = './dataset/data_demo.csv'\n",
    "sep = '\\t'"
   ]
  },
  {
   "cell_type": "markdown",
   "metadata": {},
   "source": [
    "### Step 2: Generate Lexicon\n",
    "**Use the ```cornac.data.lexicon.SentimentAnalysis```**\n",
    "\n",
    "- Input: raw data file path;\n",
    "- Output: \n",
    "  - rating.txt: [user_id, item_id, rating]\n",
    "  - lexicon.txt: [user_id, item_id, lexicon]\n",
    "\n",
    "*Note: The user-item pairs in the two ouput files are consistent with each other.*"
   ]
  },
  {
   "cell_type": "code",
   "execution_count": 67,
   "metadata": {},
   "outputs": [],
   "source": [
    "import warnings\n",
    "warnings.filterwarnings('ignore') \n",
    "from cornac.data.lexicon import SentimentAnalysis"
   ]
  },
  {
   "cell_type": "code",
   "execution_count": 68,
   "metadata": {},
   "outputs": [
    {
     "name": "stderr",
     "output_type": "stream",
     "text": [
      "  0%|          | 0/60 [00:00<?, ?it/s]"
     ]
    },
    {
     "name": "stderr",
     "output_type": "stream",
     "text": [
      "100%|██████████| 60/60 [00:00<00:00, 101.53it/s]"
     ]
    },
    {
     "name": "stdout",
     "output_type": "stream",
     "text": [
      "number of users: 12\n",
      "number of items: 10\n",
      "total60\n",
      "15 rows have no lexicon\n",
      "45 rows after dropping users having less than 1 reviews\n"
     ]
    },
    {
     "name": "stderr",
     "output_type": "stream",
     "text": [
      "\n"
     ]
    },
    {
     "data": {
      "text/html": [
       "<div>\n",
       "<style scoped>\n",
       "    .dataframe tbody tr th:only-of-type {\n",
       "        vertical-align: middle;\n",
       "    }\n",
       "\n",
       "    .dataframe tbody tr th {\n",
       "        vertical-align: top;\n",
       "    }\n",
       "\n",
       "    .dataframe thead th {\n",
       "        text-align: right;\n",
       "    }\n",
       "</style>\n",
       "<table border=\"1\" class=\"dataframe\">\n",
       "  <thead>\n",
       "    <tr style=\"text-align: right;\">\n",
       "      <th></th>\n",
       "      <th>user_id</th>\n",
       "      <th>item_id</th>\n",
       "      <th>rating</th>\n",
       "      <th>review_text</th>\n",
       "      <th>lexicon</th>\n",
       "    </tr>\n",
       "  </thead>\n",
       "  <tbody>\n",
       "    <tr>\n",
       "      <th>0</th>\n",
       "      <td>713cc3505e77532b97d0a69812320fa7</td>\n",
       "      <td>4303163</td>\n",
       "      <td>2.0</td>\n",
       "      <td>Complex and captivating, DARKLY showcases Pess...</td>\n",
       "      <td>twists:unexpected:1,page:final:1,delight:absol...</td>\n",
       "    </tr>\n",
       "    <tr>\n",
       "      <th>1</th>\n",
       "      <td>5f0d7ea4515a98abebea35cec77f864c</td>\n",
       "      <td>192805</td>\n",
       "      <td>4.0</td>\n",
       "      <td>I was absolutely captivated by the synopsis fo...</td>\n",
       "      <td>thing:kinda:1,job:amazing:1</td>\n",
       "    </tr>\n",
       "    <tr>\n",
       "      <th>5</th>\n",
       "      <td>9003d274774f4c47e62f77600b08ac1d</td>\n",
       "      <td>23167683</td>\n",
       "      <td>3.0</td>\n",
       "      <td>A failure on nearly every level. The character...</td>\n",
       "      <td>voice:preposterous:1,concern:main:1,stumps:pro...</td>\n",
       "    </tr>\n",
       "    <tr>\n",
       "      <th>6</th>\n",
       "      <td>9131e02af6b7d8d2dd23472b264971af</td>\n",
       "      <td>23167683</td>\n",
       "      <td>4.0</td>\n",
       "      <td>I believe this book will be in my top 3 I have...</td>\n",
       "      <td>duties:everyday:1</td>\n",
       "    </tr>\n",
       "    <tr>\n",
       "      <th>7</th>\n",
       "      <td>ba2455719e99ae6e0771877da9e81474</td>\n",
       "      <td>48100</td>\n",
       "      <td>3.0</td>\n",
       "      <td>An interesting twist on the black ops/espionag...</td>\n",
       "      <td>twist:interesting:1,genres:black:1,point:polit...</td>\n",
       "    </tr>\n",
       "  </tbody>\n",
       "</table>\n",
       "</div>"
      ],
      "text/plain": [
       "                            user_id   item_id  rating  \\\n",
       "0  713cc3505e77532b97d0a69812320fa7   4303163     2.0   \n",
       "1  5f0d7ea4515a98abebea35cec77f864c    192805     4.0   \n",
       "5  9003d274774f4c47e62f77600b08ac1d  23167683     3.0   \n",
       "6  9131e02af6b7d8d2dd23472b264971af  23167683     4.0   \n",
       "7  ba2455719e99ae6e0771877da9e81474     48100     3.0   \n",
       "\n",
       "                                         review_text  \\\n",
       "0  Complex and captivating, DARKLY showcases Pess...   \n",
       "1  I was absolutely captivated by the synopsis fo...   \n",
       "5  A failure on nearly every level. The character...   \n",
       "6  I believe this book will be in my top 3 I have...   \n",
       "7  An interesting twist on the black ops/espionag...   \n",
       "\n",
       "                                             lexicon  \n",
       "0  twists:unexpected:1,page:final:1,delight:absol...  \n",
       "1                        thing:kinda:1,job:amazing:1  \n",
       "5  voice:preposterous:1,concern:main:1,stumps:pro...  \n",
       "6                                  duties:everyday:1  \n",
       "7  twist:interesting:1,genres:black:1,point:polit...  "
      ]
     },
     "execution_count": 68,
     "metadata": {},
     "output_type": "execute_result"
    }
   ],
   "source": [
    "output_lexicon = './dataset/lexicon.txt'\n",
    "output_rating = './dataset/rating.txt'\n",
    "# The parameter usecols is required, should be the same with the first line of the raw file\n",
    "SA = SentimentAnalysis(raw_file, sep=sep, usecols = ['user_id', 'item_id', 'rating', 'review_text']) \n",
    "df = SA.build_lexicons()\n",
    "SA.save_to_file(output_lexicon, output_rating)\n",
    "df.head()"
   ]
  },
  {
   "cell_type": "markdown",
   "metadata": {},
   "source": [
    "### Step 3 Train Recommendation Models"
   ]
  },
  {
   "cell_type": "code",
   "execution_count": 69,
   "metadata": {},
   "outputs": [],
   "source": [
    "\n",
    "from cornac.data import Reader\n",
    "from cornac.experiment.experiment import Experiment\n",
    "from cornac.models import MTER, EFM\n",
    "from cornac.eval_methods import RatioSplit\n",
    "from cornac.data import SentimentModality"
   ]
  },
  {
   "cell_type": "code",
   "execution_count": 70,
   "metadata": {},
   "outputs": [],
   "source": [
    "reader = Reader()\n",
    "ratings = reader.read(output_rating, fmt='UIR', sep=',')\n",
    "lexicon = reader.read(output_lexicon, fmt='UITup', sep=',', tup_sep=':')\n",
    "sentiment = SentimentModality(data = lexicon)"
   ]
  },
  {
   "cell_type": "code",
   "execution_count": 71,
   "metadata": {},
   "outputs": [],
   "source": [
    "rs = RatioSplit(data=ratings, \n",
    "                sentiment = sentiment,\n",
    "                test_size=0.2, \n",
    "                rating_threshold=4.0, \n",
    "                seed=123)"
   ]
  },
  {
   "cell_type": "code",
   "execution_count": 72,
   "metadata": {},
   "outputs": [
    {
     "data": {
      "text/plain": [
       "<cornac.models.efm.recom_efm.EFM at 0x2889f04c0>"
      ]
     },
     "execution_count": 72,
     "metadata": {},
     "output_type": "execute_result"
    }
   ],
   "source": [
    "efm = EFM()\n",
    "efm.fit(rs.train_set)"
   ]
  },
  {
   "cell_type": "code",
   "execution_count": 73,
   "metadata": {},
   "outputs": [
    {
     "data": {
      "text/plain": [
       "['342923',\n",
       " '48100',\n",
       " '192805',\n",
       " '23167683',\n",
       " '1171422',\n",
       " '4303163',\n",
       " '27423576',\n",
       " '7932435']"
      ]
     },
     "execution_count": 73,
     "metadata": {},
     "output_type": "execute_result"
    }
   ],
   "source": [
    "efm.recommend(\"713cc3505e77532b97d0a69812320fa7\")"
   ]
  }
 ],
 "metadata": {
  "kernelspec": {
   "display_name": "rose",
   "language": "python",
   "name": "python3"
  },
  "language_info": {
   "codemirror_mode": {
    "name": "ipython",
    "version": 3
   },
   "file_extension": ".py",
   "mimetype": "text/x-python",
   "name": "python",
   "nbconvert_exporter": "python",
   "pygments_lexer": "ipython3",
   "version": "3.9.18"
  }
 },
 "nbformat": 4,
 "nbformat_minor": 2
}
