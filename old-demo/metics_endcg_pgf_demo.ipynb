{
 "cells": [
  {
   "cell_type": "code",
   "execution_count": 1,
   "metadata": {},
   "outputs": [
    {
     "name": "stdout",
     "output_type": "stream",
     "text": [
      "FM model is only supported on Linux.\n",
      "Windows executable can be found at http://www.libfm.org.\n"
     ]
    }
   ],
   "source": [
    "from cornac.metrics_explainer import Explainers_Experiment\n",
    "from cornac.models import MF, EMF, NEMF, ALS\n",
    "from cornac.explainer import EMFExplainer, ALSExplainer, PHI4MFExplainer\n",
    "from cornac.datasets.goodreads import prepare_data\n",
    "from cornac.metrics_explainer import MEP, EnDCG, PGF"
   ]
  },
  {
   "cell_type": "markdown",
   "metadata": {},
   "source": [
    "## EMF explainer and ALS explainer with MEP, EnDCG, PGF - Dense rating dataset"
   ]
  },
  {
   "cell_type": "code",
   "execution_count": 5,
   "metadata": {},
   "outputs": [
    {
     "name": "stdout",
     "output_type": "stream",
     "text": [
      "Preparing data...\n",
      "rating_threshold = 1.0\n",
      "exclude_unknowns = True\n",
      "---\n",
      "Training data:\n",
      "Number of users = 100\n",
      "Number of items = 100\n",
      "Number of ratings = 9000\n",
      "Max rating = 5.0\n",
      "Min rating = 1.0\n",
      "Global mean = 3.0\n",
      "---\n",
      "Test data:\n",
      "Number of users = 100\n",
      "Number of items = 100\n",
      "Number of ratings = 9000\n",
      "Number of unknown users = 0\n",
      "Number of unknown items = 0\n",
      "---\n",
      "Total users = 100\n",
      "Total items = 100\n",
      "Data prepared.\n"
     ]
    }
   ],
   "source": [
    "dataset_dense = prepare_data(data_name=\"goodreads_uir_1000\",test_size=0, verbose=True, sample_size=1, dense=True)\n",
    "emf = EMF(k=10, max_iter=500, learning_rate=0.001, lambda_reg=0.1, explain_reg=0.01, verbose=True, seed=6, num_threads=6, early_stop=True)\n",
    "nemf = NEMF(k=10, max_iter=500, learning_rate=0.001, lambda_reg=0.1, explain_reg=0.01, novel_reg=1, verbose=True, seed=6, num_threads=6, early_stop=True)\n",
    "mf = MF(k=10, max_iter=500, learning_rate=0.001, lambda_reg=0.1, verbose=True, seed=6)\n",
    "als = ALS(k=10, max_iter=500, lambda_reg=0.001, alpha=1, verbose=True, seed=6)\n",
    "\n",
    "emf_emf = (emf, EMFExplainer(emf, dataset_dense.train_set))\n",
    "nemf_emf = (nemf, EMFExplainer(nemf, dataset_dense.train_set))\n",
    "als_als = (als, ALSExplainer(als, dataset_dense.train_set))\n",
    "\n",
    "mep = MEP()\n",
    "endcg = EnDCG()\n",
    "pgf = PGF(phi=10)"
   ]
  },
  {
   "cell_type": "code",
   "execution_count": 6,
   "metadata": {},
   "outputs": [
    {
     "name": "stdout",
     "output_type": "stream",
     "text": [
      "Start training Recommender EMF...\n"
     ]
    },
    {
     "data": {
      "application/vnd.jupyter.widget-view+json": {
       "model_id": "3880b73b12ef4d32a6afca5608322f57",
       "version_major": 2,
       "version_minor": 0
      },
      "text/plain": [
       "  0%|          | 0/500 [00:00<?, ?it/s]"
      ]
     },
     "metadata": {},
     "output_type": "display_data"
    },
    {
     "name": "stdout",
     "output_type": "stream",
     "text": [
      "Optimization finished!\n",
      "*****Start evaluating model-explainer: 'EMF:EMF'...\n",
      "Step 1/3: Recommender EMF creates recommendations\n",
      "Step 2/3: Explainer EMF create explanation for all recommendations\n"
     ]
    },
    {
     "data": {
      "application/vnd.jupyter.widget-view+json": {
       "model_id": "ffecc5b51c6c44daac1353d09a7a1c62",
       "version_major": 2,
       "version_minor": 0
      },
      "text/plain": [
       "Computing explanations:   0%|          | 0/1000 [00:00<?, ?it/s]"
      ]
     },
     "metadata": {},
     "output_type": "display_data"
    },
    {
     "name": "stdout",
     "output_type": "stream",
     "text": [
      "Step 3/3: Metric MEP starts evaluation...\n",
      "Result: MEP: 0.995\n",
      "Step 3/3: Metric EnDCG starts evaluation...\n",
      "Result: EnDCG: 0.5681406999615864\n",
      "Step 3/3: Metric PGF starts evaluation...\n"
     ]
    },
    {
     "name": "stderr",
     "output_type": "stream",
     "text": [
      "100%|██████████| 100/100 [00:00<00:00, 599.33it/s]"
     ]
    },
    {
     "name": "stdout",
     "output_type": "stream",
     "text": [
      "Result: PGF: 0.23671371325850488\n"
     ]
    },
    {
     "name": "stderr",
     "output_type": "stream",
     "text": [
      "\n"
     ]
    },
    {
     "name": "stdout",
     "output_type": "stream",
     "text": [
      "Start training Recommender NEMF...\n",
      "Start compute edge weight matrix...\n",
      "Start compute novel matrix...\n",
      "Matrix computation finished!\n"
     ]
    },
    {
     "data": {
      "application/vnd.jupyter.widget-view+json": {
       "model_id": "8f2f3c5fb11645e7a4c7f65e4b61e8b0",
       "version_major": 2,
       "version_minor": 0
      },
      "text/plain": [
       "  0%|          | 0/500 [00:00<?, ?it/s]"
      ]
     },
     "metadata": {},
     "output_type": "display_data"
    },
    {
     "name": "stdout",
     "output_type": "stream",
     "text": [
      "Optimization finished!\n",
      "*****Start evaluating model-explainer: 'NEMF:EMF'...\n",
      "Step 1/3: Recommender NEMF creates recommendations\n",
      "Step 2/3: Explainer EMF create explanation for all recommendations\n"
     ]
    },
    {
     "data": {
      "application/vnd.jupyter.widget-view+json": {
       "model_id": "8a1dc0ca0b6c4482b704b1fcac852eae",
       "version_major": 2,
       "version_minor": 0
      },
      "text/plain": [
       "Computing explanations:   0%|          | 0/1000 [00:00<?, ?it/s]"
      ]
     },
     "metadata": {},
     "output_type": "display_data"
    },
    {
     "name": "stdout",
     "output_type": "stream",
     "text": [
      "Step 3/3: Metric MEP starts evaluation...\n",
      "Result: MEP: 0.994\n",
      "Step 3/3: Metric EnDCG starts evaluation...\n",
      "Result: EnDCG: 0.572800217164234\n",
      "Step 3/3: Metric PGF starts evaluation...\n"
     ]
    },
    {
     "name": "stderr",
     "output_type": "stream",
     "text": [
      "100%|██████████| 100/100 [00:00<00:00, 623.36it/s]"
     ]
    },
    {
     "name": "stdout",
     "output_type": "stream",
     "text": [
      "Result: PGF: 0.28925093710422517\n"
     ]
    },
    {
     "name": "stderr",
     "output_type": "stream",
     "text": [
      "\n"
     ]
    },
    {
     "name": "stdout",
     "output_type": "stream",
     "text": [
      "Start training Recommender ALS...\n"
     ]
    },
    {
     "name": "stderr",
     "output_type": "stream",
     "text": [
      "c:\\Users\\linan\\.conda\\envs\\cornactest\\lib\\site-packages\\implicit\\utils.py:33: UserWarning: Intel MKL BLAS detected. Its highly recommend to set the environment variable 'export MKL_NUM_THREADS=1' to disable its internal multithreading\n",
      "  warnings.warn(\n"
     ]
    },
    {
     "data": {
      "application/vnd.jupyter.widget-view+json": {
       "model_id": "2196a1f50e384538b190bf5c5266fe8e",
       "version_major": 2,
       "version_minor": 0
      },
      "text/plain": [
       "  0%|          | 0/500 [00:00<?, ?it/s]"
      ]
     },
     "metadata": {},
     "output_type": "display_data"
    },
    {
     "name": "stderr",
     "output_type": "stream",
     "text": [
      "INFO:implicit:Final training loss 0.0284\n"
     ]
    },
    {
     "name": "stdout",
     "output_type": "stream",
     "text": [
      "*****Start evaluating model-explainer: 'ALS:ALS'...\n",
      "Step 1/3: Recommender ALS creates recommendations\n",
      "Step 2/3: Explainer ALS create explanation for all recommendations\n"
     ]
    },
    {
     "data": {
      "application/vnd.jupyter.widget-view+json": {
       "model_id": "af42443a2a8642ce975465d684a7b814",
       "version_major": 2,
       "version_minor": 0
      },
      "text/plain": [
       "Computing explanations:   0%|          | 0/1000 [00:00<?, ?it/s]"
      ]
     },
     "metadata": {},
     "output_type": "display_data"
    },
    {
     "name": "stdout",
     "output_type": "stream",
     "text": [
      "Metric MEP does not support ALS.\n",
      "Metric EnDCG does not support ALS.\n",
      "Step 3/3: Metric PGF starts evaluation...\n"
     ]
    },
    {
     "name": "stderr",
     "output_type": "stream",
     "text": [
      "100%|██████████| 100/100 [00:00<00:00, 1351.70it/s]"
     ]
    },
    {
     "name": "stdout",
     "output_type": "stream",
     "text": [
      "Result: PGF: 0.3086716958433702\n"
     ]
    },
    {
     "name": "stderr",
     "output_type": "stream",
     "text": [
      "\n"
     ]
    },
    {
     "name": "stdout",
     "output_type": "stream",
     "text": [
      "experiment data: [[0.995, 0.5681406999615864, 0.23671371325850488, 0.888545036315918, 3.5282256603240967], [0.994, 0.572800217164234, 0.28925093710422517, 1.392029047012329, 3.732935905456543], ['N/A', 'N/A', 0.3086716958433702, 2.537970542907715, 6.53780460357666]]\n",
      "\n",
      "\n",
      "recommender:explainer |   MEP |              EnDCG |                 PGF |          Train(s) |        Evaluate(s)\n",
      "EMF:EMF               | 0.995 | 0.5681406999615864 | 0.23671371325850488 | 0.888545036315918 | 3.5282256603240967\n",
      "NEMF:EMF              | 0.994 |  0.572800217164234 | 0.28925093710422517 | 1.392029047012329 |  3.732935905456543\n",
      "ALS:ALS               |   N/A |                N/A |  0.3086716958433702 | 2.537970542907715 |   6.53780460357666\n",
      "\n"
     ]
    }
   ],
   "source": [
    "experiment = Explainers_Experiment(eval_method=dataset_dense, models=[emf_emf, nemf_emf, als_als], metrics=[mep, endcg, pgf], rec_k=10, feature_k=10, eval_train=True, distribution=True)\n",
    "experiment.run()"
   ]
  },
  {
   "cell_type": "markdown",
   "metadata": {},
   "source": [
    "## EMF explainer and ALS explainer with MEP, EnDCG, PGF - Small rating dataset"
   ]
  },
  {
   "cell_type": "code",
   "execution_count": 2,
   "metadata": {},
   "outputs": [
    {
     "name": "stdout",
     "output_type": "stream",
     "text": [
      "Preparing data...\n",
      "rating_threshold = 1.0\n",
      "exclude_unknowns = True\n",
      "---\n",
      "Training data:\n",
      "Number of users = 1000\n",
      "Number of items = 17192\n",
      "Number of ratings = 37793\n",
      "Max rating = 5.0\n",
      "Min rating = 0.0\n",
      "Global mean = 3.6\n",
      "---\n",
      "Test data:\n",
      "Number of users = 1000\n",
      "Number of items = 17192\n",
      "Number of ratings = 37793\n",
      "Number of unknown users = 0\n",
      "Number of unknown items = 0\n",
      "---\n",
      "Total users = 1000\n",
      "Total items = 17192\n",
      "Data prepared.\n"
     ]
    }
   ],
   "source": [
    "dataset_1000 = prepare_data(data_name=\"goodreads_uir_1000\",test_size=0, verbose=True, sample_size=1, dense=False)\n",
    "emf = EMF(k=10, max_iter=500, learning_rate=0.001, lambda_reg=0.1, explain_reg=0.0001, verbose=True, seed=6, num_threads=6, early_stop=True)\n",
    "nemf = NEMF(k=10, max_iter=500, learning_rate=0.001, lambda_reg=0.01, explain_reg=0.001, novel_reg=0.001, verbose=True, seed=6, num_threads=6, early_stop=True)\n",
    "mf = MF(k=10, max_iter=500, learning_rate=0.001, lambda_reg=0.01, verbose=True, seed=6)\n",
    "als = ALS(k=10, max_iter=500, lambda_reg=0.001, alpha=50, verbose=True, seed=6)\n",
    "\n",
    "emf_emf = (emf, EMFExplainer(emf, dataset_1000.train_set))\n",
    "nemf_emf = (nemf, EMFExplainer(nemf, dataset_1000.train_set))\n",
    "als_als = (als, ALSExplainer(als, dataset_1000.train_set))\n",
    "\n",
    "mep = MEP()\n",
    "endcg = EnDCG()\n",
    "pgf = PGF(phi=10)"
   ]
  },
  {
   "cell_type": "code",
   "execution_count": 3,
   "metadata": {},
   "outputs": [
    {
     "name": "stdout",
     "output_type": "stream",
     "text": [
      "Start training Recommender EMF...\n"
     ]
    },
    {
     "data": {
      "application/vnd.jupyter.widget-view+json": {
       "model_id": "1c302a70dc6f47f1bbbb2f748217a130",
       "version_major": 2,
       "version_minor": 0
      },
      "text/plain": [
       "  0%|          | 0/500 [00:00<?, ?it/s]"
      ]
     },
     "metadata": {},
     "output_type": "display_data"
    },
    {
     "name": "stdout",
     "output_type": "stream",
     "text": [
      "Optimization finished!\n",
      "*****Start evaluating model-explainer: 'EMF:EMF'...\n",
      "Step 1/3: Recommender EMF creates recommendations\n",
      "Step 2/3: Explainer EMF create explanation for all recommendations\n"
     ]
    },
    {
     "data": {
      "application/vnd.jupyter.widget-view+json": {
       "model_id": "536961df60e5464ba41f3aa26133d76b",
       "version_major": 2,
       "version_minor": 0
      },
      "text/plain": [
       "Computing explanations:   0%|          | 0/10000 [00:00<?, ?it/s]"
      ]
     },
     "metadata": {},
     "output_type": "display_data"
    },
    {
     "name": "stdout",
     "output_type": "stream",
     "text": [
      "Step 3/3: Metric MEP starts evaluation...\n",
      "Result: MEP: 0.1132\n",
      "Step 3/3: Metric EnDCG starts evaluation...\n",
      "Result: EnDCG: 0.0380035274236635\n",
      "Step 3/3: Metric PGF starts evaluation...\n"
     ]
    },
    {
     "name": "stderr",
     "output_type": "stream",
     "text": [
      "100%|██████████| 1000/1000 [00:17<00:00, 58.21it/s]\n"
     ]
    },
    {
     "name": "stdout",
     "output_type": "stream",
     "text": [
      "Result: PGF: 0.1308629917614162\n",
      "Start training Recommender NEMF...\n",
      "Start compute edge weight matrix...\n",
      "Start compute novel matrix...\n",
      "Matrix computation finished!\n"
     ]
    },
    {
     "data": {
      "application/vnd.jupyter.widget-view+json": {
       "model_id": "b363cd2a040042ada96fc5fcc8925be2",
       "version_major": 2,
       "version_minor": 0
      },
      "text/plain": [
       "  0%|          | 0/500 [00:00<?, ?it/s]"
      ]
     },
     "metadata": {},
     "output_type": "display_data"
    },
    {
     "name": "stdout",
     "output_type": "stream",
     "text": [
      "Optimization finished!\n",
      "*****Start evaluating model-explainer: 'NEMF:EMF'...\n",
      "Step 1/3: Recommender NEMF creates recommendations\n",
      "Step 2/3: Explainer EMF create explanation for all recommendations\n"
     ]
    },
    {
     "data": {
      "application/vnd.jupyter.widget-view+json": {
       "model_id": "dcc1de8879174b24892578c02ea93f76",
       "version_major": 2,
       "version_minor": 0
      },
      "text/plain": [
       "Computing explanations:   0%|          | 0/10000 [00:00<?, ?it/s]"
      ]
     },
     "metadata": {},
     "output_type": "display_data"
    },
    {
     "name": "stdout",
     "output_type": "stream",
     "text": [
      "Step 3/3: Metric MEP starts evaluation...\n",
      "Result: MEP: 0.0664\n",
      "Step 3/3: Metric EnDCG starts evaluation...\n",
      "Result: EnDCG: 0.017880113600352136\n",
      "Step 3/3: Metric PGF starts evaluation...\n"
     ]
    },
    {
     "name": "stderr",
     "output_type": "stream",
     "text": [
      "100%|██████████| 1000/1000 [00:17<00:00, 57.62it/s]\n",
      "c:\\Users\\linan\\.conda\\envs\\cornactest\\lib\\site-packages\\implicit\\utils.py:33: UserWarning: Intel MKL BLAS detected. Its highly recommend to set the environment variable 'export MKL_NUM_THREADS=1' to disable its internal multithreading\n",
      "  warnings.warn(\n"
     ]
    },
    {
     "name": "stdout",
     "output_type": "stream",
     "text": [
      "Result: PGF: 0.08451045266911388\n",
      "Start training Recommender ALS...\n"
     ]
    },
    {
     "data": {
      "application/vnd.jupyter.widget-view+json": {
       "model_id": "05128d732cd54da09d01324d0714c14a",
       "version_major": 2,
       "version_minor": 0
      },
      "text/plain": [
       "  0%|          | 0/500 [00:00<?, ?it/s]"
      ]
     },
     "metadata": {},
     "output_type": "display_data"
    },
    {
     "name": "stderr",
     "output_type": "stream",
     "text": [
      "INFO:implicit:Final training loss 0.0505\n"
     ]
    },
    {
     "name": "stdout",
     "output_type": "stream",
     "text": [
      "*****Start evaluating model-explainer: 'ALS:ALS'...\n",
      "Step 1/3: Recommender ALS creates recommendations\n",
      "Step 2/3: Explainer ALS create explanation for all recommendations\n"
     ]
    },
    {
     "data": {
      "application/vnd.jupyter.widget-view+json": {
       "model_id": "7f51ac1f24534ee8ab5fe89e9debc3cf",
       "version_major": 2,
       "version_minor": 0
      },
      "text/plain": [
       "Computing explanations:   0%|          | 0/10000 [00:00<?, ?it/s]"
      ]
     },
     "metadata": {},
     "output_type": "display_data"
    },
    {
     "name": "stdout",
     "output_type": "stream",
     "text": [
      "Metric MEP does not support ALS.\n",
      "Metric EnDCG does not support ALS.\n",
      "Step 3/3: Metric PGF starts evaluation...\n"
     ]
    },
    {
     "name": "stderr",
     "output_type": "stream",
     "text": [
      "100%|██████████| 1000/1000 [01:55<00:00,  8.64it/s]\n"
     ]
    },
    {
     "name": "stdout",
     "output_type": "stream",
     "text": [
      "Result: PGF: 0.18407823356297665\n",
      "experiment data: [[0.1132, 0.0380035274236635, 0.1308629917614162, 18.069265842437744, 130.15590596199036], [0.0664, 0.017880113600352136, 0.08451045266911388, 26.198885679244995, 132.6360924243927], ['N/A', 'N/A', 0.18407823356297665, 21.24353790283203, 6406.299280643463]]\n",
      "\n",
      "\n",
      "recommender:explainer |    MEP |                EnDCG |                 PGF |           Train(s) |        Evaluate(s)\n",
      "EMF:EMF               | 0.1132 |   0.0380035274236635 |  0.1308629917614162 | 18.069265842437744 | 130.15590596199036\n",
      "NEMF:EMF              | 0.0664 | 0.017880113600352136 | 0.08451045266911388 | 26.198885679244995 |  132.6360924243927\n",
      "ALS:ALS               |    N/A |                  N/A | 0.18407823356297665 |  21.24353790283203 |  6406.299280643463\n",
      "\n"
     ]
    }
   ],
   "source": [
    "experiment = Explainers_Experiment(eval_method=dataset_1000, models=[emf_emf, nemf_emf, als_als], metrics=[mep, endcg, pgf], rec_k=10, feature_k=10, eval_train=True, distribution=True)\n",
    "experiment.run()"
   ]
  },
  {
   "cell_type": "markdown",
   "metadata": {},
   "source": [
    "## EMF explainer and ALS explainer with MEP, EnDCG, PGF - Large rating dataset"
   ]
  },
  {
   "cell_type": "code",
   "execution_count": 2,
   "metadata": {},
   "outputs": [
    {
     "name": "stdout",
     "output_type": "stream",
     "text": [
      "Preparing data...\n",
      "rating_threshold = 1.0\n",
      "exclude_unknowns = True\n",
      "---\n",
      "Training data:\n",
      "Number of users = 28055\n",
      "Number of items = 34121\n",
      "Number of ratings = 129222\n",
      "Max rating = 5.0\n",
      "Min rating = 0.0\n",
      "Global mean = 3.8\n",
      "---\n",
      "Test data:\n",
      "Number of users = 28055\n",
      "Number of items = 34121\n",
      "Number of ratings = 129222\n",
      "Number of unknown users = 0\n",
      "Number of unknown items = 0\n",
      "---\n",
      "Total users = 28055\n",
      "Total items = 34121\n",
      "Data prepared.\n"
     ]
    }
   ],
   "source": [
    "dataset = prepare_data(data_name=\"goodreads_uir\",test_size=0, verbose=True, sample_size=1, dense=True)\n",
    "emf = EMF(k=10, max_iter=500, learning_rate=0.001, lambda_reg=0.1, explain_reg=0.01, verbose=True, seed=6, num_threads=6, early_stop=True)\n",
    "nemf = NEMF(k=10, max_iter=500, learning_rate=0.001, lambda_reg=0.01, explain_reg=0.001, novel_reg=0.001, verbose=True, seed=6, num_threads=6, early_stop=True)\n",
    "mf = MF(k=10, max_iter=500, learning_rate=0.001, lambda_reg=0.1, verbose=True, seed=6)\n",
    "als = ALS(k=10, max_iter=500, lambda_reg=0.001, alpha=50, verbose=True, seed=6)\n",
    "\n",
    "emf_emf = (emf, EMFExplainer(emf, dataset.train_set))\n",
    "nemf_emf = (nemf, EMFExplainer(nemf, dataset.train_set))\n",
    "als_als = (als, ALSExplainer(als, dataset.train_set))\n",
    "\n",
    "mep = MEP()\n",
    "endcg = EnDCG()\n",
    "pgf = PGF(phi=10)"
   ]
  },
  {
   "cell_type": "code",
   "execution_count": 3,
   "metadata": {},
   "outputs": [
    {
     "name": "stdout",
     "output_type": "stream",
     "text": [
      "Start training Recommender EMF...\n"
     ]
    },
    {
     "data": {
      "application/vnd.jupyter.widget-view+json": {
       "model_id": "ee4d6dfdfc3542568c3df7da3c1d1bb1",
       "version_major": 2,
       "version_minor": 0
      },
      "text/plain": [
       "  0%|          | 0/500 [00:00<?, ?it/s]"
      ]
     },
     "metadata": {},
     "output_type": "display_data"
    },
    {
     "name": "stdout",
     "output_type": "stream",
     "text": [
      "Optimization finished!\n",
      "*****Start evaluating model-explainer: 'EMF:EMF'...\n",
      "Step 1/3: Recommender EMF creates recommendations\n",
      "Step 2/3: Explainer EMF create explanation for all recommendations\n"
     ]
    },
    {
     "data": {
      "application/vnd.jupyter.widget-view+json": {
       "model_id": "9a1760b53ac6462fbc97e04b75c30821",
       "version_major": 2,
       "version_minor": 0
      },
      "text/plain": [
       "Computing explanations:   0%|          | 0/280550 [00:00<?, ?it/s]"
      ]
     },
     "metadata": {},
     "output_type": "display_data"
    },
    {
     "name": "stdout",
     "output_type": "stream",
     "text": [
      "Step 3/3: Metric MEP starts evaluation...\n",
      "Result: MEP: 0.002958474425236143\n",
      "Step 3/3: Metric EnDCG starts evaluation...\n",
      "Result: EnDCG: 0.0018266599865092543\n",
      "Step 3/3: Metric PGF starts evaluation...\n"
     ]
    },
    {
     "name": "stderr",
     "output_type": "stream",
     "text": [
      "100%|██████████| 28055/28055 [2:18:53<00:00,  3.37it/s]  \n"
     ]
    },
    {
     "name": "stdout",
     "output_type": "stream",
     "text": [
      "Result: PGF: 0.0\n",
      "Start training Recommender NEMF...\n",
      "Start compute edge weight matrix...\n",
      "Start compute novel matrix...\n",
      "Matrix computation finished!\n"
     ]
    },
    {
     "data": {
      "application/vnd.jupyter.widget-view+json": {
       "model_id": "7baf0ddc60a24cdab910067cd97f7d1b",
       "version_major": 2,
       "version_minor": 0
      },
      "text/plain": [
       "  0%|          | 0/500 [00:00<?, ?it/s]"
      ]
     },
     "metadata": {},
     "output_type": "display_data"
    },
    {
     "name": "stdout",
     "output_type": "stream",
     "text": [
      "Optimization finished!\n",
      "*****Start evaluating model-explainer: 'NEMF:EMF'...\n",
      "Step 1/3: Recommender NEMF creates recommendations\n",
      "Step 2/3: Explainer EMF create explanation for all recommendations\n"
     ]
    },
    {
     "data": {
      "application/vnd.jupyter.widget-view+json": {
       "model_id": "9a806e976a5346508bfec12e866ffbb6",
       "version_major": 2,
       "version_minor": 0
      },
      "text/plain": [
       "Computing explanations:   0%|          | 0/280550 [00:00<?, ?it/s]"
      ]
     },
     "metadata": {},
     "output_type": "display_data"
    },
    {
     "name": "stdout",
     "output_type": "stream",
     "text": [
      "Step 3/3: Metric MEP starts evaluation...\n",
      "Result: MEP: 0.010621992514703261\n",
      "Step 3/3: Metric EnDCG starts evaluation...\n",
      "Result: EnDCG: 0.0018146276968743504\n",
      "Step 3/3: Metric PGF starts evaluation...\n"
     ]
    },
    {
     "name": "stderr",
     "output_type": "stream",
     "text": [
      "100%|██████████| 28055/28055 [2:20:22<00:00,  3.33it/s]  \n"
     ]
    },
    {
     "name": "stdout",
     "output_type": "stream",
     "text": [
      "Result: PGF: 0.09938944391474709\n",
      "Start training Recommender ALS...\n"
     ]
    },
    {
     "name": "stderr",
     "output_type": "stream",
     "text": [
      "c:\\Users\\linan\\.conda\\envs\\cornactest\\lib\\site-packages\\implicit\\utils.py:33: UserWarning: Intel MKL BLAS detected. Its highly recommend to set the environment variable 'export MKL_NUM_THREADS=1' to disable its internal multithreading\n",
      "  warnings.warn(\n"
     ]
    },
    {
     "data": {
      "application/vnd.jupyter.widget-view+json": {
       "model_id": "bd921a83d48f4980b409f3b4211e975d",
       "version_major": 2,
       "version_minor": 0
      },
      "text/plain": [
       "  0%|          | 0/500 [00:00<?, ?it/s]"
      ]
     },
     "metadata": {},
     "output_type": "display_data"
    },
    {
     "name": "stderr",
     "output_type": "stream",
     "text": [
      "INFO:implicit:Final training loss 0.0107\n"
     ]
    },
    {
     "name": "stdout",
     "output_type": "stream",
     "text": [
      "*****Start evaluating model-explainer: 'ALS:ALS'...\n",
      "Step 1/3: Recommender ALS creates recommendations\n",
      "Step 2/3: Explainer ALS create explanation for all recommendations\n"
     ]
    },
    {
     "data": {
      "application/vnd.jupyter.widget-view+json": {
       "model_id": "fae90776d2224edca8c8663e09e9ada0",
       "version_major": 2,
       "version_minor": 0
      },
      "text/plain": [
       "Computing explanations:   0%|          | 0/280550 [00:00<?, ?it/s]"
      ]
     },
     "metadata": {},
     "output_type": "display_data"
    },
    {
     "ename": "KeyboardInterrupt",
     "evalue": "",
     "output_type": "error",
     "traceback": [
      "\u001b[1;31m---------------------------------------------------------------------------\u001b[0m",
      "\u001b[1;31mKeyboardInterrupt\u001b[0m                         Traceback (most recent call last)",
      "Cell \u001b[1;32mIn[3], line 2\u001b[0m\n\u001b[0;32m      1\u001b[0m experiment \u001b[39m=\u001b[39m Explainers_Experiment(eval_method\u001b[39m=\u001b[39mdataset, models\u001b[39m=\u001b[39m[emf_emf, nemf_emf, als_als], metrics\u001b[39m=\u001b[39m[mep, endcg, pgf], rec_k\u001b[39m=\u001b[39m\u001b[39m10\u001b[39m, feature_k\u001b[39m=\u001b[39m\u001b[39m10\u001b[39m, eval_train\u001b[39m=\u001b[39m\u001b[39mTrue\u001b[39;00m, distribution\u001b[39m=\u001b[39m\u001b[39mTrue\u001b[39;00m)\n\u001b[1;32m----> 2\u001b[0m experiment\u001b[39m.\u001b[39;49mrun()\n",
      "File \u001b[1;32mc:\\Users\\linan\\.conda\\envs\\cornactest\\lib\\site-packages\\cornac-2.0.0-py3.8-win-amd64.egg\\cornac\\metrics_explainer\\exp_experiment.py:298\u001b[0m, in \u001b[0;36mExplainers_Experiment.run\u001b[1;34m(self)\u001b[0m\n\u001b[0;32m    296\u001b[0m     \u001b[39mself\u001b[39m\u001b[39m.\u001b[39mrecommendations1 \u001b[39m=\u001b[39m \u001b[39mself\u001b[39m\u001b[39m.\u001b[39m_get_recommendations(\u001b[39mself\u001b[39m\u001b[39m.\u001b[39mcurrent_rec)\n\u001b[0;32m    297\u001b[0m     \u001b[39mprint\u001b[39m(\u001b[39mf\u001b[39m\u001b[39m'\u001b[39m\u001b[39mStep 2/3: Explainer \u001b[39m\u001b[39m{\u001b[39;00m\u001b[39mself\u001b[39m\u001b[39m.\u001b[39mcurrent_exp\u001b[39m.\u001b[39mname\u001b[39m}\u001b[39;00m\u001b[39m create explanation for all recommendations\u001b[39m\u001b[39m'\u001b[39m)\n\u001b[1;32m--> 298\u001b[0m     \u001b[39mself\u001b[39m\u001b[39m.\u001b[39mexplanations1 \u001b[39m=\u001b[39m \u001b[39mself\u001b[39;49m\u001b[39m.\u001b[39;49m_get_explanations(\u001b[39mself\u001b[39;49m\u001b[39m.\u001b[39;49mcurrent_exp, \u001b[39mself\u001b[39;49m\u001b[39m.\u001b[39;49mrecommendations1)\n\u001b[0;32m    300\u001b[0m \u001b[39mfor\u001b[39;00m metric \u001b[39min\u001b[39;00m \u001b[39mself\u001b[39m\u001b[39m.\u001b[39mmetrics:\n\u001b[0;32m    301\u001b[0m     \u001b[39mif\u001b[39;00m metric\u001b[39m.\u001b[39mname \u001b[39mnot\u001b[39;00m \u001b[39min\u001b[39;00m metrics:\n",
      "File \u001b[1;32mc:\\Users\\linan\\.conda\\envs\\cornactest\\lib\\site-packages\\cornac-2.0.0-py3.8-win-amd64.egg\\cornac\\metrics_explainer\\exp_experiment.py:225\u001b[0m, in \u001b[0;36mExplainers_Experiment._get_explanations\u001b[1;34m(self, current_exp, recommendations)\u001b[0m\n\u001b[0;32m    220\u001b[0m \u001b[39mdef\u001b[39;00m \u001b[39m_get_explanations\u001b[39m(\u001b[39mself\u001b[39m, current_exp, recommendations):\n\u001b[0;32m    221\u001b[0m \u001b[39m    \u001b[39m\u001b[39m\"\"\"Create explanations for all [user_id, item_id] pair.\u001b[39;00m\n\u001b[0;32m    222\u001b[0m \u001b[39m    Return:\u001b[39;00m\n\u001b[0;32m    223\u001b[0m \u001b[39m        Numpy array of user_id, item_id, explanations. Return only non-zero explanations\u001b[39;00m\n\u001b[0;32m    224\u001b[0m \u001b[39m    \"\"\"\u001b[39;00m\n\u001b[1;32m--> 225\u001b[0m     exp \u001b[39m=\u001b[39m current_exp\u001b[39m.\u001b[39;49mexplain_recommendations(recommendations\u001b[39m=\u001b[39;49mrecommendations, num_features\u001b[39m=\u001b[39;49m\u001b[39mself\u001b[39;49m\u001b[39m.\u001b[39;49mfeature_k)[[\u001b[39m'\u001b[39m\u001b[39muser_id\u001b[39m\u001b[39m'\u001b[39m, \u001b[39m'\u001b[39m\u001b[39mitem_id\u001b[39m\u001b[39m'\u001b[39m, \u001b[39m'\u001b[39m\u001b[39mexplanations\u001b[39m\u001b[39m'\u001b[39m]]\n\u001b[0;32m    226\u001b[0m     exp \u001b[39m=\u001b[39m exp[exp[\u001b[39m'\u001b[39m\u001b[39mexplanations\u001b[39m\u001b[39m'\u001b[39m] \u001b[39m!=\u001b[39m {}] \u001b[39m#remove records with empty explanation\u001b[39;00m\n\u001b[0;32m    227\u001b[0m     \u001b[39mif\u001b[39;00m \u001b[39mnot\u001b[39;00m current_exp\u001b[39m.\u001b[39mname \u001b[39min\u001b[39;00m [\u001b[39m'\u001b[39m\u001b[39mEMF\u001b[39m\u001b[39m'\u001b[39m, \u001b[39m'\u001b[39m\u001b[39mPHI4MF\u001b[39m\u001b[39m'\u001b[39m]:\n",
      "File \u001b[1;32mc:\\Users\\linan\\.conda\\envs\\cornactest\\lib\\site-packages\\cornac-2.0.0-py3.8-win-amd64.egg\\cornac\\explainer\\explainer.py:26\u001b[0m, in \u001b[0;36mExplainer.explain_recommendations\u001b[1;34m(self, recommendations, num_features)\u001b[0m\n\u001b[0;32m     23\u001b[0m \u001b[39mwith\u001b[39;00m tqdm(total\u001b[39m=\u001b[39m\u001b[39mself\u001b[39m\u001b[39m.\u001b[39mrecommendations\u001b[39m.\u001b[39mshape[\u001b[39m0\u001b[39m], desc\u001b[39m=\u001b[39m\u001b[39m\"\u001b[39m\u001b[39mComputing explanations: \u001b[39m\u001b[39m\"\u001b[39m) \u001b[39mas\u001b[39;00m pbar:\n\u001b[0;32m     25\u001b[0m     \u001b[39mfor\u001b[39;00m _, row \u001b[39min\u001b[39;00m \u001b[39mself\u001b[39m\u001b[39m.\u001b[39mrecommendations\u001b[39m.\u001b[39miterrows():\n\u001b[1;32m---> 26\u001b[0m         explanations\u001b[39m.\u001b[39mappend(\u001b[39mself\u001b[39;49m\u001b[39m.\u001b[39;49mexplain_one_recommendation_to_user(row\u001b[39m.\u001b[39;49muser_id, row\u001b[39m.\u001b[39;49mitem_id, num_features))\n\u001b[0;32m     27\u001b[0m         pbar\u001b[39m.\u001b[39mupdate()\n\u001b[0;32m     29\u001b[0m \u001b[39mself\u001b[39m\u001b[39m.\u001b[39mrecommendations[\u001b[39m'\u001b[39m\u001b[39mexplanations\u001b[39m\u001b[39m'\u001b[39m] \u001b[39m=\u001b[39m explanations\n",
      "File \u001b[1;32mc:\\Users\\linan\\.conda\\envs\\cornactest\\lib\\site-packages\\cornac-2.0.0-py3.8-win-amd64.egg\\cornac\\explainer\\als_explainer.py:71\u001b[0m, in \u001b[0;36mALSExplainer.explain_one_recommendation_to_user\u001b[1;34m(self, user_id, item_id, num_features)\u001b[0m\n\u001b[0;32m     68\u001b[0m Y_T \u001b[39m=\u001b[39m \u001b[39mself\u001b[39m\u001b[39m.\u001b[39mmodel\u001b[39m.\u001b[39mi_factors\u001b[39m.\u001b[39mT\n\u001b[0;32m     69\u001b[0m Y \u001b[39m=\u001b[39m \u001b[39mself\u001b[39m\u001b[39m.\u001b[39mmodel\u001b[39m.\u001b[39mi_factors\n\u001b[1;32m---> 71\u001b[0m W_u \u001b[39m=\u001b[39m np\u001b[39m.\u001b[39mmatmul(Y_T, np\u001b[39m.\u001b[39;49mmatmul(C_u, Y)) \u001b[39m+\u001b[39m \u001b[39mself\u001b[39m\u001b[39m.\u001b[39mmodel\u001b[39m.\u001b[39mlambda_reg \u001b[39m*\u001b[39m np\u001b[39m.\u001b[39meye(\u001b[39mself\u001b[39m\u001b[39m.\u001b[39mmodel\u001b[39m.\u001b[39mk)\n\u001b[0;32m     73\u001b[0m \u001b[39mif\u001b[39;00m \u001b[39mlen\u001b[39m(items_by_user) \u001b[39m>\u001b[39m \u001b[39m1\u001b[39m:\n\u001b[0;32m     74\u001b[0m     W_u \u001b[39m=\u001b[39m np\u001b[39m.\u001b[39mlinalg\u001b[39m.\u001b[39minv(W_u)\n",
      "\u001b[1;31mKeyboardInterrupt\u001b[0m: "
     ]
    }
   ],
   "source": [
    "experiment = Explainers_Experiment(eval_method=dataset, models=[emf_emf, nemf_emf, als_als], metrics=[mep, endcg, pgf], rec_k=10, feature_k=10, eval_train=True, distribution=True)\n",
    "experiment.run()"
   ]
  },
  {
   "cell_type": "markdown",
   "metadata": {},
   "source": [
    "## PHI4MF explainer with PGF, MEP, EnDCG - Large rating dataset"
   ]
  },
  {
   "cell_type": "code",
   "execution_count": 2,
   "metadata": {},
   "outputs": [
    {
     "name": "stdout",
     "output_type": "stream",
     "text": [
      "Preparing data...\n",
      "rating_threshold = 1.0\n",
      "exclude_unknowns = True\n",
      "---\n",
      "Training data:\n",
      "Number of users = 28055\n",
      "Number of items = 34121\n",
      "Number of ratings = 129222\n",
      "Max rating = 5.0\n",
      "Min rating = 0.0\n",
      "Global mean = 3.8\n",
      "---\n",
      "Test data:\n",
      "Number of users = 28055\n",
      "Number of items = 34121\n",
      "Number of ratings = 129222\n",
      "Number of unknown users = 0\n",
      "Number of unknown items = 0\n",
      "---\n",
      "Total users = 28055\n",
      "Total items = 34121\n",
      "Data prepared.\n",
      "mf_phi done\n",
      "emf_phi done\n",
      "nemf_phi done\n"
     ]
    }
   ],
   "source": [
    "dataset = prepare_data(data_name=\"goodreads_uir\",test_size=0, verbose=True, sample_size=1, dense=True)\n",
    "\n",
    "emf = EMF(k=10, max_iter=500, learning_rate=0.001, lambda_reg=0.1, explain_reg=0.01, verbose=True, seed=6, num_threads=6, early_stop=True)\n",
    "nemf = NEMF(k=10, max_iter=500, learning_rate=0.001, lambda_reg=0.01, explain_reg=0.001, novel_reg=0.001, verbose=True, seed=6, num_threads=6, early_stop=True)\n",
    "mf = MF(k=10, max_iter=500, learning_rate=0.001, lambda_reg=0.1, verbose=True, seed=6)\n",
    "\n",
    "mf_phi = (mf, PHI4MFExplainer(mf, dataset.train_set))\n",
    "print(\"mf_phi done\")\n",
    "emf_phi = (emf, PHI4MFExplainer(emf, dataset.train_set))\n",
    "print(\"emf_phi done\")\n",
    "nemf_phi = (nemf, PHI4MFExplainer(nemf, dataset.train_set))    \n",
    "print(\"nemf_phi done\")\n",
    "\n",
    "mep = MEP()\n",
    "endcg = EnDCG()\n",
    "pgf = PGF(phi=10)"
   ]
  },
  {
   "cell_type": "code",
   "execution_count": 3,
   "metadata": {},
   "outputs": [
    {
     "name": "stdout",
     "output_type": "stream",
     "text": [
      "Start training Recommender MF...\n"
     ]
    },
    {
     "data": {
      "application/vnd.jupyter.widget-view+json": {
       "model_id": "df37ce7011d448b989448ed95d789bc3",
       "version_major": 2,
       "version_minor": 0
      },
      "text/plain": [
       "  0%|          | 0/500 [00:00<?, ?it/s]"
      ]
     },
     "metadata": {},
     "output_type": "display_data"
    },
    {
     "name": "stdout",
     "output_type": "stream",
     "text": [
      "Optimization finished!\n",
      "*****Start evaluating model-explainer: 'MF:PHI4MF'...\n",
      "Step 1/3: Recommender MF creates recommendations\n",
      "Step 2/3: Explainer PHI4MF create explanation for all recommendations\n"
     ]
    },
    {
     "data": {
      "application/vnd.jupyter.widget-view+json": {
       "model_id": "2dfc16823fc54cb29fa960b28ad2380b",
       "version_major": 2,
       "version_minor": 0
      },
      "text/plain": [
       "Computing explanations:   0%|          | 0/280550 [00:00<?, ?it/s]"
      ]
     },
     "metadata": {},
     "output_type": "display_data"
    },
    {
     "name": "stdout",
     "output_type": "stream",
     "text": [
      "Metric MEP does not support PHI4MF.\n",
      "Metric EnDCG does not support PHI4MF.\n",
      "Step 3/3: Metric PGF starts evaluation...\n"
     ]
    },
    {
     "name": "stderr",
     "output_type": "stream",
     "text": [
      "100%|██████████| 28055/28055 [1:37:11<00:00,  4.81it/s]\n"
     ]
    },
    {
     "name": "stdout",
     "output_type": "stream",
     "text": [
      "Result: PGF: 0.1821252211402538\n",
      "Start training Recommender EMF...\n"
     ]
    },
    {
     "data": {
      "application/vnd.jupyter.widget-view+json": {
       "model_id": "b2ffe641f74c421dbb6f06219e308078",
       "version_major": 2,
       "version_minor": 0
      },
      "text/plain": [
       "  0%|          | 0/500 [00:00<?, ?it/s]"
      ]
     },
     "metadata": {},
     "output_type": "display_data"
    },
    {
     "name": "stdout",
     "output_type": "stream",
     "text": [
      "Optimization finished!\n",
      "*****Start evaluating model-explainer: 'EMF:PHI4MF'...\n",
      "Step 1/3: Recommender EMF creates recommendations\n",
      "Step 2/3: Explainer PHI4MF create explanation for all recommendations\n"
     ]
    },
    {
     "data": {
      "application/vnd.jupyter.widget-view+json": {
       "model_id": "02d81b5e1c0a4aff906f5ab362fb9669",
       "version_major": 2,
       "version_minor": 0
      },
      "text/plain": [
       "Computing explanations:   0%|          | 0/280550 [00:00<?, ?it/s]"
      ]
     },
     "metadata": {},
     "output_type": "display_data"
    },
    {
     "name": "stdout",
     "output_type": "stream",
     "text": [
      "Step 3/3: Metric MEP starts evaluation...\n",
      "Result: MEP: 0.002320441988950276\n",
      "Step 3/3: Metric EnDCG starts evaluation...\n",
      "Result: EnDCG: 0.0012324170268395594\n",
      "Step 3/3: Metric PGF starts evaluation...\n"
     ]
    },
    {
     "name": "stderr",
     "output_type": "stream",
     "text": [
      "100%|██████████| 28055/28055 [1:28:51<00:00,  5.26it/s]\n"
     ]
    },
    {
     "name": "stdout",
     "output_type": "stream",
     "text": [
      "Result: PGF: 0.0\n",
      "Start training Recommender NEMF...\n",
      "Start compute edge weight matrix...\n",
      "Start compute novel matrix...\n",
      "Matrix computation finished!\n"
     ]
    },
    {
     "data": {
      "application/vnd.jupyter.widget-view+json": {
       "model_id": "ea43d152cd3144fca93ee1a9a3938a50",
       "version_major": 2,
       "version_minor": 0
      },
      "text/plain": [
       "  0%|          | 0/500 [00:00<?, ?it/s]"
      ]
     },
     "metadata": {},
     "output_type": "display_data"
    },
    {
     "name": "stdout",
     "output_type": "stream",
     "text": [
      "Optimization finished!\n",
      "*****Start evaluating model-explainer: 'NEMF:PHI4MF'...\n",
      "Step 1/3: Recommender NEMF creates recommendations\n",
      "Step 2/3: Explainer PHI4MF create explanation for all recommendations\n"
     ]
    },
    {
     "data": {
      "application/vnd.jupyter.widget-view+json": {
       "model_id": "1c9ca04a5be741e1a7fd2a56beb0fbb0",
       "version_major": 2,
       "version_minor": 0
      },
      "text/plain": [
       "Computing explanations:   0%|          | 0/280550 [00:00<?, ?it/s]"
      ]
     },
     "metadata": {},
     "output_type": "display_data"
    },
    {
     "name": "stdout",
     "output_type": "stream",
     "text": [
      "Step 3/3: Metric MEP starts evaluation...\n",
      "Result: MEP: 0.009844947424701479\n",
      "Step 3/3: Metric EnDCG starts evaluation...\n",
      "Result: EnDCG: 0.001667791953484175\n",
      "Step 3/3: Metric PGF starts evaluation...\n"
     ]
    },
    {
     "name": "stderr",
     "output_type": "stream",
     "text": [
      "100%|██████████| 28055/28055 [1:32:43<00:00,  5.04it/s]"
     ]
    },
    {
     "name": "stdout",
     "output_type": "stream",
     "text": [
      "Result: PGF: 0.13512518994206096\n",
      "experiment data: [['N/A', 'N/A', 0.1821252211402538, 4.830181121826172, 15011.449836969376], [0.002320441988950276, 0.0012324170268395594, 0.0, 14826.74122262001, 12267.773620605469], [0.009844947424701479, 0.001667791953484175, 0.13512518994206096, 14520.123544216156, 12994.201134681702]]\n",
      "\n",
      "\n",
      "recommender:explainer |                  MEP |                 EnDCG |                 PGF |           Train(s) |        Evaluate(s)\n",
      "MF:PHI4MF             |                  N/A |                   N/A |  0.1821252211402538 |  4.830181121826172 | 15011.449836969376\n",
      "EMF:PHI4MF            | 0.002320441988950276 | 0.0012324170268395594 |                 0.0 |  14826.74122262001 | 12267.773620605469\n",
      "NEMF:PHI4MF           | 0.009844947424701479 |  0.001667791953484175 | 0.13512518994206096 | 14520.123544216156 | 12994.201134681702\n",
      "\n"
     ]
    },
    {
     "name": "stderr",
     "output_type": "stream",
     "text": [
      "\n"
     ]
    }
   ],
   "source": [
    "experiment2 = Explainers_Experiment(eval_method=dataset, models=[mf_phi, emf_phi, nemf_phi], metrics=[mep, endcg, pgf], rec_k=10, feature_k=10, eval_train=True, distribution=True)\n",
    "experiment2.run()"
   ]
  }
 ],
 "metadata": {
  "kernelspec": {
   "display_name": "cornactest",
   "language": "python",
   "name": "python3"
  },
  "language_info": {
   "codemirror_mode": {
    "name": "ipython",
    "version": 3
   },
   "file_extension": ".py",
   "mimetype": "text/x-python",
   "name": "python",
   "nbconvert_exporter": "python",
   "pygments_lexer": "ipython3",
   "version": "3.8.16"
  },
  "orig_nbformat": 4
 },
 "nbformat": 4,
 "nbformat_minor": 2
}
