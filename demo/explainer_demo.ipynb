{
 "cells": [
  {
   "cell_type": "markdown",
   "metadata": {},
   "source": [
    "## Usage of one explainer\n",
    "\n",
    "Take EFM and Exp_EFM as an example, and use dataset amazon_toy."
   ]
  },
  {
   "cell_type": "code",
   "execution_count": 1,
   "metadata": {},
   "outputs": [
    {
     "name": "stderr",
     "output_type": "stream",
     "text": [
      "/home/linan/miniconda3/envs/cornac/lib/python3.11/site-packages/tensorflow/python/debug/cli/debugger_cli_common.py:19: DeprecationWarning: module 'sre_constants' is deprecated\n",
      "  import sre_constants\n"
     ]
    },
    {
     "name": "stdout",
     "output_type": "stream",
     "text": [
      "rating_threshold = 1.0\n",
      "exclude_unknowns = True\n",
      "---\n",
      "Training data:\n",
      "Number of users = 974\n",
      "Number of items = 7861\n",
      "Number of ratings = 26231\n",
      "Max rating = 5.0\n",
      "Min rating = 1.0\n",
      "Global mean = 4.3\n",
      "---\n",
      "Test data:\n",
      "Number of users = 974\n",
      "Number of items = 7861\n",
      "Number of ratings = 4840\n",
      "Number of unknown users = 0\n",
      "Number of unknown items = 0\n",
      "---\n",
      "Total users = 974\n",
      "Total items = 7861\n"
     ]
    }
   ],
   "source": [
    "from cornac.datasets import amazon_toy\n",
    "from cornac.data.reader import Reader\n",
    "from cornac.eval_methods import StratifiedSplit\n",
    "from cornac.data.sentiment import SentimentModality\n",
    "from cornac.models import EFM\n",
    "from cornac.explainer import Exp_EFM\n",
    "\n",
    "# Load the Amazon toy dataset\n",
    "rating = amazon_toy.load_feedback(fmt=\"UIRT\", reader=Reader(min_user_freq=20))\n",
    "sentiment_data = amazon_toy.load_sentiment(reader=Reader(min_user_freq=20))\n",
    "\n",
    "md = SentimentModality(data=sentiment_data)\n",
    "\n",
    "eval_method = StratifiedSplit(\n",
    "    data=rating,\n",
    "    group_by=\"user\",\n",
    "    chrono=True,\n",
    "    sentiment=md,\n",
    "    test_size=0.2,\n",
    "    exclude_unknowns=True,\n",
    "    verbose=True,\n",
    ")\n",
    "\n",
    "# Instantiate the EFM model\n",
    "efm = EFM(\n",
    "    max_iter=20,\n",
    "    num_explicit_factors=128,\n",
    "    num_latent_factors=128,\n",
    "    num_most_cared_aspects=100,\n",
    "    rating_scale=5.0,\n",
    "    alpha=0.9,\n",
    "    lambda_x=1,\n",
    "    lambda_y=1,\n",
    "    lambda_u=0.01,\n",
    "    lambda_h=0.01,\n",
    "    lambda_v=0.01,\n",
    "    trainable=True,\n",
    ")\n",
    "efm.fit(eval_method.train_set)\n",
    "\n",
    "\n",
    "# Instantiate the explainer\n",
    "explainer = Exp_EFM(rec_model=efm, dataset=eval_method.train_set)\n"
   ]
  },
  {
   "cell_type": "markdown",
   "metadata": {},
   "source": [
    "### Explain recommendations"
   ]
  },
  {
   "cell_type": "code",
   "execution_count": 2,
   "metadata": {},
   "outputs": [
    {
     "name": "stdout",
     "output_type": "stream",
     "text": [
      "           user_id     item_id  prediction\n",
      "0   A2TXMYYGSZCSZ1  B0000524NG    3.703133\n",
      "1   A2TXMYYGSZCSZ1  B001L123JS    3.586733\n",
      "2   A2TXMYYGSZCSZ1  B005MQYCY2    3.399667\n",
      "3   A2TXMYYGSZCSZ1  B005VPREAS    3.397276\n",
      "4   A2TXMYYGSZCSZ1  B00DH2QY3U    3.351732\n",
      "5    A2C27IQUH9N1Z  B0000524NG    3.402250\n",
      "6    A2C27IQUH9N1Z  B001L123JS    3.270584\n",
      "7    A2C27IQUH9N1Z  B005VPREAS    3.113287\n",
      "8    A2C27IQUH9N1Z  B005MQYCY2    3.100070\n",
      "9    A2C27IQUH9N1Z  B000056JLL    3.073330\n",
      "10   ABSFFH7ECSE49  B0000524NG    3.374592\n",
      "11   ABSFFH7ECSE49  B001L123JS    3.288109\n",
      "12   ABSFFH7ECSE49  B005VPREAS    3.107725\n",
      "13   ABSFFH7ECSE49  B005MQYCY2    3.095141\n",
      "14   ABSFFH7ECSE49  B004OSQOHW    3.062344\n"
     ]
    }
   ],
   "source": [
    "# first, we need some recommendations\n",
    "some_users = eval_method.test_set.user_ids[:3]\n",
    "recomedations = efm.recommend_to_multiple_users(some_users, k=5)\n",
    "print(recomedations)"
   ]
  },
  {
   "cell_type": "code",
   "execution_count": 3,
   "metadata": {},
   "outputs": [
    {
     "data": {
      "application/vnd.jupyter.widget-view+json": {
       "model_id": "1e11373d2ef9490f9635bc1692be09f1",
       "version_major": 2,
       "version_minor": 0
      },
      "text/plain": [
       "Computing explanations:   0%|          | 0/15 [00:00<?, ?it/s]"
      ]
     },
     "metadata": {},
     "output_type": "display_data"
    },
    {
     "data": {
      "text/html": [
       "<div>\n",
       "<style scoped>\n",
       "    .dataframe tbody tr th:only-of-type {\n",
       "        vertical-align: middle;\n",
       "    }\n",
       "\n",
       "    .dataframe tbody tr th {\n",
       "        vertical-align: top;\n",
       "    }\n",
       "\n",
       "    .dataframe thead th {\n",
       "        text-align: right;\n",
       "    }\n",
       "</style>\n",
       "<table border=\"1\" class=\"dataframe\">\n",
       "  <thead>\n",
       "    <tr style=\"text-align: right;\">\n",
       "      <th></th>\n",
       "      <th>user_id</th>\n",
       "      <th>item_id</th>\n",
       "      <th>prediction</th>\n",
       "      <th>explanations</th>\n",
       "    </tr>\n",
       "  </thead>\n",
       "  <tbody>\n",
       "    <tr>\n",
       "      <th>0</th>\n",
       "      <td>A2TXMYYGSZCSZ1</td>\n",
       "      <td>B0000524NG</td>\n",
       "      <td>3.703133</td>\n",
       "      <td>{'toy': 5.8406773, 'puzzle': 5.381035, 'really...</td>\n",
       "    </tr>\n",
       "    <tr>\n",
       "      <th>1</th>\n",
       "      <td>A2TXMYYGSZCSZ1</td>\n",
       "      <td>B001L123JS</td>\n",
       "      <td>3.586733</td>\n",
       "      <td>{'toy': 5.7405624, 'puzzle': 5.2881837, 'reall...</td>\n",
       "    </tr>\n",
       "    <tr>\n",
       "      <th>2</th>\n",
       "      <td>A2TXMYYGSZCSZ1</td>\n",
       "      <td>B005MQYCY2</td>\n",
       "      <td>3.399667</td>\n",
       "      <td>{'toy': 5.5638375, 'puzzle': 5.361451, 'really...</td>\n",
       "    </tr>\n",
       "    <tr>\n",
       "      <th>3</th>\n",
       "      <td>A2TXMYYGSZCSZ1</td>\n",
       "      <td>B005VPREAS</td>\n",
       "      <td>3.397276</td>\n",
       "      <td>{'toy': 5.5237722, 'puzzle': 5.2773743, 'reall...</td>\n",
       "    </tr>\n",
       "    <tr>\n",
       "      <th>4</th>\n",
       "      <td>A2TXMYYGSZCSZ1</td>\n",
       "      <td>B00DH2QY3U</td>\n",
       "      <td>3.351732</td>\n",
       "      <td>{'toy': 5.4370203, 'puzzle': 5.249626, 'really...</td>\n",
       "    </tr>\n",
       "    <tr>\n",
       "      <th>5</th>\n",
       "      <td>A2C27IQUH9N1Z</td>\n",
       "      <td>B0000524NG</td>\n",
       "      <td>3.402250</td>\n",
       "      <td>{'toy': 5.8406773, 'really': 5.684189, 'game':...</td>\n",
       "    </tr>\n",
       "    <tr>\n",
       "      <th>6</th>\n",
       "      <td>A2C27IQUH9N1Z</td>\n",
       "      <td>B001L123JS</td>\n",
       "      <td>3.270584</td>\n",
       "      <td>{'toy': 5.7405624, 'really': 5.353897, 'game':...</td>\n",
       "    </tr>\n",
       "    <tr>\n",
       "      <th>7</th>\n",
       "      <td>A2C27IQUH9N1Z</td>\n",
       "      <td>B005VPREAS</td>\n",
       "      <td>3.113287</td>\n",
       "      <td>{'toy': 5.5237722, 'really': 5.102154, 'game':...</td>\n",
       "    </tr>\n",
       "    <tr>\n",
       "      <th>8</th>\n",
       "      <td>A2C27IQUH9N1Z</td>\n",
       "      <td>B005MQYCY2</td>\n",
       "      <td>3.100070</td>\n",
       "      <td>{'toy': 5.5638375, 'really': 5.272655, 'game':...</td>\n",
       "    </tr>\n",
       "    <tr>\n",
       "      <th>9</th>\n",
       "      <td>A2C27IQUH9N1Z</td>\n",
       "      <td>B000056JLL</td>\n",
       "      <td>3.073330</td>\n",
       "      <td>{'toy': 5.3927116, 'really': 5.249818, 'game':...</td>\n",
       "    </tr>\n",
       "    <tr>\n",
       "      <th>10</th>\n",
       "      <td>ABSFFH7ECSE49</td>\n",
       "      <td>B0000524NG</td>\n",
       "      <td>3.374592</td>\n",
       "      <td>{'toy': 5.8406773, 'game': 5.326112, 'pieces':...</td>\n",
       "    </tr>\n",
       "    <tr>\n",
       "      <th>11</th>\n",
       "      <td>ABSFFH7ECSE49</td>\n",
       "      <td>B001L123JS</td>\n",
       "      <td>3.288109</td>\n",
       "      <td>{'toy': 5.7405624, 'game': 5.2436447, 'pieces'...</td>\n",
       "    </tr>\n",
       "    <tr>\n",
       "      <th>12</th>\n",
       "      <td>ABSFFH7ECSE49</td>\n",
       "      <td>B005VPREAS</td>\n",
       "      <td>3.107725</td>\n",
       "      <td>{'toy': 5.5237722, 'game': 4.728171, 'pieces':...</td>\n",
       "    </tr>\n",
       "    <tr>\n",
       "      <th>13</th>\n",
       "      <td>ABSFFH7ECSE49</td>\n",
       "      <td>B005MQYCY2</td>\n",
       "      <td>3.095141</td>\n",
       "      <td>{'toy': 5.5638375, 'game': 5.0604787, 'pieces'...</td>\n",
       "    </tr>\n",
       "    <tr>\n",
       "      <th>14</th>\n",
       "      <td>ABSFFH7ECSE49</td>\n",
       "      <td>B004OSQOHW</td>\n",
       "      <td>3.062344</td>\n",
       "      <td>{'toy': 5.1467533, 'game': 4.850113, 'pieces':...</td>\n",
       "    </tr>\n",
       "  </tbody>\n",
       "</table>\n",
       "</div>"
      ],
      "text/plain": [
       "           user_id     item_id  prediction  \\\n",
       "0   A2TXMYYGSZCSZ1  B0000524NG    3.703133   \n",
       "1   A2TXMYYGSZCSZ1  B001L123JS    3.586733   \n",
       "2   A2TXMYYGSZCSZ1  B005MQYCY2    3.399667   \n",
       "3   A2TXMYYGSZCSZ1  B005VPREAS    3.397276   \n",
       "4   A2TXMYYGSZCSZ1  B00DH2QY3U    3.351732   \n",
       "5    A2C27IQUH9N1Z  B0000524NG    3.402250   \n",
       "6    A2C27IQUH9N1Z  B001L123JS    3.270584   \n",
       "7    A2C27IQUH9N1Z  B005VPREAS    3.113287   \n",
       "8    A2C27IQUH9N1Z  B005MQYCY2    3.100070   \n",
       "9    A2C27IQUH9N1Z  B000056JLL    3.073330   \n",
       "10   ABSFFH7ECSE49  B0000524NG    3.374592   \n",
       "11   ABSFFH7ECSE49  B001L123JS    3.288109   \n",
       "12   ABSFFH7ECSE49  B005VPREAS    3.107725   \n",
       "13   ABSFFH7ECSE49  B005MQYCY2    3.095141   \n",
       "14   ABSFFH7ECSE49  B004OSQOHW    3.062344   \n",
       "\n",
       "                                         explanations  \n",
       "0   {'toy': 5.8406773, 'puzzle': 5.381035, 'really...  \n",
       "1   {'toy': 5.7405624, 'puzzle': 5.2881837, 'reall...  \n",
       "2   {'toy': 5.5638375, 'puzzle': 5.361451, 'really...  \n",
       "3   {'toy': 5.5237722, 'puzzle': 5.2773743, 'reall...  \n",
       "4   {'toy': 5.4370203, 'puzzle': 5.249626, 'really...  \n",
       "5   {'toy': 5.8406773, 'really': 5.684189, 'game':...  \n",
       "6   {'toy': 5.7405624, 'really': 5.353897, 'game':...  \n",
       "7   {'toy': 5.5237722, 'really': 5.102154, 'game':...  \n",
       "8   {'toy': 5.5638375, 'really': 5.272655, 'game':...  \n",
       "9   {'toy': 5.3927116, 'really': 5.249818, 'game':...  \n",
       "10  {'toy': 5.8406773, 'game': 5.326112, 'pieces':...  \n",
       "11  {'toy': 5.7405624, 'game': 5.2436447, 'pieces'...  \n",
       "12  {'toy': 5.5237722, 'game': 4.728171, 'pieces':...  \n",
       "13  {'toy': 5.5638375, 'game': 5.0604787, 'pieces'...  \n",
       "14  {'toy': 5.1467533, 'game': 4.850113, 'pieces':...  "
      ]
     },
     "execution_count": 3,
     "metadata": {},
     "output_type": "execute_result"
    }
   ],
   "source": [
    "explainer.explain_recommendations(recomedations)"
   ]
  },
  {
   "cell_type": "markdown",
   "metadata": {},
   "source": [
    "### Explain one user-item pair"
   ]
  },
  {
   "cell_type": "code",
   "execution_count": 4,
   "metadata": {},
   "outputs": [
    {
     "name": "stdout",
     "output_type": "stream",
     "text": [
      "For User A2TXMYYGSZCSZ1 and Item B00004TZY8:\n",
      "Explanation:\n",
      "{'toy': 4.8383207, 'puzzle': 4.698557, 'really': 4.6339245}\n"
     ]
    }
   ],
   "source": [
    "one_user = eval_method.train_set.user_ids[0]\n",
    "one_item = eval_method.train_set.item_ids[0]\n",
    "explanation = explainer.explain_one_recommendation_to_user(one_user, one_item)\n",
    "print(f\"For User {one_user} and Item {one_item}:\")\n",
    "print(\"Explanation:\")\n",
    "print(explanation)"
   ]
  },
  {
   "cell_type": "markdown",
   "metadata": {},
   "source": [
    "### Explain one user-item with ref-item"
   ]
  },
  {
   "cell_type": "code",
   "execution_count": 5,
   "metadata": {},
   "outputs": [
    {
     "data": {
      "text/html": [
       "<div>\n",
       "<style scoped>\n",
       "    .dataframe tbody tr th:only-of-type {\n",
       "        vertical-align: middle;\n",
       "    }\n",
       "\n",
       "    .dataframe tbody tr th {\n",
       "        vertical-align: top;\n",
       "    }\n",
       "\n",
       "    .dataframe thead th {\n",
       "        text-align: right;\n",
       "    }\n",
       "</style>\n",
       "<table border=\"1\" class=\"dataframe\">\n",
       "  <thead>\n",
       "    <tr style=\"text-align: right;\">\n",
       "      <th></th>\n",
       "      <th>user_id</th>\n",
       "      <th>item_id</th>\n",
       "      <th>explanation</th>\n",
       "      <th>ref_item_id</th>\n",
       "      <th>ref_explanation</th>\n",
       "    </tr>\n",
       "  </thead>\n",
       "  <tbody>\n",
       "    <tr>\n",
       "      <th>0</th>\n",
       "      <td>A2TXMYYGSZCSZ1</td>\n",
       "      <td>B00004TZY8</td>\n",
       "      <td>{'toy': 4.8383207, 'puzzle': 4.698557, 'really...</td>\n",
       "      <td>B004OS8J98</td>\n",
       "      <td>{'toy': 4.602877, 'puzzle': 4.267133, 'really'...</td>\n",
       "    </tr>\n",
       "  </tbody>\n",
       "</table>\n",
       "</div>"
      ],
      "text/plain": [
       "          user_id     item_id  \\\n",
       "0  A2TXMYYGSZCSZ1  B00004TZY8   \n",
       "\n",
       "                                         explanation ref_item_id  \\\n",
       "0  {'toy': 4.8383207, 'puzzle': 4.698557, 'really...  B004OS8J98   \n",
       "\n",
       "                                     ref_explanation  \n",
       "0  {'toy': 4.602877, 'puzzle': 4.267133, 'really'...  "
      ]
     },
     "execution_count": 5,
     "metadata": {},
     "output_type": "execute_result"
    }
   ],
   "source": [
    "one_user = eval_method.train_set.user_ids[0]\n",
    "one_item = eval_method.train_set.item_ids[0]\n",
    "ref_item = eval_method.train_set.item_ids[10]\n",
    "explanation = explainer.explain_one_with_ref(user_id=one_user, item_id=one_item, ref_item_id=ref_item)\n",
    "explanation"
   ]
  },
  {
   "cell_type": "code",
   "execution_count": 6,
   "metadata": {},
   "outputs": [
    {
     "name": "stdout",
     "output_type": "stream",
     "text": [
      "0    {'toy': 4.8383207, 'puzzle': 4.698557, 'really...\n",
      "Name: explanation, dtype: object\n",
      "0    {'toy': 4.602877, 'puzzle': 4.267133, 'really'...\n",
      "Name: ref_explanation, dtype: object\n"
     ]
    }
   ],
   "source": [
    "# explanation for user-item\n",
    "print(explanation['explanation'])\n",
    "# and explanation for user-ref_item\n",
    "print(explanation['ref_explanation'])"
   ]
  },
  {
   "cell_type": "markdown",
   "metadata": {},
   "source": [
    "### Generate plot for Exp_EFM"
   ]
  },
  {
   "cell_type": "code",
   "execution_count": 7,
   "metadata": {},
   "outputs": [
    {
     "data": {
      "application/vnd.jupyter.widget-view+json": {
       "model_id": "778d2b865aa44a3e980f8b7d8049fa78",
       "version_major": 2,
       "version_minor": 0
      },
      "text/plain": [
       "Computing explanations:   0%|          | 0/9740 [00:00<?, ?it/s]"
      ]
     },
     "metadata": {},
     "output_type": "display_data"
    }
   ],
   "source": [
    "users = eval_method.test_set.user_ids\n",
    "recommendations = efm.recommend_to_multiple_users(users, k=10)\n",
    "explanations = explainer.explain_recommendations(recommendations, feature_k=6)\n",
    "explanations_df = explanations.copy()"
   ]
  },
  {
   "cell_type": "code",
   "execution_count": 8,
   "metadata": {},
   "outputs": [
    {
     "name": "stderr",
     "output_type": "stream",
     "text": [
      "/home/linan/miniconda3/envs/cornac/lib/python3.11/site-packages/cornac-2.0.0-py3.11-linux-x86_64.egg/cornac/visualization/visualization.py:297: UserWarning: set_ticklabels() should only be used with a fixed number of ticks, i.e. after set_ticks() or using a FixedLocator.\n",
      "  axes[0].set_xticklabels(x_count, rotation=45)\n",
      "/home/linan/miniconda3/envs/cornac/lib/python3.11/site-packages/cornac-2.0.0-py3.11-linux-x86_64.egg/cornac/visualization/visualization.py:299: UserWarning: set_ticklabels() should only be used with a fixed number of ticks, i.e. after set_ticks() or using a FixedLocator.\n",
      "  axes[1].set_xticklabels(x_coeff, rotation=45)\n"
     ]
    },
    {
     "data": {
      "image/png": "[encoded data removed]",
      "text/plain": [
       "<Figure size 2000x1000 with 2 Axes>"
      ]
     },
     "metadata": {},
     "output_type": "display_data"
    }
   ],
   "source": [
    "from cornac.visualization import Visualization\n",
    "my_plots = Visualization()\n",
    "\n",
    "# Create a plot for a specific user and item\n",
    "one_user = eval_method.train_set.user_ids[15]\n",
    "one_item = eval_method.train_set.item_ids[0]\n",
    "ind_df = my_plots.create_individual_feature_importance_plot(\n",
    "    explanations,\n",
    "    user_id=one_user,\n",
    "    item_id=one_item,\n",
    "    type=\"bar\",\n",
    "    top_k=6,\n",
    "    save_plot=False,\n",
    ")\n",
    "\n",
    "filtered_df = my_plots.create_aggregate_feature_importance_plot(\n",
    "    explanations, type=\"bar\", top_k=8, save_plot=False\n",
    ")"
   ]
  }
 ],
 "metadata": {
  "kernelspec": {
   "display_name": "cornac",
   "language": "python",
   "name": "python3"
  },
  "language_info": {
   "codemirror_mode": {
    "name": "ipython",
    "version": 3
   },
   "file_extension": ".py",
   "mimetype": "text/x-python",
   "name": "python",
   "nbconvert_exporter": "python",
   "pygments_lexer": "ipython3",
   "version": "3.11.5"
  }
 },
 "nbformat": 4,
 "nbformat_minor": 2
}
