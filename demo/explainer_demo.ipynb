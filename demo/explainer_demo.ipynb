{
 "cells": [
  {
   "cell_type": "markdown",
   "metadata": {},
   "source": [
    "## Usage of one explainer\n",
    "\n",
    "Take MTER as an example, and use dataset amazon_toy."
   ]
  },
  {
   "cell_type": "code",
   "execution_count": 1,
   "metadata": {},
   "outputs": [
    {
     "name": "stderr",
     "output_type": "stream",
     "text": [
      "/home/linan/miniconda3/envs/cornac/lib/python3.11/site-packages/tensorflow/python/debug/cli/debugger_cli_common.py:19: DeprecationWarning: module 'sre_constants' is deprecated\n",
      "  import sre_constants\n"
     ]
    },
    {
     "name": "stdout",
     "output_type": "stream",
     "text": [
      "rating_threshold = 1.0\n",
      "exclude_unknowns = True\n",
      "---\n",
      "Training data:\n",
      "Number of users = 119\n",
      "Number of items = 4058\n",
      "Number of ratings = 7197\n",
      "Max rating = 5.0\n",
      "Min rating = 1.0\n",
      "Global mean = 4.3\n",
      "---\n",
      "Test data:\n",
      "Number of users = 119\n",
      "Number of items = 4058\n",
      "Number of ratings = 741\n",
      "Number of unknown users = 0\n",
      "Number of unknown items = 0\n",
      "---\n",
      "Total users = 119\n",
      "Total items = 4058\n"
     ]
    }
   ],
   "source": [
    "from cornac.datasets import amazon_toy\n",
    "from cornac.data.reader import Reader\n",
    "from cornac.eval_methods import StratifiedSplit\n",
    "from cornac.data.sentiment import SentimentModality\n",
    "from cornac.models import MTER\n",
    "from cornac.explainer import Exp_MTER\n",
    "\n",
    "# Load the Amazon toy dataset\n",
    "rating = amazon_toy.load_feedback(fmt=\"UIRT\", reader=Reader(min_user_freq=50))\n",
    "sentiment_data = amazon_toy.load_sentiment(reader=Reader(min_user_freq=50))\n",
    "\n",
    "md = SentimentModality(data=sentiment_data)\n",
    "\n",
    "eval_method = StratifiedSplit(\n",
    "    data=rating,\n",
    "    group_by=\"user\",\n",
    "    chrono=True,\n",
    "    sentiment=md,\n",
    "    test_size=0.2,\n",
    "    exclude_unknowns=True,\n",
    "    verbose=True,\n",
    ")\n",
    "\n",
    "# Instantiate the MTER model\n",
    "mter = MTER(\n",
    "    max_iter=20,\n",
    "    n_user_factors=8,\n",
    "    n_item_factors=8,\n",
    "    n_aspect_factors=8,\n",
    "    n_opinion_factors=8,\n",
    "    n_bpr_samples=1000,\n",
    "    n_element_samples=50,\n",
    "    lambda_reg=0.1,\n",
    "    lambda_bpr=10,\n",
    "    lr=0.5,\n",
    ")\n",
    "\n",
    "mter.fit(eval_method.train_set)\n",
    "\n",
    "# Instantiate the explainer\n",
    "explainer = Exp_MTER(mter, eval_method.train_set)\n"
   ]
  },
  {
   "cell_type": "markdown",
   "metadata": {},
   "source": [
    "### Explain recommendations"
   ]
  },
  {
   "cell_type": "code",
   "execution_count": 8,
   "metadata": {},
   "outputs": [
    {
     "name": "stdout",
     "output_type": "stream",
     "text": [
      "           user_id     item_id  prediction\n",
      "0   A30H2335OM7RD6  B006ROJJE6    1.137697\n",
      "1   A30H2335OM7RD6  B00CKH9URU    1.089992\n",
      "2   A30H2335OM7RD6  B000284ZNI    1.068191\n",
      "3   A30H2335OM7RD6  B00BN6QAVI    1.052156\n",
      "4   A30H2335OM7RD6  B00CI6J6UY    1.048574\n",
      "5   A3R01WHD75L6FG  B006ROJJE6    0.521874\n",
      "6   A3R01WHD75L6FG  B00CI6J6UY    0.507830\n",
      "7   A3R01WHD75L6FG  B00CKH9URU    0.504350\n",
      "8   A3R01WHD75L6FG  B002B555QQ    0.492050\n",
      "9   A3R01WHD75L6FG  B000284ZNI    0.484729\n",
      "10  A19FRW264WZTGP  B006ROJJE6    3.214391\n",
      "11  A19FRW264WZTGP  B00CKH9URU    3.085872\n",
      "12  A19FRW264WZTGP  B00CI6J6UY    3.036532\n",
      "13  A19FRW264WZTGP  B000284ZNI    2.991767\n",
      "14  A19FRW264WZTGP  B00BN6QAVI    2.969527\n"
     ]
    }
   ],
   "source": [
    "# first, we need some recommendations\n",
    "some_users = eval_method.test_set.user_ids[:3]\n",
    "recomedations = mter.recommend_to_multiple_users(some_users, k=5)\n",
    "print(recomedations)"
   ]
  },
  {
   "cell_type": "code",
   "execution_count": 10,
   "metadata": {},
   "outputs": [
    {
     "data": {
      "application/vnd.jupyter.widget-view+json": {
       "model_id": "7a4ee07db30548a09648c1616ab23fe5",
       "version_major": 2,
       "version_minor": 0
      },
      "text/plain": [
       "Computing explanations:   0%|          | 0/15 [00:00<?, ?it/s]"
      ]
     },
     "metadata": {},
     "output_type": "display_data"
    },
    {
     "data": {
      "text/html": [
       "<div>\n",
       "<style scoped>\n",
       "    .dataframe tbody tr th:only-of-type {\n",
       "        vertical-align: middle;\n",
       "    }\n",
       "\n",
       "    .dataframe tbody tr th {\n",
       "        vertical-align: top;\n",
       "    }\n",
       "\n",
       "    .dataframe thead th {\n",
       "        text-align: right;\n",
       "    }\n",
       "</style>\n",
       "<table border=\"1\" class=\"dataframe\">\n",
       "  <thead>\n",
       "    <tr style=\"text-align: right;\">\n",
       "      <th></th>\n",
       "      <th>user_id</th>\n",
       "      <th>item_id</th>\n",
       "      <th>prediction</th>\n",
       "      <th>explanations</th>\n",
       "    </tr>\n",
       "  </thead>\n",
       "  <tbody>\n",
       "    <tr>\n",
       "      <th>0</th>\n",
       "      <td>A30H2335OM7RD6</td>\n",
       "      <td>B006ROJJE6</td>\n",
       "      <td>1.137697</td>\n",
       "      <td>{'pieces': {'damage': 1.1116805, 'excellent': ...</td>\n",
       "    </tr>\n",
       "    <tr>\n",
       "      <th>1</th>\n",
       "      <td>A30H2335OM7RD6</td>\n",
       "      <td>B00CKH9URU</td>\n",
       "      <td>1.089992</td>\n",
       "      <td>{'pieces': {'neat': 1.5739713, 'attack': 0.657...</td>\n",
       "    </tr>\n",
       "    <tr>\n",
       "      <th>2</th>\n",
       "      <td>A30H2335OM7RD6</td>\n",
       "      <td>B000284ZNI</td>\n",
       "      <td>1.068191</td>\n",
       "      <td>{'back': {'loves': 0.1975783, 'instantly': 0.1...</td>\n",
       "    </tr>\n",
       "    <tr>\n",
       "      <th>3</th>\n",
       "      <td>A30H2335OM7RD6</td>\n",
       "      <td>B00BN6QAVI</td>\n",
       "      <td>1.052156</td>\n",
       "      <td>{'also': {'adore': 0.7846245, 'lose': 0.543023...</td>\n",
       "    </tr>\n",
       "    <tr>\n",
       "      <th>4</th>\n",
       "      <td>A30H2335OM7RD6</td>\n",
       "      <td>B00CI6J6UY</td>\n",
       "      <td>1.048574</td>\n",
       "      <td>{'fact': {'problems': 0.2618758, 'creative': 0...</td>\n",
       "    </tr>\n",
       "    <tr>\n",
       "      <th>5</th>\n",
       "      <td>A3R01WHD75L6FG</td>\n",
       "      <td>B006ROJJE6</td>\n",
       "      <td>0.521874</td>\n",
       "      <td>{'pieces': {'damage': 0.38749737, 'excellent':...</td>\n",
       "    </tr>\n",
       "    <tr>\n",
       "      <th>6</th>\n",
       "      <td>A3R01WHD75L6FG</td>\n",
       "      <td>B00CI6J6UY</td>\n",
       "      <td>0.507830</td>\n",
       "      <td>{'fact': {'problems': 0.09688483, 'creative': ...</td>\n",
       "    </tr>\n",
       "    <tr>\n",
       "      <th>7</th>\n",
       "      <td>A3R01WHD75L6FG</td>\n",
       "      <td>B00CKH9URU</td>\n",
       "      <td>0.504350</td>\n",
       "      <td>{'pieces': {'neat': 0.59636295, 'attack': 0.22...</td>\n",
       "    </tr>\n",
       "    <tr>\n",
       "      <th>8</th>\n",
       "      <td>A3R01WHD75L6FG</td>\n",
       "      <td>B002B555QQ</td>\n",
       "      <td>0.492050</td>\n",
       "      <td>{'toy': {'likes': 2.2202773, 'loves': 0.517879...</td>\n",
       "    </tr>\n",
       "    <tr>\n",
       "      <th>9</th>\n",
       "      <td>A3R01WHD75L6FG</td>\n",
       "      <td>B000284ZNI</td>\n",
       "      <td>0.484729</td>\n",
       "      <td>{'back': {'loves': 0.088577084, 'instantly': 0...</td>\n",
       "    </tr>\n",
       "    <tr>\n",
       "      <th>10</th>\n",
       "      <td>A19FRW264WZTGP</td>\n",
       "      <td>B006ROJJE6</td>\n",
       "      <td>3.214391</td>\n",
       "      <td>{'pieces': {'damage': 2.536346, 'excellent': 1...</td>\n",
       "    </tr>\n",
       "    <tr>\n",
       "      <th>11</th>\n",
       "      <td>A19FRW264WZTGP</td>\n",
       "      <td>B00CKH9URU</td>\n",
       "      <td>3.085872</td>\n",
       "      <td>{'also': {'neat': 2.9519918, 'attack': 1.13488...</td>\n",
       "    </tr>\n",
       "    <tr>\n",
       "      <th>12</th>\n",
       "      <td>A19FRW264WZTGP</td>\n",
       "      <td>B00CI6J6UY</td>\n",
       "      <td>3.036532</td>\n",
       "      <td>{'fact': {'problems': 0.65736455, 'creative': ...</td>\n",
       "    </tr>\n",
       "    <tr>\n",
       "      <th>13</th>\n",
       "      <td>A19FRW264WZTGP</td>\n",
       "      <td>B000284ZNI</td>\n",
       "      <td>2.991767</td>\n",
       "      <td>{'back': {'loves': 0.5306136, 'instantly': 0.3...</td>\n",
       "    </tr>\n",
       "    <tr>\n",
       "      <th>14</th>\n",
       "      <td>A19FRW264WZTGP</td>\n",
       "      <td>B00BN6QAVI</td>\n",
       "      <td>2.969527</td>\n",
       "      <td>{'also': {'adore': 1.9575716, 'lose': 1.330131...</td>\n",
       "    </tr>\n",
       "  </tbody>\n",
       "</table>\n",
       "</div>"
      ],
      "text/plain": [
       "           user_id     item_id  prediction  \\\n",
       "0   A30H2335OM7RD6  B006ROJJE6    1.137697   \n",
       "1   A30H2335OM7RD6  B00CKH9URU    1.089992   \n",
       "2   A30H2335OM7RD6  B000284ZNI    1.068191   \n",
       "3   A30H2335OM7RD6  B00BN6QAVI    1.052156   \n",
       "4   A30H2335OM7RD6  B00CI6J6UY    1.048574   \n",
       "5   A3R01WHD75L6FG  B006ROJJE6    0.521874   \n",
       "6   A3R01WHD75L6FG  B00CI6J6UY    0.507830   \n",
       "7   A3R01WHD75L6FG  B00CKH9URU    0.504350   \n",
       "8   A3R01WHD75L6FG  B002B555QQ    0.492050   \n",
       "9   A3R01WHD75L6FG  B000284ZNI    0.484729   \n",
       "10  A19FRW264WZTGP  B006ROJJE6    3.214391   \n",
       "11  A19FRW264WZTGP  B00CKH9URU    3.085872   \n",
       "12  A19FRW264WZTGP  B00CI6J6UY    3.036532   \n",
       "13  A19FRW264WZTGP  B000284ZNI    2.991767   \n",
       "14  A19FRW264WZTGP  B00BN6QAVI    2.969527   \n",
       "\n",
       "                                         explanations  \n",
       "0   {'pieces': {'damage': 1.1116805, 'excellent': ...  \n",
       "1   {'pieces': {'neat': 1.5739713, 'attack': 0.657...  \n",
       "2   {'back': {'loves': 0.1975783, 'instantly': 0.1...  \n",
       "3   {'also': {'adore': 0.7846245, 'lose': 0.543023...  \n",
       "4   {'fact': {'problems': 0.2618758, 'creative': 0...  \n",
       "5   {'pieces': {'damage': 0.38749737, 'excellent':...  \n",
       "6   {'fact': {'problems': 0.09688483, 'creative': ...  \n",
       "7   {'pieces': {'neat': 0.59636295, 'attack': 0.22...  \n",
       "8   {'toy': {'likes': 2.2202773, 'loves': 0.517879...  \n",
       "9   {'back': {'loves': 0.088577084, 'instantly': 0...  \n",
       "10  {'pieces': {'damage': 2.536346, 'excellent': 1...  \n",
       "11  {'also': {'neat': 2.9519918, 'attack': 1.13488...  \n",
       "12  {'fact': {'problems': 0.65736455, 'creative': ...  \n",
       "13  {'back': {'loves': 0.5306136, 'instantly': 0.3...  \n",
       "14  {'also': {'adore': 1.9575716, 'lose': 1.330131...  "
      ]
     },
     "execution_count": 10,
     "metadata": {},
     "output_type": "execute_result"
    }
   ],
   "source": [
    "explainer.explain_recommendations(recomedations)"
   ]
  },
  {
   "cell_type": "markdown",
   "metadata": {},
   "source": [
    "### Explain one user-item pair"
   ]
  },
  {
   "cell_type": "code",
   "execution_count": 2,
   "metadata": {},
   "outputs": [
    {
     "name": "stdout",
     "output_type": "stream",
     "text": [
      "For User A30H2335OM7RD6 and Item B00000IZQE:\n",
      "Explanation:\n",
      "{'also': {'bonus': 0.06725946, 'loves': 0.03834136, 'negatives': 0.021852734}, 'toy': {'bonus': 0.21158405, 'loves': 0.11687037, 'negatives': 0.08220584}, 'push': {'bonus': 0.22711197, 'loves': 0.120487414, 'negatives': 0.10063806}}\n"
     ]
    }
   ],
   "source": [
    "one_user = eval_method.train_set.user_ids[0]\n",
    "one_item = eval_method.train_set.item_ids[0]\n",
    "explanation = explainer.explain_one_recommendation_to_user(one_user, one_item)\n",
    "print(f\"For User {one_user} and Item {one_item}:\")\n",
    "print(\"Explanation:\")\n",
    "print(explanation)"
   ]
  },
  {
   "cell_type": "markdown",
   "metadata": {},
   "source": [
    "### Explain one user-item with ref-item"
   ]
  },
  {
   "cell_type": "code",
   "execution_count": 4,
   "metadata": {},
   "outputs": [
    {
     "data": {
      "text/html": [
       "<div>\n",
       "<style scoped>\n",
       "    .dataframe tbody tr th:only-of-type {\n",
       "        vertical-align: middle;\n",
       "    }\n",
       "\n",
       "    .dataframe tbody tr th {\n",
       "        vertical-align: top;\n",
       "    }\n",
       "\n",
       "    .dataframe thead th {\n",
       "        text-align: right;\n",
       "    }\n",
       "</style>\n",
       "<table border=\"1\" class=\"dataframe\">\n",
       "  <thead>\n",
       "    <tr style=\"text-align: right;\">\n",
       "      <th></th>\n",
       "      <th>user_id</th>\n",
       "      <th>item_id</th>\n",
       "      <th>explanation</th>\n",
       "      <th>ref_item_id</th>\n",
       "      <th>ref_explanation</th>\n",
       "    </tr>\n",
       "  </thead>\n",
       "  <tbody>\n",
       "    <tr>\n",
       "      <th>0</th>\n",
       "      <td>A30H2335OM7RD6</td>\n",
       "      <td>B00000IZQE</td>\n",
       "      <td>{'also': {'bonus': 0.06725946, 'loves': 0.0383...</td>\n",
       "      <td>1581170769</td>\n",
       "      <td>{'colors': {'cute': 0.0040567503, 'nice': 0.00...</td>\n",
       "    </tr>\n",
       "  </tbody>\n",
       "</table>\n",
       "</div>"
      ],
      "text/plain": [
       "          user_id     item_id  \\\n",
       "0  A30H2335OM7RD6  B00000IZQE   \n",
       "\n",
       "                                         explanation ref_item_id  \\\n",
       "0  {'also': {'bonus': 0.06725946, 'loves': 0.0383...  1581170769   \n",
       "\n",
       "                                     ref_explanation  \n",
       "0  {'colors': {'cute': 0.0040567503, 'nice': 0.00...  "
      ]
     },
     "execution_count": 4,
     "metadata": {},
     "output_type": "execute_result"
    }
   ],
   "source": [
    "one_user = eval_method.train_set.user_ids[0]\n",
    "one_item = eval_method.train_set.item_ids[0]\n",
    "ref_item = eval_method.train_set.item_ids[10]\n",
    "explanation = explainer.explain_one_with_ref(user_id=one_user, item_id=one_item, ref_item_id=ref_item)\n",
    "explanation"
   ]
  },
  {
   "cell_type": "code",
   "execution_count": 5,
   "metadata": {},
   "outputs": [
    {
     "name": "stdout",
     "output_type": "stream",
     "text": [
      "0    {'also': {'bonus': 0.06725946, 'loves': 0.0383...\n",
      "Name: explanation, dtype: object\n",
      "0    {'colors': {'cute': 0.0040567503, 'nice': 0.00...\n",
      "Name: ref_explanation, dtype: object\n"
     ]
    }
   ],
   "source": [
    "# explanation for user-item\n",
    "print(explanation['explanation'])\n",
    "# and explanation for user-ref_item\n",
    "print(explanation['ref_explanation'])"
   ]
  }
 ],
 "metadata": {
  "kernelspec": {
   "display_name": "cornac",
   "language": "python",
   "name": "python3"
  },
  "language_info": {
   "codemirror_mode": {
    "name": "ipython",
    "version": 3
   },
   "file_extension": ".py",
   "mimetype": "text/x-python",
   "name": "python",
   "nbconvert_exporter": "python",
   "pygments_lexer": "ipython3",
   "version": "3.11.5"
  }
 },
 "nbformat": 4,
 "nbformat_minor": 2
}
