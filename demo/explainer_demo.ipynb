{
 "cells": [
  {
   "cell_type": "markdown",
   "metadata": {},
   "source": [
    "## Usage of one explainer\n",
    "\n",
    "Take EFM and Exp_EFM as an example, and use dataset amazon_toy."
   ]
  },
  {
   "cell_type": "code",
   "execution_count": 1,
   "metadata": {},
   "outputs": [
    {
     "name": "stderr",
     "output_type": "stream",
     "text": [
      "/home/linan/miniconda3/envs/cornac/lib/python3.11/site-packages/tensorflow/python/debug/cli/debugger_cli_common.py:19: DeprecationWarning: module 'sre_constants' is deprecated\n",
      "  import sre_constants\n"
     ]
    },
    {
     "name": "stdout",
     "output_type": "stream",
     "text": [
      "rating_threshold = 1.0\n",
      "exclude_unknowns = True\n",
      "---\n",
      "Training data:\n",
      "Number of users = 119\n",
      "Number of items = 4058\n",
      "Number of ratings = 7197\n",
      "Max rating = 5.0\n",
      "Min rating = 1.0\n",
      "Global mean = 4.3\n",
      "---\n",
      "Test data:\n",
      "Number of users = 119\n",
      "Number of items = 4058\n",
      "Number of ratings = 741\n",
      "Number of unknown users = 0\n",
      "Number of unknown items = 0\n",
      "---\n",
      "Total users = 119\n",
      "Total items = 4058\n"
     ]
    }
   ],
   "source": [
    "from cornac.datasets import amazon_toy\n",
    "from cornac.data.reader import Reader\n",
    "from cornac.eval_methods import StratifiedSplit\n",
    "from cornac.data.sentiment import SentimentModality\n",
    "from cornac.models import EFM\n",
    "from cornac.explainer import Exp_EFM\n",
    "\n",
    "# Load the Amazon toy dataset\n",
    "rating = amazon_toy.load_feedback(fmt=\"UIRT\", reader=Reader(min_user_freq=50))\n",
    "sentiment_data = amazon_toy.load_sentiment(reader=Reader(min_user_freq=50))\n",
    "\n",
    "md = SentimentModality(data=sentiment_data)\n",
    "\n",
    "eval_method = StratifiedSplit(\n",
    "    data=rating,\n",
    "    group_by=\"user\",\n",
    "    chrono=True,\n",
    "    sentiment=md,\n",
    "    test_size=0.2,\n",
    "    exclude_unknowns=True,\n",
    "    verbose=True,\n",
    ")\n",
    "\n",
    "# Instantiate the EFM model\n",
    "efm = EFM(\n",
    "    max_iter=20,\n",
    "    num_explicit_factors=128,\n",
    "    num_latent_factors=128,\n",
    "    num_most_cared_aspects=100,\n",
    "    rating_scale=5.0,\n",
    "    alpha=0.9,\n",
    "    lambda_x=1,\n",
    "    lambda_y=1,\n",
    "    lambda_u=0.01,\n",
    "    lambda_h=0.01,\n",
    "    lambda_v=0.01,\n",
    "    trainable=True,\n",
    ")\n",
    "efm.fit(eval_method.train_set)\n",
    "\n",
    "\n",
    "# Instantiate the explainer\n",
    "explainer = Exp_EFM(rec_model=efm, dataset=eval_method.train_set)\n"
   ]
  },
  {
   "cell_type": "markdown",
   "metadata": {},
   "source": [
    "### Explain recommendations"
   ]
  },
  {
   "cell_type": "code",
   "execution_count": 2,
   "metadata": {},
   "outputs": [
    {
     "name": "stdout",
     "output_type": "stream",
     "text": [
      "           user_id     item_id  prediction\n",
      "0   A30H2335OM7RD6  B002UQ74TC    3.806868\n",
      "1   A30H2335OM7RD6  158978068X    3.797966\n",
      "2   A30H2335OM7RD6  B0035EQDT0    3.669016\n",
      "3   A30H2335OM7RD6  B00007DWBV    3.630523\n",
      "4   A30H2335OM7RD6  B000TFKX5S    3.623701\n",
      "5   A3R01WHD75L6FG  158978068X    3.672833\n",
      "6   A3R01WHD75L6FG  B002UQ74TC    3.612236\n",
      "7   A3R01WHD75L6FG  B0035EQDT0    3.565538\n",
      "8   A3R01WHD75L6FG  B00007DWBV    3.550565\n",
      "9   A3R01WHD75L6FG  B000WCOJZ8    3.499438\n",
      "10  A19FRW264WZTGP  158978068X    2.931284\n",
      "11  A19FRW264WZTGP  B002UQ74TC    2.901551\n",
      "12  A19FRW264WZTGP  B0035EQDT0    2.837688\n",
      "13  A19FRW264WZTGP  B00007DWBV    2.819377\n",
      "14  A19FRW264WZTGP  B000WCOJZ8    2.812701\n"
     ]
    }
   ],
   "source": [
    "# first, we need some recommendations\n",
    "some_users = eval_method.test_set.user_ids[:3]\n",
    "recomedations = efm.recommend_to_multiple_users(some_users, k=5)\n",
    "print(recomedations)"
   ]
  },
  {
   "cell_type": "code",
   "execution_count": 3,
   "metadata": {},
   "outputs": [
    {
     "data": {
      "application/vnd.jupyter.widget-view+json": {
       "model_id": "e88b2bf9878a49d3995a21b7d2b526e0",
       "version_major": 2,
       "version_minor": 0
      },
      "text/plain": [
       "Computing explanations:   0%|          | 0/15 [00:00<?, ?it/s]"
      ]
     },
     "metadata": {},
     "output_type": "display_data"
    },
    {
     "data": {
      "text/html": [
       "<div>\n",
       "<style scoped>\n",
       "    .dataframe tbody tr th:only-of-type {\n",
       "        vertical-align: middle;\n",
       "    }\n",
       "\n",
       "    .dataframe tbody tr th {\n",
       "        vertical-align: top;\n",
       "    }\n",
       "\n",
       "    .dataframe thead th {\n",
       "        text-align: right;\n",
       "    }\n",
       "</style>\n",
       "<table border=\"1\" class=\"dataframe\">\n",
       "  <thead>\n",
       "    <tr style=\"text-align: right;\">\n",
       "      <th></th>\n",
       "      <th>user_id</th>\n",
       "      <th>item_id</th>\n",
       "      <th>prediction</th>\n",
       "      <th>explanations</th>\n",
       "    </tr>\n",
       "  </thead>\n",
       "  <tbody>\n",
       "    <tr>\n",
       "      <th>0</th>\n",
       "      <td>A30H2335OM7RD6</td>\n",
       "      <td>B002UQ74TC</td>\n",
       "      <td>3.806868</td>\n",
       "      <td>{'furby': 5.473794, 'toy': 5.437067, 'really':...</td>\n",
       "    </tr>\n",
       "    <tr>\n",
       "      <th>1</th>\n",
       "      <td>A30H2335OM7RD6</td>\n",
       "      <td>158978068X</td>\n",
       "      <td>3.797966</td>\n",
       "      <td>{'furby': 4.883235, 'toy': 5.3531513, 'really'...</td>\n",
       "    </tr>\n",
       "    <tr>\n",
       "      <th>2</th>\n",
       "      <td>A30H2335OM7RD6</td>\n",
       "      <td>B0035EQDT0</td>\n",
       "      <td>3.669016</td>\n",
       "      <td>{'furby': 5.188692, 'toy': 4.9752855, 'really'...</td>\n",
       "    </tr>\n",
       "    <tr>\n",
       "      <th>3</th>\n",
       "      <td>A30H2335OM7RD6</td>\n",
       "      <td>B00007DWBV</td>\n",
       "      <td>3.630523</td>\n",
       "      <td>{'furby': 4.965329, 'toy': 4.8083344, 'really'...</td>\n",
       "    </tr>\n",
       "    <tr>\n",
       "      <th>4</th>\n",
       "      <td>A30H2335OM7RD6</td>\n",
       "      <td>B000TFKX5S</td>\n",
       "      <td>3.623701</td>\n",
       "      <td>{'furby': 5.008148, 'toy': 5.4199085, 'really'...</td>\n",
       "    </tr>\n",
       "    <tr>\n",
       "      <th>5</th>\n",
       "      <td>A3R01WHD75L6FG</td>\n",
       "      <td>158978068X</td>\n",
       "      <td>3.672833</td>\n",
       "      <td>{'toy': 5.3531513, 'doll': 5.8261538, 'quality...</td>\n",
       "    </tr>\n",
       "    <tr>\n",
       "      <th>6</th>\n",
       "      <td>A3R01WHD75L6FG</td>\n",
       "      <td>B002UQ74TC</td>\n",
       "      <td>3.612236</td>\n",
       "      <td>{'toy': 5.437067, 'doll': 5.3184996, 'quality'...</td>\n",
       "    </tr>\n",
       "    <tr>\n",
       "      <th>7</th>\n",
       "      <td>A3R01WHD75L6FG</td>\n",
       "      <td>B0035EQDT0</td>\n",
       "      <td>3.565538</td>\n",
       "      <td>{'toy': 4.9752855, 'doll': 5.2258997, 'quality...</td>\n",
       "    </tr>\n",
       "    <tr>\n",
       "      <th>8</th>\n",
       "      <td>A3R01WHD75L6FG</td>\n",
       "      <td>B00007DWBV</td>\n",
       "      <td>3.550565</td>\n",
       "      <td>{'toy': 4.8083344, 'doll': 5.1018744, 'quality...</td>\n",
       "    </tr>\n",
       "    <tr>\n",
       "      <th>9</th>\n",
       "      <td>A3R01WHD75L6FG</td>\n",
       "      <td>B000WCOJZ8</td>\n",
       "      <td>3.499438</td>\n",
       "      <td>{'toy': 5.1053133, 'doll': 5.2008896, 'quality...</td>\n",
       "    </tr>\n",
       "    <tr>\n",
       "      <th>10</th>\n",
       "      <td>A19FRW264WZTGP</td>\n",
       "      <td>158978068X</td>\n",
       "      <td>2.931284</td>\n",
       "      <td>{'toy': 5.3531513, 'puzzle': 5.224042, 'doll':...</td>\n",
       "    </tr>\n",
       "    <tr>\n",
       "      <th>11</th>\n",
       "      <td>A19FRW264WZTGP</td>\n",
       "      <td>B002UQ74TC</td>\n",
       "      <td>2.901551</td>\n",
       "      <td>{'toy': 5.437067, 'puzzle': 5.466346, 'doll': ...</td>\n",
       "    </tr>\n",
       "    <tr>\n",
       "      <th>12</th>\n",
       "      <td>A19FRW264WZTGP</td>\n",
       "      <td>B0035EQDT0</td>\n",
       "      <td>2.837688</td>\n",
       "      <td>{'toy': 4.9752855, 'puzzle': 5.168769, 'doll':...</td>\n",
       "    </tr>\n",
       "    <tr>\n",
       "      <th>13</th>\n",
       "      <td>A19FRW264WZTGP</td>\n",
       "      <td>B00007DWBV</td>\n",
       "      <td>2.819377</td>\n",
       "      <td>{'toy': 4.8083344, 'puzzle': 5.3195047, 'doll'...</td>\n",
       "    </tr>\n",
       "    <tr>\n",
       "      <th>14</th>\n",
       "      <td>A19FRW264WZTGP</td>\n",
       "      <td>B000WCOJZ8</td>\n",
       "      <td>2.812701</td>\n",
       "      <td>{'toy': 5.1053133, 'puzzle': 4.8719435, 'doll'...</td>\n",
       "    </tr>\n",
       "  </tbody>\n",
       "</table>\n",
       "</div>"
      ],
      "text/plain": [
       "           user_id     item_id  prediction  \\\n",
       "0   A30H2335OM7RD6  B002UQ74TC    3.806868   \n",
       "1   A30H2335OM7RD6  158978068X    3.797966   \n",
       "2   A30H2335OM7RD6  B0035EQDT0    3.669016   \n",
       "3   A30H2335OM7RD6  B00007DWBV    3.630523   \n",
       "4   A30H2335OM7RD6  B000TFKX5S    3.623701   \n",
       "5   A3R01WHD75L6FG  158978068X    3.672833   \n",
       "6   A3R01WHD75L6FG  B002UQ74TC    3.612236   \n",
       "7   A3R01WHD75L6FG  B0035EQDT0    3.565538   \n",
       "8   A3R01WHD75L6FG  B00007DWBV    3.550565   \n",
       "9   A3R01WHD75L6FG  B000WCOJZ8    3.499438   \n",
       "10  A19FRW264WZTGP  158978068X    2.931284   \n",
       "11  A19FRW264WZTGP  B002UQ74TC    2.901551   \n",
       "12  A19FRW264WZTGP  B0035EQDT0    2.837688   \n",
       "13  A19FRW264WZTGP  B00007DWBV    2.819377   \n",
       "14  A19FRW264WZTGP  B000WCOJZ8    2.812701   \n",
       "\n",
       "                                         explanations  \n",
       "0   {'furby': 5.473794, 'toy': 5.437067, 'really':...  \n",
       "1   {'furby': 4.883235, 'toy': 5.3531513, 'really'...  \n",
       "2   {'furby': 5.188692, 'toy': 4.9752855, 'really'...  \n",
       "3   {'furby': 4.965329, 'toy': 4.8083344, 'really'...  \n",
       "4   {'furby': 5.008148, 'toy': 5.4199085, 'really'...  \n",
       "5   {'toy': 5.3531513, 'doll': 5.8261538, 'quality...  \n",
       "6   {'toy': 5.437067, 'doll': 5.3184996, 'quality'...  \n",
       "7   {'toy': 4.9752855, 'doll': 5.2258997, 'quality...  \n",
       "8   {'toy': 4.8083344, 'doll': 5.1018744, 'quality...  \n",
       "9   {'toy': 5.1053133, 'doll': 5.2008896, 'quality...  \n",
       "10  {'toy': 5.3531513, 'puzzle': 5.224042, 'doll':...  \n",
       "11  {'toy': 5.437067, 'puzzle': 5.466346, 'doll': ...  \n",
       "12  {'toy': 4.9752855, 'puzzle': 5.168769, 'doll':...  \n",
       "13  {'toy': 4.8083344, 'puzzle': 5.3195047, 'doll'...  \n",
       "14  {'toy': 5.1053133, 'puzzle': 4.8719435, 'doll'...  "
      ]
     },
     "execution_count": 3,
     "metadata": {},
     "output_type": "execute_result"
    }
   ],
   "source": [
    "explainer.explain_recommendations(recomedations)"
   ]
  },
  {
   "cell_type": "markdown",
   "metadata": {},
   "source": [
    "### Explain one user-item pair"
   ]
  },
  {
   "cell_type": "code",
   "execution_count": 4,
   "metadata": {},
   "outputs": [
    {
     "name": "stdout",
     "output_type": "stream",
     "text": [
      "For User A30H2335OM7RD6 and Item B00000IZQE:\n",
      "Explanation:\n",
      "{'furby': 3.9829283, 'toy': 4.2949157, 'really': 3.9804723}\n"
     ]
    }
   ],
   "source": [
    "one_user = eval_method.train_set.user_ids[0]\n",
    "one_item = eval_method.train_set.item_ids[0]\n",
    "explanation = explainer.explain_one_recommendation_to_user(one_user, one_item)\n",
    "print(f\"For User {one_user} and Item {one_item}:\")\n",
    "print(\"Explanation:\")\n",
    "print(explanation)"
   ]
  },
  {
   "cell_type": "markdown",
   "metadata": {},
   "source": [
    "### Explain one user-item with ref-item"
   ]
  },
  {
   "cell_type": "code",
   "execution_count": 5,
   "metadata": {},
   "outputs": [
    {
     "data": {
      "text/html": [
       "<div>\n",
       "<style scoped>\n",
       "    .dataframe tbody tr th:only-of-type {\n",
       "        vertical-align: middle;\n",
       "    }\n",
       "\n",
       "    .dataframe tbody tr th {\n",
       "        vertical-align: top;\n",
       "    }\n",
       "\n",
       "    .dataframe thead th {\n",
       "        text-align: right;\n",
       "    }\n",
       "</style>\n",
       "<table border=\"1\" class=\"dataframe\">\n",
       "  <thead>\n",
       "    <tr style=\"text-align: right;\">\n",
       "      <th></th>\n",
       "      <th>user_id</th>\n",
       "      <th>item_id</th>\n",
       "      <th>explanation</th>\n",
       "      <th>ref_item_id</th>\n",
       "      <th>ref_explanation</th>\n",
       "    </tr>\n",
       "  </thead>\n",
       "  <tbody>\n",
       "    <tr>\n",
       "      <th>0</th>\n",
       "      <td>A30H2335OM7RD6</td>\n",
       "      <td>B00000IZQE</td>\n",
       "      <td>{'furby': 3.9829283, 'toy': 4.2949157, 'really...</td>\n",
       "      <td>1581170769</td>\n",
       "      <td>{'furby': 4.003364, 'toy': 4.206687, 'really':...</td>\n",
       "    </tr>\n",
       "  </tbody>\n",
       "</table>\n",
       "</div>"
      ],
      "text/plain": [
       "          user_id     item_id  \\\n",
       "0  A30H2335OM7RD6  B00000IZQE   \n",
       "\n",
       "                                         explanation ref_item_id  \\\n",
       "0  {'furby': 3.9829283, 'toy': 4.2949157, 'really...  1581170769   \n",
       "\n",
       "                                     ref_explanation  \n",
       "0  {'furby': 4.003364, 'toy': 4.206687, 'really':...  "
      ]
     },
     "execution_count": 5,
     "metadata": {},
     "output_type": "execute_result"
    }
   ],
   "source": [
    "one_user = eval_method.train_set.user_ids[0]\n",
    "one_item = eval_method.train_set.item_ids[0]\n",
    "ref_item = eval_method.train_set.item_ids[10]\n",
    "explanation = explainer.explain_one_with_ref(user_id=one_user, item_id=one_item, ref_item_id=ref_item)\n",
    "explanation"
   ]
  },
  {
   "cell_type": "code",
   "execution_count": 6,
   "metadata": {},
   "outputs": [
    {
     "name": "stdout",
     "output_type": "stream",
     "text": [
      "0    {'furby': 3.9829283, 'toy': 4.2949157, 'really...\n",
      "Name: explanation, dtype: object\n",
      "0    {'furby': 4.003364, 'toy': 4.206687, 'really':...\n",
      "Name: ref_explanation, dtype: object\n"
     ]
    }
   ],
   "source": [
    "# explanation for user-item\n",
    "print(explanation['explanation'])\n",
    "# and explanation for user-ref_item\n",
    "print(explanation['ref_explanation'])"
   ]
  },
  {
   "cell_type": "markdown",
   "metadata": {},
   "source": [
    "### Generate plot for Exp_EFM"
   ]
  },
  {
   "cell_type": "code",
   "execution_count": 7,
   "metadata": {},
   "outputs": [
    {
     "data": {
      "application/vnd.jupyter.widget-view+json": {
       "model_id": "c95538a49319403faafbad779c113218",
       "version_major": 2,
       "version_minor": 0
      },
      "text/plain": [
       "Computing explanations:   0%|          | 0/1190 [00:00<?, ?it/s]"
      ]
     },
     "metadata": {},
     "output_type": "display_data"
    }
   ],
   "source": [
    "users = eval_method.test_set.user_ids\n",
    "recommendations = efm.recommend_to_multiple_users(users, k=10)\n",
    "explanations = explainer.explain_recommendations(recommendations, feature_k=6)\n",
    "explanations_df = explanations.copy()"
   ]
  },
  {
   "cell_type": "code",
   "execution_count": 8,
   "metadata": {},
   "outputs": [
    {
     "name": "stderr",
     "output_type": "stream",
     "text": [
      "/home/linan/miniconda3/envs/cornac/lib/python3.11/site-packages/cornac-2.0.0-py3.11-linux-x86_64.egg/cornac/visualization/visualization.py:297: UserWarning: set_ticklabels() should only be used with a fixed number of ticks, i.e. after set_ticks() or using a FixedLocator.\n",
      "  axes[0].set_xticklabels(x_count, rotation=45)\n",
      "/home/linan/miniconda3/envs/cornac/lib/python3.11/site-packages/cornac-2.0.0-py3.11-linux-x86_64.egg/cornac/visualization/visualization.py:299: UserWarning: set_ticklabels() should only be used with a fixed number of ticks, i.e. after set_ticks() or using a FixedLocator.\n",
      "  axes[1].set_xticklabels(x_coeff, rotation=45)\n"
     ]
    },
    {
     "data": {
      "image/png": "[encoded data removed]",
      "text/plain": [
       "<Figure size 2000x1000 with 2 Axes>"
      ]
     },
     "metadata": {},
     "output_type": "display_data"
    }
   ],
   "source": [
    "from cornac.visualization import Visualization\n",
    "my_plots = Visualization()\n",
    "\n",
    "# Create a plot for a specific user and item\n",
    "one_user = eval_method.train_set.user_ids[0]\n",
    "one_item = eval_method.train_set.item_ids[0]\n",
    "ind_df = my_plots.create_individual_feature_importance_plot(\n",
    "    explanations,\n",
    "    user_id=one_user,\n",
    "    item_id=one_item,\n",
    "    type=\"bar\",\n",
    "    top_k=6,\n",
    "    save_plot=False,\n",
    ")\n",
    "\n",
    "filtered_df = my_plots.create_aggregate_feature_importance_plot(\n",
    "    explanations, type=\"bar\", top_k=8, save_plot=False\n",
    ")"
   ]
  }
 ],
 "metadata": {
  "kernelspec": {
   "display_name": "cornac",
   "language": "python",
   "name": "python3"
  },
  "language_info": {
   "codemirror_mode": {
    "name": "ipython",
    "version": 3
   },
   "file_extension": ".py",
   "mimetype": "text/x-python",
   "name": "python",
   "nbconvert_exporter": "python",
   "pygments_lexer": "ipython3",
   "version": "3.11.5"
  }
 },
 "nbformat": 4,
 "nbformat_minor": 2
}
