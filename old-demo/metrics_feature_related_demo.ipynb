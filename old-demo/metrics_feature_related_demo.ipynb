{
 "cells": [
  {
   "cell_type": "code",
   "execution_count": 1,
   "metadata": {},
   "outputs": [
    {
     "name": "stdout",
     "output_type": "stream",
     "text": [
      "FM model is only supported on Linux.\n",
      "Windows executable can be found at http://www.libfm.org.\n"
     ]
    }
   ],
   "source": [
    "from cornac.metrics_explainer import Explainers_Experiment\n",
    "from cornac.datasets.goodreads import prepare_data\n",
    "from cornac.metrics_explainer import DIV, FPR, FA, RA"
   ]
  },
  {
   "cell_type": "markdown",
   "metadata": {},
   "source": [
    "### Dense Dataset"
   ]
  },
  {
   "cell_type": "markdown",
   "metadata": {},
   "source": [
    "##### DIV & FPR"
   ]
  },
  {
   "cell_type": "code",
   "execution_count": 1,
   "metadata": {},
   "outputs": [
    {
     "name": "stderr",
     "output_type": "stream",
     "text": [
      "/Users/yaoyao/miniconda3/envs/tf/lib/python3.9/site-packages/tqdm/auto.py:21: TqdmWarning: IProgress not found. Please update jupyter and ipywidgets. See https://ipywidgets.readthedocs.io/en/stable/user_install.html\n",
      "  from .autonotebook import tqdm as notebook_tqdm\n"
     ]
    },
    {
     "name": "stdout",
     "output_type": "stream",
     "text": [
      "FM model is only supported on Linux.\n",
      "Windows executable can be found at http://www.libfm.org.\n"
     ]
    },
    {
     "name": "stderr",
     "output_type": "stream",
     "text": [
      "/Users/yaoyao/miniconda3/envs/tf/lib/python3.9/site-packages/cornac-2.0.0-py3.9-macosx-11.1-arm64.egg/cornac/metrics_explainer/exp_experiment.py:277: DeprecationWarning: `np.float` is a deprecated alias for the builtin `float`. To silence this warning, use `float` by itself. Doing this will not modify any behavior and is safe. If you specifically wanted the numpy scalar type, use `np.float64` here.\n",
      "Deprecated in NumPy 1.20; for more details and guidance: https://numpy.org/devdocs/release/1.20.0-notes.html#deprecations\n",
      "  self.current_rec.fit(self.eval_method.train_set)\n",
      "/Users/yaoyao/miniconda3/envs/tf/lib/python3.9/site-packages/cornac-2.0.0-py3.9-macosx-11.1-arm64.egg/cornac/metrics_explainer/exp_experiment.py:277: DeprecationWarning: `np.int` is a deprecated alias for the builtin `int`. To silence this warning, use `int` by itself. Doing this will not modify any behavior and is safe. When replacing `np.int`, you may wish to use e.g. `np.int64` or `np.int32` to specify the precision. If you wish to review your current use, check the release note link for additional information.\n",
      "Deprecated in NumPy 1.20; for more details and guidance: https://numpy.org/devdocs/release/1.20.0-notes.html#deprecations\n",
      "  self.current_rec.fit(self.eval_method.train_set)\n",
      "/Users/yaoyao/miniconda3/envs/tf/lib/python3.9/site-packages/cornac-2.0.0-py3.9-macosx-11.1-arm64.egg/cornac/metrics_explainer/exp_experiment.py:277: DeprecationWarning: `np.int` is a deprecated alias for the builtin `int`. To silence this warning, use `int` by itself. Doing this will not modify any behavior and is safe. When replacing `np.int`, you may wish to use e.g. `np.int64` or `np.int32` to specify the precision. If you wish to review your current use, check the release note link for additional information.\n",
      "Deprecated in NumPy 1.20; for more details and guidance: https://numpy.org/devdocs/release/1.20.0-notes.html#deprecations\n",
      "  self.current_rec.fit(self.eval_method.train_set)\n",
      "/Users/yaoyao/miniconda3/envs/tf/lib/python3.9/site-packages/cornac-2.0.0-py3.9-macosx-11.1-arm64.egg/cornac/metrics_explainer/exp_experiment.py:277: DeprecationWarning: `np.float` is a deprecated alias for the builtin `float`. To silence this warning, use `float` by itself. Doing this will not modify any behavior and is safe. If you specifically wanted the numpy scalar type, use `np.float64` here.\n",
      "Deprecated in NumPy 1.20; for more details and guidance: https://numpy.org/devdocs/release/1.20.0-notes.html#deprecations\n",
      "  self.current_rec.fit(self.eval_method.train_set)\n",
      "/Users/yaoyao/miniconda3/envs/tf/lib/python3.9/site-packages/cornac-2.0.0-py3.9-macosx-11.1-arm64.egg/cornac/metrics_explainer/exp_experiment.py:277: DeprecationWarning: `np.int` is a deprecated alias for the builtin `int`. To silence this warning, use `int` by itself. Doing this will not modify any behavior and is safe. When replacing `np.int`, you may wish to use e.g. `np.int64` or `np.int32` to specify the precision. If you wish to review your current use, check the release note link for additional information.\n",
      "Deprecated in NumPy 1.20; for more details and guidance: https://numpy.org/devdocs/release/1.20.0-notes.html#deprecations\n",
      "  self.current_rec.fit(self.eval_method.train_set)\n",
      "/Users/yaoyao/miniconda3/envs/tf/lib/python3.9/site-packages/cornac-2.0.0-py3.9-macosx-11.1-arm64.egg/cornac/metrics_explainer/exp_experiment.py:277: DeprecationWarning: `np.int` is a deprecated alias for the builtin `int`. To silence this warning, use `int` by itself. Doing this will not modify any behavior and is safe. When replacing `np.int`, you may wish to use e.g. `np.int64` or `np.int32` to specify the precision. If you wish to review your current use, check the release note link for additional information.\n",
      "Deprecated in NumPy 1.20; for more details and guidance: https://numpy.org/devdocs/release/1.20.0-notes.html#deprecations\n",
      "  self.current_rec.fit(self.eval_method.train_set)\n",
      "/Users/yaoyao/miniconda3/envs/tf/lib/python3.9/site-packages/cornac-2.0.0-py3.9-macosx-11.1-arm64.egg/cornac/metrics_explainer/exp_experiment.py:277: DeprecationWarning: `np.float` is a deprecated alias for the builtin `float`. To silence this warning, use `float` by itself. Doing this will not modify any behavior and is safe. If you specifically wanted the numpy scalar type, use `np.float64` here.\n",
      "Deprecated in NumPy 1.20; for more details and guidance: https://numpy.org/devdocs/release/1.20.0-notes.html#deprecations\n",
      "  self.current_rec.fit(self.eval_method.train_set)\n",
      "/Users/yaoyao/miniconda3/envs/tf/lib/python3.9/site-packages/cornac-2.0.0-py3.9-macosx-11.1-arm64.egg/cornac/metrics_explainer/exp_experiment.py:277: DeprecationWarning: `np.int` is a deprecated alias for the builtin `int`. To silence this warning, use `int` by itself. Doing this will not modify any behavior and is safe. When replacing `np.int`, you may wish to use e.g. `np.int64` or `np.int32` to specify the precision. If you wish to review your current use, check the release note link for additional information.\n",
      "Deprecated in NumPy 1.20; for more details and guidance: https://numpy.org/devdocs/release/1.20.0-notes.html#deprecations\n",
      "  self.current_rec.fit(self.eval_method.train_set)\n",
      "/Users/yaoyao/miniconda3/envs/tf/lib/python3.9/site-packages/cornac-2.0.0-py3.9-macosx-11.1-arm64.egg/cornac/metrics_explainer/exp_experiment.py:277: DeprecationWarning: `np.int` is a deprecated alias for the builtin `int`. To silence this warning, use `int` by itself. Doing this will not modify any behavior and is safe. When replacing `np.int`, you may wish to use e.g. `np.int64` or `np.int32` to specify the precision. If you wish to review your current use, check the release note link for additional information.\n",
      "Deprecated in NumPy 1.20; for more details and guidance: https://numpy.org/devdocs/release/1.20.0-notes.html#deprecations\n",
      "  self.current_rec.fit(self.eval_method.train_set)\n"
     ]
    },
    {
     "name": "stdout",
     "output_type": "stream",
     "text": [
      "Start training Recommender EFM...\n",
      "*****Start evaluating model-explainer: 'EFM:EFM_Exp'...\n",
      "Step 1/3: Recommender EFM creates recommendations\n",
      "Step 2/3: Explainer EFM_Exp create explanation for all recommendations\n"
     ]
    },
    {
     "name": "stderr",
     "output_type": "stream",
     "text": [
      "Computing explanations: 100%|██████████| 1000/1000 [00:00<00:00, 1657.93it/s]\n"
     ]
    },
    {
     "name": "stdout",
     "output_type": "stream",
     "text": [
      "Step 3/3: Metric diversity starts evaluation...\n",
      "Result: Feature diversity: 0.5911511511524136\n",
      "Step 3/3: Metric PrecisionRecall starts evaluation...\n"
     ]
    },
    {
     "name": "stderr",
     "output_type": "stream",
     "text": [
      "/Users/yaoyao/miniconda3/envs/tf/lib/python3.9/site-packages/cornac-2.0.0-py3.9-macosx-11.1-arm64.egg/cornac/metrics_explainer/exp_experiment.py:183: DeprecationWarning: `np.float` is a deprecated alias for the builtin `float`. To silence this warning, use `float` by itself. Doing this will not modify any behavior and is safe. If you specifically wanted the numpy scalar type, use `np.float64` here.\n",
      "Deprecated in NumPy 1.20; for more details and guidance: https://numpy.org/devdocs/release/1.20.0-notes.html#deprecations\n",
      "  (precision, recall, ff1), (precision_d, recall_d, ff1_d) = self.current_metric.compute(self.current_rec, self.current_exp)\n",
      "/Users/yaoyao/miniconda3/envs/tf/lib/python3.9/site-packages/cornac-2.0.0-py3.9-macosx-11.1-arm64.egg/cornac/metrics_explainer/exp_experiment.py:183: DeprecationWarning: `np.int` is a deprecated alias for the builtin `int`. To silence this warning, use `int` by itself. Doing this will not modify any behavior and is safe. When replacing `np.int`, you may wish to use e.g. `np.int64` or `np.int32` to specify the precision. If you wish to review your current use, check the release note link for additional information.\n",
      "Deprecated in NumPy 1.20; for more details and guidance: https://numpy.org/devdocs/release/1.20.0-notes.html#deprecations\n",
      "  (precision, recall, ff1), (precision_d, recall_d, ff1_d) = self.current_metric.compute(self.current_rec, self.current_exp)\n",
      "/Users/yaoyao/miniconda3/envs/tf/lib/python3.9/site-packages/cornac-2.0.0-py3.9-macosx-11.1-arm64.egg/cornac/metrics_explainer/exp_experiment.py:183: DeprecationWarning: `np.int` is a deprecated alias for the builtin `int`. To silence this warning, use `int` by itself. Doing this will not modify any behavior and is safe. When replacing `np.int`, you may wish to use e.g. `np.int64` or `np.int32` to specify the precision. If you wish to review your current use, check the release note link for additional information.\n",
      "Deprecated in NumPy 1.20; for more details and guidance: https://numpy.org/devdocs/release/1.20.0-notes.html#deprecations\n",
      "  (precision, recall, ff1), (precision_d, recall_d, ff1_d) = self.current_metric.compute(self.current_rec, self.current_exp)\n",
      "/Users/yaoyao/miniconda3/envs/tf/lib/python3.9/site-packages/cornac-2.0.0-py3.9-macosx-11.1-arm64.egg/cornac/metrics_explainer/exp_experiment.py:183: DeprecationWarning: `np.float` is a deprecated alias for the builtin `float`. To silence this warning, use `float` by itself. Doing this will not modify any behavior and is safe. If you specifically wanted the numpy scalar type, use `np.float64` here.\n",
      "Deprecated in NumPy 1.20; for more details and guidance: https://numpy.org/devdocs/release/1.20.0-notes.html#deprecations\n",
      "  (precision, recall, ff1), (precision_d, recall_d, ff1_d) = self.current_metric.compute(self.current_rec, self.current_exp)\n",
      "/Users/yaoyao/miniconda3/envs/tf/lib/python3.9/site-packages/cornac-2.0.0-py3.9-macosx-11.1-arm64.egg/cornac/metrics_explainer/exp_experiment.py:183: DeprecationWarning: `np.int` is a deprecated alias for the builtin `int`. To silence this warning, use `int` by itself. Doing this will not modify any behavior and is safe. When replacing `np.int`, you may wish to use e.g. `np.int64` or `np.int32` to specify the precision. If you wish to review your current use, check the release note link for additional information.\n",
      "Deprecated in NumPy 1.20; for more details and guidance: https://numpy.org/devdocs/release/1.20.0-notes.html#deprecations\n",
      "  (precision, recall, ff1), (precision_d, recall_d, ff1_d) = self.current_metric.compute(self.current_rec, self.current_exp)\n",
      "/Users/yaoyao/miniconda3/envs/tf/lib/python3.9/site-packages/cornac-2.0.0-py3.9-macosx-11.1-arm64.egg/cornac/metrics_explainer/exp_experiment.py:183: DeprecationWarning: `np.int` is a deprecated alias for the builtin `int`. To silence this warning, use `int` by itself. Doing this will not modify any behavior and is safe. When replacing `np.int`, you may wish to use e.g. `np.int64` or `np.int32` to specify the precision. If you wish to review your current use, check the release note link for additional information.\n",
      "Deprecated in NumPy 1.20; for more details and guidance: https://numpy.org/devdocs/release/1.20.0-notes.html#deprecations\n",
      "  (precision, recall, ff1), (precision_d, recall_d, ff1_d) = self.current_metric.compute(self.current_rec, self.current_exp)\n",
      "/Users/yaoyao/miniconda3/envs/tf/lib/python3.9/site-packages/cornac-2.0.0-py3.9-macosx-11.1-arm64.egg/cornac/metrics_explainer/exp_experiment.py:183: DeprecationWarning: `np.float` is a deprecated alias for the builtin `float`. To silence this warning, use `float` by itself. Doing this will not modify any behavior and is safe. If you specifically wanted the numpy scalar type, use `np.float64` here.\n",
      "Deprecated in NumPy 1.20; for more details and guidance: https://numpy.org/devdocs/release/1.20.0-notes.html#deprecations\n",
      "  (precision, recall, ff1), (precision_d, recall_d, ff1_d) = self.current_metric.compute(self.current_rec, self.current_exp)\n",
      "/Users/yaoyao/miniconda3/envs/tf/lib/python3.9/site-packages/cornac-2.0.0-py3.9-macosx-11.1-arm64.egg/cornac/metrics_explainer/exp_experiment.py:183: DeprecationWarning: `np.int` is a deprecated alias for the builtin `int`. To silence this warning, use `int` by itself. Doing this will not modify any behavior and is safe. When replacing `np.int`, you may wish to use e.g. `np.int64` or `np.int32` to specify the precision. If you wish to review your current use, check the release note link for additional information.\n",
      "Deprecated in NumPy 1.20; for more details and guidance: https://numpy.org/devdocs/release/1.20.0-notes.html#deprecations\n",
      "  (precision, recall, ff1), (precision_d, recall_d, ff1_d) = self.current_metric.compute(self.current_rec, self.current_exp)\n",
      "/Users/yaoyao/miniconda3/envs/tf/lib/python3.9/site-packages/cornac-2.0.0-py3.9-macosx-11.1-arm64.egg/cornac/metrics_explainer/exp_experiment.py:183: DeprecationWarning: `np.int` is a deprecated alias for the builtin `int`. To silence this warning, use `int` by itself. Doing this will not modify any behavior and is safe. When replacing `np.int`, you may wish to use e.g. `np.int64` or `np.int32` to specify the precision. If you wish to review your current use, check the release note link for additional information.\n",
      "Deprecated in NumPy 1.20; for more details and guidance: https://numpy.org/devdocs/release/1.20.0-notes.html#deprecations\n",
      "  (precision, recall, ff1), (precision_d, recall_d, ff1_d) = self.current_metric.compute(self.current_rec, self.current_exp)\n",
      "Start evaluation... :  50%|█████     | 4500/9000 [00:04<00:04, 979.76it/s] \n"
     ]
    },
    {
     "name": "stdout",
     "output_type": "stream",
     "text": [
      "Result: Feature Precision: 0.12513790386130813; Feature Recall: 0.02470572760411787; Harmonic Mean: 0.038385577546708044\n",
      "Start training Recommender MTER...\n",
      "*****Start evaluating model-explainer: 'MTER:MTER_Exp'...\n",
      "Step 1/3: Recommender MTER creates recommendations\n",
      "Step 2/3: Explainer MTER_Exp create explanation for all recommendations\n"
     ]
    },
    {
     "name": "stderr",
     "output_type": "stream",
     "text": [
      "Computing explanations: 100%|██████████| 1000/1000 [00:00<00:00, 1881.43it/s]\n"
     ]
    },
    {
     "name": "stdout",
     "output_type": "stream",
     "text": [
      "Step 3/3: Metric diversity starts evaluation...\n",
      "Result: Feature diversity: 0.135038138137767\n",
      "Step 3/3: Metric PrecisionRecall starts evaluation...\n"
     ]
    },
    {
     "name": "stderr",
     "output_type": "stream",
     "text": [
      "Start evaluation... :  79%|███████▉  | 472/594 [00:00<00:00, 1661.11it/s]\n"
     ]
    },
    {
     "name": "stdout",
     "output_type": "stream",
     "text": [
      "Result: Feature Precision: 0.25088572165138295; Feature Recall: 0.4965893860806052; Harmonic Mean: 0.28689785738648393\n",
      "experiment data: [[0.5911511511524136, 0.038385577546708044, 0.0601348876953125, 7.8570778369903564], [0.135038138137767, 0.28689785738648393, 0.07363605499267578, 3.4435739517211914]]\n",
      "\n",
      "\n",
      "recommender:explainer |          diversity |      PrecisionRecall |            Train(s) |        Evaluate(s)\n",
      "EFM:EFM_Exp           | 0.5911511511524136 | 0.038385577546708044 |  0.0601348876953125 | 7.8570778369903564\n",
      "MTER:MTER_Exp         |  0.135038138137767 |  0.28689785738648393 | 0.07363605499267578 | 3.4435739517211914\n",
      "\n"
     ]
    }
   ],
   "source": [
    "from cornac.models import EFM, MTER\n",
    "from cornac.explainer import EFMExplainer, MTERExplainer\n",
    "\n",
    "rs_sent_dense = prepare_data(data_name=\"goodreads\", test_size=0, dense=True, item=True, user=True, sample_size=1, seed=21)\n",
    "fdiv = DIV()\n",
    "fpr = FPR()\n",
    "fpr_with_input_as_groundtruth = FPR(fpath=\"../cornac/datasets/good_reads/goodreads_sentiment_full.txt\")\n",
    "efm = EFM(max_iter=20, num_explicit_factors=50, num_latent_factors=50, num_most_cared_aspects=50, alpha=0.85,lambda_h=0.1, lambda_u=0.001, lambda_v=0.01, lambda_x=1.0, lambda_y= 0.1)\n",
    "efm_exp = EFMExplainer(rec_model=efm, dataset=rs_sent_dense.train_set)\n",
    "mter = MTER(max_iter=20, n_aspect_factors=8, n_item_factors=5, n_opinion_factors= 5, n_user_factors= 10, lambda_bpr=10, lambda_reg= 10, n_bpr_samples=1000, n_element_samples=50)\n",
    "mter_exp = MTERExplainer(rec_model=mter, dataset=rs_sent_dense.train_set)\n",
    "\n",
    "models = [(efm, efm_exp), (mter, mter_exp)]\n",
    "metrics = [fdiv, fpr_with_input_as_groundtruth]\n",
    "experiment = Explainers_Experiment(eval_method=rs_sent_dense, models=models, metrics=metrics,rec_k=10, feature_k=10, eval_train=True)\n",
    "experiment.run()\n",
    "\n"
   ]
  },
  {
   "cell_type": "code",
   "execution_count": 2,
   "metadata": {},
   "outputs": [
    {
     "name": "stdout",
     "output_type": "stream",
     "text": [
      "Start training Recommender fm_regressor...\n",
      "*****Start evaluating model-explainer: 'fm_regressor:LIMERS'...\n",
      "Step 1/3: Recommender fm_regressor creates recommendations\n",
      "Step 2/3: Explainer LIMERS create explanation for all recommendations\n"
     ]
    },
    {
     "name": "stderr",
     "output_type": "stream",
     "text": [
      "Computing explanations: 100%|██████████| 1000/1000 [00:15<00:00, 65.14it/s]\n"
     ]
    },
    {
     "name": "stdout",
     "output_type": "stream",
     "text": [
      "Step 3/3: Metric diversity starts evaluation...\n",
      "Result: Feature diversity: 0.5432663552441699\n",
      "Step 3/3: Metric PrecisionRecall starts evaluation...\n",
      "Started creating recommendations...\n",
      "Finished creating recommendations...\n"
     ]
    },
    {
     "name": "stderr",
     "output_type": "stream",
     "text": [
      "Start evaluation... : 100%|██████████| 1000/1000 [00:15<00:00, 66.30it/s]"
     ]
    },
    {
     "name": "stdout",
     "output_type": "stream",
     "text": [
      "Result: Feature Precision: 0.9912777777777778; Feature Recall: 0.6658636480896064; Harmonic Mean: 0.7761948695387031\n",
      "experiment data: [[0.5432663552441699, 0.7761948695387031, 4.363791227340698, 33.33881592750549]]\n",
      "\n",
      "\n",
      "recommender:explainer |          diversity |    PrecisionRecall |          Train(s) |       Evaluate(s)\n",
      "fm_regressor:LIMERS   | 0.5432663552441699 | 0.7761948695387031 | 4.363791227340698 | 33.33881592750549\n",
      "\n"
     ]
    },
    {
     "name": "stderr",
     "output_type": "stream",
     "text": [
      "\n"
     ]
    }
   ],
   "source": [
    "from cornac.models import FMRec\n",
    "from cornac.explainer import LimeRSExplainer\n",
    "fm = FMRec(verbose=False, num_factors=25, num_iter=10, initial_learning_rate=0.001)\n",
    "rs_limers_dense = prepare_data(data_name=\"goodreads_limers\", test_size=0, dense=True, item=True, user=True, sample_size=1, seed=21)\n",
    "limers = LimeRSExplainer(rec_model=fm, dataset=rs_limers_dense.train_set)\n",
    "\n",
    "fdiv = DIV()\n",
    "fpr = FPR()\n",
    "\n",
    "models = [(fm, limers)]\n",
    "metrics = [fdiv, fpr]\n",
    "experiment = Explainers_Experiment(eval_method=rs_limers_dense, models=models, metrics=metrics, distribution=True, rec_k=10, feature_k=10, eval_train=True)\n",
    "experiment.run()"
   ]
  },
  {
   "cell_type": "code",
   "execution_count": 2,
   "metadata": {},
   "outputs": [
    {
     "name": "stdout",
     "output_type": "stream",
     "text": [
      "Start training Recommender ALS...\n"
     ]
    },
    {
     "name": "stderr",
     "output_type": "stream",
     "text": [
      "c:\\Users\\linan\\.conda\\envs\\cornactest\\lib\\site-packages\\implicit\\utils.py:33: UserWarning: Intel MKL BLAS detected. Its highly recommend to set the environment variable 'export MKL_NUM_THREADS=1' to disable its internal multithreading\n",
      "  warnings.warn(\n"
     ]
    },
    {
     "data": {
      "application/vnd.jupyter.widget-view+json": {
       "model_id": "ee4ccbf17cb1494c806da898176ba73e",
       "version_major": 2,
       "version_minor": 0
      },
      "text/plain": [
       "  0%|          | 0/500 [00:00<?, ?it/s]"
      ]
     },
     "metadata": {},
     "output_type": "display_data"
    },
    {
     "name": "stderr",
     "output_type": "stream",
     "text": [
      "INFO:implicit:Final training loss 0.0284\n"
     ]
    },
    {
     "name": "stdout",
     "output_type": "stream",
     "text": [
      "*****Start evaluating model-explainer: 'ALS:ALS'...\n",
      "Step 1/3: Recommender ALS creates recommendations\n",
      "Step 2/3: Explainer ALS create explanation for all recommendations\n"
     ]
    },
    {
     "data": {
      "application/vnd.jupyter.widget-view+json": {
       "model_id": "504c5f879b3c44b2964ec50cc30791ac",
       "version_major": 2,
       "version_minor": 0
      },
      "text/plain": [
       "Computing explanations:   0%|          | 0/1000 [00:00<?, ?it/s]"
      ]
     },
     "metadata": {},
     "output_type": "display_data"
    },
    {
     "name": "stdout",
     "output_type": "stream",
     "text": [
      "Step 3/3: Metric diversity starts evaluation...\n",
      "Result: Feature diversity: 0.15471991991978873\n",
      "Start training Recommender EMF...\n"
     ]
    },
    {
     "data": {
      "application/vnd.jupyter.widget-view+json": {
       "model_id": "8c1ec30a34bf433eaab57acf98230c73",
       "version_major": 2,
       "version_minor": 0
      },
      "text/plain": [
       "  0%|          | 0/500 [00:00<?, ?it/s]"
      ]
     },
     "metadata": {},
     "output_type": "display_data"
    },
    {
     "name": "stdout",
     "output_type": "stream",
     "text": [
      "Optimization finished!\n",
      "*****Start evaluating model-explainer: 'EMF:EMF'...\n",
      "Step 1/3: Recommender EMF creates recommendations\n",
      "Step 2/3: Explainer EMF create explanation for all recommendations\n"
     ]
    },
    {
     "data": {
      "application/vnd.jupyter.widget-view+json": {
       "model_id": "294d8a92889744b290fa650cafbc84ab",
       "version_major": 2,
       "version_minor": 0
      },
      "text/plain": [
       "Computing explanations:   0%|          | 0/1000 [00:00<?, ?it/s]"
      ]
     },
     "metadata": {},
     "output_type": "display_data"
    },
    {
     "name": "stdout",
     "output_type": "stream",
     "text": [
      "Step 3/3: Metric diversity starts evaluation...\n",
      "Result: Feature diversity: 0.30271911911872784\n",
      "Start training Recommender NEMF...\n",
      "Start compute edge weight matrix...\n",
      "Start compute novel matrix...\n",
      "Matrix computation finished!\n"
     ]
    },
    {
     "data": {
      "application/vnd.jupyter.widget-view+json": {
       "model_id": "6ed7d928d2a942eca5276a5e519b32e1",
       "version_major": 2,
       "version_minor": 0
      },
      "text/plain": [
       "  0%|          | 0/500 [00:00<?, ?it/s]"
      ]
     },
     "metadata": {},
     "output_type": "display_data"
    },
    {
     "name": "stdout",
     "output_type": "stream",
     "text": [
      "Optimization finished!\n",
      "*****Start evaluating model-explainer: 'NEMF:EMF'...\n",
      "Step 1/3: Recommender NEMF creates recommendations\n",
      "Step 2/3: Explainer EMF create explanation for all recommendations\n"
     ]
    },
    {
     "data": {
      "application/vnd.jupyter.widget-view+json": {
       "model_id": "c514e3120f8f4836a15aa15eeb157ecb",
       "version_major": 2,
       "version_minor": 0
      },
      "text/plain": [
       "Computing explanations:   0%|          | 0/1000 [00:00<?, ?it/s]"
      ]
     },
     "metadata": {},
     "output_type": "display_data"
    },
    {
     "name": "stdout",
     "output_type": "stream",
     "text": [
      "Step 3/3: Metric diversity starts evaluation...\n",
      "Result: Feature diversity: 0.2957765765762759\n",
      "experiment data: [[0.15471991991978873, 3.7568507194519043, 11.453981399536133], [0.30271911911872784, 1.3653717041015625, 6.3195624351501465], [0.2957765765762759, 1.9835612773895264, 5.966484546661377]]\n",
      "\n",
      "\n",
      "recommender:explainer |           diversity |           Train(s) |        Evaluate(s)\n",
      "ALS:ALS               | 0.15471991991978873 | 3.7568507194519043 | 11.453981399536133\n",
      "EMF:EMF               | 0.30271911911872784 | 1.3653717041015625 | 6.3195624351501465\n",
      "NEMF:EMF              |  0.2957765765762759 | 1.9835612773895264 |  5.966484546661377\n",
      "\n"
     ]
    }
   ],
   "source": [
    "from cornac.models import ALS, MF, EMF, NEMF\n",
    "from cornac.explainer import ALSExplainer, PHI4MFExplainer, EMFExplainer\n",
    "rs_dense = prepare_data(data_name=\"goodreads_uir_1000\", test_size=0, dense=True, item=True, user=True, sample_size=1, seed=21)\n",
    "\n",
    "emf = EMF(k=10, max_iter=500, learning_rate=0.001, lambda_reg=0.1, explain_reg=0.01, verbose=True, seed=6, num_threads=6, early_stop=True)\n",
    "nemf = NEMF(k=10, max_iter=500, learning_rate=0.001, lambda_reg=0.1, explain_reg=0.01, novel_reg=1, verbose=True, seed=6, num_threads=6, early_stop=True)\n",
    "als = ALS(k=10, max_iter=500, lambda_reg=0.001, alpha=1, verbose=True, seed=6)\n",
    "als_exp = ALSExplainer(rec_model=als, dataset=rs_dense.train_set)\n",
    "emf_exp = EMFExplainer(rec_model=emf, dataset=rs_dense.train_set)\n",
    "nemf_exp = EMFExplainer(rec_model=nemf, dataset=rs_dense.train_set)\n",
    "\n",
    "fdiv = DIV()\n",
    "\n",
    "models = [(als, als_exp), (emf, emf_exp), (nemf, nemf_exp)]\n",
    "metrics = [fdiv]\n",
    "experiment = Explainers_Experiment(eval_method=rs_dense, models=models, metrics=metrics,rec_k=10, feature_k=10, eval_train=True)\n",
    "experiment.run()"
   ]
  },
  {
   "cell_type": "markdown",
   "metadata": {},
   "source": [
    "##### FA & RA"
   ]
  },
  {
   "cell_type": "code",
   "execution_count": 6,
   "metadata": {},
   "outputs": [
    {
     "name": "stderr",
     "output_type": "stream",
     "text": [
      "/Users/yaoyao/miniconda3/envs/tf/lib/python3.9/site-packages/cornac-2.0.0-py3.9-macosx-11.1-arm64.egg/cornac/metrics_explainer/exp_experiment.py:272: DeprecationWarning: `np.float` is a deprecated alias for the builtin `float`. To silence this warning, use `float` by itself. Doing this will not modify any behavior and is safe. If you specifically wanted the numpy scalar type, use `np.float64` here.\n",
      "Deprecated in NumPy 1.20; for more details and guidance: https://numpy.org/devdocs/release/1.20.0-notes.html#deprecations\n",
      "  self.current_rec[0].fit(self.eval_method.train_set)\n",
      "/Users/yaoyao/miniconda3/envs/tf/lib/python3.9/site-packages/cornac-2.0.0-py3.9-macosx-11.1-arm64.egg/cornac/metrics_explainer/exp_experiment.py:272: DeprecationWarning: `np.int` is a deprecated alias for the builtin `int`. To silence this warning, use `int` by itself. Doing this will not modify any behavior and is safe. When replacing `np.int`, you may wish to use e.g. `np.int64` or `np.int32` to specify the precision. If you wish to review your current use, check the release note link for additional information.\n",
      "Deprecated in NumPy 1.20; for more details and guidance: https://numpy.org/devdocs/release/1.20.0-notes.html#deprecations\n",
      "  self.current_rec[0].fit(self.eval_method.train_set)\n",
      "/Users/yaoyao/miniconda3/envs/tf/lib/python3.9/site-packages/cornac-2.0.0-py3.9-macosx-11.1-arm64.egg/cornac/metrics_explainer/exp_experiment.py:272: DeprecationWarning: `np.int` is a deprecated alias for the builtin `int`. To silence this warning, use `int` by itself. Doing this will not modify any behavior and is safe. When replacing `np.int`, you may wish to use e.g. `np.int64` or `np.int32` to specify the precision. If you wish to review your current use, check the release note link for additional information.\n",
      "Deprecated in NumPy 1.20; for more details and guidance: https://numpy.org/devdocs/release/1.20.0-notes.html#deprecations\n",
      "  self.current_rec[0].fit(self.eval_method.train_set)\n",
      "/Users/yaoyao/miniconda3/envs/tf/lib/python3.9/site-packages/cornac-2.0.0-py3.9-macosx-11.1-arm64.egg/cornac/metrics_explainer/exp_experiment.py:272: DeprecationWarning: `np.float` is a deprecated alias for the builtin `float`. To silence this warning, use `float` by itself. Doing this will not modify any behavior and is safe. If you specifically wanted the numpy scalar type, use `np.float64` here.\n",
      "Deprecated in NumPy 1.20; for more details and guidance: https://numpy.org/devdocs/release/1.20.0-notes.html#deprecations\n",
      "  self.current_rec[0].fit(self.eval_method.train_set)\n",
      "/Users/yaoyao/miniconda3/envs/tf/lib/python3.9/site-packages/cornac-2.0.0-py3.9-macosx-11.1-arm64.egg/cornac/metrics_explainer/exp_experiment.py:272: DeprecationWarning: `np.int` is a deprecated alias for the builtin `int`. To silence this warning, use `int` by itself. Doing this will not modify any behavior and is safe. When replacing `np.int`, you may wish to use e.g. `np.int64` or `np.int32` to specify the precision. If you wish to review your current use, check the release note link for additional information.\n",
      "Deprecated in NumPy 1.20; for more details and guidance: https://numpy.org/devdocs/release/1.20.0-notes.html#deprecations\n",
      "  self.current_rec[0].fit(self.eval_method.train_set)\n",
      "/Users/yaoyao/miniconda3/envs/tf/lib/python3.9/site-packages/cornac-2.0.0-py3.9-macosx-11.1-arm64.egg/cornac/metrics_explainer/exp_experiment.py:272: DeprecationWarning: `np.int` is a deprecated alias for the builtin `int`. To silence this warning, use `int` by itself. Doing this will not modify any behavior and is safe. When replacing `np.int`, you may wish to use e.g. `np.int64` or `np.int32` to specify the precision. If you wish to review your current use, check the release note link for additional information.\n",
      "Deprecated in NumPy 1.20; for more details and guidance: https://numpy.org/devdocs/release/1.20.0-notes.html#deprecations\n",
      "  self.current_rec[0].fit(self.eval_method.train_set)\n",
      "/Users/yaoyao/miniconda3/envs/tf/lib/python3.9/site-packages/cornac-2.0.0-py3.9-macosx-11.1-arm64.egg/cornac/metrics_explainer/exp_experiment.py:272: DeprecationWarning: `np.float` is a deprecated alias for the builtin `float`. To silence this warning, use `float` by itself. Doing this will not modify any behavior and is safe. If you specifically wanted the numpy scalar type, use `np.float64` here.\n",
      "Deprecated in NumPy 1.20; for more details and guidance: https://numpy.org/devdocs/release/1.20.0-notes.html#deprecations\n",
      "  self.current_rec[0].fit(self.eval_method.train_set)\n",
      "/Users/yaoyao/miniconda3/envs/tf/lib/python3.9/site-packages/cornac-2.0.0-py3.9-macosx-11.1-arm64.egg/cornac/metrics_explainer/exp_experiment.py:272: DeprecationWarning: `np.int` is a deprecated alias for the builtin `int`. To silence this warning, use `int` by itself. Doing this will not modify any behavior and is safe. When replacing `np.int`, you may wish to use e.g. `np.int64` or `np.int32` to specify the precision. If you wish to review your current use, check the release note link for additional information.\n",
      "Deprecated in NumPy 1.20; for more details and guidance: https://numpy.org/devdocs/release/1.20.0-notes.html#deprecations\n",
      "  self.current_rec[0].fit(self.eval_method.train_set)\n",
      "/Users/yaoyao/miniconda3/envs/tf/lib/python3.9/site-packages/cornac-2.0.0-py3.9-macosx-11.1-arm64.egg/cornac/metrics_explainer/exp_experiment.py:272: DeprecationWarning: `np.int` is a deprecated alias for the builtin `int`. To silence this warning, use `int` by itself. Doing this will not modify any behavior and is safe. When replacing `np.int`, you may wish to use e.g. `np.int64` or `np.int32` to specify the precision. If you wish to review your current use, check the release note link for additional information.\n",
      "Deprecated in NumPy 1.20; for more details and guidance: https://numpy.org/devdocs/release/1.20.0-notes.html#deprecations\n",
      "  self.current_rec[0].fit(self.eval_method.train_set)\n"
     ]
    },
    {
     "name": "stdout",
     "output_type": "stream",
     "text": [
      "Start training Recommender1 EFM...\n",
      "Start training Recommender2 MTER...\n",
      "*****Start evaluating model-explainer: 'EFM:EFM_Exp'vs'MTER:MTER_Exp'...\n",
      "Step 1/3: Creates fake recommendations from dataset for common used\n",
      "Step 2/3: Explainer1 EFM_Exp create explanation for all recommendations\n"
     ]
    },
    {
     "name": "stderr",
     "output_type": "stream",
     "text": [
      "Computing explanations: 100%|██████████| 100/100 [00:00<00:00, 796.20it/s]\n"
     ]
    },
    {
     "name": "stdout",
     "output_type": "stream",
     "text": [
      "Step 2/3: Explainer2 MTER_Exp create explanation for all recommendations\n"
     ]
    },
    {
     "name": "stderr",
     "output_type": "stream",
     "text": [
      "Computing explanations: 100%|██████████| 100/100 [00:00<00:00, 838.67it/s]\n"
     ]
    },
    {
     "name": "stdout",
     "output_type": "stream",
     "text": [
      "Step 3/3: Metric FA starts evaluation...\n",
      "Result: Average FA: 0.006\n"
     ]
    },
    {
     "name": "stderr",
     "output_type": "stream",
     "text": [
      "/Users/yaoyao/miniconda3/envs/tf/lib/python3.9/site-packages/cornac-2.0.0-py3.9-macosx-11.1-arm64.egg/cornac/metrics_explainer/exp_experiment.py:277: DeprecationWarning: `np.float` is a deprecated alias for the builtin `float`. To silence this warning, use `float` by itself. Doing this will not modify any behavior and is safe. If you specifically wanted the numpy scalar type, use `np.float64` here.\n",
      "Deprecated in NumPy 1.20; for more details and guidance: https://numpy.org/devdocs/release/1.20.0-notes.html#deprecations\n",
      "  self.current_rec.fit(self.eval_method.train_set)\n",
      "/Users/yaoyao/miniconda3/envs/tf/lib/python3.9/site-packages/cornac-2.0.0-py3.9-macosx-11.1-arm64.egg/cornac/metrics_explainer/exp_experiment.py:277: DeprecationWarning: `np.int` is a deprecated alias for the builtin `int`. To silence this warning, use `int` by itself. Doing this will not modify any behavior and is safe. When replacing `np.int`, you may wish to use e.g. `np.int64` or `np.int32` to specify the precision. If you wish to review your current use, check the release note link for additional information.\n",
      "Deprecated in NumPy 1.20; for more details and guidance: https://numpy.org/devdocs/release/1.20.0-notes.html#deprecations\n",
      "  self.current_rec.fit(self.eval_method.train_set)\n",
      "/Users/yaoyao/miniconda3/envs/tf/lib/python3.9/site-packages/cornac-2.0.0-py3.9-macosx-11.1-arm64.egg/cornac/metrics_explainer/exp_experiment.py:277: DeprecationWarning: `np.int` is a deprecated alias for the builtin `int`. To silence this warning, use `int` by itself. Doing this will not modify any behavior and is safe. When replacing `np.int`, you may wish to use e.g. `np.int64` or `np.int32` to specify the precision. If you wish to review your current use, check the release note link for additional information.\n",
      "Deprecated in NumPy 1.20; for more details and guidance: https://numpy.org/devdocs/release/1.20.0-notes.html#deprecations\n",
      "  self.current_rec.fit(self.eval_method.train_set)\n",
      "/Users/yaoyao/miniconda3/envs/tf/lib/python3.9/site-packages/cornac-2.0.0-py3.9-macosx-11.1-arm64.egg/cornac/metrics_explainer/exp_experiment.py:277: DeprecationWarning: `np.float` is a deprecated alias for the builtin `float`. To silence this warning, use `float` by itself. Doing this will not modify any behavior and is safe. If you specifically wanted the numpy scalar type, use `np.float64` here.\n",
      "Deprecated in NumPy 1.20; for more details and guidance: https://numpy.org/devdocs/release/1.20.0-notes.html#deprecations\n",
      "  self.current_rec.fit(self.eval_method.train_set)\n",
      "/Users/yaoyao/miniconda3/envs/tf/lib/python3.9/site-packages/cornac-2.0.0-py3.9-macosx-11.1-arm64.egg/cornac/metrics_explainer/exp_experiment.py:277: DeprecationWarning: `np.int` is a deprecated alias for the builtin `int`. To silence this warning, use `int` by itself. Doing this will not modify any behavior and is safe. When replacing `np.int`, you may wish to use e.g. `np.int64` or `np.int32` to specify the precision. If you wish to review your current use, check the release note link for additional information.\n",
      "Deprecated in NumPy 1.20; for more details and guidance: https://numpy.org/devdocs/release/1.20.0-notes.html#deprecations\n",
      "  self.current_rec.fit(self.eval_method.train_set)\n",
      "/Users/yaoyao/miniconda3/envs/tf/lib/python3.9/site-packages/cornac-2.0.0-py3.9-macosx-11.1-arm64.egg/cornac/metrics_explainer/exp_experiment.py:277: DeprecationWarning: `np.int` is a deprecated alias for the builtin `int`. To silence this warning, use `int` by itself. Doing this will not modify any behavior and is safe. When replacing `np.int`, you may wish to use e.g. `np.int64` or `np.int32` to specify the precision. If you wish to review your current use, check the release note link for additional information.\n",
      "Deprecated in NumPy 1.20; for more details and guidance: https://numpy.org/devdocs/release/1.20.0-notes.html#deprecations\n",
      "  self.current_rec.fit(self.eval_method.train_set)\n",
      "/Users/yaoyao/miniconda3/envs/tf/lib/python3.9/site-packages/cornac-2.0.0-py3.9-macosx-11.1-arm64.egg/cornac/metrics_explainer/exp_experiment.py:277: DeprecationWarning: `np.float` is a deprecated alias for the builtin `float`. To silence this warning, use `float` by itself. Doing this will not modify any behavior and is safe. If you specifically wanted the numpy scalar type, use `np.float64` here.\n",
      "Deprecated in NumPy 1.20; for more details and guidance: https://numpy.org/devdocs/release/1.20.0-notes.html#deprecations\n",
      "  self.current_rec.fit(self.eval_method.train_set)\n",
      "/Users/yaoyao/miniconda3/envs/tf/lib/python3.9/site-packages/cornac-2.0.0-py3.9-macosx-11.1-arm64.egg/cornac/metrics_explainer/exp_experiment.py:277: DeprecationWarning: `np.int` is a deprecated alias for the builtin `int`. To silence this warning, use `int` by itself. Doing this will not modify any behavior and is safe. When replacing `np.int`, you may wish to use e.g. `np.int64` or `np.int32` to specify the precision. If you wish to review your current use, check the release note link for additional information.\n",
      "Deprecated in NumPy 1.20; for more details and guidance: https://numpy.org/devdocs/release/1.20.0-notes.html#deprecations\n",
      "  self.current_rec.fit(self.eval_method.train_set)\n",
      "/Users/yaoyao/miniconda3/envs/tf/lib/python3.9/site-packages/cornac-2.0.0-py3.9-macosx-11.1-arm64.egg/cornac/metrics_explainer/exp_experiment.py:277: DeprecationWarning: `np.int` is a deprecated alias for the builtin `int`. To silence this warning, use `int` by itself. Doing this will not modify any behavior and is safe. When replacing `np.int`, you may wish to use e.g. `np.int64` or `np.int32` to specify the precision. If you wish to review your current use, check the release note link for additional information.\n",
      "Deprecated in NumPy 1.20; for more details and guidance: https://numpy.org/devdocs/release/1.20.0-notes.html#deprecations\n",
      "  self.current_rec.fit(self.eval_method.train_set)\n"
     ]
    },
    {
     "name": "stdout",
     "output_type": "stream",
     "text": [
      "Step 3/3: Metric RA starts evaluation...\n",
      "Result: Average RA: 0.0\n",
      "Metric diversity does not support ('EFM_Exp', 'MTER_Exp').\n",
      "Start training Recommender EFM...\n",
      "*****Start evaluating model-explainer: 'EFM:EFM_Exp'...\n",
      "Step 1/3: Recommender EFM creates recommendations\n",
      "Step 2/3: Explainer EFM_Exp create explanation for all recommendations\n"
     ]
    },
    {
     "name": "stderr",
     "output_type": "stream",
     "text": [
      "Computing explanations: 100%|██████████| 1000/1000 [00:01<00:00, 887.85it/s]\n"
     ]
    },
    {
     "name": "stdout",
     "output_type": "stream",
     "text": [
      "Metric FA does not support EFM_Exp.\n",
      "Metric RA does not support EFM_Exp.\n",
      "Step 3/3: Metric diversity starts evaluation...\n",
      "Result: Feature diversity: 0.3278878878872728\n",
      "Start training Recommender MTER...\n",
      "*****Start evaluating model-explainer: 'MTER:MTER_Exp'...\n",
      "Step 1/3: Recommender MTER creates recommendations\n",
      "Step 2/3: Explainer MTER_Exp create explanation for all recommendations\n"
     ]
    },
    {
     "name": "stderr",
     "output_type": "stream",
     "text": [
      "Computing explanations: 100%|██████████| 1000/1000 [00:00<00:00, 1769.34it/s]\n"
     ]
    },
    {
     "name": "stdout",
     "output_type": "stream",
     "text": [
      "Metric FA does not support MTER_Exp.\n",
      "Metric RA does not support MTER_Exp.\n",
      "Step 3/3: Metric diversity starts evaluation...\n",
      "Result: Feature diversity: 0.1286554554551505\n",
      "experiment data: [[0.006, 0.0, 'N/A', 0.1428840160369873, 0.4278080463409424], ['N/A', 'N/A', 0.3278878878872728, 0.06351208686828613, 1.941309928894043], ['N/A', 'N/A', 0.1286554554551505, 0.07362914085388184, 1.2196638584136963]]\n",
      "\n",
      "\n",
      "recommender:explainer        |    FA |  RA |          diversity |            Train(s) |        Evaluate(s)\n",
      "EFM:EFM_Exp'vs'MTER:MTER_Exp | 0.006 | 0.0 |                N/A |  0.1428840160369873 | 0.4278080463409424\n",
      "EFM:EFM_Exp                  |   N/A | N/A | 0.3278878878872728 | 0.06351208686828613 |  1.941309928894043\n",
      "MTER:MTER_Exp                |   N/A | N/A | 0.1286554554551505 | 0.07362914085388184 | 1.2196638584136963\n",
      "\n"
     ]
    }
   ],
   "source": [
    "from cornac.metrics_explainer import FA, RA\n",
    "fa = FA()\n",
    "ra = RA()\n",
    "models = [[(efm, mter), (efm_exp, mter_exp)], (efm, efm_exp), (mter, mter_exp)]\n",
    "metrics = [fa,ra, fdiv]\n",
    "experiment = Explainers_Experiment(eval_method=rs_sent_dense, models=models, metrics=metrics,rec_k=10, feature_k=10, eval_train=True)\n",
    "experiment.run()"
   ]
  },
  {
   "cell_type": "markdown",
   "metadata": {},
   "source": [
    "### Large Dataset"
   ]
  },
  {
   "cell_type": "code",
   "execution_count": 2,
   "metadata": {},
   "outputs": [
    {
     "name": "stdout",
     "output_type": "stream",
     "text": [
      "Start training Recommender EFM...\n",
      "*****Start evaluating model-explainer: 'EFM:EFM_Exp'...\n",
      "Step 1/3: Recommender EFM creates recommendations\n"
     ]
    },
    {
     "name": "stderr",
     "output_type": "stream",
     "text": [
      "/Users/yaoyao/miniconda3/envs/tf/lib/python3.9/site-packages/cornac-2.0.0-py3.9-macosx-11.1-arm64.egg/cornac/metrics_explainer/exp_experiment.py:277: DeprecationWarning: `np.float` is a deprecated alias for the builtin `float`. To silence this warning, use `float` by itself. Doing this will not modify any behavior and is safe. If you specifically wanted the numpy scalar type, use `np.float64` here.\n",
      "Deprecated in NumPy 1.20; for more details and guidance: https://numpy.org/devdocs/release/1.20.0-notes.html#deprecations\n",
      "  self.current_rec.fit(self.eval_method.train_set)\n",
      "/Users/yaoyao/miniconda3/envs/tf/lib/python3.9/site-packages/cornac-2.0.0-py3.9-macosx-11.1-arm64.egg/cornac/metrics_explainer/exp_experiment.py:277: DeprecationWarning: `np.int` is a deprecated alias for the builtin `int`. To silence this warning, use `int` by itself. Doing this will not modify any behavior and is safe. When replacing `np.int`, you may wish to use e.g. `np.int64` or `np.int32` to specify the precision. If you wish to review your current use, check the release note link for additional information.\n",
      "Deprecated in NumPy 1.20; for more details and guidance: https://numpy.org/devdocs/release/1.20.0-notes.html#deprecations\n",
      "  self.current_rec.fit(self.eval_method.train_set)\n",
      "/Users/yaoyao/miniconda3/envs/tf/lib/python3.9/site-packages/cornac-2.0.0-py3.9-macosx-11.1-arm64.egg/cornac/metrics_explainer/exp_experiment.py:277: DeprecationWarning: `np.int` is a deprecated alias for the builtin `int`. To silence this warning, use `int` by itself. Doing this will not modify any behavior and is safe. When replacing `np.int`, you may wish to use e.g. `np.int64` or `np.int32` to specify the precision. If you wish to review your current use, check the release note link for additional information.\n",
      "Deprecated in NumPy 1.20; for more details and guidance: https://numpy.org/devdocs/release/1.20.0-notes.html#deprecations\n",
      "  self.current_rec.fit(self.eval_method.train_set)\n",
      "/Users/yaoyao/miniconda3/envs/tf/lib/python3.9/site-packages/cornac-2.0.0-py3.9-macosx-11.1-arm64.egg/cornac/metrics_explainer/exp_experiment.py:277: DeprecationWarning: `np.float` is a deprecated alias for the builtin `float`. To silence this warning, use `float` by itself. Doing this will not modify any behavior and is safe. If you specifically wanted the numpy scalar type, use `np.float64` here.\n",
      "Deprecated in NumPy 1.20; for more details and guidance: https://numpy.org/devdocs/release/1.20.0-notes.html#deprecations\n",
      "  self.current_rec.fit(self.eval_method.train_set)\n",
      "/Users/yaoyao/miniconda3/envs/tf/lib/python3.9/site-packages/cornac-2.0.0-py3.9-macosx-11.1-arm64.egg/cornac/metrics_explainer/exp_experiment.py:277: DeprecationWarning: `np.int` is a deprecated alias for the builtin `int`. To silence this warning, use `int` by itself. Doing this will not modify any behavior and is safe. When replacing `np.int`, you may wish to use e.g. `np.int64` or `np.int32` to specify the precision. If you wish to review your current use, check the release note link for additional information.\n",
      "Deprecated in NumPy 1.20; for more details and guidance: https://numpy.org/devdocs/release/1.20.0-notes.html#deprecations\n",
      "  self.current_rec.fit(self.eval_method.train_set)\n",
      "/Users/yaoyao/miniconda3/envs/tf/lib/python3.9/site-packages/cornac-2.0.0-py3.9-macosx-11.1-arm64.egg/cornac/metrics_explainer/exp_experiment.py:277: DeprecationWarning: `np.int` is a deprecated alias for the builtin `int`. To silence this warning, use `int` by itself. Doing this will not modify any behavior and is safe. When replacing `np.int`, you may wish to use e.g. `np.int64` or `np.int32` to specify the precision. If you wish to review your current use, check the release note link for additional information.\n",
      "Deprecated in NumPy 1.20; for more details and guidance: https://numpy.org/devdocs/release/1.20.0-notes.html#deprecations\n",
      "  self.current_rec.fit(self.eval_method.train_set)\n",
      "/Users/yaoyao/miniconda3/envs/tf/lib/python3.9/site-packages/cornac-2.0.0-py3.9-macosx-11.1-arm64.egg/cornac/metrics_explainer/exp_experiment.py:277: DeprecationWarning: `np.float` is a deprecated alias for the builtin `float`. To silence this warning, use `float` by itself. Doing this will not modify any behavior and is safe. If you specifically wanted the numpy scalar type, use `np.float64` here.\n",
      "Deprecated in NumPy 1.20; for more details and guidance: https://numpy.org/devdocs/release/1.20.0-notes.html#deprecations\n",
      "  self.current_rec.fit(self.eval_method.train_set)\n",
      "/Users/yaoyao/miniconda3/envs/tf/lib/python3.9/site-packages/cornac-2.0.0-py3.9-macosx-11.1-arm64.egg/cornac/metrics_explainer/exp_experiment.py:277: DeprecationWarning: `np.int` is a deprecated alias for the builtin `int`. To silence this warning, use `int` by itself. Doing this will not modify any behavior and is safe. When replacing `np.int`, you may wish to use e.g. `np.int64` or `np.int32` to specify the precision. If you wish to review your current use, check the release note link for additional information.\n",
      "Deprecated in NumPy 1.20; for more details and guidance: https://numpy.org/devdocs/release/1.20.0-notes.html#deprecations\n",
      "  self.current_rec.fit(self.eval_method.train_set)\n",
      "/Users/yaoyao/miniconda3/envs/tf/lib/python3.9/site-packages/cornac-2.0.0-py3.9-macosx-11.1-arm64.egg/cornac/metrics_explainer/exp_experiment.py:277: DeprecationWarning: `np.int` is a deprecated alias for the builtin `int`. To silence this warning, use `int` by itself. Doing this will not modify any behavior and is safe. When replacing `np.int`, you may wish to use e.g. `np.int64` or `np.int32` to specify the precision. If you wish to review your current use, check the release note link for additional information.\n",
      "Deprecated in NumPy 1.20; for more details and guidance: https://numpy.org/devdocs/release/1.20.0-notes.html#deprecations\n",
      "  self.current_rec.fit(self.eval_method.train_set)\n"
     ]
    },
    {
     "name": "stdout",
     "output_type": "stream",
     "text": [
      "Step 2/3: Explainer EFM_Exp create explanation for all recommendations\n"
     ]
    },
    {
     "name": "stderr",
     "output_type": "stream",
     "text": [
      "Computing explanations: 100%|██████████| 19330/19330 [00:45<00:00, 425.97it/s]\n"
     ]
    },
    {
     "name": "stdout",
     "output_type": "stream",
     "text": [
      "Step 3/3: Metric diversity starts evaluation...\n",
      "Result: Feature diversity: 0.3347996517282428\n",
      "Step 3/3: Metric PrecisionRecall starts evaluation...\n"
     ]
    },
    {
     "name": "stderr",
     "output_type": "stream",
     "text": [
      "/Users/yaoyao/miniconda3/envs/tf/lib/python3.9/site-packages/cornac-2.0.0-py3.9-macosx-11.1-arm64.egg/cornac/metrics_explainer/exp_experiment.py:183: DeprecationWarning: `np.float` is a deprecated alias for the builtin `float`. To silence this warning, use `float` by itself. Doing this will not modify any behavior and is safe. If you specifically wanted the numpy scalar type, use `np.float64` here.\n",
      "Deprecated in NumPy 1.20; for more details and guidance: https://numpy.org/devdocs/release/1.20.0-notes.html#deprecations\n",
      "  (precision, recall, ff1), (precision_d, recall_d, ff1_d) = self.current_metric.compute(self.current_rec, self.current_exp)\n",
      "/Users/yaoyao/miniconda3/envs/tf/lib/python3.9/site-packages/cornac-2.0.0-py3.9-macosx-11.1-arm64.egg/cornac/metrics_explainer/exp_experiment.py:183: DeprecationWarning: `np.int` is a deprecated alias for the builtin `int`. To silence this warning, use `int` by itself. Doing this will not modify any behavior and is safe. When replacing `np.int`, you may wish to use e.g. `np.int64` or `np.int32` to specify the precision. If you wish to review your current use, check the release note link for additional information.\n",
      "Deprecated in NumPy 1.20; for more details and guidance: https://numpy.org/devdocs/release/1.20.0-notes.html#deprecations\n",
      "  (precision, recall, ff1), (precision_d, recall_d, ff1_d) = self.current_metric.compute(self.current_rec, self.current_exp)\n",
      "/Users/yaoyao/miniconda3/envs/tf/lib/python3.9/site-packages/cornac-2.0.0-py3.9-macosx-11.1-arm64.egg/cornac/metrics_explainer/exp_experiment.py:183: DeprecationWarning: `np.int` is a deprecated alias for the builtin `int`. To silence this warning, use `int` by itself. Doing this will not modify any behavior and is safe. When replacing `np.int`, you may wish to use e.g. `np.int64` or `np.int32` to specify the precision. If you wish to review your current use, check the release note link for additional information.\n",
      "Deprecated in NumPy 1.20; for more details and guidance: https://numpy.org/devdocs/release/1.20.0-notes.html#deprecations\n",
      "  (precision, recall, ff1), (precision_d, recall_d, ff1_d) = self.current_metric.compute(self.current_rec, self.current_exp)\n",
      "/Users/yaoyao/miniconda3/envs/tf/lib/python3.9/site-packages/cornac-2.0.0-py3.9-macosx-11.1-arm64.egg/cornac/metrics_explainer/exp_experiment.py:183: DeprecationWarning: `np.float` is a deprecated alias for the builtin `float`. To silence this warning, use `float` by itself. Doing this will not modify any behavior and is safe. If you specifically wanted the numpy scalar type, use `np.float64` here.\n",
      "Deprecated in NumPy 1.20; for more details and guidance: https://numpy.org/devdocs/release/1.20.0-notes.html#deprecations\n",
      "  (precision, recall, ff1), (precision_d, recall_d, ff1_d) = self.current_metric.compute(self.current_rec, self.current_exp)\n",
      "/Users/yaoyao/miniconda3/envs/tf/lib/python3.9/site-packages/cornac-2.0.0-py3.9-macosx-11.1-arm64.egg/cornac/metrics_explainer/exp_experiment.py:183: DeprecationWarning: `np.int` is a deprecated alias for the builtin `int`. To silence this warning, use `int` by itself. Doing this will not modify any behavior and is safe. When replacing `np.int`, you may wish to use e.g. `np.int64` or `np.int32` to specify the precision. If you wish to review your current use, check the release note link for additional information.\n",
      "Deprecated in NumPy 1.20; for more details and guidance: https://numpy.org/devdocs/release/1.20.0-notes.html#deprecations\n",
      "  (precision, recall, ff1), (precision_d, recall_d, ff1_d) = self.current_metric.compute(self.current_rec, self.current_exp)\n",
      "/Users/yaoyao/miniconda3/envs/tf/lib/python3.9/site-packages/cornac-2.0.0-py3.9-macosx-11.1-arm64.egg/cornac/metrics_explainer/exp_experiment.py:183: DeprecationWarning: `np.int` is a deprecated alias for the builtin `int`. To silence this warning, use `int` by itself. Doing this will not modify any behavior and is safe. When replacing `np.int`, you may wish to use e.g. `np.int64` or `np.int32` to specify the precision. If you wish to review your current use, check the release note link for additional information.\n",
      "Deprecated in NumPy 1.20; for more details and guidance: https://numpy.org/devdocs/release/1.20.0-notes.html#deprecations\n",
      "  (precision, recall, ff1), (precision_d, recall_d, ff1_d) = self.current_metric.compute(self.current_rec, self.current_exp)\n",
      "/Users/yaoyao/miniconda3/envs/tf/lib/python3.9/site-packages/cornac-2.0.0-py3.9-macosx-11.1-arm64.egg/cornac/metrics_explainer/exp_experiment.py:183: DeprecationWarning: `np.float` is a deprecated alias for the builtin `float`. To silence this warning, use `float` by itself. Doing this will not modify any behavior and is safe. If you specifically wanted the numpy scalar type, use `np.float64` here.\n",
      "Deprecated in NumPy 1.20; for more details and guidance: https://numpy.org/devdocs/release/1.20.0-notes.html#deprecations\n",
      "  (precision, recall, ff1), (precision_d, recall_d, ff1_d) = self.current_metric.compute(self.current_rec, self.current_exp)\n",
      "/Users/yaoyao/miniconda3/envs/tf/lib/python3.9/site-packages/cornac-2.0.0-py3.9-macosx-11.1-arm64.egg/cornac/metrics_explainer/exp_experiment.py:183: DeprecationWarning: `np.int` is a deprecated alias for the builtin `int`. To silence this warning, use `int` by itself. Doing this will not modify any behavior and is safe. When replacing `np.int`, you may wish to use e.g. `np.int64` or `np.int32` to specify the precision. If you wish to review your current use, check the release note link for additional information.\n",
      "Deprecated in NumPy 1.20; for more details and guidance: https://numpy.org/devdocs/release/1.20.0-notes.html#deprecations\n",
      "  (precision, recall, ff1), (precision_d, recall_d, ff1_d) = self.current_metric.compute(self.current_rec, self.current_exp)\n",
      "/Users/yaoyao/miniconda3/envs/tf/lib/python3.9/site-packages/cornac-2.0.0-py3.9-macosx-11.1-arm64.egg/cornac/metrics_explainer/exp_experiment.py:183: DeprecationWarning: `np.int` is a deprecated alias for the builtin `int`. To silence this warning, use `int` by itself. Doing this will not modify any behavior and is safe. When replacing `np.int`, you may wish to use e.g. `np.int64` or `np.int32` to specify the precision. If you wish to review your current use, check the release note link for additional information.\n",
      "Deprecated in NumPy 1.20; for more details and guidance: https://numpy.org/devdocs/release/1.20.0-notes.html#deprecations\n",
      "  (precision, recall, ff1), (precision_d, recall_d, ff1_d) = self.current_metric.compute(self.current_rec, self.current_exp)\n",
      "Start evaluation... :   0%|          | 0/4845 [00:08<?, ?it/s]\n"
     ]
    },
    {
     "name": "stdout",
     "output_type": "stream",
     "text": [
      "Result: Feature Precision: 0.10136986301369862; Feature Recall: 0.05205198108241314; Harmonic Mean: 0.05046386520065806\n",
      "Start training Recommender MTER...\n",
      "*****Start evaluating model-explainer: 'MTER:MTER_Exp'...\n",
      "Step 1/3: Recommender MTER creates recommendations\n",
      "Step 2/3: Explainer MTER_Exp create explanation for all recommendations\n"
     ]
    },
    {
     "name": "stderr",
     "output_type": "stream",
     "text": [
      "Computing explanations: 100%|██████████| 19330/19330 [00:37<00:00, 513.52it/s]\n"
     ]
    },
    {
     "name": "stdout",
     "output_type": "stream",
     "text": [
      "Step 3/3: Metric diversity starts evaluation...\n",
      "Result: Feature diversity: 0.11038699271820553\n",
      "Step 3/3: Metric PrecisionRecall starts evaluation...\n"
     ]
    },
    {
     "name": "stderr",
     "output_type": "stream",
     "text": [
      "Start evaluation... :  70%|██████▉   | 14455/20654 [00:35<00:15, 405.70it/s]\n"
     ]
    },
    {
     "name": "stdout",
     "output_type": "stream",
     "text": [
      "Result: Feature Precision: 0.414827332030821; Feature Recall: 0.5432555175823977; Harmonic Mean: 0.4204579598424894\n",
      "experiment data: [[0.3347996517282428, 0.05046386520065806, 0.19658803939819336, 607.7876799106598], [0.11038699271820553, 0.4204579598424894, 0.2091681957244873, 571.3276000022888]]\n",
      "\n",
      "\n",
      "recommender:explainer |           diversity |     PrecisionRecall |            Train(s) |       Evaluate(s)\n",
      "EFM:EFM_Exp           |  0.3347996517282428 | 0.05046386520065806 | 0.19658803939819336 | 607.7876799106598\n",
      "MTER:MTER_Exp         | 0.11038699271820553 |  0.4204579598424894 |  0.2091681957244873 | 571.3276000022888\n",
      "\n"
     ]
    }
   ],
   "source": [
    "from cornac.models import EFM, MTER\n",
    "from cornac.explainer import EFMExplainer, MTERExplainer\n",
    "\n",
    "rs_sent = prepare_data(data_name=\"goodreads_pruned\", test_size=0, dense=False, item=True, user=True, sample_size=0.1, seed=21)\n",
    "fdiv = DIV()\n",
    "fpr = FPR()\n",
    "fpr_with_input_as_groundtruth = FPR(fpath=\"../cornac/datasets/good_reads/goodreads_sentiment.txt\")\n",
    "efm = EFM(max_iter=20, num_explicit_factors=50, num_latent_factors=50, num_most_cared_aspects=50, alpha=0.85,lambda_h=0.1, lambda_u=0.001, lambda_v=0.01, lambda_x=1.0, lambda_y= 0.1)\n",
    "efm_exp = EFMExplainer(rec_model=efm, dataset=rs_sent.train_set)\n",
    "mter = MTER(max_iter=20, n_aspect_factors=8, n_item_factors=5, n_opinion_factors= 5, n_user_factors= 10, lambda_bpr=10, lambda_reg= 10, n_bpr_samples=1000, n_element_samples=50)\n",
    "mter_exp = MTERExplainer(rec_model=mter, dataset=rs_sent.train_set)\n",
    "\n",
    "models = [(efm, efm_exp), (mter, mter_exp)]\n",
    "metrics = [fdiv, fpr_with_input_as_groundtruth]\n",
    "experiment = Explainers_Experiment(eval_method=rs_sent, models=models, metrics=metrics,rec_k=10, feature_k=10, eval_train=True)\n",
    "experiment.run()"
   ]
  },
  {
   "cell_type": "code",
   "execution_count": 3,
   "metadata": {},
   "outputs": [
    {
     "name": "stdout",
     "output_type": "stream",
     "text": [
      "Start training Recommender1 EFM...\n"
     ]
    },
    {
     "name": "stderr",
     "output_type": "stream",
     "text": [
      "/Users/yaoyao/miniconda3/envs/tf/lib/python3.9/site-packages/cornac-2.0.0-py3.9-macosx-11.1-arm64.egg/cornac/metrics_explainer/exp_experiment.py:272: DeprecationWarning: `np.float` is a deprecated alias for the builtin `float`. To silence this warning, use `float` by itself. Doing this will not modify any behavior and is safe. If you specifically wanted the numpy scalar type, use `np.float64` here.\n",
      "Deprecated in NumPy 1.20; for more details and guidance: https://numpy.org/devdocs/release/1.20.0-notes.html#deprecations\n",
      "  self.current_rec[0].fit(self.eval_method.train_set)\n",
      "/Users/yaoyao/miniconda3/envs/tf/lib/python3.9/site-packages/cornac-2.0.0-py3.9-macosx-11.1-arm64.egg/cornac/metrics_explainer/exp_experiment.py:272: DeprecationWarning: `np.int` is a deprecated alias for the builtin `int`. To silence this warning, use `int` by itself. Doing this will not modify any behavior and is safe. When replacing `np.int`, you may wish to use e.g. `np.int64` or `np.int32` to specify the precision. If you wish to review your current use, check the release note link for additional information.\n",
      "Deprecated in NumPy 1.20; for more details and guidance: https://numpy.org/devdocs/release/1.20.0-notes.html#deprecations\n",
      "  self.current_rec[0].fit(self.eval_method.train_set)\n",
      "/Users/yaoyao/miniconda3/envs/tf/lib/python3.9/site-packages/cornac-2.0.0-py3.9-macosx-11.1-arm64.egg/cornac/metrics_explainer/exp_experiment.py:272: DeprecationWarning: `np.int` is a deprecated alias for the builtin `int`. To silence this warning, use `int` by itself. Doing this will not modify any behavior and is safe. When replacing `np.int`, you may wish to use e.g. `np.int64` or `np.int32` to specify the precision. If you wish to review your current use, check the release note link for additional information.\n",
      "Deprecated in NumPy 1.20; for more details and guidance: https://numpy.org/devdocs/release/1.20.0-notes.html#deprecations\n",
      "  self.current_rec[0].fit(self.eval_method.train_set)\n",
      "/Users/yaoyao/miniconda3/envs/tf/lib/python3.9/site-packages/cornac-2.0.0-py3.9-macosx-11.1-arm64.egg/cornac/metrics_explainer/exp_experiment.py:272: DeprecationWarning: `np.float` is a deprecated alias for the builtin `float`. To silence this warning, use `float` by itself. Doing this will not modify any behavior and is safe. If you specifically wanted the numpy scalar type, use `np.float64` here.\n",
      "Deprecated in NumPy 1.20; for more details and guidance: https://numpy.org/devdocs/release/1.20.0-notes.html#deprecations\n",
      "  self.current_rec[0].fit(self.eval_method.train_set)\n",
      "/Users/yaoyao/miniconda3/envs/tf/lib/python3.9/site-packages/cornac-2.0.0-py3.9-macosx-11.1-arm64.egg/cornac/metrics_explainer/exp_experiment.py:272: DeprecationWarning: `np.int` is a deprecated alias for the builtin `int`. To silence this warning, use `int` by itself. Doing this will not modify any behavior and is safe. When replacing `np.int`, you may wish to use e.g. `np.int64` or `np.int32` to specify the precision. If you wish to review your current use, check the release note link for additional information.\n",
      "Deprecated in NumPy 1.20; for more details and guidance: https://numpy.org/devdocs/release/1.20.0-notes.html#deprecations\n",
      "  self.current_rec[0].fit(self.eval_method.train_set)\n",
      "/Users/yaoyao/miniconda3/envs/tf/lib/python3.9/site-packages/cornac-2.0.0-py3.9-macosx-11.1-arm64.egg/cornac/metrics_explainer/exp_experiment.py:272: DeprecationWarning: `np.int` is a deprecated alias for the builtin `int`. To silence this warning, use `int` by itself. Doing this will not modify any behavior and is safe. When replacing `np.int`, you may wish to use e.g. `np.int64` or `np.int32` to specify the precision. If you wish to review your current use, check the release note link for additional information.\n",
      "Deprecated in NumPy 1.20; for more details and guidance: https://numpy.org/devdocs/release/1.20.0-notes.html#deprecations\n",
      "  self.current_rec[0].fit(self.eval_method.train_set)\n",
      "/Users/yaoyao/miniconda3/envs/tf/lib/python3.9/site-packages/cornac-2.0.0-py3.9-macosx-11.1-arm64.egg/cornac/metrics_explainer/exp_experiment.py:272: DeprecationWarning: `np.float` is a deprecated alias for the builtin `float`. To silence this warning, use `float` by itself. Doing this will not modify any behavior and is safe. If you specifically wanted the numpy scalar type, use `np.float64` here.\n",
      "Deprecated in NumPy 1.20; for more details and guidance: https://numpy.org/devdocs/release/1.20.0-notes.html#deprecations\n",
      "  self.current_rec[0].fit(self.eval_method.train_set)\n",
      "/Users/yaoyao/miniconda3/envs/tf/lib/python3.9/site-packages/cornac-2.0.0-py3.9-macosx-11.1-arm64.egg/cornac/metrics_explainer/exp_experiment.py:272: DeprecationWarning: `np.int` is a deprecated alias for the builtin `int`. To silence this warning, use `int` by itself. Doing this will not modify any behavior and is safe. When replacing `np.int`, you may wish to use e.g. `np.int64` or `np.int32` to specify the precision. If you wish to review your current use, check the release note link for additional information.\n",
      "Deprecated in NumPy 1.20; for more details and guidance: https://numpy.org/devdocs/release/1.20.0-notes.html#deprecations\n",
      "  self.current_rec[0].fit(self.eval_method.train_set)\n",
      "/Users/yaoyao/miniconda3/envs/tf/lib/python3.9/site-packages/cornac-2.0.0-py3.9-macosx-11.1-arm64.egg/cornac/metrics_explainer/exp_experiment.py:272: DeprecationWarning: `np.int` is a deprecated alias for the builtin `int`. To silence this warning, use `int` by itself. Doing this will not modify any behavior and is safe. When replacing `np.int`, you may wish to use e.g. `np.int64` or `np.int32` to specify the precision. If you wish to review your current use, check the release note link for additional information.\n",
      "Deprecated in NumPy 1.20; for more details and guidance: https://numpy.org/devdocs/release/1.20.0-notes.html#deprecations\n",
      "  self.current_rec[0].fit(self.eval_method.train_set)\n"
     ]
    },
    {
     "name": "stdout",
     "output_type": "stream",
     "text": [
      "Start training Recommender2 MTER...\n",
      "*****Start evaluating model-explainer: 'EFM:EFM_Exp'vs'MTER:MTER_Exp'...\n",
      "Step 1/3: Creates fake recommendations from dataset for common used\n",
      "Step 2/3: Explainer1 EFM_Exp create explanation for all recommendations\n"
     ]
    },
    {
     "name": "stderr",
     "output_type": "stream",
     "text": [
      "Computing explanations: 100%|██████████| 1933/1933 [00:04<00:00, 455.72it/s]\n"
     ]
    },
    {
     "name": "stdout",
     "output_type": "stream",
     "text": [
      "Step 2/3: Explainer2 MTER_Exp create explanation for all recommendations\n"
     ]
    },
    {
     "name": "stderr",
     "output_type": "stream",
     "text": [
      "Computing explanations: 100%|██████████| 1933/1933 [00:03<00:00, 545.56it/s]\n"
     ]
    },
    {
     "name": "stdout",
     "output_type": "stream",
     "text": [
      "Step 3/3: Metric FA starts evaluation...\n",
      "Result: Average FA: 0.00015519917227108123\n",
      "Step 3/3: Metric RA starts evaluation...\n",
      "Result: Average RA: 0.0005690636316606312\n",
      "Metric diversity does not support ('EFM_Exp', 'MTER_Exp').\n",
      "Start training Recommender EFM...\n"
     ]
    },
    {
     "name": "stderr",
     "output_type": "stream",
     "text": [
      "/Users/yaoyao/miniconda3/envs/tf/lib/python3.9/site-packages/cornac-2.0.0-py3.9-macosx-11.1-arm64.egg/cornac/metrics_explainer/exp_experiment.py:277: DeprecationWarning: `np.float` is a deprecated alias for the builtin `float`. To silence this warning, use `float` by itself. Doing this will not modify any behavior and is safe. If you specifically wanted the numpy scalar type, use `np.float64` here.\n",
      "Deprecated in NumPy 1.20; for more details and guidance: https://numpy.org/devdocs/release/1.20.0-notes.html#deprecations\n",
      "  self.current_rec.fit(self.eval_method.train_set)\n",
      "/Users/yaoyao/miniconda3/envs/tf/lib/python3.9/site-packages/cornac-2.0.0-py3.9-macosx-11.1-arm64.egg/cornac/metrics_explainer/exp_experiment.py:277: DeprecationWarning: `np.int` is a deprecated alias for the builtin `int`. To silence this warning, use `int` by itself. Doing this will not modify any behavior and is safe. When replacing `np.int`, you may wish to use e.g. `np.int64` or `np.int32` to specify the precision. If you wish to review your current use, check the release note link for additional information.\n",
      "Deprecated in NumPy 1.20; for more details and guidance: https://numpy.org/devdocs/release/1.20.0-notes.html#deprecations\n",
      "  self.current_rec.fit(self.eval_method.train_set)\n",
      "/Users/yaoyao/miniconda3/envs/tf/lib/python3.9/site-packages/cornac-2.0.0-py3.9-macosx-11.1-arm64.egg/cornac/metrics_explainer/exp_experiment.py:277: DeprecationWarning: `np.int` is a deprecated alias for the builtin `int`. To silence this warning, use `int` by itself. Doing this will not modify any behavior and is safe. When replacing `np.int`, you may wish to use e.g. `np.int64` or `np.int32` to specify the precision. If you wish to review your current use, check the release note link for additional information.\n",
      "Deprecated in NumPy 1.20; for more details and guidance: https://numpy.org/devdocs/release/1.20.0-notes.html#deprecations\n",
      "  self.current_rec.fit(self.eval_method.train_set)\n",
      "/Users/yaoyao/miniconda3/envs/tf/lib/python3.9/site-packages/cornac-2.0.0-py3.9-macosx-11.1-arm64.egg/cornac/metrics_explainer/exp_experiment.py:277: DeprecationWarning: `np.float` is a deprecated alias for the builtin `float`. To silence this warning, use `float` by itself. Doing this will not modify any behavior and is safe. If you specifically wanted the numpy scalar type, use `np.float64` here.\n",
      "Deprecated in NumPy 1.20; for more details and guidance: https://numpy.org/devdocs/release/1.20.0-notes.html#deprecations\n",
      "  self.current_rec.fit(self.eval_method.train_set)\n",
      "/Users/yaoyao/miniconda3/envs/tf/lib/python3.9/site-packages/cornac-2.0.0-py3.9-macosx-11.1-arm64.egg/cornac/metrics_explainer/exp_experiment.py:277: DeprecationWarning: `np.int` is a deprecated alias for the builtin `int`. To silence this warning, use `int` by itself. Doing this will not modify any behavior and is safe. When replacing `np.int`, you may wish to use e.g. `np.int64` or `np.int32` to specify the precision. If you wish to review your current use, check the release note link for additional information.\n",
      "Deprecated in NumPy 1.20; for more details and guidance: https://numpy.org/devdocs/release/1.20.0-notes.html#deprecations\n",
      "  self.current_rec.fit(self.eval_method.train_set)\n",
      "/Users/yaoyao/miniconda3/envs/tf/lib/python3.9/site-packages/cornac-2.0.0-py3.9-macosx-11.1-arm64.egg/cornac/metrics_explainer/exp_experiment.py:277: DeprecationWarning: `np.int` is a deprecated alias for the builtin `int`. To silence this warning, use `int` by itself. Doing this will not modify any behavior and is safe. When replacing `np.int`, you may wish to use e.g. `np.int64` or `np.int32` to specify the precision. If you wish to review your current use, check the release note link for additional information.\n",
      "Deprecated in NumPy 1.20; for more details and guidance: https://numpy.org/devdocs/release/1.20.0-notes.html#deprecations\n",
      "  self.current_rec.fit(self.eval_method.train_set)\n",
      "/Users/yaoyao/miniconda3/envs/tf/lib/python3.9/site-packages/cornac-2.0.0-py3.9-macosx-11.1-arm64.egg/cornac/metrics_explainer/exp_experiment.py:277: DeprecationWarning: `np.float` is a deprecated alias for the builtin `float`. To silence this warning, use `float` by itself. Doing this will not modify any behavior and is safe. If you specifically wanted the numpy scalar type, use `np.float64` here.\n",
      "Deprecated in NumPy 1.20; for more details and guidance: https://numpy.org/devdocs/release/1.20.0-notes.html#deprecations\n",
      "  self.current_rec.fit(self.eval_method.train_set)\n",
      "/Users/yaoyao/miniconda3/envs/tf/lib/python3.9/site-packages/cornac-2.0.0-py3.9-macosx-11.1-arm64.egg/cornac/metrics_explainer/exp_experiment.py:277: DeprecationWarning: `np.int` is a deprecated alias for the builtin `int`. To silence this warning, use `int` by itself. Doing this will not modify any behavior and is safe. When replacing `np.int`, you may wish to use e.g. `np.int64` or `np.int32` to specify the precision. If you wish to review your current use, check the release note link for additional information.\n",
      "Deprecated in NumPy 1.20; for more details and guidance: https://numpy.org/devdocs/release/1.20.0-notes.html#deprecations\n",
      "  self.current_rec.fit(self.eval_method.train_set)\n",
      "/Users/yaoyao/miniconda3/envs/tf/lib/python3.9/site-packages/cornac-2.0.0-py3.9-macosx-11.1-arm64.egg/cornac/metrics_explainer/exp_experiment.py:277: DeprecationWarning: `np.int` is a deprecated alias for the builtin `int`. To silence this warning, use `int` by itself. Doing this will not modify any behavior and is safe. When replacing `np.int`, you may wish to use e.g. `np.int64` or `np.int32` to specify the precision. If you wish to review your current use, check the release note link for additional information.\n",
      "Deprecated in NumPy 1.20; for more details and guidance: https://numpy.org/devdocs/release/1.20.0-notes.html#deprecations\n",
      "  self.current_rec.fit(self.eval_method.train_set)\n"
     ]
    },
    {
     "name": "stdout",
     "output_type": "stream",
     "text": [
      "*****Start evaluating model-explainer: 'EFM:EFM_Exp'...\n",
      "Step 1/3: Recommender EFM creates recommendations\n",
      "Step 2/3: Explainer EFM_Exp create explanation for all recommendations\n"
     ]
    },
    {
     "name": "stderr",
     "output_type": "stream",
     "text": [
      "Computing explanations: 100%|██████████| 19330/19330 [00:39<00:00, 491.10it/s]\n"
     ]
    },
    {
     "name": "stdout",
     "output_type": "stream",
     "text": [
      "Metric FA does not support EFM_Exp.\n",
      "Metric RA does not support EFM_Exp.\n",
      "Step 3/3: Metric diversity starts evaluation...\n",
      "Result: Feature diversity: 0.2871569024153046\n",
      "Start training Recommender MTER...\n",
      "*****Start evaluating model-explainer: 'MTER:MTER_Exp'...\n",
      "Step 1/3: Recommender MTER creates recommendations\n",
      "Step 2/3: Explainer MTER_Exp create explanation for all recommendations\n"
     ]
    },
    {
     "name": "stderr",
     "output_type": "stream",
     "text": [
      "Computing explanations: 100%|██████████| 19330/19330 [00:39<00:00, 488.26it/s]\n"
     ]
    },
    {
     "name": "stdout",
     "output_type": "stream",
     "text": [
      "Metric FA does not support MTER_Exp.\n",
      "Metric RA does not support MTER_Exp.\n",
      "Step 3/3: Metric diversity starts evaluation...\n",
      "Result: Feature diversity: 0.16892641242746928\n",
      "experiment data: [[0.00015519917227108123, 0.0005690636316606312, 'N/A', 0.41735410690307617, 10.96573519706726], ['N/A', 'N/A', 0.2871569024153046, 0.20126605033874512, 591.1596341133118], ['N/A', 'N/A', 0.16892641242746928, 0.24727082252502441, 545.062334060669]]\n",
      "\n",
      "\n",
      "recommender:explainer        |                     FA |                    RA |           diversity |            Train(s) |       Evaluate(s)\n",
      "EFM:EFM_Exp'vs'MTER:MTER_Exp | 0.00015519917227108123 | 0.0005690636316606312 |                 N/A | 0.41735410690307617 | 10.96573519706726\n",
      "EFM:EFM_Exp                  |                    N/A |                   N/A |  0.2871569024153046 | 0.20126605033874512 | 591.1596341133118\n",
      "MTER:MTER_Exp                |                    N/A |                   N/A | 0.16892641242746928 | 0.24727082252502441 |  545.062334060669\n",
      "\n"
     ]
    }
   ],
   "source": [
    "fa = FA()\n",
    "ra = RA()\n",
    "models = [[(efm, mter), (efm_exp, mter_exp)], (efm, efm_exp), (mter, mter_exp)]\n",
    "metrics = [fa,ra, fdiv]\n",
    "experiment = Explainers_Experiment(eval_method=rs_sent, models=models, metrics=metrics,rec_k=10, feature_k=10, eval_train=True)\n",
    "experiment.run()"
   ]
  },
  {
   "cell_type": "code",
   "execution_count": 4,
   "metadata": {},
   "outputs": [
    {
     "name": "stdout",
     "output_type": "stream",
     "text": [
      "Start training Recommender fm_regressor...\n",
      "*****Start evaluating model-explainer: 'fm_regressor:LIMERS'...\n",
      "Step 1/3: Recommender fm_regressor creates recommendations\n",
      "Step 2/3: Explainer LIMERS create explanation for all recommendations\n"
     ]
    },
    {
     "name": "stderr",
     "output_type": "stream",
     "text": [
      "Computing explanations: 100%|██████████| 7340/7340 [08:41<00:00, 14.07it/s]\n"
     ]
    },
    {
     "name": "stdout",
     "output_type": "stream",
     "text": [
      "Step 3/3: Metric diversity starts evaluation...\n",
      "Result: Feature diversity: 0.5982042510028575\n",
      "Step 3/3: Metric PrecisionRecall starts evaluation...\n",
      "Started creating recommendations...\n",
      "Finished creating recommendations...\n"
     ]
    },
    {
     "name": "stderr",
     "output_type": "stream",
     "text": [
      "Start evaluation... : 100%|██████████| 7340/7340 [08:34<00:00, 14.28it/s]"
     ]
    },
    {
     "name": "stdout",
     "output_type": "stream",
     "text": [
      "Result: Feature Precision: 0.9835456403269756; Feature Recall: 0.8239133979375441; Harmonic Mean: 0.8864131231952576\n",
      "experiment data: [[0.5982042510028575, 0.8864131231952576, 13.081709861755371, 1416.3898060321808]]\n",
      "\n",
      "\n",
      "recommender:explainer |          diversity |    PrecisionRecall |           Train(s) |        Evaluate(s)\n",
      "fm_regressor:LIMERS   | 0.5982042510028575 | 0.8864131231952576 | 13.081709861755371 | 1416.3898060321808\n",
      "\n"
     ]
    },
    {
     "name": "stderr",
     "output_type": "stream",
     "text": [
      "\n"
     ]
    }
   ],
   "source": [
    "from cornac.models import FMRec\n",
    "from cornac.explainer import LimeRSExplainer\n",
    "fm = FMRec(verbose=False, num_factors=25, num_iter=10, initial_learning_rate=0.001)\n",
    "rs_limers = prepare_data(data_name=\"goodreads_limers\", test_size=0, dense=False, item=True, user=True, sample_size=1, seed=21)\n",
    "limers = LimeRSExplainer(rec_model=fm, dataset=rs_limers.train_set)\n",
    "fdiv = DIV()\n",
    "fpr = FPR()\n",
    "models = [(fm, limers)]\n",
    "metrics = [fdiv, fpr]\n",
    "experiment = Explainers_Experiment(eval_method=rs_limers, models=models, metrics=metrics, distribution=True, rec_k=10, feature_k=10, eval_train=True)\n",
    "experiment.run()"
   ]
  },
  {
   "cell_type": "code",
   "execution_count": 5,
   "metadata": {},
   "outputs": [
    {
     "name": "stdout",
     "output_type": "stream",
     "text": [
      "Preparing data...\n",
      "rating_threshold = 1.0\n",
      "exclude_unknowns = True\n",
      "---\n",
      "Training data:\n",
      "Number of users = 1194\n",
      "Number of items = 1013\n",
      "Number of ratings = 1292\n",
      "Max rating = 5.0\n",
      "Min rating = 0.0\n",
      "Global mean = 3.8\n",
      "---\n",
      "Test data:\n",
      "Number of users = 1194\n",
      "Number of items = 1013\n",
      "Number of ratings = 1292\n",
      "Number of unknown users = 0\n",
      "Number of unknown items = 0\n",
      "---\n",
      "Total users = 1194\n",
      "Total items = 1013\n",
      "Data prepared.\n",
      "mf_phi done\n",
      "emf_phi done\n",
      "nemf_phi done\n",
      "Start training Recommender MF...\n"
     ]
    },
    {
     "data": {
      "application/vnd.jupyter.widget-view+json": {
       "model_id": "ac1a738ebb624349a9b8e604edc9fa89",
       "version_major": 2,
       "version_minor": 0
      },
      "text/plain": [
       "  0%|          | 0/500 [00:00<?, ?it/s]"
      ]
     },
     "metadata": {},
     "output_type": "display_data"
    },
    {
     "name": "stdout",
     "output_type": "stream",
     "text": [
      "Optimization finished!\n",
      "*****Start evaluating model-explainer: 'MF:PHI4MF'...\n",
      "Step 1/3: Recommender MF creates recommendations\n",
      "Step 2/3: Explainer PHI4MF create explanation for all recommendations\n"
     ]
    },
    {
     "data": {
      "application/vnd.jupyter.widget-view+json": {
       "model_id": "6d62fcccd5db4cfa92338fd9e62de8ce",
       "version_major": 2,
       "version_minor": 0
      },
      "text/plain": [
       "Computing explanations:   0%|          | 0/11940 [00:00<?, ?it/s]"
      ]
     },
     "metadata": {},
     "output_type": "display_data"
    },
    {
     "name": "stdout",
     "output_type": "stream",
     "text": [
      "Step 3/3: Metric diversity starts evaluation...\n",
      "Result: Feature diversity: 0.0\n",
      "Start training Recommender EMF...\n"
     ]
    },
    {
     "data": {
      "application/vnd.jupyter.widget-view+json": {
       "model_id": "46dd86ce3e6640f89c6e041ad9cc4cbf",
       "version_major": 2,
       "version_minor": 0
      },
      "text/plain": [
       "  0%|          | 0/500 [00:00<?, ?it/s]"
      ]
     },
     "metadata": {},
     "output_type": "display_data"
    },
    {
     "name": "stdout",
     "output_type": "stream",
     "text": [
      "Optimization finished!\n",
      "*****Start evaluating model-explainer: 'EMF:PHI4MF'...\n",
      "Step 1/3: Recommender EMF creates recommendations\n",
      "Step 2/3: Explainer PHI4MF create explanation for all recommendations\n"
     ]
    },
    {
     "data": {
      "application/vnd.jupyter.widget-view+json": {
       "model_id": "b1bfb2591de74a99ab360b0cee1add1b",
       "version_major": 2,
       "version_minor": 0
      },
      "text/plain": [
       "Computing explanations:   0%|          | 0/11940 [00:00<?, ?it/s]"
      ]
     },
     "metadata": {},
     "output_type": "display_data"
    },
    {
     "name": "stdout",
     "output_type": "stream",
     "text": [
      "Step 3/3: Metric diversity starts evaluation...\n",
      "Result: Feature diversity: 0.0\n",
      "Start training Recommender NEMF...\n",
      "Start compute edge weight matrix...\n",
      "Start compute novel matrix...\n",
      "Matrix computation finished!\n"
     ]
    },
    {
     "data": {
      "application/vnd.jupyter.widget-view+json": {
       "model_id": "156d4f00526940089cde4ed9282e100a",
       "version_major": 2,
       "version_minor": 0
      },
      "text/plain": [
       "  0%|          | 0/500 [00:00<?, ?it/s]"
      ]
     },
     "metadata": {},
     "output_type": "display_data"
    },
    {
     "name": "stdout",
     "output_type": "stream",
     "text": [
      "Optimization finished!\n",
      "*****Start evaluating model-explainer: 'NEMF:PHI4MF'...\n",
      "Step 1/3: Recommender NEMF creates recommendations\n",
      "Step 2/3: Explainer PHI4MF create explanation for all recommendations\n"
     ]
    },
    {
     "data": {
      "application/vnd.jupyter.widget-view+json": {
       "model_id": "d8bdcafe9d5245b8a6ba8c0d20b5fc96",
       "version_major": 2,
       "version_minor": 0
      },
      "text/plain": [
       "Computing explanations:   0%|          | 0/11940 [00:00<?, ?it/s]"
      ]
     },
     "metadata": {},
     "output_type": "display_data"
    },
    {
     "name": "stdout",
     "output_type": "stream",
     "text": [
      "Step 3/3: Metric diversity starts evaluation...\n",
      "Result: Feature diversity: 0.0\n",
      "experiment data: [[0.0, 0.3310270309448242, 247.68667125701904], [0.0, 2.2056939601898193, 243.60097813606262], [0.0, 2.9017398357391357, 281.6987543106079]]\n",
      "\n",
      "\n",
      "recommender:explainer | diversity |           Train(s) |        Evaluate(s)\n",
      "MF:PHI4MF             |       0.0 | 0.3310270309448242 | 247.68667125701904\n",
      "EMF:PHI4MF            |       0.0 | 2.2056939601898193 | 243.60097813606262\n",
      "NEMF:PHI4MF           |       0.0 | 2.9017398357391357 |  281.6987543106079\n",
      "\n"
     ]
    }
   ],
   "source": [
    "from cornac.models import MF, EMF, NEMF\n",
    "from cornac.explainer import PHI4MFExplainer\n",
    "rs = prepare_data(data_name=\"goodreads_uir\",test_size=0, verbose=True, sample_size=0.01)\n",
    "\n",
    "emf = EMF(k=10, max_iter=500, learning_rate=0.001, lambda_reg=0.1, explain_reg=0.01, verbose=True, seed=6, num_threads=6, early_stop=True)\n",
    "nemf = NEMF(k=10, max_iter=500, learning_rate=0.001, lambda_reg=0.01, explain_reg=0.001, novel_reg=0.001, verbose=True, seed=6, num_threads=6, early_stop=True)\n",
    "mf = MF(k=10, max_iter=500, learning_rate=0.001, lambda_reg=0.1, verbose=True, seed=6)\n",
    "mf_phi = (mf, PHI4MFExplainer(mf, rs.train_set))\n",
    "print(\"mf_phi done\")\n",
    "emf_phi = (emf, PHI4MFExplainer(emf, rs.train_set))\n",
    "print(\"emf_phi done\")\n",
    "nemf_phi = (nemf, PHI4MFExplainer(nemf, rs.train_set))    \n",
    "print(\"nemf_phi done\")\n",
    "\n",
    "fdiv = DIV()\n",
    "\n",
    "models = [mf_phi, emf_phi, nemf_phi]\n",
    "metrics = [fdiv]\n",
    "experiment = Explainers_Experiment(eval_method=rs, models=models, metrics=metrics, rec_k=10, feature_k=10, eval_train=True)\n",
    "experiment.run()"
   ]
  },
  {
   "cell_type": "code",
   "execution_count": 6,
   "metadata": {},
   "outputs": [
    {
     "name": "stdout",
     "output_type": "stream",
     "text": [
      "Preparing data...\n",
      "rating_threshold = 1.0\n",
      "exclude_unknowns = True\n",
      "---\n",
      "Training data:\n",
      "Number of users = 1187\n",
      "Number of items = 1028\n",
      "Number of ratings = 1292\n",
      "Max rating = 5.0\n",
      "Min rating = 0.0\n",
      "Global mean = 3.8\n",
      "---\n",
      "Test data:\n",
      "Number of users = 1187\n",
      "Number of items = 1028\n",
      "Number of ratings = 1292\n",
      "Number of unknown users = 0\n",
      "Number of unknown items = 0\n",
      "---\n",
      "Total users = 1187\n",
      "Total items = 1028\n",
      "Data prepared.\n",
      "Start training Recommender ALS...\n"
     ]
    },
    {
     "data": {
      "application/vnd.jupyter.widget-view+json": {
       "model_id": "bffc74a80b6845e8b740b15b5f850d7d",
       "version_major": 2,
       "version_minor": 0
      },
      "text/plain": [
       "  0%|          | 0/500 [00:00<?, ?it/s]"
      ]
     },
     "metadata": {},
     "output_type": "display_data"
    },
    {
     "name": "stderr",
     "output_type": "stream",
     "text": [
      "INFO:implicit:Final training loss 0.0472\n"
     ]
    },
    {
     "name": "stdout",
     "output_type": "stream",
     "text": [
      "*****Start evaluating model-explainer: 'ALS:ALS'...\n",
      "Step 1/3: Recommender ALS creates recommendations\n",
      "Step 2/3: Explainer ALS create explanation for all recommendations\n"
     ]
    },
    {
     "data": {
      "application/vnd.jupyter.widget-view+json": {
       "model_id": "13dc70eb82bc44c7b9d499555265a4ae",
       "version_major": 2,
       "version_minor": 0
      },
      "text/plain": [
       "Computing explanations:   0%|          | 0/11870 [00:00<?, ?it/s]"
      ]
     },
     "metadata": {},
     "output_type": "display_data"
    },
    {
     "name": "stdout",
     "output_type": "stream",
     "text": [
      "Step 3/3: Metric diversity starts evaluation...\n",
      "Result: Feature diversity: 0.001495924253508916\n",
      "Start training Recommender EMF...\n"
     ]
    },
    {
     "data": {
      "application/vnd.jupyter.widget-view+json": {
       "model_id": "5915440f0d6c4ccd983a56e8c8ff737e",
       "version_major": 2,
       "version_minor": 0
      },
      "text/plain": [
       "  0%|          | 0/500 [00:00<?, ?it/s]"
      ]
     },
     "metadata": {},
     "output_type": "display_data"
    },
    {
     "name": "stdout",
     "output_type": "stream",
     "text": [
      "Optimization finished!\n",
      "*****Start evaluating model-explainer: 'EMF:EMF'...\n",
      "Step 1/3: Recommender EMF creates recommendations\n",
      "Step 2/3: Explainer EMF create explanation for all recommendations\n"
     ]
    },
    {
     "data": {
      "application/vnd.jupyter.widget-view+json": {
       "model_id": "06ebdf274fb2469592da36b4314452dc",
       "version_major": 2,
       "version_minor": 0
      },
      "text/plain": [
       "Computing explanations:   0%|          | 0/11870 [00:00<?, ?it/s]"
      ]
     },
     "metadata": {},
     "output_type": "display_data"
    },
    {
     "name": "stdout",
     "output_type": "stream",
     "text": [
      "Step 3/3: Metric diversity starts evaluation...\n",
      "Result: Feature diversity: 0.45525619006727513\n",
      "Start training Recommender NEMF...\n",
      "Start compute edge weight matrix...\n",
      "Start compute novel matrix...\n",
      "Matrix computation finished!\n"
     ]
    },
    {
     "data": {
      "application/vnd.jupyter.widget-view+json": {
       "model_id": "58e78fed684541d5ae18792283ec2ddb",
       "version_major": 2,
       "version_minor": 0
      },
      "text/plain": [
       "  0%|          | 0/500 [00:00<?, ?it/s]"
      ]
     },
     "metadata": {},
     "output_type": "display_data"
    },
    {
     "name": "stdout",
     "output_type": "stream",
     "text": [
      "Optimization finished!\n",
      "*****Start evaluating model-explainer: 'NEMF:EMF'...\n",
      "Step 1/3: Recommender NEMF creates recommendations\n",
      "Step 2/3: Explainer EMF create explanation for all recommendations\n"
     ]
    },
    {
     "data": {
      "application/vnd.jupyter.widget-view+json": {
       "model_id": "64a4daac384b46dca27960fa88ca7811",
       "version_major": 2,
       "version_minor": 0
      },
      "text/plain": [
       "Computing explanations:   0%|          | 0/11870 [00:00<?, ?it/s]"
      ]
     },
     "metadata": {},
     "output_type": "display_data"
    },
    {
     "name": "stdout",
     "output_type": "stream",
     "text": [
      "Step 3/3: Metric diversity starts evaluation...\n",
      "Result: Feature diversity: 1.0\n",
      "experiment data: [[0.001495924253508916, 3.958252429962158, 379.99576926231384], [0.45525619006727513, 2.8549368381500244, 35.314947843551636], [1.0, 2.9523227214813232, 31.198006868362427]]\n",
      "\n",
      "\n",
      "recommender:explainer |            diversity |           Train(s) |        Evaluate(s)\n",
      "ALS:ALS               | 0.001495924253508916 |  3.958252429962158 | 379.99576926231384\n",
      "EMF:EMF               |  0.45525619006727513 | 2.8549368381500244 | 35.314947843551636\n",
      "NEMF:EMF              |                  1.0 | 2.9523227214813232 | 31.198006868362427\n",
      "\n"
     ]
    }
   ],
   "source": [
    "from cornac.models import ALS, EMF, NEMF\n",
    "from cornac.explainer import ALSExplainer, EMFExplainer\n",
    "\n",
    "rs = prepare_data(data_name=\"goodreads_uir\",test_size=0, verbose=True, sample_size=0.01)\n",
    "\n",
    "emf = EMF(k=10, max_iter=500, learning_rate=0.001, lambda_reg=0.1, explain_reg=0.01, verbose=True, seed=6, num_threads=6, early_stop=True)\n",
    "nemf = NEMF(k=10, max_iter=500, learning_rate=0.001, lambda_reg=0.01, explain_reg=0.001, novel_reg=0.001, verbose=True, seed=6, num_threads=6, early_stop=True)\n",
    "als = ALS(k=10, max_iter=500, lambda_reg=0.001, alpha=50, verbose=True, seed=6)\n",
    "\n",
    "emf_emf = (emf, EMFExplainer(emf, rs.train_set))\n",
    "nemf_emf = (nemf, EMFExplainer(nemf, rs.train_set))\n",
    "als_als = (als, ALSExplainer(als, rs.train_set))\n",
    "\n",
    "fdiv = DIV()\n",
    "\n",
    "models = [als_als, emf_emf, nemf_emf]\n",
    "metrics = [fdiv]\n",
    "experiment = Explainers_Experiment(eval_method=rs, models=models, metrics=metrics, rec_k=10, feature_k=10, eval_train=True)\n",
    "experiment.run()"
   ]
  }
 ],
 "metadata": {
  "kernelspec": {
   "display_name": "tf",
   "language": "python",
   "name": "python3"
  },
  "language_info": {
   "codemirror_mode": {
    "name": "ipython",
    "version": 3
   },
   "file_extension": ".py",
   "mimetype": "text/x-python",
   "name": "python",
   "nbconvert_exporter": "python",
   "pygments_lexer": "ipython3",
   "version": "3.8.16"
  },
  "orig_nbformat": 4
 },
 "nbformat": 4,
 "nbformat_minor": 2
}
