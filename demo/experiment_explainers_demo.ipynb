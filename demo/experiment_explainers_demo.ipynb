{
 "cells": [
  {
   "cell_type": "markdown",
   "metadata": {},
   "source": [
    "### Explainer Experiment Demo\n",
    "\n",
    "Below we show some examples on how you can use the **Experiment_Explainers** class. The general steps consist of:\n",
    "1. prepare data\n",
    "2. Initialize recommenders, explainers and metrics\n",
    "3. Initialize experiment and run the experiment\n",
    "\n",
    "You can set distribution=True to enable distribution plots while running the experiments. The plots will be saved in /experiment_plots.\n",
    "\n",
    "When the experiment is completed, result table is saved in /experiment_plots."
   ]
  },
  {
   "cell_type": "code",
   "execution_count": 1,
   "metadata": {},
   "outputs": [
    {
     "name": "stderr",
     "output_type": "stream",
     "text": [
      "/Users/yyz/miniconda3/envs/rose_env/lib/python3.9/site-packages/tqdm/auto.py:21: TqdmWarning: IProgress not found. Please update jupyter and ipywidgets. See https://ipywidgets.readthedocs.io/en/stable/user_install.html\n",
      "  from .autonotebook import tqdm as notebook_tqdm\n"
     ]
    }
   ],
   "source": [
    "import warnings\n",
    "from cornac.datasets import goodreads\n",
    "from cornac.experiment.experiment_explainers import Experiment_Explainers\n",
    "from cornac.models import EMF, ALS, FMRec, MTER, EFM, NEMF\n",
    "from cornac.explainer import Exp_EFM, Exp_LIMERS, Exp_MTER, Exp_ALS, Exp_PHI4MF, Exp_SU4EMF\n",
    "from cornac.datasets.goodreads import prepare_data\n",
    "from cornac.metrics_explainer import Metric_Exp_PSPNFNS as PSPN, Metric_Exp_PGF as PGF, Metric_Exp_MEP as MEP, Metric_Exp_EnDCG as EnDCG\n",
    "from cornac.metrics_explainer import Metric_Exp_DIV as DIV, Metric_Exp_FPR as FPR, Metric_Exp_FA as FA, Metric_Exp_RA as RA\n",
    "\n",
    "warnings.filterwarnings('ignore') "
   ]
  },
  {
   "cell_type": "markdown",
   "metadata": {},
   "source": [
    "**Experiment 1**: run PSPNFNS, FDIV and FPR on (FM, Exp_LIMERS) pair using data from goodreads_limers. This dataset contains explicit user and item features."
   ]
  },
  {
   "cell_type": "code",
   "execution_count": 2,
   "metadata": {},
   "outputs": [
    {
     "name": "stderr",
     "output_type": "stream",
     "text": [
      "INFO:cornac.experiment.experiment_explainers:Start training Recommender FMRec...\n"
     ]
    },
    {
     "name": "stdout",
     "output_type": "stream",
     "text": [
      "Creating validation dataset of 0.01 of training for adaptive regularization\n",
      "-- Epoch 1\n",
      "Training MSE: 0.93172\n",
      "-- Epoch 2\n",
      "Training MSE: 0.79609\n",
      "-- Epoch 3\n",
      "Training MSE: 0.75570\n",
      "-- Epoch 4\n",
      "Training MSE: 0.73211\n",
      "-- Epoch 5\n",
      "Training MSE: 0.71658\n",
      "-- Epoch 6\n",
      "Training MSE: 0.69878\n",
      "-- Epoch 7\n"
     ]
    },
    {
     "name": "stderr",
     "output_type": "stream",
     "text": [
      "INFO:cornac.experiment.experiment_explainers:*****Start evaluating model-explainer: 'FMRec:Exp_LIMERS'...\n",
      "INFO:cornac.experiment.experiment_explainers:Step 1/3: Recommender FMRec creates recommendations\n"
     ]
    },
    {
     "name": "stdout",
     "output_type": "stream",
     "text": [
      "Training MSE: 0.68288\n",
      "-- Epoch 8\n",
      "Training MSE: 0.67843\n",
      "-- Epoch 9\n",
      "Training MSE: 0.66598\n",
      "-- Epoch 10\n",
      "Training MSE: 0.65414\n"
     ]
    },
    {
     "name": "stderr",
     "output_type": "stream",
     "text": [
      "INFO:cornac.experiment.experiment_explainers:Step 2/3: Explainer Exp_LIMERS create explanation for all recommendations\n",
      "Computing explanations: 100%|██████████| 1000/1000 [00:15<00:00, 64.57it/s]\n",
      "INFO:cornac.experiment.experiment_explainers:Step 3/3: Metric Metric_Exp_PSPNFNS starts evaluation...\n",
      "INFO:cornac.experiment.experiment_explainers:self.current_rec: FMRec, self.current_exp: Exp_LIMERS\n",
      "Re-evaluate after features removal... : 100%|██████████| 1000/1000 [00:17<00:00, 58.47it/s]\n",
      "INFO:cornac.experiment.experiment_explainers:Result: Probability of Necessity: 0.524; Probability of Sufficiency: 0.481; Harmonic Mean: 0.5015800995024876\n",
      "INFO:cornac.experiment.experiment_explainers:Step 3/3: Metric Metric_Exp_DIV starts evaluation...\n",
      "INFO:cornac.experiment.experiment_explainers:Result: Feature diversity: 0.47475801356931946\n",
      "INFO:cornac.experiment.experiment_explainers:Step 3/3: Metric Metric_Exp_FPR starts evaluation...\n",
      "ERROR:cornac.experiment.experiment_explainers:Metric Metric_Exp_FPR does not support Exp_LIMERS.\n",
      "INFO:cornac.experiment.experiment_explainers:experiment data: [[0.5015800995024876, 0.47475801356931946, 'N/A', 6.377703905105591, 34.526159048080444]]\n",
      "INFO:cornac.experiment.experiment_explainers:Experiment result: \n",
      " recommender:explainer | Metric_Exp_PSPNFNS |      Metric_Exp_DIV | Metric_Exp_FPR |          Train(s) |        Evaluate(s)\n",
      "FMRec:Exp_LIMERS      | 0.5015800995024876 | 0.47475801356931946 |            N/A | 6.377703905105591 | 34.526159048080444\n",
      "\n"
     ]
    }
   ],
   "source": [
    "# prepare data\n",
    "rs = prepare_data(data_name=\"goodreads_limers\", test_size=0.2, dense=True, item=True, user=True, sample_size=1, seed=21)\n",
    "\n",
    "# initialize recommenders, explainers and metrics\n",
    "fm = FMRec()\n",
    "limers = Exp_LIMERS(rec_model=fm, dataset=rs.train_set)\n",
    "pspnfns = PSPN()\n",
    "fdiv = DIV()\n",
    "fpr = FPR()\n",
    "\n",
    "# initialize experiment\n",
    "models = [(fm, limers)]\n",
    "metrics = [pspnfns, fdiv, fpr]\n",
    "experiment = Experiment_Explainers(eval_method=rs, models=models, metrics=metrics,distribution=True, rec_k=10, feature_k=10, eval_train=True)\n",
    "experiment.run()"
   ]
  },
  {
   "cell_type": "markdown",
   "metadata": {},
   "source": [
    "**Experiment 2**: run PSPN, FDIV and FPR on (EFM, Exp_EFM) and (MTER, Exp_MTER) pairs using data from goodreads. This dataset contains explicit review keywords."
   ]
  },
  {
   "cell_type": "code",
   "execution_count": 3,
   "metadata": {},
   "outputs": [
    {
     "name": "stderr",
     "output_type": "stream",
     "text": [
      "INFO:cornac.experiment.experiment_explainers:Start training Recommender EFM...\n",
      "INFO:cornac.experiment.experiment_explainers:*****Start evaluating model-explainer: 'EFM:Exp_EFM'...\n",
      "INFO:cornac.experiment.experiment_explainers:Step 1/3: Recommender EFM creates recommendations\n",
      "INFO:cornac.experiment.experiment_explainers:Step 2/3: Explainer Exp_EFM create explanation for all recommendations\n",
      "Computing explanations: 100%|██████████| 1000/1000 [00:00<00:00, 8378.79it/s]\n",
      "INFO:cornac.experiment.experiment_explainers:Step 3/3: Metric Metric_Exp_DIV starts evaluation...\n",
      "INFO:cornac.experiment.experiment_explainers:Result: Feature diversity: 0.5231231231223435\n",
      "INFO:cornac.experiment.experiment_explainers:Step 3/3: Metric Metric_Exp_FPR starts evaluation...\n",
      "Start evaluation... :   0%|          | 0/7200 [00:00<?, ?it/s]\n",
      "INFO:cornac.experiment.experiment_explainers:Result: Feature Precision: 0.3460772600557546; Feature Recall: 0.07467207676760935; Harmonic Mean: 0.11532505389428624\n",
      "INFO:cornac.experiment.experiment_explainers:Step 3/3: Metric Metric_Exp_PSPNFNS starts evaluation...\n",
      "INFO:cornac.experiment.experiment_explainers:self.current_rec: EFM, self.current_exp: Exp_EFM\n",
      "Re-evaluate after features removal... : 100%|██████████| 1000/1000 [00:01<00:00, 608.60it/s]\n",
      "INFO:cornac.experiment.experiment_explainers:Result: Probability of Necessity: 0.051; Probability of Sufficiency: 0.618; Harmonic Mean: 0.09422421524663675\n",
      "INFO:cornac.experiment.experiment_explainers:Start training Recommender MTER...\n",
      "INFO:cornac.experiment.experiment_explainers:*****Start evaluating model-explainer: 'MTER:Exp_MTER'...\n",
      "INFO:cornac.experiment.experiment_explainers:Step 1/3: Recommender MTER creates recommendations\n",
      "INFO:cornac.experiment.experiment_explainers:Step 2/3: Explainer Exp_MTER create explanation for all recommendations\n",
      "Computing explanations: 100%|██████████| 1000/1000 [00:00<00:00, 5240.19it/s]\n",
      "INFO:cornac.experiment.experiment_explainers:Step 3/3: Metric Metric_Exp_DIV starts evaluation...\n",
      "INFO:cornac.experiment.experiment_explainers:Result: Feature diversity: 0.10778244911591389\n",
      "INFO:cornac.experiment.experiment_explainers:Step 3/3: Metric Metric_Exp_FPR starts evaluation...\n",
      "Start evaluation... :  59%|█████▉    | 66/111 [00:00<00:00, 5097.58it/s]\n",
      "INFO:cornac.experiment.experiment_explainers:Result: Feature Precision: 0.488095238095238; Feature Recall: 0.3164925406443087; Harmonic Mean: 0.3213295031862114\n",
      "INFO:cornac.experiment.experiment_explainers:Step 3/3: Metric Metric_Exp_PSPNFNS starts evaluation...\n",
      "INFO:cornac.experiment.experiment_explainers:self.current_rec: MTER, self.current_exp: Exp_MTER\n",
      "Re-evaluate after features removal... : 100%|██████████| 1000/1000 [00:01<00:00, 938.38it/s]\n",
      "INFO:cornac.experiment.experiment_explainers:Result: Probability of Necessity: 0.0; Probability of Sufficiency: 0.567; Harmonic Mean: 0.0\n",
      "INFO:cornac.experiment.experiment_explainers:experiment data: [[0.5231231231223435, 0.11532505389428624, 0.09422421524663675, 0.04861903190612793, 3.3324038982391357], [0.10778244911591389, 0.3213295031862114, 0.0, 0.0767977237701416, 1.5332520008087158]]\n",
      "INFO:cornac.experiment.experiment_explainers:Experiment result: \n",
      " recommender:explainer |      Metric_Exp_DIV |      Metric_Exp_FPR |  Metric_Exp_PSPNFNS |            Train(s) |        Evaluate(s)\n",
      "EFM:Exp_EFM           |  0.5231231231223435 | 0.11532505389428624 | 0.09422421524663675 | 0.04861903190612793 | 3.3324038982391357\n",
      "MTER:Exp_MTER         | 0.10778244911591389 |  0.3213295031862114 |                 0.0 |  0.0767977237701416 | 1.5332520008087158\n",
      "\n"
     ]
    }
   ],
   "source": [
    "# prepare data\n",
    "rs = prepare_data(data_name=\"goodreads\", test_size=0.2, dense=True, item=True, user=True, sample_size=1, seed=21)\n",
    "ground_truth_good_reads = goodreads.load_sentiment()\n",
    "\n",
    "# initialize recommenders and explainers\n",
    "efm = EFM(max_iter=20, num_explicit_factors=50, num_latent_factors=50, num_most_cared_aspects=50, alpha=0.85,lambda_h=0.1, lambda_u=0.001, lambda_v=0.01, lambda_x=1.0, lambda_y= 0.1)\n",
    "efm_exp = Exp_EFM(rec_model=efm, dataset=rs.train_set)\n",
    "mter = MTER(max_iter=20, n_aspect_factors=8, n_item_factors=5, n_opinion_factors= 5, n_user_factors= 10, lambda_bpr=10, lambda_reg= 10, n_bpr_samples=1000, n_element_samples=50)\n",
    "mter_exp = Exp_MTER(rec_model=mter, dataset=rs.train_set)\n",
    "\n",
    "# initialize metrics\n",
    "pspnfns = PSPN()\n",
    "fdiv = DIV()\n",
    "fpr = FPR()\n",
    "fpr_with_input_as_groundtruth = FPR(ground_truth=ground_truth_good_reads)\n",
    "\n",
    "# initialize experiment\n",
    "models = [(efm, efm_exp), (mter, mter_exp)]\n",
    "metrics = [fdiv, fpr_with_input_as_groundtruth, pspnfns]\n",
    "experiment = Experiment_Explainers(eval_method=rs, models=models, metrics=metrics,rec_k=10, distribution=False, feature_k=10, eval_train=True)\n",
    "experiment.run()"
   ]
  },
  {
   "cell_type": "markdown",
   "metadata": {},
   "source": [
    "**Experiment 3**: run FDIV, PGF, MEP and EnDCG on (ALS, Exp_ALS), (EMF, Exp_PHI4MF) and (NEMF, Exp_SU4EMF) pairs using data from goodreads. This dataset only contains user, item and rating info."
   ]
  },
  {
   "cell_type": "code",
   "execution_count": 6,
   "metadata": {},
   "outputs": [
    {
     "name": "stderr",
     "output_type": "stream",
     "text": [
      "INFO:cornac.experiment.experiment_explainers:Start training Recommender ALS...\n",
      "100%|██████████| 500/500 [00:00<00:00, 512.07it/s, loss=0.0285]\n",
      "INFO:implicit:Final training loss 0.0285\n",
      "INFO:cornac.experiment.experiment_explainers:*****Start evaluating model-explainer: 'ALS:Exp_ALS'...\n",
      "INFO:cornac.experiment.experiment_explainers:Step 1/3: Recommender ALS creates recommendations\n",
      "INFO:cornac.experiment.experiment_explainers:Step 2/3: Explainer Exp_ALS create explanation for all recommendations\n",
      "Computing explanations: 100%|██████████| 1000/1000 [00:02<00:00, 424.55it/s]\n",
      "INFO:cornac.experiment.experiment_explainers:Step 3/3: Metric Metric_Exp_DIV starts evaluation...\n",
      "INFO:cornac.experiment.experiment_explainers:Result: Feature diversity: 0.14709629629610838\n",
      "INFO:cornac.experiment.experiment_explainers:Step 3/3: Metric Metric_Exp_PGF starts evaluation...\n",
      "100%|██████████| 100/100 [00:00<00:00, 6567.76it/s]\n",
      "INFO:cornac.experiment.experiment_explainers:Result: Metric_Exp_PGF: 0.2786968318619357\n",
      "ERROR:cornac.experiment.experiment_explainers:Metric Metric_Exp_MEP does not support Exp_ALS.\n",
      "ERROR:cornac.experiment.experiment_explainers:Metric Metric_Exp_EnDCG does not support Exp_ALS.\n",
      "INFO:cornac.experiment.experiment_explainers:Start training Recommender EMF...\n",
      " 86%|████████▌ | 431/500 [00:00<00:00, 2483.98it/s, loss=6043.16]\n",
      "INFO:cornac.experiment.experiment_explainers:*****Start evaluating model-explainer: 'EMF:Exp_PHI4MF'...\n",
      "INFO:cornac.experiment.experiment_explainers:Step 1/3: Recommender EMF creates recommendations\n",
      "INFO:cornac.experiment.experiment_explainers:Step 2/3: Explainer Exp_PHI4MF create explanation for all recommendations\n"
     ]
    },
    {
     "name": "stdout",
     "output_type": "stream",
     "text": [
      "Early stopping, delta_loss = 0.0000\n",
      "Optimization finished!\n"
     ]
    },
    {
     "name": "stderr",
     "output_type": "stream",
     "text": [
      "Computing explanations:   3%|▎         | 26/1000 [00:43<19:08,  1.18s/it]  "
     ]
    },
    {
     "name": "stdout",
     "output_type": "stream",
     "text": [
      "Association rules generated\n"
     ]
    },
    {
     "name": "stderr",
     "output_type": "stream",
     "text": [
      "Computing explanations: 100%|██████████| 1000/1000 [00:48<00:00, 20.82it/s]\n",
      "INFO:cornac.experiment.experiment_explainers:Step 3/3: Metric Metric_Exp_DIV starts evaluation...\n",
      "INFO:cornac.experiment.experiment_explainers:Result: Feature diversity: 0.0020994994994997457\n",
      "INFO:cornac.experiment.experiment_explainers:Step 3/3: Metric Metric_Exp_PGF starts evaluation...\n",
      "100%|██████████| 100/100 [00:00<00:00, 2590.76it/s]\n",
      "INFO:cornac.experiment.experiment_explainers:Result: Metric_Exp_PGF: 0.08733596866950392\n",
      "INFO:cornac.experiment.experiment_explainers:Step 3/3: Metric Metric_Exp_MEP starts evaluation...\n",
      "INFO:cornac.experiment.experiment_explainers:Result: Metric_Exp_MEP: 0.99\n",
      "INFO:cornac.experiment.experiment_explainers:Step 3/3: Metric Metric_Exp_EnDCG starts evaluation...\n",
      "INFO:cornac.experiment.experiment_explainers:Result: Metric_Exp_EnDCG: 0.5623712718372516\n",
      "INFO:cornac.experiment.experiment_explainers:Start training Recommender NEMF...\n"
     ]
    },
    {
     "name": "stdout",
     "output_type": "stream",
     "text": [
      "Start compute edge weight matrix...\n",
      "Start compute novel matrix...\n",
      "Matrix computation finished!\n"
     ]
    },
    {
     "name": "stderr",
     "output_type": "stream",
     "text": [
      "100%|██████████| 500/500 [00:00<00:00, 2712.32it/s, loss=6197.97]\n",
      "INFO:cornac.experiment.experiment_explainers:*****Start evaluating model-explainer: 'NEMF:Exp_SU4EMF'...\n",
      "INFO:cornac.experiment.experiment_explainers:Step 1/3: Recommender NEMF creates recommendations\n",
      "INFO:cornac.experiment.experiment_explainers:Step 2/3: Explainer Exp_SU4EMF create explanation for all recommendations\n"
     ]
    },
    {
     "name": "stdout",
     "output_type": "stream",
     "text": [
      "Optimization finished!\n"
     ]
    },
    {
     "name": "stderr",
     "output_type": "stream",
     "text": [
      "Computing explanations: 100%|██████████| 1000/1000 [00:00<00:00, 1489.12it/s]\n",
      "INFO:cornac.experiment.experiment_explainers:Step 3/3: Metric Metric_Exp_DIV starts evaluation...\n",
      "INFO:cornac.experiment.experiment_explainers:Result: Feature diversity: 0.3888990887712282\n",
      "INFO:cornac.experiment.experiment_explainers:Step 3/3: Metric Metric_Exp_PGF starts evaluation...\n",
      "100%|██████████| 100/100 [00:00<00:00, 1438.04it/s]\n",
      "INFO:cornac.experiment.experiment_explainers:Result: Metric_Exp_PGF: 0.22262310311198236\n",
      "INFO:cornac.experiment.experiment_explainers:Step 3/3: Metric Metric_Exp_MEP starts evaluation...\n",
      "INFO:cornac.experiment.experiment_explainers:Result: Metric_Exp_MEP: 0.997\n",
      "INFO:cornac.experiment.experiment_explainers:Step 3/3: Metric Metric_Exp_EnDCG starts evaluation...\n",
      "INFO:cornac.experiment.experiment_explainers:Result: Metric_Exp_EnDCG: 0.5816534412228364\n",
      "INFO:cornac.experiment.experiment_explainers:experiment data: [[0.14709629629610838, 0.2786968318619357, 'N/A', 'N/A', 0.9796249866485596, 2.80245304107666], [0.0020994994994997457, 0.08733596866950392, 0.99, 0.5623712718372516, 0.20987796783447266, 48.36690807342529], [0.3888990887712282, 0.22262310311198236, 0.997, 0.5816534412228364, 0.23688292503356934, 1.1363649368286133]]\n",
      "INFO:cornac.experiment.experiment_explainers:Experiment result: \n",
      " recommender:explainer |        Metric_Exp_DIV |      Metric_Exp_PGF | Metric_Exp_MEP |   Metric_Exp_EnDCG |            Train(s) |        Evaluate(s)\n",
      "ALS:Exp_ALS           |   0.14709629629610838 |  0.2786968318619357 |            N/A |                N/A |  0.9796249866485596 |   2.80245304107666\n",
      "EMF:Exp_PHI4MF        | 0.0020994994994997457 | 0.08733596866950392 |           0.99 | 0.5623712718372516 | 0.20987796783447266 |  48.36690807342529\n",
      "NEMF:Exp_SU4EMF       |    0.3888990887712282 | 0.22262310311198236 |          0.997 | 0.5816534412228364 | 0.23688292503356934 | 1.1363649368286133\n",
      "\n"
     ]
    }
   ],
   "source": [
    "# prepare data\n",
    "rs_dense = prepare_data(data_name=\"goodreads_uir_1000\", test_size=0, dense=True, item=True, user=True, sample_size=1, seed=21)\n",
    "\n",
    "# initialize recommenders and explainers\n",
    "emf = EMF(k=10, max_iter=500, learning_rate=0.001, lambda_reg=0.1, explain_reg=0.01, verbose=True, seed=6, num_threads=6, early_stop=True)\n",
    "nemf = NEMF(k=10, max_iter=500, learning_rate=0.001, lambda_reg=0.1, explain_reg=0.01, novel_reg=1, verbose=True, seed=6, num_threads=6, early_stop=True)\n",
    "als = ALS(k=10, max_iter=500, lambda_reg=0.001, alpha=1, verbose=True, seed=6)\n",
    "als_exp = Exp_ALS(rec_model=als, dataset=rs_dense.train_set)\n",
    "emf_exp = Exp_PHI4MF(rec_model=emf, dataset=rs_dense.train_set)\n",
    "nemf_exp = Exp_SU4EMF(rec_model=nemf, dataset=rs_dense.train_set)\n",
    "\n",
    "# initialize metrics\n",
    "fdiv = DIV()\n",
    "pgf = PGF()\n",
    "mep = MEP()\n",
    "endcg = EnDCG()\n",
    "\n",
    "# initialize experiment\n",
    "models = [(als, als_exp), (emf, emf_exp), (nemf, nemf_exp)]\n",
    "metrics = [fdiv, pgf, mep, endcg]\n",
    "experiment = Experiment_Explainers(eval_method=rs_dense, models=models, metrics=metrics,distribution=False, rec_k=10, feature_k=10, eval_train=True)\n",
    "experiment.run()"
   ]
  },
  {
   "cell_type": "markdown",
   "metadata": {},
   "source": [
    "**Experiment 4**: Run RA and FA on pairwise models. FA and RA performs comparison between two sets of explainers, thus the score is unavailable when only one explainer is passed."
   ]
  },
  {
   "cell_type": "code",
   "execution_count": 5,
   "metadata": {},
   "outputs": [
    {
     "name": "stderr",
     "output_type": "stream",
     "text": [
      "INFO:cornac.experiment.experiment_explainers:Start training Recommender1 EFM...\n",
      "INFO:cornac.experiment.experiment_explainers:Start training Recommender2 MTER...\n",
      "INFO:cornac.experiment.experiment_explainers:*****Start evaluating model-explainer: 'EFM:Exp_EFM'vs'MTER:Exp_MTER'...\n",
      "INFO:cornac.experiment.experiment_explainers:Step 1/3: Creates fake recommendations from dataset for common used\n",
      "INFO:cornac.experiment.experiment_explainers:Step 2/3: Explainer1 Exp_EFM create explanation for all recommendations\n",
      "Computing explanations: 100%|██████████| 100/100 [00:00<00:00, 6099.83it/s]\n",
      "INFO:cornac.experiment.experiment_explainers:Step 2/3: Explainer2 Exp_MTER create explanation for all recommendations\n",
      "Computing explanations: 100%|██████████| 100/100 [00:00<00:00, 4184.85it/s]\n",
      "INFO:cornac.experiment.experiment_explainers:Step 3/3: Metric Metric_Exp_FA starts evaluation...\n",
      "INFO:cornac.experiment.experiment_explainers:Result: Average Metric_Exp_FA: 0.016666666666666666\n",
      "INFO:cornac.experiment.experiment_explainers:Step 3/3: Metric Metric_Exp_RA starts evaluation...\n",
      "INFO:cornac.experiment.experiment_explainers:Result: Average Metric_Exp_RA: 0.013333333333333332\n",
      "ERROR:cornac.experiment.experiment_explainers:Metric Metric_Exp_DIV does not support ('Exp_EFM', 'Exp_MTER').\n",
      "INFO:cornac.experiment.experiment_explainers:Start training Recommender EFM...\n",
      "INFO:cornac.experiment.experiment_explainers:*****Start evaluating model-explainer: 'EFM:Exp_EFM'...\n",
      "INFO:cornac.experiment.experiment_explainers:Step 1/3: Recommender EFM creates recommendations\n",
      "INFO:cornac.experiment.experiment_explainers:Step 2/3: Explainer Exp_EFM create explanation for all recommendations\n",
      "Computing explanations: 100%|██████████| 1000/1000 [00:00<00:00, 8437.04it/s]\n",
      "INFO:cornac.experiment.experiment_explainers:Step 3/3: Metric Metric_Exp_FA starts evaluation...\n",
      "INFO:cornac.experiment.experiment_explainers:Step 3/3: Metric Metric_Exp_RA starts evaluation...\n",
      "INFO:cornac.experiment.experiment_explainers:Step 3/3: Metric Metric_Exp_DIV starts evaluation...\n",
      "INFO:cornac.experiment.experiment_explainers:Result: Feature diversity: 0.44971638304964473\n",
      "INFO:cornac.experiment.experiment_explainers:Start training Recommender MTER...\n",
      "INFO:cornac.experiment.experiment_explainers:*****Start evaluating model-explainer: 'MTER:Exp_MTER'...\n",
      "INFO:cornac.experiment.experiment_explainers:Step 1/3: Recommender MTER creates recommendations\n",
      "INFO:cornac.experiment.experiment_explainers:Step 2/3: Explainer Exp_MTER create explanation for all recommendations\n",
      "Computing explanations: 100%|██████████| 1000/1000 [00:00<00:00, 8111.63it/s]\n",
      "INFO:cornac.experiment.experiment_explainers:Step 3/3: Metric Metric_Exp_FA starts evaluation...\n",
      "INFO:cornac.experiment.experiment_explainers:Step 3/3: Metric Metric_Exp_RA starts evaluation...\n",
      "INFO:cornac.experiment.experiment_explainers:Step 3/3: Metric Metric_Exp_DIV starts evaluation...\n",
      "INFO:cornac.experiment.experiment_explainers:Result: Feature diversity: 0.07260060060059499\n",
      "INFO:cornac.experiment.experiment_explainers:experiment data: [[0.016666666666666666, 0.013333333333333332, 'N/A', 0.10176992416381836, 0.23675179481506348], ['N/A', 'N/A', 0.44971638304964473, 0.0769197940826416, 0.793834924697876], ['N/A', 'N/A', 0.07260060060059499, 0.05950498580932617, 0.7060348987579346]]\n",
      "INFO:cornac.experiment.experiment_explainers:Experiment result: \n",
      " recommender:explainer        |        Metric_Exp_FA |        Metric_Exp_RA |      Metric_Exp_DIV |            Train(s) |         Evaluate(s)\n",
      "EFM:Exp_EFM'vs'MTER:Exp_MTER | 0.016666666666666666 | 0.013333333333333332 |                 N/A | 0.10176992416381836 | 0.23675179481506348\n",
      "EFM:Exp_EFM                  |                  N/A |                  N/A | 0.44971638304964473 |  0.0769197940826416 |   0.793834924697876\n",
      "MTER:Exp_MTER                |                  N/A |                  N/A | 0.07260060060059499 | 0.05950498580932617 |  0.7060348987579346\n",
      "\n"
     ]
    }
   ],
   "source": [
    "# prepare data\n",
    "rs = prepare_data(data_name=\"goodreads\", test_size=0.2, dense=True, item=True, user=True, sample_size=1, seed=21)\n",
    "\n",
    "# initialize recommenders and explainers\n",
    "efm = EFM(max_iter=20, num_explicit_factors=50, num_latent_factors=50, num_most_cared_aspects=50, alpha=0.85,lambda_h=0.1, lambda_u=0.001, lambda_v=0.01, lambda_x=1.0, lambda_y= 0.1)\n",
    "efm_exp = Exp_EFM(rec_model=efm, dataset=rs.train_set)\n",
    "mter = MTER(max_iter=20, n_aspect_factors=8, n_item_factors=5, n_opinion_factors= 5, n_user_factors= 10, lambda_bpr=10, lambda_reg= 10, n_bpr_samples=1000, n_element_samples=50)\n",
    "mter_exp = Exp_MTER(rec_model=mter, dataset=rs.train_set)\n",
    "\n",
    "# initialize metrics\n",
    "fa = FA()\n",
    "ra = RA()\n",
    "fdiv = DIV()\n",
    "\n",
    "# initialize experiment\n",
    "models = [[(efm, mter), (efm_exp, mter_exp)], (efm, efm_exp), (mter, mter_exp)]\n",
    "metrics = [fa,ra, fdiv]\n",
    "experiment = Experiment_Explainers(eval_method=rs, models=models, metrics=metrics,rec_k=10, feature_k=10, eval_train=True)\n",
    "experiment.run()"
   ]
  }
 ],
 "metadata": {
  "kernelspec": {
   "display_name": "my_venv",
   "language": "python",
   "name": "python3"
  },
  "language_info": {
   "codemirror_mode": {
    "name": "ipython",
    "version": 3
   },
   "file_extension": ".py",
   "mimetype": "text/x-python",
   "name": "python",
   "nbconvert_exporter": "python",
   "pygments_lexer": "ipython3",
   "version": "3.9.19"
  },
  "orig_nbformat": 4,
  "vscode": {
   "interpreter": {
    "hash": "8ebbe97ee2486d44b314e7fb9a74c6e9ddf9ecd1c9e636490160d240e80178cb"
   }
  }
 },
 "nbformat": 4,
 "nbformat_minor": 2
}
