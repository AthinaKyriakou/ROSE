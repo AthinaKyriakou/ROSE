{
 "cells": [
  {
   "cell_type": "markdown",
   "metadata": {},
   "source": [
    "### CASE 1 Visualize the Experiment Result"
   ]
  },
  {
   "cell_type": "code",
   "execution_count": 3,
   "metadata": {},
   "outputs": [
    {
     "name": "stderr",
     "output_type": "stream",
     "text": [
      "/Users/yaoyao/miniconda3/envs/rose/lib/python3.9/site-packages/tqdm/auto.py:21: TqdmWarning: IProgress not found. Please update jupyter and ipywidgets. See https://ipywidgets.readthedocs.io/en/stable/user_install.html\n",
      "  from .autonotebook import tqdm as notebook_tqdm\n"
     ]
    },
    {
     "name": "stdout",
     "output_type": "stream",
     "text": [
      "Start training Recommender EFM...\n",
      "*****Start evaluating model-explainer: 'EFM:Exp_EFM'...\n",
      "Step 1/3: Recommender EFM creates recommendations\n",
      "Step 2/3: Explainer Exp_EFM create explanation for all recommendations\n"
     ]
    },
    {
     "name": "stderr",
     "output_type": "stream",
     "text": [
      "Computing explanations: 100%|██████████| 1000/1000 [00:00<00:00, 1569.34it/s]\n"
     ]
    },
    {
     "name": "stdout",
     "output_type": "stream",
     "text": [
      "Step 3/3: Metric Metric_Exp_DIV starts evaluation...\n",
      "Result: Feature diversity: 0.612879546212961\n",
      "Step 3/3: Metric Metric_Exp_FPR starts evaluation...\n"
     ]
    },
    {
     "name": "stderr",
     "output_type": "stream",
     "text": [
      "Start evaluation... :  10%|█         | 900/9000 [00:02<00:24, 333.24it/s]\n"
     ]
    },
    {
     "name": "stdout",
     "output_type": "stream",
     "text": [
      "Result: Feature Precision: 0.3735119047619047; Feature Recall: 0.0200485855824297; Harmonic Mean: 0.03736795155796925\n",
      "Start training Recommender MTER...\n",
      "*****Start evaluating model-explainer: 'MTER:Exp_MTER'...\n",
      "Step 1/3: Recommender MTER creates recommendations\n",
      "Step 2/3: Explainer Exp_MTER create explanation for all recommendations\n"
     ]
    },
    {
     "name": "stderr",
     "output_type": "stream",
     "text": [
      "Computing explanations: 100%|██████████| 1000/1000 [00:00<00:00, 3637.86it/s]\n"
     ]
    },
    {
     "name": "stdout",
     "output_type": "stream",
     "text": [
      "Step 3/3: Metric Metric_Exp_DIV starts evaluation...\n",
      "Result: Feature diversity: 0.11248181514856631\n",
      "Step 3/3: Metric Metric_Exp_FPR starts evaluation...\n"
     ]
    },
    {
     "name": "stderr",
     "output_type": "stream",
     "text": [
      "/Users/yaoyao/miniconda3/envs/rose/lib/python3.9/site-packages/cornac-2.0.0-py3.9-macosx-11.1-arm64.egg/cornac/metrics_explainer/exp_experiment.py:183: FutureWarning: ChainedAssignmentError: behaviour will change in pandas 3.0!\n",
      "You are setting values through chained assignment. Currently this works in certain cases, but when using Copy-on-Write (which will become the default behaviour in pandas 3.0) this will never work to update the original DataFrame or Series, because the intermediate object on which we are setting values will behave as a copy.\n",
      "A typical example is when you are setting values in a column of a DataFrame, like:\n",
      "\n",
      "df[\"col\"][row_indexer] = value\n",
      "\n",
      "Use `df.loc[row_indexer, \"col\"] = values` instead, to perform the assignment in a single step and ensure this keeps updating the original `df`.\n",
      "\n",
      "See the caveats in the documentation: https://pandas.pydata.org/pandas-docs/stable/user_guide/indexing.html#returning-a-view-versus-a-copy\n",
      "\n",
      "  (precision, recall, ff1), (precision_d, recall_d, ff1_d) = self.current_metric.compute(self.current_rec, self.current_exp)\n",
      "Start evaluation... :  40%|███▉      | 236/594 [00:00<00:00, 1595.39it/s]\n"
     ]
    },
    {
     "name": "stdout",
     "output_type": "stream",
     "text": [
      "Result: Feature Precision: 0.44062947067238917; Feature Recall: 0.2919102867561048; Harmonic Mean: 0.29804659555915153\n",
      "experiment data: [[0.612879546212961, 0.03736795155796925, 0.07250189781188965, 5.989577054977417], [0.11248181514856631, 0.29804659555915153, 0.07754111289978027, 3.052281141281128]]\n",
      "\n",
      "\n",
      "recommender:explainer |      Metric_Exp_DIV |      Metric_Exp_FPR |            Train(s) |       Evaluate(s)\n",
      "EFM:Exp_EFM           |   0.612879546212961 | 0.03736795155796925 | 0.07250189781188965 | 5.989577054977417\n",
      "MTER:Exp_MTER         | 0.11248181514856631 | 0.29804659555915153 | 0.07754111289978027 | 3.052281141281128\n",
      "\n"
     ]
    }
   ],
   "source": [
    "from cornac.metrics_explainer.exp_experiment import Explainers_Experiment\n",
    "from cornac.datasets.goodreads import prepare_data\n",
    "from cornac.metrics_explainer import Metric_Exp_DIV as DIV, Metric_Exp_FPR as FPR, Metric_Exp_FA as FA, Metric_Exp_RA as RA\n",
    "from cornac.models import EFM, MTER\n",
    "from cornac.explainer import Exp_EFM, Exp_MTER\n",
    "from cornac.experiment import Visualization\n",
    "\n",
    "rs_sent_dense = prepare_data(data_name=\"goodreads\", test_size=0, dense=True, item=True, user=True, sample_size=1, seed=21)\n",
    "fdiv = DIV()\n",
    "fpr = FPR()\n",
    "fpr_with_input_as_groundtruth = FPR(fpath=\"../cornac/datasets/good_reads/goodreads_sentiment_full.txt\")\n",
    "efm = EFM(max_iter=20, num_explicit_factors=50, num_latent_factors=50, num_most_cared_aspects=50, alpha=0.85,lambda_h=0.1, lambda_u=0.001, lambda_v=0.01, lambda_x=1.0, lambda_y= 0.1)\n",
    "efm_exp = Exp_EFM(rec_model=efm, dataset=rs_sent_dense.train_set)\n",
    "mter = MTER(max_iter=20, n_aspect_factors=8, n_item_factors=5, n_opinion_factors= 5, n_user_factors= 10, lambda_bpr=10, lambda_reg= 10, n_bpr_samples=1000, n_element_samples=50)\n",
    "mter_exp = Exp_MTER(rec_model=mter, dataset=rs_sent_dense.train_set)\n",
    "\n",
    "models = [(efm, efm_exp), (mter, mter_exp)]\n",
    "metrics = [fdiv, fpr_with_input_as_groundtruth]\n",
    "experiment = Explainers_Experiment(eval_method=rs_sent_dense, models=models, metrics=metrics,rec_k=10, feature_k=10, eval_train=True)\n",
    "experiment.run()"
   ]
  },
  {
   "cell_type": "code",
   "execution_count": 5,
   "metadata": {},
   "outputs": [],
   "source": [
    "import numpy as np\n",
    "import pandas as pd\n",
    "import matplotlib.pyplot as plt\n",
    "\n",
    "class Visualization(object):\n",
    "    \"\"\"Data Visualization class   \"\"\"\n",
    "    \n",
    "    def __init__(self):\n",
    "        \"\"\"Initialize the Visualization class\n",
    "\n",
    "        Args:\n",
    "            \n",
    "        \"\"\"\n",
    "        pass\n",
    "                \n",
    "    def visualize_experiemnt_result(self, EE, kind = \"bar\"):\n",
    "        \"\"\"Visualize the result of the runing experiment\n",
    "\n",
    "        Args:\n",
    "            EE (_class_): the class Object of the Explainers_Experiment\n",
    "            kind (_string_): the type of the chart to be plotted, default is \"bar\", options: \"bar\", \"line\";\n",
    "        \"\"\"\n",
    "        if EE.result is None:\n",
    "            EE.run()\n",
    "        # result = EE.data # list: the result of the experiment\n",
    "        # pairs = EE.models # list: [model:explainer, model:explainer, ..]\n",
    "        # metrics = EE.metrics # list: [metric1, metric2, .., train_cost, evaluate_cost]\n",
    "        result = [list[1:] for list in EE.result]\n",
    "        columns = [metric.name for metric in EE.metrics]\n",
    "        columns.extend([\"train_cost\", \"evaluate_cost\"])\n",
    "        pair_name_list = [list[0] for list in EE.result]\n",
    "        data_df = pd.DataFrame(result, columns=columns, index=pair_name_list)\n",
    "        data_df.fillna(0, inplace=True)\n",
    "        metrics_data = data_df.iloc[:,:-2]\n",
    "        cost_data = data_df.iloc[:,-2:]\n",
    "        print(\"=======Start Visualization=======\")\n",
    "        if len(metrics_data.columns)>0:\n",
    "            self._plot_exp_vs_metric(metrics_data, kind)\n",
    "        if len(cost_data.columns)>0:\n",
    "            self._plot_cost(cost_data)\n",
    "        print(\"=======Visualization Done=======\")\n",
    "        \n",
    "    def _plot_exp_vs_metric(self, df, kind = \"bar\"):\n",
    "        \"\"\"Plot the bar chart: compare the performance of model/explainer pairs on a specific metric\n",
    "\n",
    "        Args:\n",
    "            df (_dataframe_): a dataframe with the model/explainer pairs as rows and the metrics as columns\n",
    "            kind (_string_): the type of the chart to be plotted, default is \"bar\", options: \"bar\", \"line\";\n",
    "        \"\"\"\n",
    "        \n",
    "        print(f\"Plot the {kind} chart for the metrics:\")\n",
    "        if kind == \"bar\":\n",
    "            plt.figure(figsize=(6, 4))\n",
    "            df.plot(kind=kind, ax=plt.gca())\n",
    "            plt.xticks(rotation=0)\n",
    "            plt.show()\n",
    "        print(df)\n",
    "        if kind == \"line\":\n",
    "            plt.figure(figsize=(6, 4))\n",
    "            ax = df.plot(kind=kind, marker='o', linestyle='-')\n",
    "            # Set x-axis labels to be the DataFrame index\n",
    "            ax.set_xticks(range(len(df.index)))\n",
    "            ax.set_xticklabels(df.index)\n",
    "            plt.xticks(rotation=0)\n",
    "            plt.show()\n",
    "        \n",
    "        # for column in df.columns:\n",
    "        #     plt.bar(df.index, df[column], label=column)\n",
    "        #     plt.ylabel(column)\n",
    "        #     plt.show()\n",
    "\n",
    "    def _plot_cost(self, df):\n",
    "        \"\"\"Plot the bar chart: compare the cost of training and evaluating the model/explainer pairs\n",
    "\n",
    "        Args:\n",
    "            df (_dataframe_): a dataframe with the model/explainer pairs as rows and the cost as columns\n",
    "        \"\"\"\n",
    "        print(\"Plot the bar chart for the cost:\")\n",
    "        # Plotting the stacked bar chart\n",
    "        # plt.bar(df.index, df.iloc[:, -2], label=df.columns[-2])\n",
    "        # plt.bar(df.index, df.iloc[:, -1], bottom=df.iloc[:, -2], label=df.columns[-1])\n",
    "        df.plot(kind='bar', stacked=True)\n",
    "        # Adding labels and title\n",
    "        plt.xticks(rotation=0)\n",
    "        #plt.xlabel(\"model:explainer\")\n",
    "        plt.ylabel(\"time(s)\")\n",
    "        plt.legend()\n",
    "        plt.show()\n"
   ]
  },
  {
   "cell_type": "code",
   "execution_count": 7,
   "metadata": {},
   "outputs": [
    {
     "name": "stdout",
     "output_type": "stream",
     "text": [
      "=======Start Visualization=======\n",
      "Plot the bar chart for the metrics:\n"
     ]
    },
    {
     "data": {
      "image/png": "[encoded data removed]",
      "text/plain": [
       "<Figure size 600x400 with 1 Axes>"
      ]
     },
     "metadata": {},
     "output_type": "display_data"
    },
    {
     "name": "stdout",
     "output_type": "stream",
     "text": [
      "               Metric_Exp_DIV  Metric_Exp_FPR\n",
      "EFM:Exp_EFM          0.612880        0.037368\n",
      "MTER:Exp_MTER        0.112482        0.298047\n",
      "Plot the bar chart for the cost:\n"
     ]
    },
    {
     "data": {
      "image/png": "[encoded data removed]",
      "text/plain": [
       "<Figure size 640x480 with 1 Axes>"
      ]
     },
     "metadata": {},
     "output_type": "display_data"
    },
    {
     "name": "stdout",
     "output_type": "stream",
     "text": [
      "=======Visualization Done=======\n"
     ]
    }
   ],
   "source": [
    "vis = Visualization()\n",
    "vis.visualize_experiemnt_result(experiment, kind=\"bar\")"
   ]
  },
  {
   "cell_type": "markdown",
   "metadata": {},
   "source": [
    "### CASE 2 Visualize the Effect of Parameters' Change (rec_k, feature_k)\n",
    "Problem:\n",
    "    - Explainaer_Experiment(models = [model_1, model_2], rec_k=10, feature_k = 10) fixed parameter for all models/explainers \n",
    "Solution:\n",
    "    - Pass a list of Explainer_Experiment Object to func Visualization_Parameter_Change([EE_1, EE_2, EE_3], param_name = 'rec_k/feature_k')"
   ]
  }
 ],
 "metadata": {
  "kernelspec": {
   "display_name": "rose",
   "language": "python",
   "name": "python3"
  },
  "language_info": {
   "codemirror_mode": {
    "name": "ipython",
    "version": 3
   },
   "file_extension": ".py",
   "mimetype": "text/x-python",
   "name": "python",
   "nbconvert_exporter": "python",
   "pygments_lexer": "ipython3",
   "version": "3.9.19"
  }
 },
 "nbformat": 4,
 "nbformat_minor": 2
}
