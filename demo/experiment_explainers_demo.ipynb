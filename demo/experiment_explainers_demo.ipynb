{
 "cells": [
  {
   "cell_type": "markdown",
   "metadata": {},
   "source": [
    "### Explainer Experiment Demo\n",
    "\n",
    "Below we show some examples on how you can use the **Experiment_Explainers** class. The general steps consist of:\n",
    "1. prepare data\n",
    "2. Initialize recommenders, explainers and metrics\n",
    "3. Initialize experiment and run the experiment\n",
    "\n",
    "You can set distribution=True to enable distribution plots while running the experiments. The plots will be saved in /experiment_plots.\n",
    "\n",
    "When the experiment is completed, result table is saved in /experiment_plots."
   ]
  },
  {
   "cell_type": "code",
   "execution_count": 2,
   "metadata": {},
   "outputs": [
    {
     "name": "stderr",
     "output_type": "stream",
     "text": [
      "/Users/yaoyao/miniconda3/envs/rose/lib/python3.9/site-packages/flatbuffers/compat.py:19: DeprecationWarning: the imp module is deprecated in favour of importlib; see the module's documentation for alternative uses\n",
      "  import imp\n"
     ]
    }
   ],
   "source": [
    "import warnings\n",
    "from cornac.datasets import goodreads\n",
    "from cornac.experiment.experiment_explainers import Experiment_Explainers\n",
    "from cornac.models import EMF, ALS, FMRec, MTER, EFM, NEMF\n",
    "from cornac.explainer import (\n",
    "    Exp_EFM,\n",
    "    Exp_LIMERS,\n",
    "    Exp_MTER,\n",
    "    Exp_ALS,\n",
    "    Exp_PHI4MF,\n",
    "    Exp_SU4EMF,\n",
    ")\n",
    "from cornac.datasets.goodreads import prepare_data\n",
    "from cornac.metrics_explainer import (\n",
    "    Metric_Exp_PSPNFNS as PSPN,\n",
    "    Metric_Exp_PGF as PGF,\n",
    "    Metric_Exp_MEP as MEP,\n",
    "    Metric_Exp_EnDCG as EnDCG,\n",
    ")\n",
    "from cornac.metrics_explainer import (\n",
    "    Metric_Exp_DIV as DIV,\n",
    "    Metric_Exp_FPR as FPR,\n",
    "    Metric_Exp_FA as FA,\n",
    "    Metric_Exp_RA as RA,\n",
    ")\n",
    "\n",
    "warnings.filterwarnings(\"ignore\")"
   ]
  },
  {
   "cell_type": "markdown",
   "metadata": {},
   "source": [
    "**Experiment 1**: run PSPNFNS, FDIV and FPR on (FM, Exp_LIMERS) pair using rating data and sentiment data from amazon toys. Since this dataset does not contain explicit item and user features, we parsed aspect and opinion from sentiment data as item and user features respectively in the  ***create_item_features_from_aspects*** function."
   ]
  },
  {
   "cell_type": "code",
   "execution_count": 5,
   "metadata": {},
   "outputs": [],
   "source": [
    "from cornac.datasets import amazon_toy\n",
    "import numpy as np\n",
    "from cornac.data import FeatureModality\n",
    "from cornac.eval_methods import RatioSplit\n",
    "\n",
    "\n",
    "def create_item_features_from_aspects(at_sentiment):\n",
    "    \"\"\"Separate aspects and opinions from sentiment data and create item and user features from them.\"\"\"\n",
    "    items = {}\n",
    "    users = {}\n",
    "    for _, row in enumerate(at_sentiment):\n",
    "        user, item, sentiments = row\n",
    "        if user not in users:\n",
    "            users[user] = []\n",
    "        if item not in items:\n",
    "            items[item] = []\n",
    "        for sentiment in sentiments:\n",
    "            if sentiment[0] not in items[item]:\n",
    "                items[item].append(sentiment[0])  # aspect adds to item feature\n",
    "            if sentiment[1] not in users[user]:\n",
    "                users[user].append(sentiment[1])  # opinion adds to user feature\n",
    "\n",
    "    item_aspect_pairs = np.array(\n",
    "        [(item, feature) for item in items for feature in items[item]]\n",
    "    )\n",
    "    user_opinion_pairs = np.array(\n",
    "        [(user, feature) for user in users for feature in users[user]]\n",
    "    )\n",
    "    return item_aspect_pairs, user_opinion_pairs, items.keys(), users.keys()\n",
    "\n",
    "\n",
    "at_feedback = amazon_toy.load_feedback()\n",
    "at_feedback = at_feedback[: len(at_feedback) // 20]  # reduce data size\n",
    "at_sentiment = amazon_toy.load_sentiment()\n",
    "items_feature, users_feature, items_list, users_list = (\n",
    "    create_item_features_from_aspects(at_sentiment)\n",
    ")\n",
    "# remove unknown users and items from rating data\n",
    "at_feedback_excl_unknowns = [\n",
    "    x for x in at_feedback if x[0] in users_list and x[1] in items_list\n",
    "]"
   ]
  },
  {
   "cell_type": "code",
   "execution_count": 6,
   "metadata": {},
   "outputs": [
    {
     "name": "stderr",
     "output_type": "stream",
     "text": [
      "INFO:cornac.experiment.experiment_explainers:Start training Recommender FMRec...\n"
     ]
    },
    {
     "name": "stdout",
     "output_type": "stream",
     "text": [
      "Creating validation dataset of 0.01 of training for adaptive regularization\n",
      "-- Epoch 1\n",
      "Training MSE: 0.84335\n",
      "-- Epoch 2\n",
      "Training MSE: 0.54054\n",
      "-- Epoch 3\n",
      "Training MSE: 0.47963\n",
      "-- Epoch 4\n",
      "Training MSE: 0.43793\n",
      "-- Epoch 5\n",
      "Training MSE: 0.40798\n",
      "-- Epoch 6\n",
      "Training MSE: 0.38155\n",
      "-- Epoch 7\n",
      "Training MSE: 0.36740\n",
      "-- Epoch 8\n",
      "Training MSE: 0.35302\n",
      "-- Epoch 9\n",
      "Training MSE: 0.34088\n",
      "-- Epoch 10\n"
     ]
    },
    {
     "name": "stderr",
     "output_type": "stream",
     "text": [
      "INFO:cornac.experiment.experiment_explainers:*****Start evaluating model-explainer: 'FMRec:Exp_LIMERS'...\n",
      "INFO:cornac.experiment.experiment_explainers:Step 1/3: Recommender FMRec creates recommendations\n"
     ]
    },
    {
     "name": "stdout",
     "output_type": "stream",
     "text": [
      "Training MSE: 0.33139\n"
     ]
    },
    {
     "name": "stderr",
     "output_type": "stream",
     "text": [
      "INFO:cornac.experiment.experiment_explainers:Step 2/3: Explainer Exp_LIMERS create explanation for all recommendations\n",
      "Computing explanations: : 20537it [07:39, 44.66it/s]                         \n",
      "INFO:cornac.experiment.experiment_explainers:Step 3/3: Metric Metric_Exp_PSPNFNS starts evaluation...\n",
      "INFO:cornac.experiment.experiment_explainers:self.current_rec: FMRec, self.current_exp: Exp_LIMERS\n",
      "Re-evaluate after features removal... : 20537it [06:49, 50.21it/s]                           \n",
      "INFO:cornac.experiment.experiment_explainers:Result: Probability of Necessity: 0.9873071979434447; Probability of Sufficiency: 0.0; Harmonic Mean: 0.0\n",
      "INFO:cornac.experiment.experiment_explainers:Step 3/3: Metric Metric_Exp_DIV starts evaluation...\n",
      "INFO:cornac.experiment.experiment_explainers:Result: Feature diversity: 0.08820979829202373\n",
      "INFO:cornac.experiment.experiment_explainers:Step 3/3: Metric Metric_Exp_FPR starts evaluation...\n",
      "ERROR:cornac.experiment.experiment_explainers:Metric Metric_Exp_FPR does not support Exp_LIMERS.\n",
      "INFO:cornac.experiment.experiment_explainers:experiment data: [[0.0, 0.08820979829202373, 'N/A', 13.353046178817749, 1270.946202993393]]\n",
      "INFO:cornac.experiment.experiment_explainers:Experiment result: \n",
      " recommender:explainer | Metric_Exp_PSPNFNS |      Metric_Exp_DIV | Metric_Exp_FPR |           Train(s) |       Evaluate(s)\n",
      "FMRec:Exp_LIMERS      |                0.0 | 0.08820979829202373 |            N/A | 13.353046178817749 | 1270.946202993393\n",
      "\n"
     ]
    }
   ],
   "source": [
    "# prepare data\n",
    "rs = RatioSplit(\n",
    "    data=at_feedback,\n",
    "    test_size=0.2,\n",
    "    item_feature=FeatureModality(items_feature),\n",
    "    # user_feature=FeatureModality(users_feature), # user feature is not used in this experiment\n",
    "    seed=42,\n",
    "    exclude_unknowns=True,\n",
    ")\n",
    "# initialize recommenders, explainers and metrics\n",
    "fm = FMRec()\n",
    "limers = Exp_LIMERS(rec_model=fm, dataset=rs.train_set)\n",
    "pspnfns = PSPN()\n",
    "fdiv = DIV()\n",
    "fpr = FPR()\n",
    "\n",
    "# initialize experiment\n",
    "models = [(fm, limers)]\n",
    "metrics = [pspnfns, fdiv, fpr]\n",
    "experiment = Experiment_Explainers(\n",
    "    eval_method=rs,\n",
    "    models=models,\n",
    "    metrics=metrics,\n",
    "    distribution=True,\n",
    "    rec_k=4,\n",
    "    feature_k=4,\n",
    "    eval_train=True,\n",
    ")\n",
    "experiment.run()"
   ]
  },
  {
   "cell_type": "markdown",
   "metadata": {},
   "source": [
    "**Experiment 2**: run PSPN, FDIV and FPR on (EFM, Exp_EFM) and (MTER, Exp_MTER) pairs using data from goodreads. This dataset contains explicit review keywords."
   ]
  },
  {
   "cell_type": "code",
   "execution_count": 3,
   "metadata": {},
   "outputs": [
    {
     "name": "stderr",
     "output_type": "stream",
     "text": [
      "100%|██████████| 1000/1000 [00:37<00:00, 26.93it/s]"
     ]
    },
    {
     "name": "stdout",
     "output_type": "stream",
     "text": [
      "number of users: 682\n",
      "number of items: 54\n",
      "61 rows have no lexicon\n",
      "939 rows after dropping users having less than 1 reviews\n"
     ]
    },
    {
     "name": "stderr",
     "output_type": "stream",
     "text": [
      "\n"
     ]
    }
   ],
   "source": [
    "import pandas as pd\n",
    "from cornac.data import Reader\n",
    "from cornac.datasets import amazon_digital_music\n",
    "from cornac.data.lexicon import SentimentAnalysis\n",
    "from cornac.eval_methods import RatioSplit\n",
    "from cornac.data import SentimentModality\n",
    "\n",
    "feedback = amazon_digital_music.load_feedback()\n",
    "review = amazon_digital_music.load_review()\n",
    "columns = [\"user_id\", \"item_id\", \"rating\", \"review_text\"]\n",
    "ratings_df = pd.DataFrame(feedback, columns=columns[:3])\n",
    "reviews_df = pd.DataFrame(review, columns=[columns[0], columns[1], columns[3]])\n",
    "all_df = pd.merge(ratings_df, reviews_df, on=[\"user_id\", \"item_id\"])\n",
    "input_df = all_df[: 1000] # reduce data size\n",
    "SA = SentimentAnalysis(input_df, usecols = columns) \n",
    "df = SA.build_lexicons()\n",
    "output_lexicon = './dataset/lexicon.txt'\n",
    "output_rating = './dataset/rating.txt'\n",
    "SA.save_to_file(output_lexicon, output_rating)"
   ]
  },
  {
   "cell_type": "code",
   "execution_count": 4,
   "metadata": {},
   "outputs": [],
   "source": [
    "reader = Reader()\n",
    "ratings = reader.read(output_rating, fmt='UIR', sep=',')\n",
    "lexicon = reader.read(output_lexicon, fmt='UITup', sep=',', tup_sep=':')\n",
    "sentiment = SentimentModality(data = lexicon)"
   ]
  },
  {
   "cell_type": "code",
   "execution_count": 5,
   "metadata": {},
   "outputs": [
    {
     "name": "stderr",
     "output_type": "stream",
     "text": [
      "INFO:cornac.experiment.experiment_explainers:Start training Recommender EFM...\n"
     ]
    },
    {
     "name": "stderr",
     "output_type": "stream",
     "text": [
      "INFO:cornac.experiment.experiment_explainers:*****Start evaluating model-explainer: 'EFM:Exp_EFM'...\n",
      "INFO:cornac.experiment.experiment_explainers:Step 1/3: Recommender EFM creates recommendations\n",
      "INFO:cornac.experiment.experiment_explainers:Step 2/3: Explainer Exp_EFM create explanation for all recommendations\n",
      "Computing explanations: 100%|██████████| 5370/5370 [00:03<00:00, 1355.98it/s]\n",
      "INFO:cornac.experiment.experiment_explainers:Step 3/3: Metric Metric_Exp_DIV starts evaluation...\n",
      "INFO:cornac.experiment.experiment_explainers:Result: Feature diversity: 0.38793882946575575\n",
      "INFO:cornac.experiment.experiment_explainers:Step 3/3: Metric Metric_Exp_FPR starts evaluation...\n",
      "Start evaluation... :  30%|██▉       | 225/751 [00:00<00:00, 571.01it/s]\n",
      "INFO:cornac.experiment.experiment_explainers:Result: Feature Precision: 0.4161616161616163; Feature Recall: 0.005968494750981334; Harmonic Mean: 0.011440368416677622\n",
      "INFO:cornac.experiment.experiment_explainers:Step 3/3: Metric Metric_Exp_PSPNFNS starts evaluation...\n",
      "INFO:cornac.experiment.experiment_explainers:self.current_rec: EFM, self.current_exp: Exp_EFM\n",
      "Re-evaluate after features removal... : 100%|██████████| 5370/5370 [00:11<00:00, 481.55it/s]\n",
      "INFO:cornac.experiment.experiment_explainers:Result: Probability of Necessity: 0.08845437616387337; Probability of Sufficiency: 0.7780260707635009; Harmonic Mean: 0.1588490795670161\n",
      "INFO:cornac.experiment.experiment_explainers:Start training Recommender MTER...\n",
      "INFO:cornac.experiment.experiment_explainers:*****Start evaluating model-explainer: 'MTER:Exp_MTER'...\n",
      "INFO:cornac.experiment.experiment_explainers:Step 1/3: Recommender MTER creates recommendations\n",
      "INFO:cornac.experiment.experiment_explainers:Step 2/3: Explainer Exp_MTER create explanation for all recommendations\n",
      "Computing explanations: 100%|██████████| 5370/5370 [00:03<00:00, 1663.37it/s]\n",
      "INFO:cornac.experiment.experiment_explainers:Step 3/3: Metric Metric_Exp_DIV starts evaluation...\n",
      "INFO:cornac.experiment.experiment_explainers:Result: Feature diversity: 0.35496758582731214\n",
      "INFO:cornac.experiment.experiment_explainers:Step 3/3: Metric Metric_Exp_FPR starts evaluation...\n",
      "Start evaluation... :  10%|▉         | 82/825 [00:00<00:02, 265.10it/s]\n",
      "INFO:cornac.experiment.experiment_explainers:Result: Feature Precision: 0.3880597014925373; Feature Recall: 0.19056508283475296; Harmonic Mean: 0.2229672507891169\n",
      "INFO:cornac.experiment.experiment_explainers:Step 3/3: Metric Metric_Exp_PSPNFNS starts evaluation...\n",
      "INFO:cornac.experiment.experiment_explainers:self.current_rec: MTER, self.current_exp: Exp_MTER\n",
      "Re-evaluate after features removal... : 100%|██████████| 5370/5370 [00:05<00:00, 977.64it/s] \n",
      "INFO:cornac.experiment.experiment_explainers:Result: Probability of Necessity: 0.0; Probability of Sufficiency: 0.8543761638733706; Harmonic Mean: 0.0\n",
      "INFO:cornac.experiment.experiment_explainers:experiment data: [[0.38793882946575575, 0.011440368416677622, 0.1588490795670161, 0.0374150276184082, 22.333345890045166], [0.35496758582731214, 0.2229672507891169, 0.0, 0.12770581245422363, 15.422760963439941]]\n",
      "INFO:cornac.experiment.experiment_explainers:Experiment result: \n",
      " recommender:explainer |      Metric_Exp_DIV |       Metric_Exp_FPR | Metric_Exp_PSPNFNS |            Train(s) |        Evaluate(s)\n",
      "EFM:Exp_EFM           | 0.38793882946575575 | 0.011440368416677622 | 0.1588490795670161 |  0.0374150276184082 | 22.333345890045166\n",
      "MTER:Exp_MTER         | 0.35496758582731214 |   0.2229672507891169 |                0.0 | 0.12770581245422363 | 15.422760963439941\n",
      "\n"
     ]
    }
   ],
   "source": [
    "# prepare data\n",
    "rs = RatioSplit(\n",
    "    data=ratings,\n",
    "    test_size=0.2,\n",
    "    sentiment=sentiment,\n",
    "    seed=42\n",
    ")\n",
    "ground_truth_good_reads = lexicon\n",
    "\n",
    "# initialize recommenders and explainers\n",
    "efm = EFM(\n",
    "    max_iter=20,\n",
    "    num_explicit_factors=50,\n",
    "    num_latent_factors=50,\n",
    "    num_most_cared_aspects=50,\n",
    "    alpha=0.85,\n",
    "    lambda_h=0.1,\n",
    "    lambda_u=0.001,\n",
    "    lambda_v=0.01,\n",
    "    lambda_x=1.0,\n",
    "    lambda_y=0.1,\n",
    ")\n",
    "efm_exp = Exp_EFM(rec_model=efm, dataset=rs.train_set)\n",
    "mter = MTER(\n",
    "    max_iter=20,\n",
    "    n_aspect_factors=8,\n",
    "    n_item_factors=5,\n",
    "    n_opinion_factors=5,\n",
    "    n_user_factors=10,\n",
    "    lambda_bpr=10,\n",
    "    lambda_reg=10,\n",
    "    n_bpr_samples=1000,\n",
    "    n_element_samples=50,\n",
    ")\n",
    "mter_exp = Exp_MTER(rec_model=mter, dataset=rs.train_set)\n",
    "\n",
    "# initialize metrics\n",
    "pspnfns = PSPN()\n",
    "fdiv = DIV()\n",
    "fpr = FPR()\n",
    "fpr_with_input_as_groundtruth = FPR(ground_truth=ground_truth_good_reads)\n",
    "\n",
    "# initialize experiment\n",
    "models = [(efm, efm_exp), (mter, mter_exp)]\n",
    "metrics = [fdiv, fpr_with_input_as_groundtruth, pspnfns]\n",
    "experiment = Experiment_Explainers(\n",
    "    eval_method=rs,\n",
    "    models=models,\n",
    "    metrics=metrics,\n",
    "    rec_k=10,\n",
    "    distribution=False,\n",
    "    feature_k=10,\n",
    "    eval_train=True,\n",
    ")\n",
    "experiment.run()"
   ]
  },
  {
   "cell_type": "markdown",
   "metadata": {},
   "source": [
    "**Experiment 3**: run FDIV, PGF, MEP and EnDCG on (ALS, Exp_ALS), (EMF, Exp_PHI4MF) and (NEMF, Exp_SU4EMF) pairs using data from movielens. This dataset only contains user, item and rating info."
   ]
  },
  {
   "cell_type": "code",
   "execution_count": 1,
   "metadata": {},
   "outputs": [
    {
     "name": "stderr",
     "output_type": "stream",
     "text": [
      "/home/linan/miniconda3/envs/cornac/lib/python3.11/site-packages/tensorflow/python/debug/cli/debugger_cli_common.py:19: DeprecationWarning: module 'sre_constants' is deprecated\n",
      "  import sre_constants\n",
      "INFO:cornac.experiment.experiment_explainers:Start training Recommender ALS...\n"
     ]
    },
    {
     "name": "stdout",
     "output_type": "stream",
     "text": [
      "rating_threshold = 1.0\n",
      "exclude_unknowns = False\n",
      "---\n",
      "Training data:\n",
      "Number of users = 943\n",
      "Number of items = 1648\n",
      "Number of ratings = 80000\n",
      "Max rating = 5.0\n",
      "Min rating = 1.0\n",
      "Global mean = 3.5\n",
      "---\n",
      "Test data:\n",
      "Number of users = 943\n",
      "Number of items = 1682\n",
      "Number of ratings = 20000\n",
      "Number of unknown users = 0\n",
      "Number of unknown items = 34\n",
      "---\n",
      "Total users = 943\n",
      "Total items = 1682\n"
     ]
    },
    {
     "name": "stderr",
     "output_type": "stream",
     "text": [
      "/home/linan/miniconda3/envs/cornac/lib/python3.11/site-packages/implicit/cpu/als.py:95: RuntimeWarning: Intel MKL BLAS is configured to use 6 threads. It is highly recommended to disable its internal threadpool by setting the environment variable 'MKL_NUM_THREADS=1' or by callng 'threadpoolctl.threadpool_limits(1, \"blas\")'. Having MKL use a threadpool can lead to severe performance issues\n",
      "  check_blas_config()\n"
     ]
    },
    {
     "data": {
      "application/vnd.jupyter.widget-view+json": {
       "model_id": "31d43b8ceeef414cb4b6935862411999",
       "version_major": 2,
       "version_minor": 0
      },
      "text/plain": [
       "  0%|          | 0/500 [00:00<?, ?it/s]"
      ]
     },
     "metadata": {},
     "output_type": "display_data"
    },
    {
     "name": "stderr",
     "output_type": "stream",
     "text": [
      "INFO:implicit:Final training loss 0.0616\n",
      "INFO:cornac.experiment.experiment_explainers:*****Start evaluating model-explainer: 'ALS:Exp_ALS'...\n",
      "INFO:cornac.experiment.experiment_explainers:Step 1/3: Recommender ALS creates recommendations\n",
      "INFO:cornac.experiment.experiment_explainers:Step 2/3: Explainer Exp_ALS create explanation for all recommendations\n"
     ]
    },
    {
     "data": {
      "application/vnd.jupyter.widget-view+json": {
       "model_id": "8d2bedcf428a4f0493d2d0ff95a8676e",
       "version_major": 2,
       "version_minor": 0
      },
      "text/plain": [
       "Computing explanations:   0%|          | 0/9430 [00:00<?, ?it/s]"
      ]
     },
     "metadata": {},
     "output_type": "display_data"
    },
    {
     "name": "stderr",
     "output_type": "stream",
     "text": [
      "INFO:cornac.experiment.experiment_explainers:Step 3/3: Metric Metric_Exp_DIV starts evaluation...\n",
      "INFO:cornac.experiment.experiment_explainers:Result: Feature diversity: 0.06432152921362073\n",
      "INFO:cornac.experiment.experiment_explainers:Step 3/3: Metric Metric_Exp_PGF starts evaluation...\n",
      "100%|██████████| 943/943 [00:08<00:00, 110.50it/s]\n",
      "INFO:cornac.experiment.experiment_explainers:Result: Metric_Exp_PGF: 0.2788011509150099\n",
      "ERROR:cornac.experiment.experiment_explainers:Metric Metric_Exp_MEP does not support Exp_ALS.\n",
      "ERROR:cornac.experiment.experiment_explainers:Metric Metric_Exp_EnDCG does not support Exp_ALS.\n",
      "INFO:cornac.experiment.experiment_explainers:Start training Recommender EMF...\n"
     ]
    },
    {
     "data": {
      "application/vnd.jupyter.widget-view+json": {
       "model_id": "65e904c7baa34b2db7dd84be841f0b70",
       "version_major": 2,
       "version_minor": 0
      },
      "text/plain": [
       "  0%|          | 0/500 [00:00<?, ?it/s]"
      ]
     },
     "metadata": {},
     "output_type": "display_data"
    },
    {
     "name": "stderr",
     "output_type": "stream",
     "text": [
      "INFO:cornac.experiment.experiment_explainers:*****Start evaluating model-explainer: 'EMF:Exp_PHI4MF'...\n",
      "INFO:cornac.experiment.experiment_explainers:Step 1/3: Recommender EMF creates recommendations\n",
      "INFO:cornac.experiment.experiment_explainers:Step 2/3: Explainer Exp_PHI4MF create explanation for all recommendations\n"
     ]
    },
    {
     "name": "stdout",
     "output_type": "stream",
     "text": [
      "Optimization finished!\n"
     ]
    },
    {
     "data": {
      "application/vnd.jupyter.widget-view+json": {
       "model_id": "327702286845488190f08e09424f7660",
       "version_major": 2,
       "version_minor": 0
      },
      "text/plain": [
       "Computing explanations:   0%|          | 0/9430 [00:00<?, ?it/s]"
      ]
     },
     "metadata": {},
     "output_type": "display_data"
    },
    {
     "name": "stdout",
     "output_type": "stream",
     "text": [
      "Association rules generated\n"
     ]
    },
    {
     "name": "stderr",
     "output_type": "stream",
     "text": [
      "INFO:cornac.experiment.experiment_explainers:Step 3/3: Metric Metric_Exp_DIV starts evaluation...\n",
      "INFO:cornac.experiment.experiment_explainers:Result: Feature diversity: 0.16513618725889898\n",
      "INFO:cornac.experiment.experiment_explainers:Step 3/3: Metric Metric_Exp_PGF starts evaluation...\n",
      "100%|██████████| 943/943 [00:10<00:00, 85.74it/s]\n",
      "INFO:cornac.experiment.experiment_explainers:Result: Metric_Exp_PGF: 0.0\n",
      "INFO:cornac.experiment.experiment_explainers:Step 3/3: Metric Metric_Exp_MEP starts evaluation...\n",
      "INFO:cornac.experiment.experiment_explainers:Result: Metric_Exp_MEP: 0.16320254506892895\n",
      "INFO:cornac.experiment.experiment_explainers:Step 3/3: Metric Metric_Exp_EnDCG starts evaluation...\n",
      "INFO:cornac.experiment.experiment_explainers:Result: Metric_Exp_EnDCG: 0.052453852693558914\n",
      "INFO:cornac.experiment.experiment_explainers:Start training Recommender NEMF...\n"
     ]
    },
    {
     "name": "stdout",
     "output_type": "stream",
     "text": [
      "Start compute edge weight matrix...\n",
      "Start compute novel matrix...\n",
      "Matrix computation finished!\n"
     ]
    },
    {
     "data": {
      "application/vnd.jupyter.widget-view+json": {
       "model_id": "bef65414a8c14697ba401762a012642a",
       "version_major": 2,
       "version_minor": 0
      },
      "text/plain": [
       "  0%|          | 0/500 [00:00<?, ?it/s]"
      ]
     },
     "metadata": {},
     "output_type": "display_data"
    },
    {
     "name": "stderr",
     "output_type": "stream",
     "text": [
      "INFO:cornac.experiment.experiment_explainers:*****Start evaluating model-explainer: 'NEMF:Exp_SU4EMF'...\n",
      "INFO:cornac.experiment.experiment_explainers:Step 1/3: Recommender NEMF creates recommendations\n"
     ]
    },
    {
     "name": "stdout",
     "output_type": "stream",
     "text": [
      "Optimization finished!\n"
     ]
    },
    {
     "name": "stderr",
     "output_type": "stream",
     "text": [
      "INFO:cornac.experiment.experiment_explainers:Step 2/3: Explainer Exp_SU4EMF create explanation for all recommendations\n"
     ]
    },
    {
     "data": {
      "application/vnd.jupyter.widget-view+json": {
       "model_id": "b7661120a518402abaa8f134fb42d944",
       "version_major": 2,
       "version_minor": 0
      },
      "text/plain": [
       "Computing explanations:   0%|          | 0/9430 [00:00<?, ?it/s]"
      ]
     },
     "metadata": {},
     "output_type": "display_data"
    },
    {
     "name": "stderr",
     "output_type": "stream",
     "text": [
      "INFO:cornac.experiment.experiment_explainers:Step 3/3: Metric Metric_Exp_DIV starts evaluation...\n",
      "INFO:cornac.experiment.experiment_explainers:Result: Feature diversity: 0.3279789903784084\n",
      "INFO:cornac.experiment.experiment_explainers:Step 3/3: Metric Metric_Exp_PGF starts evaluation...\n",
      "100%|██████████| 943/943 [00:11<00:00, 81.14it/s]\n",
      "INFO:cornac.experiment.experiment_explainers:Result: Metric_Exp_PGF: 0.1351683980559146\n",
      "INFO:cornac.experiment.experiment_explainers:Step 3/3: Metric Metric_Exp_MEP starts evaluation...\n",
      "INFO:cornac.experiment.experiment_explainers:Result: Metric_Exp_MEP: 0.11930010604453871\n",
      "INFO:cornac.experiment.experiment_explainers:Step 3/3: Metric Metric_Exp_EnDCG starts evaluation...\n",
      "INFO:cornac.experiment.experiment_explainers:Result: Metric_Exp_EnDCG: 0.0640591110133219\n",
      "INFO:cornac.experiment.experiment_explainers:experiment data: [[0.06432152921362073, 0.2788011509150099, 'N/A', 'N/A', 15.41525936126709, 138.03549456596375], [0.16513618725889898, 0.0, 0.16320254506892895, 0.052453852693558914, 8.233405828475952, 27.221306085586548], [0.3279789903784084, 0.1351683980559146, 0.11930010604453871, 0.0640591110133219, 10.147448539733887, 38.48387384414673]]\n",
      "INFO:cornac.experiment.experiment_explainers:Experiment result: \n",
      " recommender:explainer |      Metric_Exp_DIV |     Metric_Exp_PGF |      Metric_Exp_MEP |     Metric_Exp_EnDCG |           Train(s) |        Evaluate(s)\n",
      "ALS:Exp_ALS           | 0.06432152921362073 | 0.2788011509150099 |                 N/A |                  N/A |  15.41525936126709 | 138.03549456596375\n",
      "EMF:Exp_PHI4MF        | 0.16513618725889898 |                0.0 | 0.16320254506892895 | 0.052453852693558914 |  8.233405828475952 | 27.221306085586548\n",
      "NEMF:Exp_SU4EMF       |  0.3279789903784084 | 0.1351683980559146 | 0.11930010604453871 |   0.0640591110133219 | 10.147448539733887 |  38.48387384414673\n",
      "\n"
     ]
    }
   ],
   "source": [
    "from cornac.datasets import movielens\n",
    "from cornac.eval_methods import RatioSplit\n",
    "from cornac.experiment.experiment_explainers import Experiment_Explainers\n",
    "from cornac.models import EMF, NEMF, ALS\n",
    "from cornac.explainer import Exp_ALS, Exp_PHI4MF, Exp_SU4EMF\n",
    "from cornac.metrics_explainer import (\n",
    "    Metric_Exp_DIV as DIV,\n",
    "    Metric_Exp_PGF as PGF,\n",
    "    Metric_Exp_MEP as MEP,\n",
    "    Metric_Exp_EnDCG as EnDCG,\n",
    ")\n",
    "\n",
    "# Load MovieLens\n",
    "ml_1m = movielens.load_feedback(variant=\"100K\")\n",
    "\n",
    "# Define an evaluation method to split feedback into train and test sets\n",
    "ratio_split = RatioSplit(\n",
    "    data=ml_1m, test_size=0.2, exclude_unknowns=False, verbose=True\n",
    ")\n",
    "\n",
    "# initialize recommenders and explainers\n",
    "emf = EMF(\n",
    "    k=10,\n",
    "    max_iter=500,\n",
    "    learning_rate=0.001,\n",
    "    lambda_reg=0.1,\n",
    "    explain_reg=0.01,\n",
    "    verbose=True,\n",
    "    seed=6,\n",
    "    num_threads=6,\n",
    "    early_stop=True,\n",
    ")\n",
    "nemf = NEMF(\n",
    "    k=10,\n",
    "    max_iter=500,\n",
    "    learning_rate=0.001,\n",
    "    lambda_reg=0.1,\n",
    "    explain_reg=0.01,\n",
    "    novel_reg=1,\n",
    "    verbose=True,\n",
    "    seed=6,\n",
    "    num_threads=6,\n",
    "    early_stop=True,\n",
    ")\n",
    "als = ALS(k=10, max_iter=500, lambda_reg=0.001, alpha=1, verbose=True, seed=6)\n",
    "als_exp = Exp_ALS(rec_model=als, dataset=ratio_split.train_set)\n",
    "emf_exp = Exp_PHI4MF(rec_model=emf, dataset=ratio_split.train_set)\n",
    "nemf_exp = Exp_SU4EMF(rec_model=nemf, dataset=ratio_split.train_set)\n",
    "\n",
    "# initialize metrics\n",
    "fdiv = DIV()\n",
    "pgf = PGF()\n",
    "mep = MEP()\n",
    "endcg = EnDCG()\n",
    "\n",
    "# initialize experiment\n",
    "models = [(als, als_exp), (emf, emf_exp), (nemf, nemf_exp)]\n",
    "metrics = [fdiv, pgf, mep, endcg]\n",
    "experiment = Experiment_Explainers(\n",
    "    eval_method=ratio_split,\n",
    "    models=models,\n",
    "    metrics=metrics,\n",
    "    distribution=False,\n",
    "    rec_k=10,\n",
    "    feature_k=10,\n",
    "    eval_train=True,\n",
    ")\n",
    "experiment.run()"
   ]
  },
  {
   "cell_type": "markdown",
   "metadata": {},
   "source": [
    "**Experiment 4**: Run RA and FA on pairwise models. FA and RA performs comparison between two sets of explainers, thus the score is unavailable when only one explainer is passed."
   ]
  },
  {
   "cell_type": "code",
   "execution_count": 5,
   "metadata": {},
   "outputs": [
    {
     "name": "stderr",
     "output_type": "stream",
     "text": [
      "INFO:cornac.experiment.experiment_explainers:Start training Recommender1 EFM...\n",
      "INFO:cornac.experiment.experiment_explainers:Start training Recommender2 MTER...\n",
      "INFO:cornac.experiment.experiment_explainers:*****Start evaluating model-explainer: 'EFM:Exp_EFM'vs'MTER:Exp_MTER'...\n",
      "INFO:cornac.experiment.experiment_explainers:Step 1/3: Creates fake recommendations from dataset for common used\n",
      "INFO:cornac.experiment.experiment_explainers:Step 2/3: Explainer1 Exp_EFM create explanation for all recommendations\n",
      "Computing explanations: 100%|██████████| 100/100 [00:00<00:00, 6099.83it/s]\n",
      "INFO:cornac.experiment.experiment_explainers:Step 2/3: Explainer2 Exp_MTER create explanation for all recommendations\n",
      "Computing explanations: 100%|██████████| 100/100 [00:00<00:00, 4184.85it/s]\n",
      "INFO:cornac.experiment.experiment_explainers:Step 3/3: Metric Metric_Exp_FA starts evaluation...\n",
      "INFO:cornac.experiment.experiment_explainers:Result: Average Metric_Exp_FA: 0.016666666666666666\n",
      "INFO:cornac.experiment.experiment_explainers:Step 3/3: Metric Metric_Exp_RA starts evaluation...\n",
      "INFO:cornac.experiment.experiment_explainers:Result: Average Metric_Exp_RA: 0.013333333333333332\n",
      "ERROR:cornac.experiment.experiment_explainers:Metric Metric_Exp_DIV does not support ('Exp_EFM', 'Exp_MTER').\n",
      "INFO:cornac.experiment.experiment_explainers:Start training Recommender EFM...\n",
      "INFO:cornac.experiment.experiment_explainers:*****Start evaluating model-explainer: 'EFM:Exp_EFM'...\n",
      "INFO:cornac.experiment.experiment_explainers:Step 1/3: Recommender EFM creates recommendations\n",
      "INFO:cornac.experiment.experiment_explainers:Step 2/3: Explainer Exp_EFM create explanation for all recommendations\n",
      "Computing explanations: 100%|██████████| 1000/1000 [00:00<00:00, 8437.04it/s]\n",
      "INFO:cornac.experiment.experiment_explainers:Step 3/3: Metric Metric_Exp_FA starts evaluation...\n",
      "INFO:cornac.experiment.experiment_explainers:Step 3/3: Metric Metric_Exp_RA starts evaluation...\n",
      "INFO:cornac.experiment.experiment_explainers:Step 3/3: Metric Metric_Exp_DIV starts evaluation...\n",
      "INFO:cornac.experiment.experiment_explainers:Result: Feature diversity: 0.44971638304964473\n",
      "INFO:cornac.experiment.experiment_explainers:Start training Recommender MTER...\n",
      "INFO:cornac.experiment.experiment_explainers:*****Start evaluating model-explainer: 'MTER:Exp_MTER'...\n",
      "INFO:cornac.experiment.experiment_explainers:Step 1/3: Recommender MTER creates recommendations\n",
      "INFO:cornac.experiment.experiment_explainers:Step 2/3: Explainer Exp_MTER create explanation for all recommendations\n",
      "Computing explanations: 100%|██████████| 1000/1000 [00:00<00:00, 8111.63it/s]\n",
      "INFO:cornac.experiment.experiment_explainers:Step 3/3: Metric Metric_Exp_FA starts evaluation...\n",
      "INFO:cornac.experiment.experiment_explainers:Step 3/3: Metric Metric_Exp_RA starts evaluation...\n",
      "INFO:cornac.experiment.experiment_explainers:Step 3/3: Metric Metric_Exp_DIV starts evaluation...\n",
      "INFO:cornac.experiment.experiment_explainers:Result: Feature diversity: 0.07260060060059499\n",
      "INFO:cornac.experiment.experiment_explainers:experiment data: [[0.016666666666666666, 0.013333333333333332, 'N/A', 0.10176992416381836, 0.23675179481506348], ['N/A', 'N/A', 0.44971638304964473, 0.0769197940826416, 0.793834924697876], ['N/A', 'N/A', 0.07260060060059499, 0.05950498580932617, 0.7060348987579346]]\n",
      "INFO:cornac.experiment.experiment_explainers:Experiment result: \n",
      " recommender:explainer        |        Metric_Exp_FA |        Metric_Exp_RA |      Metric_Exp_DIV |            Train(s) |         Evaluate(s)\n",
      "EFM:Exp_EFM'vs'MTER:Exp_MTER | 0.016666666666666666 | 0.013333333333333332 |                 N/A | 0.10176992416381836 | 0.23675179481506348\n",
      "EFM:Exp_EFM                  |                  N/A |                  N/A | 0.44971638304964473 |  0.0769197940826416 |   0.793834924697876\n",
      "MTER:Exp_MTER                |                  N/A |                  N/A | 0.07260060060059499 | 0.05950498580932617 |  0.7060348987579346\n",
      "\n"
     ]
    }
   ],
   "source": [
    "# prepare data\n",
    "rs = prepare_data(\n",
    "    data_name=\"goodreads\",\n",
    "    test_size=0.2,\n",
    "    dense=True,\n",
    "    item=True,\n",
    "    user=True,\n",
    "    sample_size=1,\n",
    "    seed=21,\n",
    ")\n",
    "\n",
    "# initialize recommenders and explainers\n",
    "efm = EFM(\n",
    "    max_iter=20,\n",
    "    num_explicit_factors=50,\n",
    "    num_latent_factors=50,\n",
    "    num_most_cared_aspects=50,\n",
    "    alpha=0.85,\n",
    "    lambda_h=0.1,\n",
    "    lambda_u=0.001,\n",
    "    lambda_v=0.01,\n",
    "    lambda_x=1.0,\n",
    "    lambda_y=0.1,\n",
    ")\n",
    "efm_exp = Exp_EFM(rec_model=efm, dataset=rs.train_set)\n",
    "mter = MTER(\n",
    "    max_iter=20,\n",
    "    n_aspect_factors=8,\n",
    "    n_item_factors=5,\n",
    "    n_opinion_factors=5,\n",
    "    n_user_factors=10,\n",
    "    lambda_bpr=10,\n",
    "    lambda_reg=10,\n",
    "    n_bpr_samples=1000,\n",
    "    n_element_samples=50,\n",
    ")\n",
    "mter_exp = Exp_MTER(rec_model=mter, dataset=rs.train_set)\n",
    "\n",
    "# initialize metrics\n",
    "fa = FA()\n",
    "ra = RA()\n",
    "fdiv = DIV()\n",
    "\n",
    "# initialize experiment\n",
    "models = [[(efm, mter), (efm_exp, mter_exp)], (efm, efm_exp), (mter, mter_exp)]\n",
    "metrics = [fa, ra, fdiv]\n",
    "experiment = Experiment_Explainers(\n",
    "    eval_method=rs,\n",
    "    models=models,\n",
    "    metrics=metrics,\n",
    "    rec_k=10,\n",
    "    feature_k=10,\n",
    "    eval_train=True,\n",
    ")\n",
    "experiment.run()"
   ]
  }
 ],
 "metadata": {
  "kernelspec": {
   "display_name": "my_venv",
   "language": "python",
   "name": "python3"
  },
  "language_info": {
   "codemirror_mode": {
    "name": "ipython",
    "version": 3
   },
   "file_extension": ".py",
   "mimetype": "text/x-python",
   "name": "python",
   "nbconvert_exporter": "python",
   "pygments_lexer": "ipython3",
   "version": "3.9.18"
  },
  "orig_nbformat": 4,
  "vscode": {
   "interpreter": {
    "hash": "8ebbe97ee2486d44b314e7fb9a74c6e9ddf9ecd1c9e636490160d240e80178cb"
   }
  }
 },
 "nbformat": 4,
 "nbformat_minor": 2
}
