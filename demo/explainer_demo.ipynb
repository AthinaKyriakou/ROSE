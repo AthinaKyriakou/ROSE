{
 "cells": [
  {
   "cell_type": "markdown",
   "metadata": {},
   "source": [
    "## Usage of one explainer\n",
    "\n",
    "Take MTER as an example, and use dataset amazon_toy."
   ]
  },
  {
   "cell_type": "code",
   "execution_count": 1,
   "metadata": {},
   "outputs": [
    {
     "name": "stderr",
     "output_type": "stream",
     "text": [
      "/home/linan/miniconda3/envs/cornac/lib/python3.11/site-packages/tensorflow/python/debug/cli/debugger_cli_common.py:19: DeprecationWarning: module 'sre_constants' is deprecated\n",
      "  import sre_constants\n"
     ]
    },
    {
     "name": "stdout",
     "output_type": "stream",
     "text": [
      "rating_threshold = 1.0\n",
      "exclude_unknowns = True\n",
      "---\n",
      "Training data:\n",
      "Number of users = 119\n",
      "Number of items = 4058\n",
      "Number of ratings = 7197\n",
      "Max rating = 5.0\n",
      "Min rating = 1.0\n",
      "Global mean = 4.3\n",
      "---\n",
      "Test data:\n",
      "Number of users = 119\n",
      "Number of items = 4058\n",
      "Number of ratings = 741\n",
      "Number of unknown users = 0\n",
      "Number of unknown items = 0\n",
      "---\n",
      "Total users = 119\n",
      "Total items = 4058\n"
     ]
    }
   ],
   "source": [
    "from cornac.datasets import amazon_toy\n",
    "from cornac.data.reader import Reader\n",
    "from cornac.eval_methods import StratifiedSplit\n",
    "from cornac.data.sentiment import SentimentModality\n",
    "from cornac.models import MTER\n",
    "from cornac.explainer import Exp_MTER\n",
    "\n",
    "# Load the Amazon toy dataset\n",
    "rating = amazon_toy.load_feedback(fmt=\"UIRT\", reader=Reader(min_user_freq=50))\n",
    "sentiment_data = amazon_toy.load_sentiment(reader=Reader(min_user_freq=50))\n",
    "\n",
    "md = SentimentModality(data=sentiment_data)\n",
    "\n",
    "eval_method = StratifiedSplit(\n",
    "    data=rating,\n",
    "    group_by=\"user\",\n",
    "    chrono=True,\n",
    "    sentiment=md,\n",
    "    test_size=0.2,\n",
    "    exclude_unknowns=True,\n",
    "    verbose=True,\n",
    ")\n",
    "\n",
    "# Instantiate the MTER model\n",
    "mter = MTER(\n",
    "    max_iter=20,\n",
    "    n_user_factors=8,\n",
    "    n_item_factors=8,\n",
    "    n_aspect_factors=8,\n",
    "    n_opinion_factors=8,\n",
    "    n_bpr_samples=1000,\n",
    "    n_element_samples=50,\n",
    "    lambda_reg=0.1,\n",
    "    lambda_bpr=10,\n",
    "    lr=0.5,\n",
    ")\n",
    "\n",
    "mter.fit(eval_method.train_set)\n",
    "\n",
    "# Instantiate the explainer\n",
    "explainer = Exp_MTER(mter, eval_method.train_set)\n"
   ]
  },
  {
   "cell_type": "markdown",
   "metadata": {},
   "source": [
    "### Explain recommendations"
   ]
  },
  {
   "cell_type": "code",
   "execution_count": 2,
   "metadata": {},
   "outputs": [
    {
     "name": "stdout",
     "output_type": "stream",
     "text": [
      "           user_id     item_id  prediction\n",
      "0   A30H2335OM7RD6  B00804BDEU    2.040724\n",
      "1   A30H2335OM7RD6  B004P90PIO    1.952247\n",
      "2   A30H2335OM7RD6  B00AHAJBQM    1.950570\n",
      "3   A30H2335OM7RD6  B00BRCN9TO    1.933212\n",
      "4   A30H2335OM7RD6  B004I8V6ZS    1.848171\n",
      "5   A3R01WHD75L6FG  B00804BDEU    0.633543\n",
      "6   A3R01WHD75L6FG  B00BRCN9TO    0.603503\n",
      "7   A3R01WHD75L6FG  B004P90PIO    0.599226\n",
      "8   A3R01WHD75L6FG  B00AHAJBQM    0.588474\n",
      "9   A3R01WHD75L6FG  B004I8V6ZS    0.568956\n",
      "10  A19FRW264WZTGP  B00804BDEU    0.961170\n",
      "11  A19FRW264WZTGP  B00BRCN9TO    0.919368\n",
      "12  A19FRW264WZTGP  B004P90PIO    0.906003\n",
      "13  A19FRW264WZTGP  B00AHAJBQM    0.888399\n",
      "14  A19FRW264WZTGP  B004I8V6ZS    0.863712\n"
     ]
    }
   ],
   "source": [
    "# first, we need some recommendations\n",
    "some_users = eval_method.test_set.user_ids[:3]\n",
    "recomedations = mter.recommend_to_multiple_users(some_users, k=5)\n",
    "print(recomedations)"
   ]
  },
  {
   "cell_type": "code",
   "execution_count": 3,
   "metadata": {},
   "outputs": [
    {
     "data": {
      "application/vnd.jupyter.widget-view+json": {
       "model_id": "ccd88b38329d4fd590338e5ac35e8d28",
       "version_major": 2,
       "version_minor": 0
      },
      "text/plain": [
       "Computing explanations:   0%|          | 0/15 [00:00<?, ?it/s]"
      ]
     },
     "metadata": {},
     "output_type": "display_data"
    },
    {
     "data": {
      "text/html": [
       "<div>\n",
       "<style scoped>\n",
       "    .dataframe tbody tr th:only-of-type {\n",
       "        vertical-align: middle;\n",
       "    }\n",
       "\n",
       "    .dataframe tbody tr th {\n",
       "        vertical-align: top;\n",
       "    }\n",
       "\n",
       "    .dataframe thead th {\n",
       "        text-align: right;\n",
       "    }\n",
       "</style>\n",
       "<table border=\"1\" class=\"dataframe\">\n",
       "  <thead>\n",
       "    <tr style=\"text-align: right;\">\n",
       "      <th></th>\n",
       "      <th>user_id</th>\n",
       "      <th>item_id</th>\n",
       "      <th>prediction</th>\n",
       "      <th>explanations</th>\n",
       "    </tr>\n",
       "  </thead>\n",
       "  <tbody>\n",
       "    <tr>\n",
       "      <th>0</th>\n",
       "      <td>A30H2335OM7RD6</td>\n",
       "      <td>B00804BDEU</td>\n",
       "      <td>2.040724</td>\n",
       "      <td>{'price': {'difficult': 1.9153996, 'solid': 0....</td>\n",
       "    </tr>\n",
       "    <tr>\n",
       "      <th>1</th>\n",
       "      <td>A30H2335OM7RD6</td>\n",
       "      <td>B004P90PIO</td>\n",
       "      <td>1.952247</td>\n",
       "      <td>{'overall': {'popular': 0.69657284, 'falls': 0...</td>\n",
       "    </tr>\n",
       "    <tr>\n",
       "      <th>2</th>\n",
       "      <td>A30H2335OM7RD6</td>\n",
       "      <td>B00AHAJBQM</td>\n",
       "      <td>1.950570</td>\n",
       "      <td>{'overall': {'stuck': 1.1971427, 'lost': 0.764...</td>\n",
       "    </tr>\n",
       "    <tr>\n",
       "      <th>3</th>\n",
       "      <td>A30H2335OM7RD6</td>\n",
       "      <td>B00BRCN9TO</td>\n",
       "      <td>1.933212</td>\n",
       "      <td>{'overall': {'difficult': 1.3536121, 'improved...</td>\n",
       "    </tr>\n",
       "    <tr>\n",
       "      <th>4</th>\n",
       "      <td>A30H2335OM7RD6</td>\n",
       "      <td>B004I8V6ZS</td>\n",
       "      <td>1.848171</td>\n",
       "      <td>{'overall': {'recommended': 0.99166405, 'twist...</td>\n",
       "    </tr>\n",
       "    <tr>\n",
       "      <th>5</th>\n",
       "      <td>A3R01WHD75L6FG</td>\n",
       "      <td>B00804BDEU</td>\n",
       "      <td>0.633543</td>\n",
       "      <td>{'price': {'difficult': 0.71889496, 'solid': 0...</td>\n",
       "    </tr>\n",
       "    <tr>\n",
       "      <th>6</th>\n",
       "      <td>A3R01WHD75L6FG</td>\n",
       "      <td>B00BRCN9TO</td>\n",
       "      <td>0.603503</td>\n",
       "      <td>{'overall': {'difficult': 0.5175914, 'improved...</td>\n",
       "    </tr>\n",
       "    <tr>\n",
       "      <th>7</th>\n",
       "      <td>A3R01WHD75L6FG</td>\n",
       "      <td>B004P90PIO</td>\n",
       "      <td>0.599226</td>\n",
       "      <td>{'fit': {'popular': 0.26829207, 'falls': 0.217...</td>\n",
       "    </tr>\n",
       "    <tr>\n",
       "      <th>8</th>\n",
       "      <td>A3R01WHD75L6FG</td>\n",
       "      <td>B00AHAJBQM</td>\n",
       "      <td>0.588474</td>\n",
       "      <td>{'price': {'stuck': 0.5636472, 'lost': 0.37269...</td>\n",
       "    </tr>\n",
       "    <tr>\n",
       "      <th>9</th>\n",
       "      <td>A3R01WHD75L6FG</td>\n",
       "      <td>B004I8V6ZS</td>\n",
       "      <td>0.568956</td>\n",
       "      <td>{'overall': {'recommended': 0.37537, 'twist': ...</td>\n",
       "    </tr>\n",
       "    <tr>\n",
       "      <th>10</th>\n",
       "      <td>A19FRW264WZTGP</td>\n",
       "      <td>B00804BDEU</td>\n",
       "      <td>0.961170</td>\n",
       "      <td>{'price': {'difficult': 1.002658, 'solid': 0.4...</td>\n",
       "    </tr>\n",
       "    <tr>\n",
       "      <th>11</th>\n",
       "      <td>A19FRW264WZTGP</td>\n",
       "      <td>B00BRCN9TO</td>\n",
       "      <td>0.919368</td>\n",
       "      <td>{'overall': {'difficult': 0.675706, 'improved'...</td>\n",
       "    </tr>\n",
       "    <tr>\n",
       "      <th>12</th>\n",
       "      <td>A19FRW264WZTGP</td>\n",
       "      <td>B004P90PIO</td>\n",
       "      <td>0.906003</td>\n",
       "      <td>{'fit': {'popular': 0.3938211, 'falls': 0.3204...</td>\n",
       "    </tr>\n",
       "    <tr>\n",
       "      <th>13</th>\n",
       "      <td>A19FRW264WZTGP</td>\n",
       "      <td>B00AHAJBQM</td>\n",
       "      <td>0.888399</td>\n",
       "      <td>{'overall': {'stuck': 0.6238053, 'lost': 0.396...</td>\n",
       "    </tr>\n",
       "    <tr>\n",
       "      <th>14</th>\n",
       "      <td>A19FRW264WZTGP</td>\n",
       "      <td>B004I8V6ZS</td>\n",
       "      <td>0.863712</td>\n",
       "      <td>{'overall': {'recommended': 0.5009598, 'twist'...</td>\n",
       "    </tr>\n",
       "  </tbody>\n",
       "</table>\n",
       "</div>"
      ],
      "text/plain": [
       "           user_id     item_id  prediction  \\\n",
       "0   A30H2335OM7RD6  B00804BDEU    2.040724   \n",
       "1   A30H2335OM7RD6  B004P90PIO    1.952247   \n",
       "2   A30H2335OM7RD6  B00AHAJBQM    1.950570   \n",
       "3   A30H2335OM7RD6  B00BRCN9TO    1.933212   \n",
       "4   A30H2335OM7RD6  B004I8V6ZS    1.848171   \n",
       "5   A3R01WHD75L6FG  B00804BDEU    0.633543   \n",
       "6   A3R01WHD75L6FG  B00BRCN9TO    0.603503   \n",
       "7   A3R01WHD75L6FG  B004P90PIO    0.599226   \n",
       "8   A3R01WHD75L6FG  B00AHAJBQM    0.588474   \n",
       "9   A3R01WHD75L6FG  B004I8V6ZS    0.568956   \n",
       "10  A19FRW264WZTGP  B00804BDEU    0.961170   \n",
       "11  A19FRW264WZTGP  B00BRCN9TO    0.919368   \n",
       "12  A19FRW264WZTGP  B004P90PIO    0.906003   \n",
       "13  A19FRW264WZTGP  B00AHAJBQM    0.888399   \n",
       "14  A19FRW264WZTGP  B004I8V6ZS    0.863712   \n",
       "\n",
       "                                         explanations  \n",
       "0   {'price': {'difficult': 1.9153996, 'solid': 0....  \n",
       "1   {'overall': {'popular': 0.69657284, 'falls': 0...  \n",
       "2   {'overall': {'stuck': 1.1971427, 'lost': 0.764...  \n",
       "3   {'overall': {'difficult': 1.3536121, 'improved...  \n",
       "4   {'overall': {'recommended': 0.99166405, 'twist...  \n",
       "5   {'price': {'difficult': 0.71889496, 'solid': 0...  \n",
       "6   {'overall': {'difficult': 0.5175914, 'improved...  \n",
       "7   {'fit': {'popular': 0.26829207, 'falls': 0.217...  \n",
       "8   {'price': {'stuck': 0.5636472, 'lost': 0.37269...  \n",
       "9   {'overall': {'recommended': 0.37537, 'twist': ...  \n",
       "10  {'price': {'difficult': 1.002658, 'solid': 0.4...  \n",
       "11  {'overall': {'difficult': 0.675706, 'improved'...  \n",
       "12  {'fit': {'popular': 0.3938211, 'falls': 0.3204...  \n",
       "13  {'overall': {'stuck': 0.6238053, 'lost': 0.396...  \n",
       "14  {'overall': {'recommended': 0.5009598, 'twist'...  "
      ]
     },
     "execution_count": 3,
     "metadata": {},
     "output_type": "execute_result"
    }
   ],
   "source": [
    "explainer.explain_recommendations(recomedations)"
   ]
  },
  {
   "cell_type": "markdown",
   "metadata": {},
   "source": [
    "### Explain one user-item pair"
   ]
  },
  {
   "cell_type": "code",
   "execution_count": 4,
   "metadata": {},
   "outputs": [
    {
     "name": "stdout",
     "output_type": "stream",
     "text": [
      "For User A30H2335OM7RD6 and Item B00000IZQE:\n",
      "Explanation:\n",
      "{'children': {'negatives': 0.27673334, 'versatile': 0.19414704, 'good': 0.017498462}, 'toy': {'negatives': 0.4804516, 'versatile': 0.36138353, 'loves': 0.030754115}, 'also': {'negatives': 0.37475088, 'versatile': 0.2498297, 'good': 0.028994646}}\n"
     ]
    }
   ],
   "source": [
    "one_user = eval_method.train_set.user_ids[0]\n",
    "one_item = eval_method.train_set.item_ids[0]\n",
    "explanation = explainer.explain_one_recommendation_to_user(one_user, one_item)\n",
    "print(f\"For User {one_user} and Item {one_item}:\")\n",
    "print(\"Explanation:\")\n",
    "print(explanation)"
   ]
  },
  {
   "cell_type": "markdown",
   "metadata": {},
   "source": [
    "### Explain one user-item with ref-item"
   ]
  },
  {
   "cell_type": "code",
   "execution_count": 5,
   "metadata": {},
   "outputs": [
    {
     "data": {
      "text/html": [
       "<div>\n",
       "<style scoped>\n",
       "    .dataframe tbody tr th:only-of-type {\n",
       "        vertical-align: middle;\n",
       "    }\n",
       "\n",
       "    .dataframe tbody tr th {\n",
       "        vertical-align: top;\n",
       "    }\n",
       "\n",
       "    .dataframe thead th {\n",
       "        text-align: right;\n",
       "    }\n",
       "</style>\n",
       "<table border=\"1\" class=\"dataframe\">\n",
       "  <thead>\n",
       "    <tr style=\"text-align: right;\">\n",
       "      <th></th>\n",
       "      <th>user_id</th>\n",
       "      <th>item_id</th>\n",
       "      <th>explanation</th>\n",
       "      <th>ref_item_id</th>\n",
       "      <th>ref_explanation</th>\n",
       "    </tr>\n",
       "  </thead>\n",
       "  <tbody>\n",
       "    <tr>\n",
       "      <th>0</th>\n",
       "      <td>A30H2335OM7RD6</td>\n",
       "      <td>B00000IZQE</td>\n",
       "      <td>{'children': {'negatives': 0.27673334, 'versat...</td>\n",
       "      <td>1581170769</td>\n",
       "      <td>{'colors': {'cute': 0.018207455, 'nice': 0.006...</td>\n",
       "    </tr>\n",
       "  </tbody>\n",
       "</table>\n",
       "</div>"
      ],
      "text/plain": [
       "          user_id     item_id  \\\n",
       "0  A30H2335OM7RD6  B00000IZQE   \n",
       "\n",
       "                                         explanation ref_item_id  \\\n",
       "0  {'children': {'negatives': 0.27673334, 'versat...  1581170769   \n",
       "\n",
       "                                     ref_explanation  \n",
       "0  {'colors': {'cute': 0.018207455, 'nice': 0.006...  "
      ]
     },
     "execution_count": 5,
     "metadata": {},
     "output_type": "execute_result"
    }
   ],
   "source": [
    "one_user = eval_method.train_set.user_ids[0]\n",
    "one_item = eval_method.train_set.item_ids[0]\n",
    "ref_item = eval_method.train_set.item_ids[10]\n",
    "explanation = explainer.explain_one_with_ref(user_id=one_user, item_id=one_item, ref_item_id=ref_item)\n",
    "explanation"
   ]
  },
  {
   "cell_type": "code",
   "execution_count": 6,
   "metadata": {},
   "outputs": [
    {
     "name": "stdout",
     "output_type": "stream",
     "text": [
      "0    {'children': {'negatives': 0.27673334, 'versat...\n",
      "Name: explanation, dtype: object\n",
      "0    {'colors': {'cute': 0.018207455, 'nice': 0.006...\n",
      "Name: ref_explanation, dtype: object\n"
     ]
    }
   ],
   "source": [
    "# explanation for user-item\n",
    "print(explanation['explanation'])\n",
    "# and explanation for user-ref_item\n",
    "print(explanation['ref_explanation'])"
   ]
  },
  {
   "cell_type": "markdown",
   "metadata": {},
   "source": [
    "### Generate plot for Exp_MTER"
   ]
  },
  {
   "cell_type": "code",
   "execution_count": 7,
   "metadata": {},
   "outputs": [
    {
     "data": {
      "application/vnd.jupyter.widget-view+json": {
       "model_id": "3b2245d0139f46b9a882b35669ad4e64",
       "version_major": 2,
       "version_minor": 0
      },
      "text/plain": [
       "Computing explanations:   0%|          | 0/1190 [00:00<?, ?it/s]"
      ]
     },
     "metadata": {},
     "output_type": "display_data"
    }
   ],
   "source": [
    "users = eval_method.test_set.user_ids\n",
    "recommendations = mter.recommend_to_multiple_users(users, k=10)\n",
    "explanations = explainer.explain_recommendations(recommendations, feature_k=6)\n",
    "explanations_df = explanations.copy()"
   ]
  },
  {
   "cell_type": "code",
   "execution_count": 9,
   "metadata": {},
   "outputs": [
    {
     "name": "stderr",
     "output_type": "stream",
     "text": [
      "/home/linan/miniconda3/envs/cornac/lib/python3.11/site-packages/cornac-2.0.0-py3.11-linux-x86_64.egg/cornac/visualization/visualization.py:318: UserWarning: set_ticklabels() should only be used with a fixed number of ticks, i.e. after set_ticks() or using a FixedLocator.\n",
      "  axe.set_xticklabels(x, rotation=45)\n"
     ]
    },
    {
     "data": {
      "image/png": "[encoded data removed]",
      "text/plain": [
       "<Figure size 800x800 with 1 Axes>"
      ]
     },
     "metadata": {},
     "output_type": "display_data"
    }
   ],
   "source": [
    "from cornac.visualization import Visualization\n",
    "my_plots = Visualization()\n",
    "\n",
    "# Create a plot for a specific user and item\n",
    "one_user = eval_method.train_set.user_ids[0]\n",
    "one_item = eval_method.train_set.item_ids[0]\n",
    "ind_df = my_plots.create_individual_feature_importance_plot(\n",
    "    explanations,\n",
    "    user_id=one_user,\n",
    "    item_id=one_item,\n",
    "    type=\"bar\",\n",
    "    top_k=6,\n",
    "    save_plot=False,\n",
    ")\n",
    "\n",
    "filtered_df = my_plots.create_aggregate_feature_importance_plot(\n",
    "    explanations, type=\"bar\", top_k=8, save_plot=False\n",
    ")"
   ]
  }
 ],
 "metadata": {
  "kernelspec": {
   "display_name": "cornac",
   "language": "python",
   "name": "python3"
  },
  "language_info": {
   "codemirror_mode": {
    "name": "ipython",
    "version": 3
   },
   "file_extension": ".py",
   "mimetype": "text/x-python",
   "name": "python",
   "nbconvert_exporter": "python",
   "pygments_lexer": "ipython3",
   "version": "3.11.5"
  }
 },
 "nbformat": 4,
 "nbformat_minor": 2
}
