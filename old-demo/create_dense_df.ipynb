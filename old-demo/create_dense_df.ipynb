{
 "cells": [
  {
   "cell_type": "code",
   "execution_count": 2,
   "metadata": {},
   "outputs": [],
   "source": [
    "import numpy as np\n",
    "import pandas as pd\n",
    "import random"
   ]
  },
  {
   "cell_type": "code",
   "execution_count": 3,
   "metadata": {},
   "outputs": [],
   "source": [
    "fpath_uir = '../cornac/datasets/good_reads/good_read_UIR_1000.csv'\n",
    "fpath_genres = '../cornac/datasets/good_reads/goodreads_genres.csv'\n",
    "fpath_aspects = '../cornac/datasets/good_reads/uid_aspect_features.txt'\n",
    "\n",
    "#read data\n",
    "df = pd.read_csv(fpath_uir, sep='\\t', header=0, names=['user_id', 'item_id', 'rating'])\n",
    "#check user and item is included in item and user features\n",
    "genres = pd.read_csv(fpath_genres)\n",
    "item_features = np.array([[x,y] for [x,y] in zip(genres['item_id'].to_numpy(), genres['feature'].to_numpy())])\n",
    "df = df[df['item_id'].isin(genres['item_id'])]\n",
    "user_aspects = pd.read_csv(fpath_aspects, sep='\\t', usecols=['user_id', 'feature'])\n",
    "user_features = np.array([[x,y] for [x,y] in zip(user_aspects['user_id'].to_numpy(), user_aspects['feature'].to_numpy())])\n",
    "df = df[df['user_id'].isin(user_aspects['user_id'])]"
   ]
  },
  {
   "cell_type": "code",
   "execution_count": 4,
   "metadata": {},
   "outputs": [],
   "source": [
    "df_top100user = df.groupby('user_id').aggregate(['count']).reset_index().sort_values(('item_id', 'count'), ascending=False)[:100]\n",
    "df_top100item = df.groupby('item_id').aggregate(['count']).reset_index().sort_values(('user_id', 'count'), ascending=False)[:100]"
   ]
  },
  {
   "cell_type": "code",
   "execution_count": 6,
   "metadata": {},
   "outputs": [],
   "source": [
    "import random\n",
    "def create_top_100(spacity):\n",
    "    df = pd.DataFrame()\n",
    "    items = df_top100item['item_id'].to_list()\n",
    "    ratings = [1, 1.25, 1.5, 1.75, 2, 2.25, 2.5, 2.75, 3, 3.25, 3.5, 3.75, 4, 4.25, 4.5, 4.75, 5]\n",
    "    for i in range(100):\n",
    "        temp = pd.DataFrame({\"user_id\": [df_top100user['user_id'].tolist()[i] for _ in range(100)], \"item_id\": items, \"rating\": [random.choice(ratings) for _ in range(100)]})\n",
    "        df = pd.concat([df, temp], ignore_index=True)\n",
    "\n",
    "    #delete a fraction of data\n",
    "    nums = int(len(df) * spacity)\n",
    "    rows_to_delete = random.sample(range(len(df)), nums)\n",
    "    df = df.drop(index=rows_to_delete)\n",
    "    return df"
   ]
  },
  {
   "cell_type": "code",
   "execution_count": 7,
   "metadata": {},
   "outputs": [],
   "source": [
    "df = create_top_100(0.1)\n",
    "\n",
    "fpath_towrite = '../cornac/datasets/good_reads/good_read_dense.csv'\n",
    "df.to_csv(path_or_buf = fpath_towrite, sep='\\t', index=False)"
   ]
  }
 ],
 "metadata": {
  "kernelspec": {
   "display_name": "my_venv",
   "language": "python",
   "name": "python3"
  },
  "language_info": {
   "codemirror_mode": {
    "name": "ipython",
    "version": 3
   },
   "file_extension": ".py",
   "mimetype": "text/x-python",
   "name": "python",
   "nbconvert_exporter": "python",
   "pygments_lexer": "ipython3",
   "version": "3.9.12"
  },
  "orig_nbformat": 4,
  "vscode": {
   "interpreter": {
    "hash": "8ebbe97ee2486d44b314e7fb9a74c6e9ddf9ecd1c9e636490160d240e80178cb"
   }
  }
 },
 "nbformat": 4,
 "nbformat_minor": 2
}
