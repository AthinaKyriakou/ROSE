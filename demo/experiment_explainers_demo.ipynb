{
 "cells": [
  {
   "cell_type": "markdown",
   "metadata": {},
   "source": [
    "### Explainer Experiment Demo\n",
    "\n",
    "Below we show some examples on how you can use the **Experiment_Explainers** class. The general steps consist of:\n",
    "1. prepare data\n",
    "2. Initialize recommenders, explainers and metrics\n",
    "3. Initialize experiment and run the experiment\n",
    "\n",
    "You can set distribution=True to enable distribution plots while running the experiments. The plots will be saved in /experiment_plots.\n",
    "\n",
    "When the experiment is completed, result table is saved in /experiment_plots."
   ]
  },
  {
   "cell_type": "code",
   "execution_count": 1,
   "metadata": {},
   "outputs": [
    {
     "name": "stderr",
     "output_type": "stream",
     "text": [
      "/Users/yaoyao/miniconda3/envs/rose/lib/python3.9/site-packages/tqdm/auto.py:21: TqdmWarning: IProgress not found. Please update jupyter and ipywidgets. See https://ipywidgets.readthedocs.io/en/stable/user_install.html\n",
      "  from .autonotebook import tqdm as notebook_tqdm\n",
      "/Users/yaoyao/miniconda3/envs/rose/lib/python3.9/site-packages/flatbuffers/compat.py:19: DeprecationWarning: the imp module is deprecated in favour of importlib; see the module's documentation for alternative uses\n",
      "  import imp\n"
     ]
    }
   ],
   "source": [
    "import warnings\n",
    "from cornac.datasets import goodreads\n",
    "from cornac.experiment.experiment_explainers import Experiment_Explainers\n",
    "from cornac.models import EMF, ALS, FMRec, MTER, EFM, NEMF\n",
    "from cornac.explainer import Exp_EFM, Exp_LIMERS, Exp_MTER, Exp_ALS, Exp_PHI4MF, Exp_SU4EMF\n",
    "from cornac.datasets.goodreads import prepare_data\n",
    "from cornac.metrics_explainer import Metric_Exp_PSPNFNS as PSPN, Metric_Exp_PGF as PGF, Metric_Exp_MEP as MEP, Metric_Exp_EnDCG as EnDCG\n",
    "from cornac.metrics_explainer import Metric_Exp_DIV as DIV, Metric_Exp_FPR as FPR, Metric_Exp_FA as FA, Metric_Exp_RA as RA\n",
    "\n",
    "warnings.filterwarnings('ignore') "
   ]
  },
  {
   "cell_type": "markdown",
   "metadata": {},
   "source": [
    "**Experiment 1**: run PSPNFNS, FDIV and FPR on (FM, Exp_LIMERS) pair using data from goodreads_limers. This dataset contains explicit user and item features."
   ]
  },
  {
   "cell_type": "code",
   "execution_count": 2,
   "metadata": {},
   "outputs": [
    {
     "name": "stderr",
     "output_type": "stream",
     "text": [
      "INFO:cornac.experiment.experiment_explainers:Start training Recommender FMRec...\n"
     ]
    },
    {
     "name": "stdout",
     "output_type": "stream",
     "text": [
      "Creating validation dataset of 0.01 of training for adaptive regularization\n",
      "-- Epoch 1\n",
      "Training MSE: 0.93597\n",
      "-- Epoch 2\n",
      "Training MSE: 0.78697\n",
      "-- Epoch 3\n",
      "Training MSE: 0.75348\n",
      "-- Epoch 4\n",
      "Training MSE: 0.72721\n",
      "-- Epoch 5\n",
      "Training MSE: 0.71530\n",
      "-- Epoch 6\n",
      "Training MSE: 0.70348\n",
      "-- Epoch 7\n",
      "Training MSE: 0.68541\n",
      "-- Epoch 8\n",
      "Training MSE: 0.67349\n",
      "-- Epoch 9\n",
      "Training MSE: 0.65816\n",
      "-- Epoch 10\n"
     ]
    },
    {
     "name": "stderr",
     "output_type": "stream",
     "text": [
      "INFO:cornac.experiment.experiment_explainers:*****Start evaluating model-explainer: 'FMRec:Exp_LIMERS'...\n",
      "INFO:cornac.experiment.experiment_explainers:Step 1/3: Recommender FMRec creates recommendations\n"
     ]
    },
    {
     "name": "stdout",
     "output_type": "stream",
     "text": [
      "Training MSE: 0.65255\n"
     ]
    },
    {
     "name": "stderr",
     "output_type": "stream",
     "text": [
      "INFO:cornac.experiment.experiment_explainers:Step 2/3: Explainer Exp_LIMERS create explanation for all recommendations\n",
      "Computing explanations: 100%|██████████| 1000/1000 [00:15<00:00, 65.82it/s]\n",
      "INFO:cornac.experiment.experiment_explainers:Step 3/3: Metric Metric_Exp_PSPNFNS starts evaluation...\n",
      "INFO:cornac.experiment.experiment_explainers:self.current_rec: FMRec, self.current_exp: Exp_LIMERS\n",
      "Re-evaluate after features removal... : 100%|██████████| 1000/1000 [00:16<00:00, 59.49it/s]\n",
      "INFO:cornac.experiment.experiment_explainers:Result: Probability of Necessity: 0.543; Probability of Sufficiency: 0.187; Harmonic Mean: 0.27819452054794525\n",
      "INFO:cornac.experiment.experiment_explainers:Step 3/3: Metric Metric_Exp_DIV starts evaluation...\n",
      "INFO:cornac.experiment.experiment_explainers:Result: Feature diversity: 0.49663188188166146\n",
      "INFO:cornac.experiment.experiment_explainers:Step 3/3: Metric Metric_Exp_FPR starts evaluation...\n",
      "ERROR:cornac.experiment.experiment_explainers:Metric Metric_Exp_FPR does not support Exp_LIMERS.\n",
      "INFO:cornac.experiment.experiment_explainers:experiment data: [[0.27819452054794525, 0.49663188188166146, 'N/A', 6.964515209197998, 34.02176380157471]]\n",
      "INFO:cornac.experiment.experiment_explainers:Experiment result: \n",
      " recommender:explainer |  Metric_Exp_PSPNFNS |      Metric_Exp_DIV | Metric_Exp_FPR |          Train(s) |       Evaluate(s)\n",
      "FMRec:Exp_LIMERS      | 0.27819452054794525 | 0.49663188188166146 |            N/A | 6.964515209197998 | 34.02176380157471\n",
      "\n"
     ]
    }
   ],
   "source": [
    "# prepare data\n",
    "rs = prepare_data(data_name=\"goodreads_limers\", test_size=0.2, dense=True, item=True, user=True, sample_size=1, seed=21)\n",
    "\n",
    "# initialize recommenders, explainers and metrics\n",
    "fm = FMRec()\n",
    "limers = Exp_LIMERS(rec_model=fm, dataset=rs.train_set)\n",
    "pspnfns = PSPN()\n",
    "fdiv = DIV()\n",
    "fpr = FPR()\n",
    "\n",
    "# initialize experiment\n",
    "models = [(fm, limers)]\n",
    "metrics = [pspnfns, fdiv, fpr]\n",
    "experiment = Experiment_Explainers(eval_method=rs, models=models, metrics=metrics,distribution=True, rec_k=10, feature_k=10, eval_train=True)\n",
    "experiment.run()"
   ]
  },
  {
   "cell_type": "markdown",
   "metadata": {},
   "source": [
    "**Experiment 2**: run PSPN, FDIV and FPR on (EFM, Exp_EFM) and (MTER, Exp_MTER) pairs using data from goodreads. This dataset contains explicit review keywords."
   ]
  },
  {
   "cell_type": "code",
   "execution_count": 3,
   "metadata": {},
   "outputs": [
    {
     "name": "stderr",
     "output_type": "stream",
     "text": [
      "INFO:cornac.experiment.experiment_explainers:Start training Recommender EFM...\n",
      "INFO:cornac.experiment.experiment_explainers:*****Start evaluating model-explainer: 'EFM:Exp_EFM'...\n",
      "INFO:cornac.experiment.experiment_explainers:Step 1/3: Recommender EFM creates recommendations\n",
      "INFO:cornac.experiment.experiment_explainers:Step 2/3: Explainer Exp_EFM create explanation for all recommendations\n",
      "Computing explanations: 100%|██████████| 1000/1000 [00:00<00:00, 2702.89it/s]\n",
      "INFO:cornac.experiment.experiment_explainers:Step 3/3: Metric Metric_Exp_DIV starts evaluation...\n",
      "INFO:cornac.experiment.experiment_explainers:Result: Feature diversity: 0.44878211544903873\n",
      "INFO:cornac.experiment.experiment_explainers:Step 3/3: Metric Metric_Exp_FPR starts evaluation...\n",
      "Start evaluation... :  20%|██        | 1440/7200 [00:01<00:06, 918.87it/s] \n",
      "INFO:cornac.experiment.experiment_explainers:Result: Feature Precision: 0.3687264287786481; Feature Recall: 0.028918731066742757; Harmonic Mean: 0.04748078256424227\n",
      "INFO:cornac.experiment.experiment_explainers:Step 3/3: Metric Metric_Exp_PSPNFNS starts evaluation...\n",
      "INFO:cornac.experiment.experiment_explainers:self.current_rec: EFM, self.current_exp: Exp_EFM\n",
      "Re-evaluate after features removal... : 100%|██████████| 1000/1000 [00:02<00:00, 498.44it/s]\n",
      "INFO:cornac.experiment.experiment_explainers:Result: Probability of Necessity: 0.038; Probability of Sufficiency: 0.615; Harmonic Mean: 0.07157733537519141\n",
      "INFO:cornac.experiment.experiment_explainers:Start training Recommender MTER...\n",
      "INFO:cornac.experiment.experiment_explainers:*****Start evaluating model-explainer: 'MTER:Exp_MTER'...\n",
      "INFO:cornac.experiment.experiment_explainers:Step 1/3: Recommender MTER creates recommendations\n",
      "INFO:cornac.experiment.experiment_explainers:Step 2/3: Explainer Exp_MTER create explanation for all recommendations\n",
      "Computing explanations: 100%|██████████| 1000/1000 [00:00<00:00, 3013.55it/s]\n",
      "INFO:cornac.experiment.experiment_explainers:Step 3/3: Metric Metric_Exp_DIV starts evaluation...\n",
      "INFO:cornac.experiment.experiment_explainers:Result: Feature diversity: 0.10873206539880455\n",
      "INFO:cornac.experiment.experiment_explainers:Step 3/3: Metric Metric_Exp_FPR starts evaluation...\n",
      "Start evaluation... :  20%|█▉        | 118/594 [00:00<00:00, 908.75it/s] \n",
      "INFO:cornac.experiment.experiment_explainers:Result: Feature Precision: 0.49206349206349204; Feature Recall: 0.31024694223350197; Harmonic Mean: 0.3199644137084149\n",
      "INFO:cornac.experiment.experiment_explainers:Step 3/3: Metric Metric_Exp_PSPNFNS starts evaluation...\n",
      "INFO:cornac.experiment.experiment_explainers:self.current_rec: MTER, self.current_exp: Exp_MTER\n",
      "Re-evaluate after features removal... : 100%|██████████| 1000/1000 [00:01<00:00, 925.60it/s]\n",
      "INFO:cornac.experiment.experiment_explainers:Result: Probability of Necessity: 0.0; Probability of Sufficiency: 0.585; Harmonic Mean: 0.0\n",
      "INFO:cornac.experiment.experiment_explainers:experiment data: [[0.44878211544903873, 0.04748078256424227, 0.07157733537519141, 0.05677175521850586, 5.448515892028809], [0.10873206539880455, 0.3199644137084149, 0.0, 0.11119318008422852, 2.3756749629974365]]\n",
      "INFO:cornac.experiment.experiment_explainers:Experiment result: \n",
      " recommender:explainer |      Metric_Exp_DIV |      Metric_Exp_FPR |  Metric_Exp_PSPNFNS |            Train(s) |        Evaluate(s)\n",
      "EFM:Exp_EFM           | 0.44878211544903873 | 0.04748078256424227 | 0.07157733537519141 | 0.05677175521850586 |  5.448515892028809\n",
      "MTER:Exp_MTER         | 0.10873206539880455 |  0.3199644137084149 |                 0.0 | 0.11119318008422852 | 2.3756749629974365\n",
      "\n"
     ]
    }
   ],
   "source": [
    "# prepare data\n",
    "rs = prepare_data(data_name=\"goodreads\", test_size=0.2, dense=True, item=True, user=True, sample_size=1, seed=21)\n",
    "ground_truth_good_reads = goodreads.load_sentiment()\n",
    "\n",
    "# initialize recommenders and explainers\n",
    "efm = EFM(max_iter=20, num_explicit_factors=50, num_latent_factors=50, num_most_cared_aspects=50, alpha=0.85,lambda_h=0.1, lambda_u=0.001, lambda_v=0.01, lambda_x=1.0, lambda_y= 0.1)\n",
    "efm_exp = Exp_EFM(rec_model=efm, dataset=rs.train_set)\n",
    "mter = MTER(max_iter=20, n_aspect_factors=8, n_item_factors=5, n_opinion_factors= 5, n_user_factors= 10, lambda_bpr=10, lambda_reg= 10, n_bpr_samples=1000, n_element_samples=50)\n",
    "mter_exp = Exp_MTER(rec_model=mter, dataset=rs.train_set)\n",
    "\n",
    "# initialize metrics\n",
    "pspnfns = PSPN()\n",
    "fdiv = DIV()\n",
    "fpr = FPR()\n",
    "fpr_with_input_as_groundtruth = FPR(ground_truth=ground_truth_good_reads)\n",
    "\n",
    "# initialize experiment\n",
    "models = [(efm, efm_exp), (mter, mter_exp)]\n",
    "metrics = [fdiv, fpr_with_input_as_groundtruth, pspnfns]\n",
    "experiment = Experiment_Explainers(eval_method=rs, models=models, metrics=metrics,rec_k=10, distribution=False, feature_k=10, eval_train=True)\n",
    "experiment.run()"
   ]
  },
  {
   "cell_type": "markdown",
   "metadata": {},
   "source": [
    "**Experiment 3**: run FDIV, PGF, MEP and EnDCG on (ALS, Exp_ALS), (EMF, Exp_PHI4MF) and (NEMF, Exp_SU4EMF) pairs using data from goodreads. This dataset only contains user, item and rating info."
   ]
  },
  {
   "cell_type": "code",
   "execution_count": 4,
   "metadata": {},
   "outputs": [
    {
     "name": "stderr",
     "output_type": "stream",
     "text": [
      "INFO:cornac.experiment.experiment_explainers:Start training Recommender ALS...\n",
      "100%|██████████| 500/500 [00:00<00:00, 702.91it/s, loss=0.0284]\n",
      "INFO:implicit:Final training loss 0.0284\n",
      "INFO:cornac.experiment.experiment_explainers:*****Start evaluating model-explainer: 'ALS:Exp_ALS'...\n",
      "INFO:cornac.experiment.experiment_explainers:Step 1/3: Recommender ALS creates recommendations\n",
      "INFO:cornac.experiment.experiment_explainers:Step 2/3: Explainer Exp_ALS create explanation for all recommendations\n",
      "Computing explanations: 100%|██████████| 1000/1000 [00:02<00:00, 355.80it/s]\n",
      "INFO:cornac.experiment.experiment_explainers:Step 3/3: Metric Metric_Exp_DIV starts evaluation...\n",
      "INFO:cornac.experiment.experiment_explainers:Result: Feature diversity: 0.15426966966956615\n",
      "INFO:cornac.experiment.experiment_explainers:Step 3/3: Metric Metric_Exp_PGF starts evaluation...\n",
      "100%|██████████| 100/100 [00:00<00:00, 5981.18it/s]\n",
      "INFO:cornac.experiment.experiment_explainers:Result: Metric_Exp_PGF: 0.2812802490125388\n",
      "ERROR:cornac.experiment.experiment_explainers:Metric Metric_Exp_MEP does not support Exp_ALS.\n",
      "ERROR:cornac.experiment.experiment_explainers:Metric Metric_Exp_EnDCG does not support Exp_ALS.\n",
      "INFO:cornac.experiment.experiment_explainers:Start training Recommender EMF...\n",
      "100%|██████████| 500/500 [00:00<00:00, 2508.98it/s, loss=6005.98]\n",
      "INFO:cornac.experiment.experiment_explainers:*****Start evaluating model-explainer: 'EMF:Exp_PHI4MF'...\n",
      "INFO:cornac.experiment.experiment_explainers:Step 1/3: Recommender EMF creates recommendations\n",
      "INFO:cornac.experiment.experiment_explainers:Step 2/3: Explainer Exp_PHI4MF create explanation for all recommendations\n"
     ]
    },
    {
     "name": "stdout",
     "output_type": "stream",
     "text": [
      "Optimization finished!\n"
     ]
    },
    {
     "name": "stderr",
     "output_type": "stream",
     "text": [
      "Computing explanations:   2%|▏         | 22/1000 [00:52<27:36,  1.69s/it]  "
     ]
    },
    {
     "name": "stdout",
     "output_type": "stream",
     "text": [
      "Association rules generated\n"
     ]
    },
    {
     "name": "stderr",
     "output_type": "stream",
     "text": [
      "Computing explanations: 100%|██████████| 1000/1000 [00:56<00:00, 17.56it/s]\n",
      "INFO:cornac.experiment.experiment_explainers:Step 3/3: Metric Metric_Exp_DIV starts evaluation...\n",
      "INFO:cornac.experiment.experiment_explainers:Result: Feature diversity: 0.0006570570570570583\n",
      "INFO:cornac.experiment.experiment_explainers:Step 3/3: Metric Metric_Exp_PGF starts evaluation...\n",
      "100%|██████████| 100/100 [00:00<00:00, 2859.82it/s]\n",
      "INFO:cornac.experiment.experiment_explainers:Result: Metric_Exp_PGF: 0.08423199365846813\n",
      "INFO:cornac.experiment.experiment_explainers:Step 3/3: Metric Metric_Exp_MEP starts evaluation...\n",
      "INFO:cornac.experiment.experiment_explainers:Result: Metric_Exp_MEP: 0.99\n",
      "INFO:cornac.experiment.experiment_explainers:Step 3/3: Metric Metric_Exp_EnDCG starts evaluation...\n",
      "INFO:cornac.experiment.experiment_explainers:Result: Metric_Exp_EnDCG: 0.5706202632250212\n",
      "INFO:cornac.experiment.experiment_explainers:Start training Recommender NEMF...\n"
     ]
    },
    {
     "name": "stdout",
     "output_type": "stream",
     "text": [
      "Start compute edge weight matrix...\n",
      "Start compute novel matrix...\n",
      "Matrix computation finished!\n"
     ]
    },
    {
     "name": "stderr",
     "output_type": "stream",
     "text": [
      "100%|██████████| 500/500 [00:00<00:00, 2313.71it/s, loss=6309.01]\n",
      "INFO:cornac.experiment.experiment_explainers:*****Start evaluating model-explainer: 'NEMF:Exp_SU4EMF'...\n",
      "INFO:cornac.experiment.experiment_explainers:Step 1/3: Recommender NEMF creates recommendations\n",
      "INFO:cornac.experiment.experiment_explainers:Step 2/3: Explainer Exp_SU4EMF create explanation for all recommendations\n"
     ]
    },
    {
     "name": "stdout",
     "output_type": "stream",
     "text": [
      "Optimization finished!\n"
     ]
    },
    {
     "name": "stderr",
     "output_type": "stream",
     "text": [
      "Computing explanations: 100%|██████████| 1000/1000 [00:00<00:00, 1532.02it/s]\n",
      "INFO:cornac.experiment.experiment_explainers:Step 3/3: Metric Metric_Exp_DIV starts evaluation...\n",
      "INFO:cornac.experiment.experiment_explainers:Result: Feature diversity: 0.38719673006323596\n",
      "INFO:cornac.experiment.experiment_explainers:Step 3/3: Metric Metric_Exp_PGF starts evaluation...\n",
      "100%|██████████| 100/100 [00:00<00:00, 3040.69it/s]\n",
      "INFO:cornac.experiment.experiment_explainers:Result: Metric_Exp_PGF: 0.2368223514780402\n",
      "INFO:cornac.experiment.experiment_explainers:Step 3/3: Metric Metric_Exp_MEP starts evaluation...\n",
      "INFO:cornac.experiment.experiment_explainers:Result: Metric_Exp_MEP: 0.996\n",
      "INFO:cornac.experiment.experiment_explainers:Step 3/3: Metric Metric_Exp_EnDCG starts evaluation...\n",
      "INFO:cornac.experiment.experiment_explainers:Result: Metric_Exp_EnDCG: 0.5639468010595162\n",
      "INFO:cornac.experiment.experiment_explainers:experiment data: [[0.15426966966956615, 0.2812802490125388, 'N/A', 'N/A', 0.7815470695495605, 3.241960048675537], [0.0006570570570570583, 0.08423199365846813, 0.99, 0.5706202632250212, 0.23724794387817383, 57.2662250995636], [0.38719673006323596, 0.2368223514780402, 0.996, 0.5639468010595162, 0.26972389221191406, 0.9638469219207764]]\n",
      "INFO:cornac.experiment.experiment_explainers:Experiment result: \n",
      " recommender:explainer |        Metric_Exp_DIV |      Metric_Exp_PGF | Metric_Exp_MEP |   Metric_Exp_EnDCG |            Train(s) |        Evaluate(s)\n",
      "ALS:Exp_ALS           |   0.15426966966956615 |  0.2812802490125388 |            N/A |                N/A |  0.7815470695495605 |  3.241960048675537\n",
      "EMF:Exp_PHI4MF        | 0.0006570570570570583 | 0.08423199365846813 |           0.99 | 0.5706202632250212 | 0.23724794387817383 |   57.2662250995636\n",
      "NEMF:Exp_SU4EMF       |   0.38719673006323596 |  0.2368223514780402 |          0.996 | 0.5639468010595162 | 0.26972389221191406 | 0.9638469219207764\n",
      "\n"
     ]
    }
   ],
   "source": [
    "# prepare data\n",
    "rs_dense = prepare_data(data_name=\"goodreads_uir_1000\", test_size=0, dense=True, item=True, user=True, sample_size=1, seed=21)\n",
    "\n",
    "# initialize recommenders and explainers\n",
    "emf = EMF(k=10, max_iter=500, learning_rate=0.001, lambda_reg=0.1, explain_reg=0.01, verbose=True, seed=6, num_threads=6, early_stop=True)\n",
    "nemf = NEMF(k=10, max_iter=500, learning_rate=0.001, lambda_reg=0.1, explain_reg=0.01, novel_reg=1, verbose=True, seed=6, num_threads=6, early_stop=True)\n",
    "als = ALS(k=10, max_iter=500, lambda_reg=0.001, alpha=1, verbose=True, seed=6)\n",
    "als_exp = Exp_ALS(rec_model=als, dataset=rs_dense.train_set)\n",
    "emf_exp = Exp_PHI4MF(rec_model=emf, dataset=rs_dense.train_set)\n",
    "nemf_exp = Exp_SU4EMF(rec_model=nemf, dataset=rs_dense.train_set)\n",
    "\n",
    "# initialize metrics\n",
    "fdiv = DIV()\n",
    "pgf = PGF()\n",
    "mep = MEP()\n",
    "endcg = EnDCG()\n",
    "\n",
    "# initialize experiment\n",
    "models = [(als, als_exp), (emf, emf_exp), (nemf, nemf_exp)]\n",
    "metrics = [fdiv, pgf, mep, endcg]\n",
    "experiment = Experiment_Explainers(eval_method=rs_dense, models=models, metrics=metrics,distribution=False, rec_k=10, feature_k=10, eval_train=True)\n",
    "experiment.run()"
   ]
  },
  {
   "cell_type": "markdown",
   "metadata": {},
   "source": [
    "**Experiment 4**: Run RA and FA on pairwise models. FA and RA performs comparison between two sets of explainers, thus the score is unavailable when only one explainer is passed."
   ]
  },
  {
   "cell_type": "code",
   "execution_count": 5,
   "metadata": {},
   "outputs": [
    {
     "name": "stderr",
     "output_type": "stream",
     "text": [
      "INFO:cornac.experiment.experiment_explainers:Start training Recommender1 EFM...\n",
      "INFO:cornac.experiment.experiment_explainers:Start training Recommender2 MTER...\n",
      "INFO:cornac.experiment.experiment_explainers:*****Start evaluating model-explainer: 'EFM:Exp_EFM'vs'MTER:Exp_MTER'...\n",
      "INFO:cornac.experiment.experiment_explainers:Step 1/3: Creates fake recommendations from dataset for common used\n",
      "INFO:cornac.experiment.experiment_explainers:Step 2/3: Explainer1 Exp_EFM create explanation for all recommendations\n",
      "Computing explanations: 100%|██████████| 100/100 [00:00<00:00, 2745.57it/s]\n",
      "INFO:cornac.experiment.experiment_explainers:Step 2/3: Explainer2 Exp_MTER create explanation for all recommendations\n",
      "Computing explanations: 100%|██████████| 100/100 [00:00<00:00, 2267.78it/s]\n",
      "INFO:cornac.experiment.experiment_explainers:Step 3/3: Metric Metric_Exp_FA starts evaluation...\n",
      "INFO:cornac.experiment.experiment_explainers:Result: Average Metric_Exp_FA: 0.0\n",
      "INFO:cornac.experiment.experiment_explainers:Step 3/3: Metric Metric_Exp_RA starts evaluation...\n",
      "INFO:cornac.experiment.experiment_explainers:Result: Average Metric_Exp_RA: 0.0\n",
      "ERROR:cornac.experiment.experiment_explainers:Metric Metric_Exp_DIV does not support ('Exp_EFM', 'Exp_MTER').\n",
      "INFO:cornac.experiment.experiment_explainers:Start training Recommender EFM...\n",
      "INFO:cornac.experiment.experiment_explainers:*****Start evaluating model-explainer: 'EFM:Exp_EFM'...\n",
      "INFO:cornac.experiment.experiment_explainers:Step 1/3: Recommender EFM creates recommendations\n",
      "INFO:cornac.experiment.experiment_explainers:Step 2/3: Explainer Exp_EFM create explanation for all recommendations\n",
      "Computing explanations: 100%|██████████| 1000/1000 [00:00<00:00, 3482.90it/s]\n",
      "INFO:cornac.experiment.experiment_explainers:Step 3/3: Metric Metric_Exp_FA starts evaluation...\n",
      "INFO:cornac.experiment.experiment_explainers:Step 3/3: Metric Metric_Exp_RA starts evaluation...\n",
      "INFO:cornac.experiment.experiment_explainers:Step 3/3: Metric Metric_Exp_DIV starts evaluation...\n",
      "INFO:cornac.experiment.experiment_explainers:Result: Feature diversity: 0.39699699699806856\n",
      "INFO:cornac.experiment.experiment_explainers:Start training Recommender MTER...\n",
      "INFO:cornac.experiment.experiment_explainers:*****Start evaluating model-explainer: 'MTER:Exp_MTER'...\n",
      "INFO:cornac.experiment.experiment_explainers:Step 1/3: Recommender MTER creates recommendations\n",
      "INFO:cornac.experiment.experiment_explainers:Step 2/3: Explainer Exp_MTER create explanation for all recommendations\n",
      "Computing explanations: 100%|██████████| 1000/1000 [00:00<00:00, 4303.87it/s]\n",
      "INFO:cornac.experiment.experiment_explainers:Step 3/3: Metric Metric_Exp_FA starts evaluation...\n",
      "INFO:cornac.experiment.experiment_explainers:Step 3/3: Metric Metric_Exp_RA starts evaluation...\n",
      "INFO:cornac.experiment.experiment_explainers:Step 3/3: Metric Metric_Exp_DIV starts evaluation...\n",
      "INFO:cornac.experiment.experiment_explainers:Result: Feature diversity: 0.10603203203206406\n",
      "INFO:cornac.experiment.experiment_explainers:experiment data: [[0.0, 0.0, 'N/A', 0.12359404563903809, 0.28114891052246094], ['N/A', 'N/A', 0.39699699699806856, 0.06349682807922363, 1.029900074005127], ['N/A', 'N/A', 0.10603203203206406, 0.07109308242797852, 0.8185679912567139]]\n",
      "INFO:cornac.experiment.experiment_explainers:Experiment result: \n",
      " recommender:explainer        | Metric_Exp_FA | Metric_Exp_RA |      Metric_Exp_DIV |            Train(s) |         Evaluate(s)\n",
      "EFM:Exp_EFM'vs'MTER:Exp_MTER |           0.0 |           0.0 |                 N/A | 0.12359404563903809 | 0.28114891052246094\n",
      "EFM:Exp_EFM                  |           N/A |           N/A | 0.39699699699806856 | 0.06349682807922363 |   1.029900074005127\n",
      "MTER:Exp_MTER                |           N/A |           N/A | 0.10603203203206406 | 0.07109308242797852 |  0.8185679912567139\n",
      "\n"
     ]
    }
   ],
   "source": [
    "# prepare data\n",
    "rs = prepare_data(data_name=\"goodreads\", test_size=0.2, dense=True, item=True, user=True, sample_size=1, seed=21)\n",
    "\n",
    "# initialize recommenders and explainers\n",
    "efm = EFM(max_iter=20, num_explicit_factors=50, num_latent_factors=50, num_most_cared_aspects=50, alpha=0.85,lambda_h=0.1, lambda_u=0.001, lambda_v=0.01, lambda_x=1.0, lambda_y= 0.1)\n",
    "efm_exp = Exp_EFM(rec_model=efm, dataset=rs.train_set)\n",
    "mter = MTER(max_iter=20, n_aspect_factors=8, n_item_factors=5, n_opinion_factors= 5, n_user_factors= 10, lambda_bpr=10, lambda_reg= 10, n_bpr_samples=1000, n_element_samples=50)\n",
    "mter_exp = Exp_MTER(rec_model=mter, dataset=rs.train_set)\n",
    "\n",
    "# initialize metrics\n",
    "fa = FA()\n",
    "ra = RA()\n",
    "fdiv = DIV()\n",
    "\n",
    "# initialize experiment\n",
    "models = [[(efm, mter), (efm_exp, mter_exp)], (efm, efm_exp), (mter, mter_exp)]\n",
    "metrics = [fa,ra, fdiv]\n",
    "experiment = Experiment_Explainers(eval_method=rs, models=models, metrics=metrics,rec_k=10, feature_k=10, eval_train=True)\n",
    "experiment.run()"
   ]
  }
 ],
 "metadata": {
  "kernelspec": {
   "display_name": "my_venv",
   "language": "python",
   "name": "python3"
  },
  "language_info": {
   "codemirror_mode": {
    "name": "ipython",
    "version": 3
   },
   "file_extension": ".py",
   "mimetype": "text/x-python",
   "name": "python",
   "nbconvert_exporter": "python",
   "pygments_lexer": "ipython3",
   "version": "3.9.18"
  },
  "orig_nbformat": 4,
  "vscode": {
   "interpreter": {
    "hash": "8ebbe97ee2486d44b314e7fb9a74c6e9ddf9ecd1c9e636490160d240e80178cb"
   }
  }
 },
 "nbformat": 4,
 "nbformat_minor": 2
}
