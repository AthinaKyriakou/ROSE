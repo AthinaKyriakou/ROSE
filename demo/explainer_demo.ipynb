{
 "cells": [
  {
   "cell_type": "markdown",
   "metadata": {},
   "source": [
    "## Usage of one explainer\n",
    "\n",
    "Take EFM and Exp_EFM as an example, and use dataset amazon_toy."
   ]
  },
  {
   "cell_type": "code",
   "execution_count": 1,
   "metadata": {},
   "outputs": [
    {
     "name": "stderr",
     "output_type": "stream",
     "text": [
      "/Users/athina/Desktop/ROSE/clean_venv_1/lib/python3.9/site-packages/tqdm/auto.py:21: TqdmWarning: IProgress not found. Please update jupyter and ipywidgets. See https://ipywidgets.readthedocs.io/en/stable/user_install.html\n",
      "  from .autonotebook import tqdm as notebook_tqdm\n"
     ]
    },
    {
     "name": "stdout",
     "output_type": "stream",
     "text": [
      "rating_threshold = 1.0\n",
      "exclude_unknowns = True\n",
      "---\n",
      "Training data:\n",
      "Number of users = 974\n",
      "Number of items = 7861\n",
      "Number of ratings = 26231\n",
      "Max rating = 5.0\n",
      "Min rating = 1.0\n",
      "Global mean = 4.3\n",
      "---\n",
      "Test data:\n",
      "Number of users = 974\n",
      "Number of items = 7861\n",
      "Number of ratings = 4840\n",
      "Number of unknown users = 0\n",
      "Number of unknown items = 0\n",
      "---\n",
      "Total users = 974\n",
      "Total items = 7861\n"
     ]
    }
   ],
   "source": [
    "from cornac.datasets import amazon_toy\n",
    "from cornac.data.reader import Reader\n",
    "from cornac.eval_methods import StratifiedSplit\n",
    "from cornac.data.sentiment import SentimentModality\n",
    "from cornac.models import EFM\n",
    "from cornac.explainer import Exp_EFM\n",
    "\n",
    "# Load the Amazon toy dataset\n",
    "rating = amazon_toy.load_feedback(fmt=\"UIRT\", reader=Reader(min_user_freq=20))\n",
    "sentiment_data = amazon_toy.load_sentiment(reader=Reader(min_user_freq=20))\n",
    "md = SentimentModality(data=sentiment_data)\n",
    "\n",
    "eval_method = StratifiedSplit(\n",
    "    data=rating,\n",
    "    group_by=\"user\",\n",
    "    chrono=True,\n",
    "    sentiment=md,\n",
    "    test_size=0.2,\n",
    "    exclude_unknowns=True,\n",
    "    verbose=True,\n",
    ")\n",
    "\n",
    "# Instantiate the EFM model\n",
    "efm = EFM(max_iter=20)\n",
    "efm.fit(eval_method.train_set)\n",
    "\n",
    "# Instantiate the explainer\n",
    "explainer = Exp_EFM(rec_model=efm, dataset=eval_method.train_set)\n"
   ]
  },
  {
   "cell_type": "markdown",
   "metadata": {},
   "source": [
    "### Explain recommendations"
   ]
  },
  {
   "cell_type": "code",
   "execution_count": 2,
   "metadata": {},
   "outputs": [
    {
     "name": "stdout",
     "output_type": "stream",
     "text": [
      "           user_id     item_id  prediction\n",
      "0   A2TXMYYGSZCSZ1  B0000524NG    4.788801\n",
      "1   A2TXMYYGSZCSZ1  B001L123JS    4.685280\n",
      "2   A2TXMYYGSZCSZ1  B006XG3NRC    4.619111\n",
      "3   A2TXMYYGSZCSZ1  B008FREULU    4.275772\n",
      "4   A2TXMYYGSZCSZ1  B005VPREAS    4.243783\n",
      "5    A2C27IQUH9N1Z  B001L123JS    4.437986\n",
      "6    A2C27IQUH9N1Z  B0000524NG    4.383355\n",
      "7    A2C27IQUH9N1Z  B006XG3NRC    4.148132\n",
      "8    A2C27IQUH9N1Z  B000WCOJZ8    3.979965\n",
      "9    A2C27IQUH9N1Z  B00004U3FX    3.926259\n",
      "10   ABSFFH7ECSE49  B0000524NG    4.346515\n",
      "11   ABSFFH7ECSE49  B001L123JS    4.340716\n",
      "12   ABSFFH7ECSE49  B006XG3NRC    4.152691\n",
      "13   ABSFFH7ECSE49  B008FREULU    3.868022\n",
      "14   ABSFFH7ECSE49  B000ANIVRG    3.866382\n"
     ]
    }
   ],
   "source": [
    "# first, we need some recommendations\n",
    "some_users = eval_method.test_set.user_ids[:3]\n",
    "recomendations = efm.recommend_to_multiple_users(some_users, k=5)\n",
    "print(recomendations)"
   ]
  },
  {
   "cell_type": "code",
   "execution_count": 3,
   "metadata": {},
   "outputs": [
    {
     "name": "stderr",
     "output_type": "stream",
     "text": [
      "Computing explanations: 100%|██████████| 15/15 [00:00<00:00, 196.04it/s]\n"
     ]
    },
    {
     "data": {
      "text/html": [
       "<div>\n",
       "<style scoped>\n",
       "    .dataframe tbody tr th:only-of-type {\n",
       "        vertical-align: middle;\n",
       "    }\n",
       "\n",
       "    .dataframe tbody tr th {\n",
       "        vertical-align: top;\n",
       "    }\n",
       "\n",
       "    .dataframe thead th {\n",
       "        text-align: right;\n",
       "    }\n",
       "</style>\n",
       "<table border=\"1\" class=\"dataframe\">\n",
       "  <thead>\n",
       "    <tr style=\"text-align: right;\">\n",
       "      <th></th>\n",
       "      <th>user_id</th>\n",
       "      <th>item_id</th>\n",
       "      <th>prediction</th>\n",
       "      <th>explanations</th>\n",
       "    </tr>\n",
       "  </thead>\n",
       "  <tbody>\n",
       "    <tr>\n",
       "      <th>0</th>\n",
       "      <td>A2TXMYYGSZCSZ1</td>\n",
       "      <td>B0000524NG</td>\n",
       "      <td>4.788801</td>\n",
       "      <td>{'toy': 5.584977, 'also': 5.2246675, 'doll': 5...</td>\n",
       "    </tr>\n",
       "    <tr>\n",
       "      <th>1</th>\n",
       "      <td>A2TXMYYGSZCSZ1</td>\n",
       "      <td>B001L123JS</td>\n",
       "      <td>4.685280</td>\n",
       "      <td>{'toy': 5.7940626, 'also': 5.266629, 'doll': 5...</td>\n",
       "    </tr>\n",
       "    <tr>\n",
       "      <th>2</th>\n",
       "      <td>A2TXMYYGSZCSZ1</td>\n",
       "      <td>B006XG3NRC</td>\n",
       "      <td>4.619111</td>\n",
       "      <td>{'toy': 5.904228, 'also': 5.605051, 'doll': 5....</td>\n",
       "    </tr>\n",
       "    <tr>\n",
       "      <th>3</th>\n",
       "      <td>A2TXMYYGSZCSZ1</td>\n",
       "      <td>B008FREULU</td>\n",
       "      <td>4.275772</td>\n",
       "      <td>{'toy': 5.272653, 'also': 5.37397, 'doll': 5.7...</td>\n",
       "    </tr>\n",
       "    <tr>\n",
       "      <th>4</th>\n",
       "      <td>A2TXMYYGSZCSZ1</td>\n",
       "      <td>B005VPREAS</td>\n",
       "      <td>4.243783</td>\n",
       "      <td>{'toy': 5.0203915, 'also': 5.124734, 'doll': 5...</td>\n",
       "    </tr>\n",
       "    <tr>\n",
       "      <th>5</th>\n",
       "      <td>A2C27IQUH9N1Z</td>\n",
       "      <td>B001L123JS</td>\n",
       "      <td>4.437986</td>\n",
       "      <td>{'toy': 5.7940626, 'really': 5.391638, 'pieces...</td>\n",
       "    </tr>\n",
       "    <tr>\n",
       "      <th>6</th>\n",
       "      <td>A2C27IQUH9N1Z</td>\n",
       "      <td>B0000524NG</td>\n",
       "      <td>4.383355</td>\n",
       "      <td>{'toy': 5.584977, 'really': 5.585854, 'pieces'...</td>\n",
       "    </tr>\n",
       "    <tr>\n",
       "      <th>7</th>\n",
       "      <td>A2C27IQUH9N1Z</td>\n",
       "      <td>B006XG3NRC</td>\n",
       "      <td>4.148132</td>\n",
       "      <td>{'toy': 5.904228, 'really': 6.2706375, 'pieces...</td>\n",
       "    </tr>\n",
       "    <tr>\n",
       "      <th>8</th>\n",
       "      <td>A2C27IQUH9N1Z</td>\n",
       "      <td>B000WCOJZ8</td>\n",
       "      <td>3.979965</td>\n",
       "      <td>{'toy': 5.889739, 'really': 5.238186, 'pieces'...</td>\n",
       "    </tr>\n",
       "    <tr>\n",
       "      <th>9</th>\n",
       "      <td>A2C27IQUH9N1Z</td>\n",
       "      <td>B00004U3FX</td>\n",
       "      <td>3.926259</td>\n",
       "      <td>{'toy': 5.5595264, 'really': 5.089987, 'pieces...</td>\n",
       "    </tr>\n",
       "    <tr>\n",
       "      <th>10</th>\n",
       "      <td>ABSFFH7ECSE49</td>\n",
       "      <td>B0000524NG</td>\n",
       "      <td>4.346515</td>\n",
       "      <td>{'pieces': 5.22417, 'bratz': 4.5582194, 'reall...</td>\n",
       "    </tr>\n",
       "    <tr>\n",
       "      <th>11</th>\n",
       "      <td>ABSFFH7ECSE49</td>\n",
       "      <td>B001L123JS</td>\n",
       "      <td>4.340716</td>\n",
       "      <td>{'pieces': 4.974349, 'bratz': 4.75428, 'really...</td>\n",
       "    </tr>\n",
       "    <tr>\n",
       "      <th>12</th>\n",
       "      <td>ABSFFH7ECSE49</td>\n",
       "      <td>B006XG3NRC</td>\n",
       "      <td>4.152691</td>\n",
       "      <td>{'pieces': 5.84754, 'bratz': 5.081158, 'really...</td>\n",
       "    </tr>\n",
       "    <tr>\n",
       "      <th>13</th>\n",
       "      <td>ABSFFH7ECSE49</td>\n",
       "      <td>B008FREULU</td>\n",
       "      <td>3.868022</td>\n",
       "      <td>{'pieces': 5.833023, 'bratz': 4.3077183, 'real...</td>\n",
       "    </tr>\n",
       "    <tr>\n",
       "      <th>14</th>\n",
       "      <td>ABSFFH7ECSE49</td>\n",
       "      <td>B000ANIVRG</td>\n",
       "      <td>3.866382</td>\n",
       "      <td>{'pieces': 5.3540974, 'bratz': 5.4744062, 'rea...</td>\n",
       "    </tr>\n",
       "  </tbody>\n",
       "</table>\n",
       "</div>"
      ],
      "text/plain": [
       "           user_id     item_id  prediction  \\\n",
       "0   A2TXMYYGSZCSZ1  B0000524NG    4.788801   \n",
       "1   A2TXMYYGSZCSZ1  B001L123JS    4.685280   \n",
       "2   A2TXMYYGSZCSZ1  B006XG3NRC    4.619111   \n",
       "3   A2TXMYYGSZCSZ1  B008FREULU    4.275772   \n",
       "4   A2TXMYYGSZCSZ1  B005VPREAS    4.243783   \n",
       "5    A2C27IQUH9N1Z  B001L123JS    4.437986   \n",
       "6    A2C27IQUH9N1Z  B0000524NG    4.383355   \n",
       "7    A2C27IQUH9N1Z  B006XG3NRC    4.148132   \n",
       "8    A2C27IQUH9N1Z  B000WCOJZ8    3.979965   \n",
       "9    A2C27IQUH9N1Z  B00004U3FX    3.926259   \n",
       "10   ABSFFH7ECSE49  B0000524NG    4.346515   \n",
       "11   ABSFFH7ECSE49  B001L123JS    4.340716   \n",
       "12   ABSFFH7ECSE49  B006XG3NRC    4.152691   \n",
       "13   ABSFFH7ECSE49  B008FREULU    3.868022   \n",
       "14   ABSFFH7ECSE49  B000ANIVRG    3.866382   \n",
       "\n",
       "                                         explanations  \n",
       "0   {'toy': 5.584977, 'also': 5.2246675, 'doll': 5...  \n",
       "1   {'toy': 5.7940626, 'also': 5.266629, 'doll': 5...  \n",
       "2   {'toy': 5.904228, 'also': 5.605051, 'doll': 5....  \n",
       "3   {'toy': 5.272653, 'also': 5.37397, 'doll': 5.7...  \n",
       "4   {'toy': 5.0203915, 'also': 5.124734, 'doll': 5...  \n",
       "5   {'toy': 5.7940626, 'really': 5.391638, 'pieces...  \n",
       "6   {'toy': 5.584977, 'really': 5.585854, 'pieces'...  \n",
       "7   {'toy': 5.904228, 'really': 6.2706375, 'pieces...  \n",
       "8   {'toy': 5.889739, 'really': 5.238186, 'pieces'...  \n",
       "9   {'toy': 5.5595264, 'really': 5.089987, 'pieces...  \n",
       "10  {'pieces': 5.22417, 'bratz': 4.5582194, 'reall...  \n",
       "11  {'pieces': 4.974349, 'bratz': 4.75428, 'really...  \n",
       "12  {'pieces': 5.84754, 'bratz': 5.081158, 'really...  \n",
       "13  {'pieces': 5.833023, 'bratz': 4.3077183, 'real...  \n",
       "14  {'pieces': 5.3540974, 'bratz': 5.4744062, 'rea...  "
      ]
     },
     "execution_count": 3,
     "metadata": {},
     "output_type": "execute_result"
    }
   ],
   "source": [
    "# now, we can explain the recommendations\n",
    "explainer.explain_recommendations(recomendations)"
   ]
  },
  {
   "cell_type": "markdown",
   "metadata": {},
   "source": [
    "### Explain one user-item pair"
   ]
  },
  {
   "cell_type": "code",
   "execution_count": 5,
   "metadata": {},
   "outputs": [
    {
     "name": "stdout",
     "output_type": "stream",
     "text": [
      "For User A2TXMYYGSZCSZ1 and Item B00004TZY8:\n",
      "Explanation:\n",
      "{'toy': 4.501335, 'also': 3.9797702, 'doll': 4.2085037, 'quality': 4.264781}\n"
     ]
    }
   ],
   "source": [
    "# we can explain one recommendation using the 4 most important features\n",
    "one_user = eval_method.train_set.user_ids[0]\n",
    "one_item = eval_method.train_set.item_ids[0]\n",
    "explanation = explainer.explain_one_recommendation_to_user(one_user, one_item, feature_k=4)\n",
    "print(f\"For User {one_user} and Item {one_item}:\")\n",
    "print(\"Explanation:\")\n",
    "print(explanation)"
   ]
  },
  {
   "cell_type": "markdown",
   "metadata": {},
   "source": [
    "### Explain one user-item with ref-item"
   ]
  },
  {
   "cell_type": "code",
   "execution_count": 6,
   "metadata": {},
   "outputs": [
    {
     "data": {
      "text/html": [
       "<div>\n",
       "<style scoped>\n",
       "    .dataframe tbody tr th:only-of-type {\n",
       "        vertical-align: middle;\n",
       "    }\n",
       "\n",
       "    .dataframe tbody tr th {\n",
       "        vertical-align: top;\n",
       "    }\n",
       "\n",
       "    .dataframe thead th {\n",
       "        text-align: right;\n",
       "    }\n",
       "</style>\n",
       "<table border=\"1\" class=\"dataframe\">\n",
       "  <thead>\n",
       "    <tr style=\"text-align: right;\">\n",
       "      <th></th>\n",
       "      <th>user_id</th>\n",
       "      <th>item_id</th>\n",
       "      <th>explanation</th>\n",
       "      <th>ref_item_id</th>\n",
       "      <th>ref_explanation</th>\n",
       "    </tr>\n",
       "  </thead>\n",
       "  <tbody>\n",
       "    <tr>\n",
       "      <th>0</th>\n",
       "      <td>A2TXMYYGSZCSZ1</td>\n",
       "      <td>B00004TZY8</td>\n",
       "      <td>{'toy': 4.501335, 'also': 3.9797702, 'doll': 4...</td>\n",
       "      <td>B004OS8J98</td>\n",
       "      <td>{'toy': 4.440774, 'also': 4.1871843, 'doll': 4...</td>\n",
       "    </tr>\n",
       "  </tbody>\n",
       "</table>\n",
       "</div>"
      ],
      "text/plain": [
       "          user_id     item_id  \\\n",
       "0  A2TXMYYGSZCSZ1  B00004TZY8   \n",
       "\n",
       "                                         explanation ref_item_id  \\\n",
       "0  {'toy': 4.501335, 'also': 3.9797702, 'doll': 4...  B004OS8J98   \n",
       "\n",
       "                                     ref_explanation  \n",
       "0  {'toy': 4.440774, 'also': 4.1871843, 'doll': 4...  "
      ]
     },
     "execution_count": 6,
     "metadata": {},
     "output_type": "execute_result"
    }
   ],
   "source": [
    "# we can also explain a recommendation using a reference item\n",
    "one_user = eval_method.train_set.user_ids[0]\n",
    "one_item = eval_method.train_set.item_ids[0]\n",
    "ref_item = eval_method.train_set.item_ids[10]\n",
    "explanation = explainer.explain_one_with_ref(user_id=one_user, item_id=one_item, ref_item_id=ref_item)\n",
    "explanation"
   ]
  },
  {
   "cell_type": "code",
   "execution_count": 7,
   "metadata": {},
   "outputs": [
    {
     "name": "stdout",
     "output_type": "stream",
     "text": [
      "0    {'toy': 4.501335, 'also': 3.9797702, 'doll': 4...\n",
      "Name: explanation, dtype: object\n",
      "0    {'toy': 4.440774, 'also': 4.1871843, 'doll': 4...\n",
      "Name: ref_explanation, dtype: object\n"
     ]
    }
   ],
   "source": [
    "# explanation for user-item\n",
    "print(explanation['explanation'])\n",
    "# and explanation for user-ref_item\n",
    "print(explanation['ref_explanation'])"
   ]
  },
  {
   "cell_type": "markdown",
   "metadata": {},
   "source": [
    "### Generate plot for Exp_EFM"
   ]
  },
  {
   "cell_type": "code",
   "execution_count": 8,
   "metadata": {},
   "outputs": [
    {
     "name": "stderr",
     "output_type": "stream",
     "text": [
      "Computing explanations: 100%|██████████| 9740/9740 [00:01<00:00, 5708.36it/s]\n"
     ]
    }
   ],
   "source": [
    "# add also add some visualisations\n",
    "users = eval_method.test_set.user_ids\n",
    "recommendations = efm.recommend_to_multiple_users(users, k=10)\n",
    "explanations = explainer.explain_recommendations(recommendations, feature_k=8)\n",
    "explanations_df = explanations.copy()"
   ]
  },
  {
   "cell_type": "code",
   "execution_count": 9,
   "metadata": {},
   "outputs": [
    {
     "name": "stderr",
     "output_type": "stream",
     "text": [
      "/Users/athina/Desktop/ROSE/clean_venv_1/lib/python3.9/site-packages/cornac-2.0.0-py3.9-macosx-11.0-arm64.egg/cornac/visualization/visualization.py:297: UserWarning: set_ticklabels() should only be used with a fixed number of ticks, i.e. after set_ticks() or using a FixedLocator.\n",
      "  axes[0].set_xticklabels(x_count, rotation=45)\n",
      "/Users/athina/Desktop/ROSE/clean_venv_1/lib/python3.9/site-packages/cornac-2.0.0-py3.9-macosx-11.0-arm64.egg/cornac/visualization/visualization.py:299: UserWarning: set_ticklabels() should only be used with a fixed number of ticks, i.e. after set_ticks() or using a FixedLocator.\n",
      "  axes[1].set_xticklabels(x_coeff, rotation=45)\n"
     ]
    },
    {
     "data": {
      "image/png": "[encoded data removed]",
      "text/plain": [
       "<Figure size 2000x1000 with 2 Axes>"
      ]
     },
     "metadata": {},
     "output_type": "display_data"
    }
   ],
   "source": [
    "from cornac.visualization import Visualization\n",
    "my_plots = Visualization()\n",
    "\n",
    "# Create a plot for a specific user and item\n",
    "one_user = eval_method.train_set.user_ids[15]\n",
    "one_item = eval_method.train_set.item_ids[0]\n",
    "ind_df = my_plots.create_individual_feature_importance_plot(\n",
    "    explanations,\n",
    "    user_id=one_user,\n",
    "    item_id=one_item,\n",
    "    type=\"bar\",\n",
    "    top_k=6,\n",
    "    save_plot=False,\n",
    ")\n",
    "\n",
    "filtered_df = my_plots.create_aggregate_feature_importance_plot(\n",
    "    explanations, type=\"bar\", top_k=8, save_plot=False\n",
    ")"
   ]
  },
  {
   "cell_type": "markdown",
   "metadata": {},
   "source": [
    "## Experiment"
   ]
  },
  {
   "cell_type": "code",
   "execution_count": 11,
   "metadata": {},
   "outputs": [
    {
     "name": "stderr",
     "output_type": "stream",
     "text": [
      "INFO:cornac.experiment.experiment_explainers:Start training Recommender EFM...\n",
      "INFO:cornac.experiment.experiment_explainers:*****Start evaluating model-explainer: 'EFM:Exp_EFM'...\n",
      "INFO:cornac.experiment.experiment_explainers:Step 1/3: Recommender EFM creates recommendations\n",
      "INFO:cornac.experiment.experiment_explainers:Step 2/3: Explainer Exp_EFM create explanation for all recommendations\n"
     ]
    },
    {
     "name": "stdout",
     "output_type": "stream",
     "text": [
      "rating_threshold = 1.0\n",
      "exclude_unknowns = True\n",
      "---\n",
      "Training data:\n",
      "Number of users = 88\n",
      "Number of items = 253\n",
      "Number of ratings = 400\n",
      "Max rating = 5.0\n",
      "Min rating = 1.0\n",
      "Global mean = 4.4\n",
      "---\n",
      "Test data:\n",
      "Number of users = 88\n",
      "Number of items = 253\n",
      "Number of ratings = 57\n",
      "Number of unknown users = 0\n",
      "Number of unknown items = 0\n",
      "---\n",
      "Total users = 88\n",
      "Total items = 253\n"
     ]
    },
    {
     "name": "stderr",
     "output_type": "stream",
     "text": [
      "Computing explanations: 100%|██████████| 880/880 [00:00<00:00, 8261.73it/s]\n",
      "INFO:cornac.experiment.experiment_explainers:Step 3/3: Metric Metric_Exp_DIV starts evaluation...\n",
      "INFO:cornac.experiment.experiment_explainers:Result: Feature diversity: 0.44865032578290365\n",
      "ERROR:cornac.experiment.experiment_explainers:Metric Metric_Exp_EnDCG does not support Exp_EFM.\n",
      "INFO:cornac.experiment.experiment_explainers:experiment data: [[0.44865032578290365, 'N/A', 0.013952970504760742, 0.44301581382751465]]\n",
      "INFO:cornac.experiment.experiment_explainers:Experiment result: \n",
      " recommender:explainer |      Metric_Exp_DIV | Metric_Exp_EnDCG |             Train(s) |         Evaluate(s)\n",
      "EFM:Exp_EFM           | 0.44865032578290365 |              N/A | 0.013952970504760742 | 0.44301581382751465\n",
      "\n"
     ]
    }
   ],
   "source": [
    "from cornac.datasets import amazon_toy\n",
    "from cornac.data.reader import Reader\n",
    "from cornac.eval_methods import RatioSplit\n",
    "from cornac.data.sentiment import SentimentModality\n",
    "\n",
    "from cornac.models import EFM\n",
    "from cornac.explainer import Exp_EFM\n",
    "from cornac.experiment import Experiment_Explainers\n",
    "\n",
    "from cornac.metrics_explainer import (Metric_Exp_DIV as DIV, Metric_Exp_EnDCG as EnDCG)\n",
    "\n",
    "rating = amazon_toy.load_feedback(fmt=\"UIRT\", reader=Reader(min_user_freq=50))\n",
    "sentiment_data = amazon_toy.load_sentiment(reader=Reader(min_user_freq=50))\n",
    "rating = rating[:500]\n",
    "\n",
    "md = SentimentModality(data=sentiment_data)\n",
    "\n",
    "eval_method = RatioSplit(\n",
    "    data=rating,\n",
    "    group_by=\"user\",\n",
    "    chrono=True,\n",
    "    sentiment=md,\n",
    "    test_size=0.2,\n",
    "    exclude_unknowns=True,\n",
    "    verbose=True,\n",
    ")\n",
    "\n",
    "efm = EFM(max_iter=20)\n",
    "efm_exp = Exp_EFM(rec_model=efm, dataset=eval_method.train_set)\n",
    "\n",
    "# initialize the models and metrics\n",
    "rec_exp_pairs = [(efm, efm_exp)]\n",
    "exp_metrics = [DIV(), EnDCG()]\n",
    "\n",
    "# initialize experiment\n",
    "experiment = Experiment_Explainers(\n",
    "    eval_method=eval_method,\n",
    "    models=rec_exp_pairs,\n",
    "    metrics=exp_metrics,\n",
    "    distribution=False,\n",
    "    eval_train=True,\n",
    ")\n",
    "experiment.run()"
   ]
  }
 ],
 "metadata": {
  "kernelspec": {
   "display_name": "Python 3.9.18 ('clean_venv_1': venv)",
   "language": "python",
   "name": "python3"
  },
  "language_info": {
   "codemirror_mode": {
    "name": "ipython",
    "version": 3
   },
   "file_extension": ".py",
   "mimetype": "text/x-python",
   "name": "python",
   "nbconvert_exporter": "python",
   "pygments_lexer": "ipython3",
   "version": "3.9.18"
  },
  "vscode": {
   "interpreter": {
    "hash": "b57536c29832a493ae4ab70cab961bc0266617103a127cbea54d44f7949475d4"
   }
  }
 },
 "nbformat": 4,
 "nbformat_minor": 2
}
