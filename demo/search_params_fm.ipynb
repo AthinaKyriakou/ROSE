{
 "cells": [
  {
   "cell_type": "code",
   "execution_count": 2,
   "metadata": {},
   "outputs": [
    {
     "name": "stderr",
     "output_type": "stream",
     "text": [
      "/Users/yyz/Desktop/2023-explainable-recommendations/my_venv/lib/python3.9/site-packages/tqdm/auto.py:21: TqdmWarning: IProgress not found. Please update jupyter and ipywidgets. See https://ipywidgets.readthedocs.io/en/stable/user_install.html\n",
      "  from .autonotebook import tqdm as notebook_tqdm\n"
     ]
    },
    {
     "name": "stdout",
     "output_type": "stream",
     "text": [
      "FM model is only supported on Linux.\n",
      "Windows executable can be found at http://www.libfm.org.\n"
     ]
    }
   ],
   "source": [
    "import numpy as np\n",
    "import cornac\n",
    "from cornac.data import FeatureModality\n",
    "from cornac.eval_methods import RatioSplit\n",
    "from cornac.hyperopt import Discrete, Continuous\n",
    "from cornac.hyperopt import GridSearch\n",
    "import pandas as pd\n",
    "\n",
    "from cornac.models import FMRec, MF\n",
    "from cornac.datasets.goodreads import prepare_data"
   ]
  },
  {
   "cell_type": "code",
   "execution_count": 3,
   "metadata": {},
   "outputs": [],
   "source": [
    "path = '../cornac/datasets/good_reads/good_read_UIR_1000.csv'\n",
    "fpath_genres = '../cornac/datasets/good_reads/goodreads_genres.csv'\n",
    "fpath_aspects = '../cornac/datasets/good_reads/uid_aspect_features.txt'\n",
    "df = pd.read_csv(path, sep='\\t', header=0, names=['user_id', 'item_id', 'rating'])\n",
    "genres = pd.read_csv(fpath_genres)\n",
    "item_features = np.array([[x,y] for [x,y] in zip(genres['item_id'].to_numpy(), genres['feature'].to_numpy())])\n",
    "df = df[df['item_id'].isin(genres['item_id'])]\n",
    "user_aspects = pd.read_csv(fpath_aspects, sep='\\t', usecols=['user_id', 'feature'])\n",
    "user_features = np.array([[x,y] for [x,y] in zip(user_aspects['user_id'].to_numpy(), user_aspects['feature'].to_numpy())])\n",
    "df = df[df['user_id'].isin(user_aspects['user_id'])]\n",
    "\n",
    "data = df[['user_id', 'item_id', 'rating']].values\n",
    "rs = prepare_data(data_name=\"goodreads_limers\", test_size=0.2, dense=True, item=True, user=True, sample_size=0.5, seed=21)\n",
    "ratio_split = cornac.eval_methods.RatioSplit(data=data, test_size=0.2, val_size = 0.2, verbose=False, item_feature = FeatureModality(item_features), user_feature = FeatureModality(user_features))\n",
    "metrics = [cornac.metrics.MAE(), cornac.metrics.RMSE(), cornac.metrics.Precision(), cornac.metrics.Recall(), cornac.metrics.NDCG(), cornac.metrics.AUC(), cornac.metrics.MAP()]"
   ]
  },
  {
   "cell_type": "code",
   "execution_count": 3,
   "metadata": {},
   "outputs": [],
   "source": [
    "mf = MF(k=10, max_iter=500, use_bias=True, learning_rate=0.001)"
   ]
  },
  {
   "cell_type": "code",
   "execution_count": 11,
   "metadata": {},
   "outputs": [
    {
     "data": {
      "text/plain": [
       "500"
      ]
     },
     "execution_count": 11,
     "metadata": {},
     "output_type": "execute_result"
    }
   ],
   "source": [
    "getattr(mf, \"max_iter\")"
   ]
  },
  {
   "cell_type": "code",
   "execution_count": 4,
   "metadata": {},
   "outputs": [
    {
     "data": {
      "text/plain": [
       "0.001"
      ]
     },
     "execution_count": 4,
     "metadata": {},
     "output_type": "execute_result"
    }
   ],
   "source": [
    "fm = FMRec()\n",
    "getattr(fm, \"initial_learning_rate\")"
   ]
  },
  {
   "cell_type": "code",
   "execution_count": 4,
   "metadata": {},
   "outputs": [
    {
     "name": "stdout",
     "output_type": "stream",
     "text": [
      "Evaluating: {'initial_learning_rate': 0.001}\n",
      "Creating validation dataset of 0.01 of training for adaptive regularization\n",
      "-- Epoch 1\n",
      "Training MSE: 0.78498\n",
      "-- Epoch 2\n",
      "Training MSE: 0.59944\n",
      "-- Epoch 3\n",
      "Training MSE: 0.55108\n",
      "-- Epoch 4\n",
      "Training MSE: 0.51435\n",
      "-- Epoch 5\n",
      "Training MSE: 0.48460\n",
      "-- Epoch 6\n",
      "Training MSE: 0.46042\n",
      "-- Epoch 7\n",
      "Training MSE: 0.44012\n",
      "-- Epoch 8\n",
      "Training MSE: 0.42084\n",
      "-- Epoch 9\n",
      "Training MSE: 0.40229\n",
      "-- Epoch 10\n",
      "Training MSE: 0.38728\n",
      "Evaluating: {'initial_learning_rate': 0.005}\n",
      "Creating validation dataset of 0.01 of training for adaptive regularization\n",
      "-- Epoch 1\n",
      "Training MSE: 0.74620\n",
      "-- Epoch 2\n",
      "Training MSE: 0.57096\n",
      "-- Epoch 3\n",
      "Training MSE: 0.50973\n",
      "-- Epoch 4\n",
      "Training MSE: 0.46122\n",
      "-- Epoch 5\n",
      "Training MSE: 0.43162\n",
      "-- Epoch 6\n",
      "Training MSE: 0.39532\n",
      "-- Epoch 7\n",
      "Training MSE: 0.37062\n",
      "-- Epoch 8\n",
      "Training MSE: 0.34631\n",
      "-- Epoch 9\n",
      "Training MSE: 0.32528\n",
      "-- Epoch 10\n",
      "Training MSE: 0.30369\n",
      "Evaluating: {'initial_learning_rate': 0.01}\n",
      "Creating validation dataset of 0.01 of training for adaptive regularization\n",
      "-- Epoch 1\n",
      "Training MSE: 1.39275\n",
      "-- Epoch 2\n",
      "Training MSE: 0.88441\n",
      "-- Epoch 3\n",
      "Training MSE: 0.58615\n",
      "-- Epoch 4\n",
      "Training MSE: 0.54380\n",
      "-- Epoch 5\n",
      "Training MSE: 0.52225\n",
      "-- Epoch 6\n",
      "Training MSE: 0.44544\n",
      "-- Epoch 7\n",
      "Training MSE: 0.42806\n",
      "-- Epoch 8\n",
      "Training MSE: 0.41679\n",
      "-- Epoch 9\n",
      "Training MSE: 0.41046\n",
      "-- Epoch 10\n",
      "Training MSE: 0.39594\n",
      "Evaluating: {'initial_learning_rate': 0.05}\n",
      "Creating validation dataset of 0.01 of training for adaptive regularization\n",
      "-- Epoch 1\n",
      "Training MSE: nan\n",
      "-- Epoch 2\n",
      "Training MSE: nan\n",
      "-- Epoch 3\n",
      "Training MSE: nan\n",
      "-- Epoch 4\n",
      "Training MSE: nan\n",
      "-- Epoch 5\n",
      "Training MSE: nan\n",
      "-- Epoch 6\n",
      "Training MSE: nan\n",
      "-- Epoch 7\n",
      "Training MSE: nan\n",
      "-- Epoch 8\n",
      "Training MSE: nan\n",
      "-- Epoch 9\n",
      "Training MSE: nan\n",
      "-- Epoch 10\n",
      "Training MSE: nan\n",
      "Evaluating: {'initial_learning_rate': 0.1}\n",
      "Creating validation dataset of 0.01 of training for adaptive regularization\n",
      "-- Epoch 1\n",
      "Training MSE: nan\n",
      "-- Epoch 2\n",
      "Training MSE: nan\n",
      "-- Epoch 3\n",
      "Training MSE: nan\n",
      "-- Epoch 4\n",
      "Training MSE: nan\n",
      "-- Epoch 5\n",
      "Training MSE: nan\n",
      "-- Epoch 6\n",
      "Training MSE: nan\n",
      "-- Epoch 7\n",
      "Training MSE: nan\n",
      "-- Epoch 8\n",
      "Training MSE: nan\n",
      "-- Epoch 9\n",
      "Training MSE: nan\n",
      "-- Epoch 10\n",
      "Training MSE: nan\n",
      "Best parameter settings: {'initial_learning_rate': 0.001}\n",
      "RMSE = 1.1691\n"
     ]
    },
    {
     "ename": "KeyboardInterrupt",
     "evalue": "",
     "output_type": "error",
     "traceback": [
      "\u001b[0;31m---------------------------------------------------------------------------\u001b[0m",
      "\u001b[0;31mKeyboardInterrupt\u001b[0m                         Traceback (most recent call last)",
      "Cell \u001b[0;32mIn[4], line 9\u001b[0m\n\u001b[1;32m      1\u001b[0m fm \u001b[39m=\u001b[39m FMRec()\n\u001b[1;32m      2\u001b[0m gs_fm \u001b[39m=\u001b[39m GridSearch(\n\u001b[1;32m      3\u001b[0m     model \u001b[39m=\u001b[39m fm,\n\u001b[1;32m      4\u001b[0m     space \u001b[39m=\u001b[39m [Discrete(\u001b[39m\"\u001b[39m\u001b[39minitial_learning_rate\u001b[39m\u001b[39m\"\u001b[39m, [\u001b[39m0.001\u001b[39m, \u001b[39m0.005\u001b[39m, \u001b[39m0.01\u001b[39m, \u001b[39m0.05\u001b[39m, \u001b[39m0.1\u001b[39m]),\n\u001b[0;32m   (...)\u001b[0m\n\u001b[1;32m      7\u001b[0m     eval_method \u001b[39m=\u001b[39m rs,\n\u001b[1;32m      8\u001b[0m )\n\u001b[0;32m----> 9\u001b[0m cornac\u001b[39m.\u001b[39;49mExperiment(eval_method\u001b[39m=\u001b[39;49mratio_split, models\u001b[39m=\u001b[39;49m[gs_fm], metrics\u001b[39m=\u001b[39;49mmetrics)\u001b[39m.\u001b[39;49mrun()\n\u001b[1;32m     10\u001b[0m \u001b[39mprint\u001b[39m(gs_fm\u001b[39m.\u001b[39mbest_params)\n",
      "File \u001b[0;32m~/Desktop/2023-explainable-recommendations/my_venv/lib/python3.9/site-packages/cornac-2.0.0-py3.9-macosx-10.9-universal2.egg/cornac/experiment/experiment.py:131\u001b[0m, in \u001b[0;36mExperiment.run\u001b[0;34m(self)\u001b[0m\n\u001b[1;32m    128\u001b[0m \u001b[39mself\u001b[39m\u001b[39m.\u001b[39m_create_result()\n\u001b[1;32m    130\u001b[0m \u001b[39mfor\u001b[39;00m model \u001b[39min\u001b[39;00m \u001b[39mself\u001b[39m\u001b[39m.\u001b[39mmodels:\n\u001b[0;32m--> 131\u001b[0m     test_result, val_result \u001b[39m=\u001b[39m \u001b[39mself\u001b[39;49m\u001b[39m.\u001b[39;49meval_method\u001b[39m.\u001b[39;49mevaluate(\n\u001b[1;32m    132\u001b[0m         model\u001b[39m=\u001b[39;49mmodel,\n\u001b[1;32m    133\u001b[0m         metrics\u001b[39m=\u001b[39;49m\u001b[39mself\u001b[39;49m\u001b[39m.\u001b[39;49mmetrics,\n\u001b[1;32m    134\u001b[0m         user_based\u001b[39m=\u001b[39;49m\u001b[39mself\u001b[39;49m\u001b[39m.\u001b[39;49muser_based,\n\u001b[1;32m    135\u001b[0m         show_validation\u001b[39m=\u001b[39;49m\u001b[39mself\u001b[39;49m\u001b[39m.\u001b[39;49mshow_validation,\n\u001b[1;32m    136\u001b[0m     )\n\u001b[1;32m    138\u001b[0m     \u001b[39mself\u001b[39m\u001b[39m.\u001b[39mresult\u001b[39m.\u001b[39mappend(test_result)\n\u001b[1;32m    139\u001b[0m     \u001b[39mif\u001b[39;00m \u001b[39mself\u001b[39m\u001b[39m.\u001b[39mval_result \u001b[39mis\u001b[39;00m \u001b[39mnot\u001b[39;00m \u001b[39mNone\u001b[39;00m:\n",
      "File \u001b[0;32m~/Desktop/2023-explainable-recommendations/my_venv/lib/python3.9/site-packages/cornac-2.0.0-py3.9-macosx-10.9-universal2.egg/cornac/eval_methods/base_method.py:710\u001b[0m, in \u001b[0;36mBaseMethod.evaluate\u001b[0;34m(self, model, metrics, user_based, show_validation)\u001b[0m\n\u001b[1;32m    707\u001b[0m     \u001b[39mprint\u001b[39m(\u001b[39m\"\u001b[39m\u001b[39m\\n\u001b[39;00m\u001b[39m[\u001b[39m\u001b[39m{}\u001b[39;00m\u001b[39m] Evaluation started!\u001b[39m\u001b[39m\"\u001b[39m\u001b[39m.\u001b[39mformat(model\u001b[39m.\u001b[39mname))\n\u001b[1;32m    709\u001b[0m start \u001b[39m=\u001b[39m time\u001b[39m.\u001b[39mtime()\n\u001b[0;32m--> 710\u001b[0m test_result \u001b[39m=\u001b[39m \u001b[39mself\u001b[39;49m\u001b[39m.\u001b[39;49m_eval(\n\u001b[1;32m    711\u001b[0m     model\u001b[39m=\u001b[39;49mmodel,\n\u001b[1;32m    712\u001b[0m     test_set\u001b[39m=\u001b[39;49m\u001b[39mself\u001b[39;49m\u001b[39m.\u001b[39;49mtest_set,\n\u001b[1;32m    713\u001b[0m     val_set\u001b[39m=\u001b[39;49m\u001b[39mself\u001b[39;49m\u001b[39m.\u001b[39;49mval_set,\n\u001b[1;32m    714\u001b[0m     user_based\u001b[39m=\u001b[39;49muser_based,\n\u001b[1;32m    715\u001b[0m )\n\u001b[1;32m    716\u001b[0m test_time \u001b[39m=\u001b[39m time\u001b[39m.\u001b[39mtime() \u001b[39m-\u001b[39m start\n\u001b[1;32m    717\u001b[0m test_result\u001b[39m.\u001b[39mmetric_avg_results[\u001b[39m\"\u001b[39m\u001b[39mTrain (s)\u001b[39m\u001b[39m\"\u001b[39m] \u001b[39m=\u001b[39m train_time\n",
      "File \u001b[0;32m~/Desktop/2023-explainable-recommendations/my_venv/lib/python3.9/site-packages/cornac-2.0.0-py3.9-macosx-10.9-universal2.egg/cornac/eval_methods/base_method.py:636\u001b[0m, in \u001b[0;36mBaseMethod._eval\u001b[0;34m(self, model, test_set, val_set, user_based)\u001b[0m\n\u001b[1;32m    633\u001b[0m metric_avg_results \u001b[39m=\u001b[39m OrderedDict()\n\u001b[1;32m    634\u001b[0m metric_user_results \u001b[39m=\u001b[39m OrderedDict()\n\u001b[0;32m--> 636\u001b[0m avg_results, user_results \u001b[39m=\u001b[39m rating_eval(\n\u001b[1;32m    637\u001b[0m     model\u001b[39m=\u001b[39;49mmodel,\n\u001b[1;32m    638\u001b[0m     metrics\u001b[39m=\u001b[39;49m\u001b[39mself\u001b[39;49m\u001b[39m.\u001b[39;49mrating_metrics,\n\u001b[1;32m    639\u001b[0m     test_set\u001b[39m=\u001b[39;49mtest_set,\n\u001b[1;32m    640\u001b[0m     user_based\u001b[39m=\u001b[39;49muser_based,\n\u001b[1;32m    641\u001b[0m     verbose\u001b[39m=\u001b[39;49m\u001b[39mself\u001b[39;49m\u001b[39m.\u001b[39;49mverbose,\n\u001b[1;32m    642\u001b[0m )\n\u001b[1;32m    643\u001b[0m \u001b[39mfor\u001b[39;00m i, mt \u001b[39min\u001b[39;00m \u001b[39menumerate\u001b[39m(\u001b[39mself\u001b[39m\u001b[39m.\u001b[39mrating_metrics):\n\u001b[1;32m    644\u001b[0m     metric_avg_results[mt\u001b[39m.\u001b[39mname] \u001b[39m=\u001b[39m avg_results[i]\n",
      "File \u001b[0;32m~/Desktop/2023-explainable-recommendations/my_venv/lib/python3.9/site-packages/cornac-2.0.0-py3.9-macosx-10.9-universal2.egg/cornac/eval_methods/base_method.py:71\u001b[0m, in \u001b[0;36mrating_eval\u001b[0;34m(model, metrics, test_set, user_based, verbose)\u001b[0m\n\u001b[1;32m     68\u001b[0m user_results \u001b[39m=\u001b[39m []\n\u001b[1;32m     70\u001b[0m (u_indices, i_indices, r_values) \u001b[39m=\u001b[39m test_set\u001b[39m.\u001b[39muir_tuple\n\u001b[0;32m---> 71\u001b[0m r_preds \u001b[39m=\u001b[39m np\u001b[39m.\u001b[39;49mfromiter(\n\u001b[1;32m     72\u001b[0m     tqdm(\n\u001b[1;32m     73\u001b[0m         (\n\u001b[1;32m     74\u001b[0m             model\u001b[39m.\u001b[39;49mrate(user_idx, item_idx)\u001b[39m.\u001b[39;49mitem()\n\u001b[1;32m     75\u001b[0m             \u001b[39mfor\u001b[39;49;00m user_idx, item_idx \u001b[39min\u001b[39;49;00m \u001b[39mzip\u001b[39;49m(u_indices, i_indices)\n\u001b[1;32m     76\u001b[0m         ),\n\u001b[1;32m     77\u001b[0m         desc\u001b[39m=\u001b[39;49m\u001b[39m\"\u001b[39;49m\u001b[39mRating\u001b[39;49m\u001b[39m\"\u001b[39;49m,\n\u001b[1;32m     78\u001b[0m         disable\u001b[39m=\u001b[39;49m\u001b[39mnot\u001b[39;49;00m verbose,\n\u001b[1;32m     79\u001b[0m         miniters\u001b[39m=\u001b[39;49m\u001b[39m100\u001b[39;49m,\n\u001b[1;32m     80\u001b[0m         total\u001b[39m=\u001b[39;49m\u001b[39mlen\u001b[39;49m(u_indices),\n\u001b[1;32m     81\u001b[0m     ),\n\u001b[1;32m     82\u001b[0m     dtype\u001b[39m=\u001b[39;49m\u001b[39m'\u001b[39;49m\u001b[39mfloat\u001b[39;49m\u001b[39m'\u001b[39;49m,\n\u001b[1;32m     83\u001b[0m )\n\u001b[1;32m     85\u001b[0m gt_mat \u001b[39m=\u001b[39m test_set\u001b[39m.\u001b[39mcsr_matrix\n\u001b[1;32m     86\u001b[0m pd_mat \u001b[39m=\u001b[39m csr_matrix((r_preds, (u_indices, i_indices)), shape\u001b[39m=\u001b[39mgt_mat\u001b[39m.\u001b[39mshape)\n",
      "File \u001b[0;32m~/Desktop/2023-explainable-recommendations/my_venv/lib/python3.9/site-packages/tqdm/std.py:1166\u001b[0m, in \u001b[0;36mtqdm.__iter__\u001b[0;34m(self)\u001b[0m\n\u001b[1;32m   1163\u001b[0m \u001b[39m# If the bar is disabled, then just walk the iterable\u001b[39;00m\n\u001b[1;32m   1164\u001b[0m \u001b[39m# (note: keep this check outside the loop for performance)\u001b[39;00m\n\u001b[1;32m   1165\u001b[0m \u001b[39mif\u001b[39;00m \u001b[39mself\u001b[39m\u001b[39m.\u001b[39mdisable:\n\u001b[0;32m-> 1166\u001b[0m     \u001b[39mfor\u001b[39;00m obj \u001b[39min\u001b[39;00m iterable:\n\u001b[1;32m   1167\u001b[0m         \u001b[39myield\u001b[39;00m obj\n\u001b[1;32m   1168\u001b[0m     \u001b[39mreturn\u001b[39;00m\n",
      "File \u001b[0;32m~/Desktop/2023-explainable-recommendations/my_venv/lib/python3.9/site-packages/cornac-2.0.0-py3.9-macosx-10.9-universal2.egg/cornac/eval_methods/base_method.py:74\u001b[0m, in \u001b[0;36m<genexpr>\u001b[0;34m(.0)\u001b[0m\n\u001b[1;32m     68\u001b[0m user_results \u001b[39m=\u001b[39m []\n\u001b[1;32m     70\u001b[0m (u_indices, i_indices, r_values) \u001b[39m=\u001b[39m test_set\u001b[39m.\u001b[39muir_tuple\n\u001b[1;32m     71\u001b[0m r_preds \u001b[39m=\u001b[39m np\u001b[39m.\u001b[39mfromiter(\n\u001b[1;32m     72\u001b[0m     tqdm(\n\u001b[1;32m     73\u001b[0m         (\n\u001b[0;32m---> 74\u001b[0m             model\u001b[39m.\u001b[39;49mrate(user_idx, item_idx)\u001b[39m.\u001b[39mitem()\n\u001b[1;32m     75\u001b[0m             \u001b[39mfor\u001b[39;00m user_idx, item_idx \u001b[39min\u001b[39;00m \u001b[39mzip\u001b[39m(u_indices, i_indices)\n\u001b[1;32m     76\u001b[0m         ),\n\u001b[1;32m     77\u001b[0m         desc\u001b[39m=\u001b[39m\u001b[39m\"\u001b[39m\u001b[39mRating\u001b[39m\u001b[39m\"\u001b[39m,\n\u001b[1;32m     78\u001b[0m         disable\u001b[39m=\u001b[39m\u001b[39mnot\u001b[39;00m verbose,\n\u001b[1;32m     79\u001b[0m         miniters\u001b[39m=\u001b[39m\u001b[39m100\u001b[39m,\n\u001b[1;32m     80\u001b[0m         total\u001b[39m=\u001b[39m\u001b[39mlen\u001b[39m(u_indices),\n\u001b[1;32m     81\u001b[0m     ),\n\u001b[1;32m     82\u001b[0m     dtype\u001b[39m=\u001b[39m\u001b[39m'\u001b[39m\u001b[39mfloat\u001b[39m\u001b[39m'\u001b[39m,\n\u001b[1;32m     83\u001b[0m )\n\u001b[1;32m     85\u001b[0m gt_mat \u001b[39m=\u001b[39m test_set\u001b[39m.\u001b[39mcsr_matrix\n\u001b[1;32m     86\u001b[0m pd_mat \u001b[39m=\u001b[39m csr_matrix((r_preds, (u_indices, i_indices)), shape\u001b[39m=\u001b[39mgt_mat\u001b[39m.\u001b[39mshape)\n",
      "File \u001b[0;32m~/Desktop/2023-explainable-recommendations/my_venv/lib/python3.9/site-packages/cornac-2.0.0-py3.9-macosx-10.9-universal2.egg/cornac/models/recommender.py:225\u001b[0m, in \u001b[0;36mRecommender.rate\u001b[0;34m(self, user_idx, item_idx, clipping)\u001b[0m\n\u001b[1;32m    206\u001b[0m \u001b[39m\u001b[39m\u001b[39m\"\"\"Give a rating score between pair of user and item\u001b[39;00m\n\u001b[1;32m    207\u001b[0m \n\u001b[1;32m    208\u001b[0m \u001b[39mParameters\u001b[39;00m\n\u001b[0;32m   (...)\u001b[0m\n\u001b[1;32m    222\u001b[0m \u001b[39m    A rating score of the user for the item\u001b[39;00m\n\u001b[1;32m    223\u001b[0m \u001b[39m\"\"\"\u001b[39;00m\n\u001b[1;32m    224\u001b[0m \u001b[39mtry\u001b[39;00m:\n\u001b[0;32m--> 225\u001b[0m     rating_pred \u001b[39m=\u001b[39m \u001b[39mself\u001b[39;49m\u001b[39m.\u001b[39;49mscore(user_idx, item_idx)\n\u001b[1;32m    226\u001b[0m \u001b[39mexcept\u001b[39;00m ScoreException:\n\u001b[1;32m    227\u001b[0m     rating_pred \u001b[39m=\u001b[39m \u001b[39mself\u001b[39m\u001b[39m.\u001b[39mdefault_score()\n",
      "File \u001b[0;32m~/Desktop/2023-explainable-recommendations/my_venv/lib/python3.9/site-packages/cornac-2.0.0-py3.9-macosx-10.9-universal2.egg/cornac/hyperopt.py:176\u001b[0m, in \u001b[0;36mBaseSearch.score\u001b[0;34m(self, user_idx, item_idx)\u001b[0m\n\u001b[1;32m    174\u001b[0m \u001b[39mdef\u001b[39;00m \u001b[39mscore\u001b[39m(\u001b[39mself\u001b[39m, user_idx, item_idx\u001b[39m=\u001b[39m\u001b[39mNone\u001b[39;00m):\n\u001b[1;32m    175\u001b[0m \u001b[39m    \u001b[39m\u001b[39m\"\"\"Scoring using the best searched model\"\"\"\u001b[39;00m\n\u001b[0;32m--> 176\u001b[0m     \u001b[39mreturn\u001b[39;00m \u001b[39mself\u001b[39;49m\u001b[39m.\u001b[39;49mbest_model\u001b[39m.\u001b[39;49mscore(user_idx, item_idx)\n",
      "File \u001b[0;32m~/Desktop/2023-explainable-recommendations/my_venv/lib/python3.9/site-packages/cornac-2.0.0-py3.9-macosx-10.9-universal2.egg/cornac/models/fm_py/FM.py:152\u001b[0m, in \u001b[0;36mFMRec.score\u001b[0;34m(self, user_id, item_id)\u001b[0m\n\u001b[1;32m    149\u001b[0m     all_items \u001b[39m=\u001b[39m [\u001b[39mstr\u001b[39m(item_idx) \u001b[39mfor\u001b[39;00m _, item_idx \u001b[39min\u001b[39;00m \u001b[39mself\u001b[39m\u001b[39m.\u001b[39mtrain_set\u001b[39m.\u001b[39miid_map\u001b[39m.\u001b[39mitems()]\n\u001b[1;32m    150\u001b[0m     df \u001b[39m=\u001b[39m pd\u001b[39m.\u001b[39mDataFrame({\u001b[39m'\u001b[39m\u001b[39muser_id\u001b[39m\u001b[39m'\u001b[39m:[\u001b[39mstr\u001b[39m(user_id) \u001b[39mfor\u001b[39;00m _ \u001b[39min\u001b[39;00m all_items], \u001b[39m\"\u001b[39m\u001b[39mitem_id\u001b[39m\u001b[39m\"\u001b[39m: all_items})\n\u001b[0;32m--> 152\u001b[0m df \u001b[39m=\u001b[39m \u001b[39mself\u001b[39;49m\u001b[39m.\u001b[39;49mtrain_set\u001b[39m.\u001b[39;49mmerge_uir_with_features(df, \u001b[39mself\u001b[39;49m\u001b[39m.\u001b[39;49muses_features)\n\u001b[1;32m    154\u001b[0m all_predictions \u001b[39m=\u001b[39m \u001b[39mlist\u001b[39m()\n\u001b[1;32m    156\u001b[0m \u001b[39m# divide in chunks to avoid memory errors\u001b[39;00m\n",
      "File \u001b[0;32m~/Desktop/2023-explainable-recommendations/my_venv/lib/python3.9/site-packages/cornac-2.0.0-py3.9-macosx-10.9-universal2.egg/cornac/models/fm_py/FM.py:290\u001b[0m, in \u001b[0;36mFMRec.LimeRSDataset.merge_uir_with_features\u001b[0;34m(self, train_df, uses_features)\u001b[0m\n\u001b[1;32m    283\u001b[0m         df \u001b[39m=\u001b[39m pd\u001b[39m.\u001b[39mmerge(\n\u001b[1;32m    284\u001b[0m             train_df,\n\u001b[1;32m    285\u001b[0m             user_features,\n\u001b[1;32m    286\u001b[0m             on\u001b[39m=\u001b[39m\u001b[39m\"\u001b[39m\u001b[39muser_id\u001b[39m\u001b[39m\"\u001b[39m,\n\u001b[1;32m    287\u001b[0m             how\u001b[39m=\u001b[39m\u001b[39m\"\u001b[39m\u001b[39mleft\u001b[39m\u001b[39m\"\u001b[39m,\n\u001b[1;32m    288\u001b[0m     )          \n\u001b[1;32m    289\u001b[0m     \u001b[39melse\u001b[39;00m:\n\u001b[0;32m--> 290\u001b[0m         item_features, user_features \u001b[39m=\u001b[39m \u001b[39mself\u001b[39;49m\u001b[39m.\u001b[39;49mconvert_to_feature_long()\n\u001b[1;32m    291\u001b[0m         df \u001b[39m=\u001b[39m pd\u001b[39m.\u001b[39mmerge(pd\u001b[39m.\u001b[39mmerge(train_df,\n\u001b[1;32m    292\u001b[0m                             item_features,\n\u001b[1;32m    293\u001b[0m                             on\u001b[39m=\u001b[39m\u001b[39m\"\u001b[39m\u001b[39mitem_id\u001b[39m\u001b[39m\"\u001b[39m,\n\u001b[0;32m   (...)\u001b[0m\n\u001b[1;32m    298\u001b[0m                         suffixes\u001b[39m=\u001b[39m(\u001b[39m'\u001b[39m\u001b[39m_i_f\u001b[39m\u001b[39m'\u001b[39m, \u001b[39m'\u001b[39m\u001b[39m_u_f\u001b[39m\u001b[39m'\u001b[39m)\n\u001b[1;32m    299\u001b[0m                         )\n\u001b[1;32m    300\u001b[0m \u001b[39melse\u001b[39;00m:\n",
      "File \u001b[0;32m~/Desktop/2023-explainable-recommendations/my_venv/lib/python3.9/site-packages/cornac-2.0.0-py3.9-macosx-10.9-universal2.egg/cornac/models/fm_py/FM.py:262\u001b[0m, in \u001b[0;36mFMRec.LimeRSDataset.convert_to_feature_long\u001b[0;34m(self)\u001b[0m\n\u001b[1;32m    260\u001b[0m     item_features_wide \u001b[39m=\u001b[39m \u001b[39mself\u001b[39m\u001b[39m.\u001b[39mitem_features\u001b[39m.\u001b[39mcopy()\n\u001b[1;32m    261\u001b[0m     item_features_wide[\u001b[39m'\u001b[39m\u001b[39mvalue\u001b[39m\u001b[39m'\u001b[39m] \u001b[39m=\u001b[39m \u001b[39m1\u001b[39m\n\u001b[0;32m--> 262\u001b[0m     item_features_wide \u001b[39m=\u001b[39m item_features_wide\u001b[39m.\u001b[39;49mpivot(index\u001b[39m=\u001b[39;49m\u001b[39m'\u001b[39;49m\u001b[39mitem_id\u001b[39;49m\u001b[39m'\u001b[39;49m, columns\u001b[39m=\u001b[39;49m \u001b[39m'\u001b[39;49m\u001b[39mfeature\u001b[39;49m\u001b[39m'\u001b[39;49m, values\u001b[39m=\u001b[39;49m\u001b[39m'\u001b[39;49m\u001b[39mvalue\u001b[39;49m\u001b[39m'\u001b[39;49m)\u001b[39m.\u001b[39mreset_index()\u001b[39m.\u001b[39mfillna(\u001b[39m0\u001b[39m)\n\u001b[1;32m    263\u001b[0m \u001b[39mif\u001b[39;00m \u001b[39mnot\u001b[39;00m \u001b[39mself\u001b[39m\u001b[39m.\u001b[39muser_features\u001b[39m.\u001b[39mempty:\n\u001b[1;32m    264\u001b[0m     \u001b[39m# if dataset contains user_feature\u001b[39;00m\n\u001b[1;32m    265\u001b[0m     user_features_wide \u001b[39m=\u001b[39m \u001b[39mself\u001b[39m\u001b[39m.\u001b[39muser_features\u001b[39m.\u001b[39mcopy()\n",
      "File \u001b[0;32m~/Desktop/2023-explainable-recommendations/my_venv/lib/python3.9/site-packages/pandas/util/_decorators.py:331\u001b[0m, in \u001b[0;36mdeprecate_nonkeyword_arguments.<locals>.decorate.<locals>.wrapper\u001b[0;34m(*args, **kwargs)\u001b[0m\n\u001b[1;32m    325\u001b[0m \u001b[39mif\u001b[39;00m \u001b[39mlen\u001b[39m(args) \u001b[39m>\u001b[39m num_allow_args:\n\u001b[1;32m    326\u001b[0m     warnings\u001b[39m.\u001b[39mwarn(\n\u001b[1;32m    327\u001b[0m         msg\u001b[39m.\u001b[39mformat(arguments\u001b[39m=\u001b[39m_format_argument_list(allow_args)),\n\u001b[1;32m    328\u001b[0m         \u001b[39mFutureWarning\u001b[39;00m,\n\u001b[1;32m    329\u001b[0m         stacklevel\u001b[39m=\u001b[39mfind_stack_level(),\n\u001b[1;32m    330\u001b[0m     )\n\u001b[0;32m--> 331\u001b[0m \u001b[39mreturn\u001b[39;00m func(\u001b[39m*\u001b[39;49margs, \u001b[39m*\u001b[39;49m\u001b[39m*\u001b[39;49mkwargs)\n",
      "File \u001b[0;32m~/Desktop/2023-explainable-recommendations/my_venv/lib/python3.9/site-packages/pandas/core/frame.py:8567\u001b[0m, in \u001b[0;36mDataFrame.pivot\u001b[0;34m(self, index, columns, values)\u001b[0m\n\u001b[1;32m   8561\u001b[0m \u001b[39m@Substitution\u001b[39m(\u001b[39m\"\u001b[39m\u001b[39m\"\u001b[39m)\n\u001b[1;32m   8562\u001b[0m \u001b[39m@Appender\u001b[39m(_shared_docs[\u001b[39m\"\u001b[39m\u001b[39mpivot\u001b[39m\u001b[39m\"\u001b[39m])\n\u001b[1;32m   8563\u001b[0m \u001b[39m@deprecate_nonkeyword_arguments\u001b[39m(version\u001b[39m=\u001b[39m\u001b[39mNone\u001b[39;00m, allowed_args\u001b[39m=\u001b[39m[\u001b[39m\"\u001b[39m\u001b[39mself\u001b[39m\u001b[39m\"\u001b[39m])\n\u001b[1;32m   8564\u001b[0m \u001b[39mdef\u001b[39;00m \u001b[39mpivot\u001b[39m(\u001b[39mself\u001b[39m, index\u001b[39m=\u001b[39m\u001b[39mNone\u001b[39;00m, columns\u001b[39m=\u001b[39m\u001b[39mNone\u001b[39;00m, values\u001b[39m=\u001b[39m\u001b[39mNone\u001b[39;00m) \u001b[39m-\u001b[39m\u001b[39m>\u001b[39m DataFrame:\n\u001b[1;32m   8565\u001b[0m     \u001b[39mfrom\u001b[39;00m \u001b[39mpandas\u001b[39;00m\u001b[39m.\u001b[39;00m\u001b[39mcore\u001b[39;00m\u001b[39m.\u001b[39;00m\u001b[39mreshape\u001b[39;00m\u001b[39m.\u001b[39;00m\u001b[39mpivot\u001b[39;00m \u001b[39mimport\u001b[39;00m pivot\n\u001b[0;32m-> 8567\u001b[0m     \u001b[39mreturn\u001b[39;00m pivot(\u001b[39mself\u001b[39;49m, index\u001b[39m=\u001b[39;49mindex, columns\u001b[39m=\u001b[39;49mcolumns, values\u001b[39m=\u001b[39;49mvalues)\n",
      "File \u001b[0;32m~/Desktop/2023-explainable-recommendations/my_venv/lib/python3.9/site-packages/pandas/util/_decorators.py:331\u001b[0m, in \u001b[0;36mdeprecate_nonkeyword_arguments.<locals>.decorate.<locals>.wrapper\u001b[0;34m(*args, **kwargs)\u001b[0m\n\u001b[1;32m    325\u001b[0m \u001b[39mif\u001b[39;00m \u001b[39mlen\u001b[39m(args) \u001b[39m>\u001b[39m num_allow_args:\n\u001b[1;32m    326\u001b[0m     warnings\u001b[39m.\u001b[39mwarn(\n\u001b[1;32m    327\u001b[0m         msg\u001b[39m.\u001b[39mformat(arguments\u001b[39m=\u001b[39m_format_argument_list(allow_args)),\n\u001b[1;32m    328\u001b[0m         \u001b[39mFutureWarning\u001b[39;00m,\n\u001b[1;32m    329\u001b[0m         stacklevel\u001b[39m=\u001b[39mfind_stack_level(),\n\u001b[1;32m    330\u001b[0m     )\n\u001b[0;32m--> 331\u001b[0m \u001b[39mreturn\u001b[39;00m func(\u001b[39m*\u001b[39;49margs, \u001b[39m*\u001b[39;49m\u001b[39m*\u001b[39;49mkwargs)\n",
      "File \u001b[0;32m~/Desktop/2023-explainable-recommendations/my_venv/lib/python3.9/site-packages/pandas/core/reshape/pivot.py:527\u001b[0m, in \u001b[0;36mpivot\u001b[0;34m(data, index, columns, values)\u001b[0m\n\u001b[1;32m    525\u001b[0m data_columns \u001b[39m=\u001b[39m [data[col] \u001b[39mfor\u001b[39;00m col \u001b[39min\u001b[39;00m columns_listlike]\n\u001b[1;32m    526\u001b[0m index_list\u001b[39m.\u001b[39mextend(data_columns)\n\u001b[0;32m--> 527\u001b[0m multiindex \u001b[39m=\u001b[39m MultiIndex\u001b[39m.\u001b[39;49mfrom_arrays(index_list)\n\u001b[1;32m    529\u001b[0m \u001b[39mif\u001b[39;00m is_list_like(values) \u001b[39mand\u001b[39;00m \u001b[39mnot\u001b[39;00m \u001b[39misinstance\u001b[39m(values, \u001b[39mtuple\u001b[39m):\n\u001b[1;32m    530\u001b[0m     \u001b[39m# Exclude tuple because it is seen as a single column name\u001b[39;00m\n\u001b[1;32m    531\u001b[0m     values \u001b[39m=\u001b[39m cast(Sequence[Hashable], values)\n",
      "File \u001b[0;32m~/Desktop/2023-explainable-recommendations/my_venv/lib/python3.9/site-packages/pandas/core/indexes/multi.py:489\u001b[0m, in \u001b[0;36mMultiIndex.from_arrays\u001b[0;34m(cls, arrays, sortorder, names)\u001b[0m\n\u001b[1;32m    486\u001b[0m     \u001b[39mif\u001b[39;00m \u001b[39mlen\u001b[39m(arrays[i]) \u001b[39m!=\u001b[39m \u001b[39mlen\u001b[39m(arrays[i \u001b[39m-\u001b[39m \u001b[39m1\u001b[39m]):\n\u001b[1;32m    487\u001b[0m         \u001b[39mraise\u001b[39;00m \u001b[39mValueError\u001b[39;00m(\u001b[39m\"\u001b[39m\u001b[39mall arrays must be same length\u001b[39m\u001b[39m\"\u001b[39m)\n\u001b[0;32m--> 489\u001b[0m codes, levels \u001b[39m=\u001b[39m factorize_from_iterables(arrays)\n\u001b[1;32m    490\u001b[0m \u001b[39mif\u001b[39;00m names \u001b[39mis\u001b[39;00m lib\u001b[39m.\u001b[39mno_default:\n\u001b[1;32m    491\u001b[0m     names \u001b[39m=\u001b[39m [\u001b[39mgetattr\u001b[39m(arr, \u001b[39m\"\u001b[39m\u001b[39mname\u001b[39m\u001b[39m\"\u001b[39m, \u001b[39mNone\u001b[39;00m) \u001b[39mfor\u001b[39;00m arr \u001b[39min\u001b[39;00m arrays]\n",
      "File \u001b[0;32m~/Desktop/2023-explainable-recommendations/my_venv/lib/python3.9/site-packages/pandas/core/arrays/categorical.py:3007\u001b[0m, in \u001b[0;36mfactorize_from_iterables\u001b[0;34m(iterables)\u001b[0m\n\u001b[1;32m   3003\u001b[0m \u001b[39mif\u001b[39;00m \u001b[39mlen\u001b[39m(iterables) \u001b[39m==\u001b[39m \u001b[39m0\u001b[39m:\n\u001b[1;32m   3004\u001b[0m     \u001b[39m# For consistency, it should return two empty lists.\u001b[39;00m\n\u001b[1;32m   3005\u001b[0m     \u001b[39mreturn\u001b[39;00m [], []\n\u001b[0;32m-> 3007\u001b[0m codes, categories \u001b[39m=\u001b[39m \u001b[39mzip\u001b[39;49m(\u001b[39m*\u001b[39;49m(factorize_from_iterable(it) \u001b[39mfor\u001b[39;49;00m it \u001b[39min\u001b[39;49;00m iterables))\n\u001b[1;32m   3008\u001b[0m \u001b[39mreturn\u001b[39;00m \u001b[39mlist\u001b[39m(codes), \u001b[39mlist\u001b[39m(categories)\n",
      "File \u001b[0;32m~/Desktop/2023-explainable-recommendations/my_venv/lib/python3.9/site-packages/pandas/core/arrays/categorical.py:3007\u001b[0m, in \u001b[0;36m<genexpr>\u001b[0;34m(.0)\u001b[0m\n\u001b[1;32m   3003\u001b[0m \u001b[39mif\u001b[39;00m \u001b[39mlen\u001b[39m(iterables) \u001b[39m==\u001b[39m \u001b[39m0\u001b[39m:\n\u001b[1;32m   3004\u001b[0m     \u001b[39m# For consistency, it should return two empty lists.\u001b[39;00m\n\u001b[1;32m   3005\u001b[0m     \u001b[39mreturn\u001b[39;00m [], []\n\u001b[0;32m-> 3007\u001b[0m codes, categories \u001b[39m=\u001b[39m \u001b[39mzip\u001b[39m(\u001b[39m*\u001b[39m(factorize_from_iterable(it) \u001b[39mfor\u001b[39;00m it \u001b[39min\u001b[39;00m iterables))\n\u001b[1;32m   3008\u001b[0m \u001b[39mreturn\u001b[39;00m \u001b[39mlist\u001b[39m(codes), \u001b[39mlist\u001b[39m(categories)\n",
      "File \u001b[0;32m~/Desktop/2023-explainable-recommendations/my_venv/lib/python3.9/site-packages/pandas/core/arrays/categorical.py:2980\u001b[0m, in \u001b[0;36mfactorize_from_iterable\u001b[0;34m(values)\u001b[0m\n\u001b[1;32m   2975\u001b[0m     codes \u001b[39m=\u001b[39m values\u001b[39m.\u001b[39mcodes\n\u001b[1;32m   2976\u001b[0m \u001b[39melse\u001b[39;00m:\n\u001b[1;32m   2977\u001b[0m     \u001b[39m# The value of ordered is irrelevant since we don't use cat as such,\u001b[39;00m\n\u001b[1;32m   2978\u001b[0m     \u001b[39m# but only the resulting categories, the order of which is independent\u001b[39;00m\n\u001b[1;32m   2979\u001b[0m     \u001b[39m# from ordered. Set ordered to False as default. See GH #15457\u001b[39;00m\n\u001b[0;32m-> 2980\u001b[0m     cat \u001b[39m=\u001b[39m Categorical(values, ordered\u001b[39m=\u001b[39;49m\u001b[39mFalse\u001b[39;49;00m)\n\u001b[1;32m   2981\u001b[0m     categories \u001b[39m=\u001b[39m cat\u001b[39m.\u001b[39mcategories\n\u001b[1;32m   2982\u001b[0m     codes \u001b[39m=\u001b[39m cat\u001b[39m.\u001b[39mcodes\n",
      "File \u001b[0;32m~/Desktop/2023-explainable-recommendations/my_venv/lib/python3.9/site-packages/pandas/core/arrays/categorical.py:454\u001b[0m, in \u001b[0;36mCategorical.__init__\u001b[0;34m(self, values, categories, ordered, dtype, fastpath, copy)\u001b[0m\n\u001b[1;32m    447\u001b[0m             \u001b[39mraise\u001b[39;00m \u001b[39mTypeError\u001b[39;00m(\n\u001b[1;32m    448\u001b[0m                 \u001b[39m\"\u001b[39m\u001b[39m'\u001b[39m\u001b[39mvalues\u001b[39m\u001b[39m'\u001b[39m\u001b[39m is not ordered, please \u001b[39m\u001b[39m\"\u001b[39m\n\u001b[1;32m    449\u001b[0m                 \u001b[39m\"\u001b[39m\u001b[39mexplicitly specify the categories order \u001b[39m\u001b[39m\"\u001b[39m\n\u001b[1;32m    450\u001b[0m                 \u001b[39m\"\u001b[39m\u001b[39mby passing in a categories argument.\u001b[39m\u001b[39m\"\u001b[39m\n\u001b[1;32m    451\u001b[0m             ) \u001b[39mfrom\u001b[39;00m \u001b[39merr\u001b[39;00m\n\u001b[1;32m    453\u001b[0m     \u001b[39m# we're inferring from values\u001b[39;00m\n\u001b[0;32m--> 454\u001b[0m     dtype \u001b[39m=\u001b[39m CategoricalDtype(categories, dtype\u001b[39m.\u001b[39;49mordered)\n\u001b[1;32m    456\u001b[0m \u001b[39melif\u001b[39;00m is_categorical_dtype(values\u001b[39m.\u001b[39mdtype):\n\u001b[1;32m    457\u001b[0m     old_codes \u001b[39m=\u001b[39m extract_array(values)\u001b[39m.\u001b[39m_codes\n",
      "File \u001b[0;32m~/Desktop/2023-explainable-recommendations/my_venv/lib/python3.9/site-packages/pandas/core/dtypes/dtypes.py:186\u001b[0m, in \u001b[0;36mCategoricalDtype.__init__\u001b[0;34m(self, categories, ordered)\u001b[0m\n\u001b[1;32m    185\u001b[0m \u001b[39mdef\u001b[39;00m \u001b[39m__init__\u001b[39m(\u001b[39mself\u001b[39m, categories\u001b[39m=\u001b[39m\u001b[39mNone\u001b[39;00m, ordered: Ordered \u001b[39m=\u001b[39m \u001b[39mFalse\u001b[39;00m) \u001b[39m-\u001b[39m\u001b[39m>\u001b[39m \u001b[39mNone\u001b[39;00m:\n\u001b[0;32m--> 186\u001b[0m     \u001b[39mself\u001b[39;49m\u001b[39m.\u001b[39;49m_finalize(categories, ordered, fastpath\u001b[39m=\u001b[39;49m\u001b[39mFalse\u001b[39;49;00m)\n",
      "File \u001b[0;32m~/Desktop/2023-explainable-recommendations/my_venv/lib/python3.9/site-packages/pandas/core/dtypes/dtypes.py:340\u001b[0m, in \u001b[0;36mCategoricalDtype._finalize\u001b[0;34m(self, categories, ordered, fastpath)\u001b[0m\n\u001b[1;32m    337\u001b[0m     \u001b[39mself\u001b[39m\u001b[39m.\u001b[39mvalidate_ordered(ordered)\n\u001b[1;32m    339\u001b[0m \u001b[39mif\u001b[39;00m categories \u001b[39mis\u001b[39;00m \u001b[39mnot\u001b[39;00m \u001b[39mNone\u001b[39;00m:\n\u001b[0;32m--> 340\u001b[0m     categories \u001b[39m=\u001b[39m \u001b[39mself\u001b[39;49m\u001b[39m.\u001b[39;49mvalidate_categories(categories, fastpath\u001b[39m=\u001b[39;49mfastpath)\n\u001b[1;32m    342\u001b[0m \u001b[39mself\u001b[39m\u001b[39m.\u001b[39m_categories \u001b[39m=\u001b[39m categories\n\u001b[1;32m    343\u001b[0m \u001b[39mself\u001b[39m\u001b[39m.\u001b[39m_ordered \u001b[39m=\u001b[39m ordered\n",
      "File \u001b[0;32m~/Desktop/2023-explainable-recommendations/my_venv/lib/python3.9/site-packages/pandas/core/dtypes/dtypes.py:536\u001b[0m, in \u001b[0;36mCategoricalDtype.validate_categories\u001b[0;34m(categories, fastpath)\u001b[0m\n\u001b[1;32m    533\u001b[0m     \u001b[39mif\u001b[39;00m categories\u001b[39m.\u001b[39mhasnans:\n\u001b[1;32m    534\u001b[0m         \u001b[39mraise\u001b[39;00m \u001b[39mValueError\u001b[39;00m(\u001b[39m\"\u001b[39m\u001b[39mCategorical categories cannot be null\u001b[39m\u001b[39m\"\u001b[39m)\n\u001b[0;32m--> 536\u001b[0m     \u001b[39mif\u001b[39;00m \u001b[39mnot\u001b[39;00m categories\u001b[39m.\u001b[39;49mis_unique:\n\u001b[1;32m    537\u001b[0m         \u001b[39mraise\u001b[39;00m \u001b[39mValueError\u001b[39;00m(\u001b[39m\"\u001b[39m\u001b[39mCategorical categories must be unique\u001b[39m\u001b[39m\"\u001b[39m)\n\u001b[1;32m    539\u001b[0m \u001b[39mif\u001b[39;00m \u001b[39misinstance\u001b[39m(categories, ABCCategoricalIndex):\n",
      "File \u001b[0;32m~/Desktop/2023-explainable-recommendations/my_venv/lib/python3.9/site-packages/pandas/_libs/properties.pyx:36\u001b[0m, in \u001b[0;36mpandas._libs.properties.CachedProperty.__get__\u001b[0;34m()\u001b[0m\n",
      "File \u001b[0;32m~/Desktop/2023-explainable-recommendations/my_venv/lib/python3.9/site-packages/pandas/core/indexes/base.py:2386\u001b[0m, in \u001b[0;36mIndex.is_unique\u001b[0;34m(self)\u001b[0m\n\u001b[1;32m   2381\u001b[0m \u001b[39m@cache_readonly\u001b[39m\n\u001b[1;32m   2382\u001b[0m \u001b[39mdef\u001b[39;00m \u001b[39mis_unique\u001b[39m(\u001b[39mself\u001b[39m) \u001b[39m-\u001b[39m\u001b[39m>\u001b[39m \u001b[39mbool\u001b[39m:\n\u001b[1;32m   2383\u001b[0m \u001b[39m    \u001b[39m\u001b[39m\"\"\"\u001b[39;00m\n\u001b[1;32m   2384\u001b[0m \u001b[39m    Return if the index has unique values.\u001b[39;00m\n\u001b[1;32m   2385\u001b[0m \u001b[39m    \"\"\"\u001b[39;00m\n\u001b[0;32m-> 2386\u001b[0m     \u001b[39mreturn\u001b[39;00m \u001b[39mself\u001b[39;49m\u001b[39m.\u001b[39;49m_engine\u001b[39m.\u001b[39;49mis_unique\n",
      "\u001b[0;31mKeyboardInterrupt\u001b[0m: "
     ]
    }
   ],
   "source": [
    "fm = FMRec()\n",
    "gs_fm = GridSearch(\n",
    "    model = fm,\n",
    "    space = [Discrete(\"initial_learning_rate\", [0.001, 0.005, 0.01, 0.05, 0.1]),\n",
    "             ],\n",
    "    metric = cornac.metrics.RMSE(),\n",
    "    eval_method = rs,\n",
    ")\n",
    "cornac.Experiment(eval_method=ratio_split, models=[gs_fm], metrics=metrics).run()\n",
    "print(gs_fm.best_params)"
   ]
  }
 ],
 "metadata": {
  "kernelspec": {
   "display_name": "my_venv",
   "language": "python",
   "name": "python3"
  },
  "language_info": {
   "codemirror_mode": {
    "name": "ipython",
    "version": 3
   },
   "file_extension": ".py",
   "mimetype": "text/x-python",
   "name": "python",
   "nbconvert_exporter": "python",
   "pygments_lexer": "ipython3",
   "version": "3.9.12"
  },
  "orig_nbformat": 4,
  "vscode": {
   "interpreter": {
    "hash": "8ebbe97ee2486d44b314e7fb9a74c6e9ddf9ecd1c9e636490160d240e80178cb"
   }
  }
 },
 "nbformat": 4,
 "nbformat_minor": 2
}
