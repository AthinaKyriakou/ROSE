{
 "cells": [
  {
   "cell_type": "code",
   "execution_count": 1,
   "metadata": {},
   "outputs": [
    {
     "name": "stderr",
     "output_type": "stream",
     "text": [
      "/Users/yyz/Desktop/2023-explainable-recommendations/my_venv/lib/python3.9/site-packages/tqdm/auto.py:21: TqdmWarning: IProgress not found. Please update jupyter and ipywidgets. See https://ipywidgets.readthedocs.io/en/stable/user_install.html\n",
      "  from .autonotebook import tqdm as notebook_tqdm\n"
     ]
    },
    {
     "name": "stdout",
     "output_type": "stream",
     "text": [
      "FM model is only supported on Linux.\n",
      "Windows executable can be found at http://www.libfm.org.\n"
     ]
    }
   ],
   "source": [
    "from cornac.metrics_explainer import Explainers_Experiment\n",
    "from cornac.models import EMF, ALS, FMRec\n",
    "from cornac.explainer import LimeRSExplainer, EMFExplainer\n",
    "from cornac.datasets.goodreads import prepare_data\n",
    "from cornac.metrics_explainer import PSPNFNS, EnDCG"
   ]
  },
  {
   "cell_type": "code",
   "execution_count": 2,
   "metadata": {},
   "outputs": [],
   "source": [
    "rs = prepare_data(data_name=\"goodreads_limers\", test_size=0.2, dense=True, item=True, user=True, sample_size=1, seed=21)\n",
    "fm = FMRec()\n",
    "emf = EMF(k=10, max_iter=200, learning_rate=0.001, lambda_reg=0.01, explain_reg=0.01, verbose=True, seed=6, num_threads=6, early_stop=True)\n",
    "als = ALS(k=10, max_iter=200, lambda_reg=0.001, alpha=1, verbose=True, seed=6, num_threads=6)\n",
    "limers = LimeRSExplainer(rec_model=fm, dataset=rs.train_set)\n",
    "pspnfns = PSPNFNS()\n",
    "models = [(fm, limers)]\n",
    "metrics = [pspnfns]"
   ]
  },
  {
   "cell_type": "code",
   "execution_count": 3,
   "metadata": {},
   "outputs": [
    {
     "name": "stdout",
     "output_type": "stream",
     "text": [
      "Start training Recommender fm_regressor...\n",
      "Creating validation dataset of 0.01 of training for adaptive regularization\n",
      "-- Epoch 1\n",
      "Training MSE: 0.93221\n",
      "-- Epoch 2\n",
      "Training MSE: 0.80143\n",
      "-- Epoch 3\n",
      "Training MSE: 0.75954\n",
      "-- Epoch 4\n",
      "Training MSE: 0.73464\n",
      "-- Epoch 5\n",
      "Training MSE: 0.71438\n",
      "-- Epoch 6\n",
      "Training MSE: 0.70007\n",
      "-- Epoch 7\n",
      "Training MSE: 0.68790\n",
      "-- Epoch 8\n",
      "Training MSE: 0.67681\n",
      "-- Epoch 9\n",
      "Training MSE: 0.66332\n",
      "-- Epoch 10\n",
      "Training MSE: 0.65357\n",
      "*****Start evaluating model-explainer: 'fm_regressor:LIMERS'...\n",
      "Step 1/3: Recommender fm_regressor creates recommendations\n",
      "Step 2/3: Explainer LIMERS create explanation for all recommendations\n"
     ]
    },
    {
     "name": "stderr",
     "output_type": "stream",
     "text": [
      "Computing explanations: 100%|██████████| 1000/1000 [01:59<00:00,  8.36it/s]\n"
     ]
    },
    {
     "name": "stdout",
     "output_type": "stream",
     "text": [
      "Step 3/3: Metric PSPNFNS starts evaluation...\n",
      "self.current_rec: fm_regressor, self.current_exp: LIMERS\n"
     ]
    },
    {
     "name": "stderr",
     "output_type": "stream",
     "text": [
      "Re-evaluate after features removal... : 100%|██████████| 1000/1000 [01:50<00:00,  9.07it/s]\n"
     ]
    },
    {
     "name": "stdout",
     "output_type": "stream",
     "text": [
      "Result: Probability of Necessity: 0.586; Probability of Sufficiency: 0.437; Harmonic Mean: 0.5006490713587488\n",
      "experiment data: [[0.5006490713587488, 36.271719217300415, 241.21643614768982]]\n",
      "\n",
      "\n",
      "recommender:explainer |            PSPNFNS |           Train(s) |        Evaluate(s)\n",
      "fm_regressor:LIMERS   | 0.5006490713587488 | 36.271719217300415 | 241.21643614768982\n",
      "\n"
     ]
    }
   ],
   "source": [
    "my_experiment = Explainers_Experiment(eval_method=rs, models=models, metrics=metrics,rec_k=10, feature_k=10, eval_train=True)\n",
    "my_experiment.run()"
   ]
  },
  {
   "cell_type": "code",
   "execution_count": 4,
   "metadata": {},
   "outputs": [],
   "source": [
    "from cornac.metrics_explainer import Explainers_Experiment\n",
    "from cornac.models import EFM, MTER\n",
    "from cornac.explainer import EFMExplainer, MTERExplainer\n",
    "from cornac.datasets.goodreads import prepare_data\n",
    "from cornac.metrics_explainer import PSPNFNS, DIV, FPR"
   ]
  },
  {
   "cell_type": "code",
   "execution_count": 5,
   "metadata": {},
   "outputs": [],
   "source": [
    "#prepare data\n",
    "rs= prepare_data(data_name=\"goodreads\", test_size=0.2, dense=True, item=True, user=True, sample_size=1, seed=21)\n",
    "#prepare recommender, explainer, metrics\n",
    "efm = EFM(max_iter=200, verbose=False, seed=6)\n",
    "efm_exp = EFMExplainer(rec_model=efm, dataset=rs.train_set)\n",
    "mter = MTER(max_iter=200, verbose=False, seed=6)\n",
    "mter_exp = MTERExplainer(rec_model=mter, dataset=rs.train_set)\n",
    "ps = PSPNFNS()\n",
    "fdiv = DIV()\n",
    "fpr = FPR()"
   ]
  },
  {
   "cell_type": "code",
   "execution_count": 6,
   "metadata": {},
   "outputs": [
    {
     "name": "stdout",
     "output_type": "stream",
     "text": [
      "Start training Recommender EFM...\n"
     ]
    },
    {
     "name": "stderr",
     "output_type": "stream",
     "text": [
      "/Users/yyz/Desktop/2023-explainable-recommendations/my_venv/lib/python3.9/site-packages/cornac-2.0.0-py3.9-macosx-10.9-universal2.egg/cornac/metrics_explainer/exp_experiment.py:277: DeprecationWarning: `np.float` is a deprecated alias for the builtin `float`. To silence this warning, use `float` by itself. Doing this will not modify any behavior and is safe. If you specifically wanted the numpy scalar type, use `np.float64` here.\n",
      "Deprecated in NumPy 1.20; for more details and guidance: https://numpy.org/devdocs/release/1.20.0-notes.html#deprecations\n",
      "  self.current_rec.fit(self.eval_method.train_set)\n",
      "/Users/yyz/Desktop/2023-explainable-recommendations/my_venv/lib/python3.9/site-packages/cornac-2.0.0-py3.9-macosx-10.9-universal2.egg/cornac/metrics_explainer/exp_experiment.py:277: DeprecationWarning: `np.int` is a deprecated alias for the builtin `int`. To silence this warning, use `int` by itself. Doing this will not modify any behavior and is safe. When replacing `np.int`, you may wish to use e.g. `np.int64` or `np.int32` to specify the precision. If you wish to review your current use, check the release note link for additional information.\n",
      "Deprecated in NumPy 1.20; for more details and guidance: https://numpy.org/devdocs/release/1.20.0-notes.html#deprecations\n",
      "  self.current_rec.fit(self.eval_method.train_set)\n",
      "/Users/yyz/Desktop/2023-explainable-recommendations/my_venv/lib/python3.9/site-packages/cornac-2.0.0-py3.9-macosx-10.9-universal2.egg/cornac/metrics_explainer/exp_experiment.py:277: DeprecationWarning: `np.int` is a deprecated alias for the builtin `int`. To silence this warning, use `int` by itself. Doing this will not modify any behavior and is safe. When replacing `np.int`, you may wish to use e.g. `np.int64` or `np.int32` to specify the precision. If you wish to review your current use, check the release note link for additional information.\n",
      "Deprecated in NumPy 1.20; for more details and guidance: https://numpy.org/devdocs/release/1.20.0-notes.html#deprecations\n",
      "  self.current_rec.fit(self.eval_method.train_set)\n",
      "/Users/yyz/Desktop/2023-explainable-recommendations/my_venv/lib/python3.9/site-packages/cornac-2.0.0-py3.9-macosx-10.9-universal2.egg/cornac/metrics_explainer/exp_experiment.py:277: DeprecationWarning: `np.float` is a deprecated alias for the builtin `float`. To silence this warning, use `float` by itself. Doing this will not modify any behavior and is safe. If you specifically wanted the numpy scalar type, use `np.float64` here.\n",
      "Deprecated in NumPy 1.20; for more details and guidance: https://numpy.org/devdocs/release/1.20.0-notes.html#deprecations\n",
      "  self.current_rec.fit(self.eval_method.train_set)\n",
      "/Users/yyz/Desktop/2023-explainable-recommendations/my_venv/lib/python3.9/site-packages/cornac-2.0.0-py3.9-macosx-10.9-universal2.egg/cornac/metrics_explainer/exp_experiment.py:277: DeprecationWarning: `np.int` is a deprecated alias for the builtin `int`. To silence this warning, use `int` by itself. Doing this will not modify any behavior and is safe. When replacing `np.int`, you may wish to use e.g. `np.int64` or `np.int32` to specify the precision. If you wish to review your current use, check the release note link for additional information.\n",
      "Deprecated in NumPy 1.20; for more details and guidance: https://numpy.org/devdocs/release/1.20.0-notes.html#deprecations\n",
      "  self.current_rec.fit(self.eval_method.train_set)\n",
      "/Users/yyz/Desktop/2023-explainable-recommendations/my_venv/lib/python3.9/site-packages/cornac-2.0.0-py3.9-macosx-10.9-universal2.egg/cornac/metrics_explainer/exp_experiment.py:277: DeprecationWarning: `np.int` is a deprecated alias for the builtin `int`. To silence this warning, use `int` by itself. Doing this will not modify any behavior and is safe. When replacing `np.int`, you may wish to use e.g. `np.int64` or `np.int32` to specify the precision. If you wish to review your current use, check the release note link for additional information.\n",
      "Deprecated in NumPy 1.20; for more details and guidance: https://numpy.org/devdocs/release/1.20.0-notes.html#deprecations\n",
      "  self.current_rec.fit(self.eval_method.train_set)\n",
      "/Users/yyz/Desktop/2023-explainable-recommendations/my_venv/lib/python3.9/site-packages/cornac-2.0.0-py3.9-macosx-10.9-universal2.egg/cornac/metrics_explainer/exp_experiment.py:277: DeprecationWarning: `np.float` is a deprecated alias for the builtin `float`. To silence this warning, use `float` by itself. Doing this will not modify any behavior and is safe. If you specifically wanted the numpy scalar type, use `np.float64` here.\n",
      "Deprecated in NumPy 1.20; for more details and guidance: https://numpy.org/devdocs/release/1.20.0-notes.html#deprecations\n",
      "  self.current_rec.fit(self.eval_method.train_set)\n",
      "/Users/yyz/Desktop/2023-explainable-recommendations/my_venv/lib/python3.9/site-packages/cornac-2.0.0-py3.9-macosx-10.9-universal2.egg/cornac/metrics_explainer/exp_experiment.py:277: DeprecationWarning: `np.int` is a deprecated alias for the builtin `int`. To silence this warning, use `int` by itself. Doing this will not modify any behavior and is safe. When replacing `np.int`, you may wish to use e.g. `np.int64` or `np.int32` to specify the precision. If you wish to review your current use, check the release note link for additional information.\n",
      "Deprecated in NumPy 1.20; for more details and guidance: https://numpy.org/devdocs/release/1.20.0-notes.html#deprecations\n",
      "  self.current_rec.fit(self.eval_method.train_set)\n",
      "/Users/yyz/Desktop/2023-explainable-recommendations/my_venv/lib/python3.9/site-packages/cornac-2.0.0-py3.9-macosx-10.9-universal2.egg/cornac/metrics_explainer/exp_experiment.py:277: DeprecationWarning: `np.int` is a deprecated alias for the builtin `int`. To silence this warning, use `int` by itself. Doing this will not modify any behavior and is safe. When replacing `np.int`, you may wish to use e.g. `np.int64` or `np.int32` to specify the precision. If you wish to review your current use, check the release note link for additional information.\n",
      "Deprecated in NumPy 1.20; for more details and guidance: https://numpy.org/devdocs/release/1.20.0-notes.html#deprecations\n",
      "  self.current_rec.fit(self.eval_method.train_set)\n"
     ]
    },
    {
     "name": "stdout",
     "output_type": "stream",
     "text": [
      "*****Start evaluating model-explainer: 'EFM:EFM_Exp'...\n",
      "Step 1/3: Recommender EFM creates recommendations\n",
      "Step 2/3: Explainer EFM_Exp create explanation for all recommendations\n"
     ]
    },
    {
     "name": "stderr",
     "output_type": "stream",
     "text": [
      "Computing explanations: 100%|██████████| 1000/1000 [00:01<00:00, 564.23it/s]\n"
     ]
    },
    {
     "name": "stdout",
     "output_type": "stream",
     "text": [
      "Step 3/3: Metric PSPNFNS starts evaluation...\n",
      "self.current_rec: EFM, self.current_exp: EFM_Exp\n"
     ]
    },
    {
     "name": "stderr",
     "output_type": "stream",
     "text": [
      "Re-evaluate after features removal... : 100%|██████████| 1000/1000 [00:02<00:00, 396.66it/s]\n"
     ]
    },
    {
     "name": "stdout",
     "output_type": "stream",
     "text": [
      "Result: Probability of Necessity: 0.217; Probability of Sufficiency: 0.869; Harmonic Mean: 0.3472799263351749\n",
      "Step 3/3: Metric diversity starts evaluation...\n"
     ]
    },
    {
     "ename": "TypeError",
     "evalue": "cannot unpack non-iterable float object",
     "output_type": "error",
     "traceback": [
      "\u001b[0;31m---------------------------------------------------------------------------\u001b[0m",
      "\u001b[0;31mTypeError\u001b[0m                                 Traceback (most recent call last)",
      "Cell \u001b[0;32mIn[6], line 5\u001b[0m\n\u001b[1;32m      3\u001b[0m metrics \u001b[39m=\u001b[39m [ps, fdiv, fpr]\n\u001b[1;32m      4\u001b[0m my_experiment \u001b[39m=\u001b[39m Explainers_Experiment(eval_method\u001b[39m=\u001b[39mrs, models\u001b[39m=\u001b[39mmodels, metrics\u001b[39m=\u001b[39mmetrics,rec_k\u001b[39m=\u001b[39m\u001b[39m10\u001b[39m, feature_k\u001b[39m=\u001b[39m\u001b[39m10\u001b[39m, eval_train\u001b[39m=\u001b[39m\u001b[39mTrue\u001b[39;00m)\n\u001b[0;32m----> 5\u001b[0m my_experiment\u001b[39m.\u001b[39;49mrun()\n",
      "File \u001b[0;32m~/Desktop/2023-explainable-recommendations/my_venv/lib/python3.9/site-packages/cornac-2.0.0-py3.9-macosx-10.9-universal2.egg/cornac/metrics_explainer/exp_experiment.py:305\u001b[0m, in \u001b[0;36mExplainers_Experiment.run\u001b[0;34m(self)\u001b[0m\n\u001b[1;32m    303\u001b[0m \u001b[39mtry\u001b[39;00m:\n\u001b[1;32m    304\u001b[0m     \u001b[39mself\u001b[39m\u001b[39m.\u001b[39mcurrent_metric \u001b[39m=\u001b[39m \u001b[39mself\u001b[39m\u001b[39m.\u001b[39m_get_metric_explainer(metric)\n\u001b[0;32m--> 305\u001b[0m     temp \u001b[39m=\u001b[39m \u001b[39mself\u001b[39;49m\u001b[39m.\u001b[39;49m_evaluate_explainer()\n\u001b[1;32m    306\u001b[0m \u001b[39mexcept\u001b[39;00m MetricError:\n\u001b[1;32m    307\u001b[0m     temp \u001b[39m=\u001b[39m \u001b[39m\"\u001b[39m\u001b[39mN/A\u001b[39m\u001b[39m\"\u001b[39m\n",
      "File \u001b[0;32m~/Desktop/2023-explainable-recommendations/my_venv/lib/python3.9/site-packages/cornac-2.0.0-py3.9-macosx-10.9-universal2.egg/cornac/metrics_explainer/exp_experiment.py:177\u001b[0m, in \u001b[0;36mExplainers_Experiment._evaluate_explainer\u001b[0;34m(self)\u001b[0m\n\u001b[1;32m    174\u001b[0m     \u001b[39mreturn\u001b[39;00m fns  \n\u001b[1;32m    175\u001b[0m \u001b[39melif\u001b[39;00m \u001b[39mself\u001b[39m\u001b[39m.\u001b[39mcurrent_metric\u001b[39m.\u001b[39mname \u001b[39m==\u001b[39m \u001b[39m'\u001b[39m\u001b[39mdiversity\u001b[39m\u001b[39m'\u001b[39m:\n\u001b[1;32m    176\u001b[0m     \u001b[39m##TODO: to be verified\u001b[39;00m\n\u001b[0;32m--> 177\u001b[0m     fd, fd_d \u001b[39m=\u001b[39m \u001b[39mself\u001b[39m\u001b[39m.\u001b[39mcurrent_metric\u001b[39m.\u001b[39mcompute(\u001b[39mself\u001b[39m\u001b[39m.\u001b[39mexplanations1)\n\u001b[1;32m    178\u001b[0m     \u001b[39mprint\u001b[39m(\u001b[39mf\u001b[39m\u001b[39m'\u001b[39m\u001b[39mResult: Feature diversity: \u001b[39m\u001b[39m{\u001b[39;00mfd\u001b[39m}\u001b[39;00m\u001b[39m'\u001b[39m)\n\u001b[1;32m    179\u001b[0m     \u001b[39mself\u001b[39m\u001b[39m.\u001b[39m_plot_distribution(\u001b[39m\"\u001b[39m\u001b[39mFDIV\u001b[39m\u001b[39m\"\u001b[39m, fd_d, groupby\u001b[39m=\u001b[39m\u001b[39m\"\u001b[39m\u001b[39mexplanation\u001b[39m\u001b[39m\"\u001b[39m)\n",
      "\u001b[0;31mTypeError\u001b[0m: cannot unpack non-iterable float object"
     ]
    }
   ],
   "source": [
    "#run experiment\n",
    "models = [(efm, efm_exp), (mter, mter_exp)]\n",
    "metrics = [ps, fdiv, fpr]\n",
    "my_experiment = Explainers_Experiment(eval_method=rs, models=models, metrics=metrics,rec_k=10, feature_k=10, eval_train=True)\n",
    "my_experiment.run()"
   ]
  }
 ],
 "metadata": {
  "kernelspec": {
   "display_name": "my_venv",
   "language": "python",
   "name": "python3"
  },
  "language_info": {
   "codemirror_mode": {
    "name": "ipython",
    "version": 3
   },
   "file_extension": ".py",
   "mimetype": "text/x-python",
   "name": "python",
   "nbconvert_exporter": "python",
   "pygments_lexer": "ipython3",
   "version": "3.9.12"
  },
  "orig_nbformat": 4,
  "vscode": {
   "interpreter": {
    "hash": "8ebbe97ee2486d44b314e7fb9a74c6e9ddf9ecd1c9e636490160d240e80178cb"
   }
  }
 },
 "nbformat": 4,
 "nbformat_minor": 2
}
