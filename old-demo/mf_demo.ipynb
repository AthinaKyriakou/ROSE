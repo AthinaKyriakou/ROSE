{
 "cells": [
  {
   "cell_type": "code",
   "execution_count": 1,
   "metadata": {},
   "outputs": [
    {
     "name": "stdout",
     "output_type": "stream",
     "text": [
      "FM model is only supported on Linux.\n",
      "Windows executable can be found at http://www.libfm.org.\n"
     ]
    }
   ],
   "source": [
    "import pandas as pd\n",
    "import cornac"
   ]
  },
  {
   "cell_type": "code",
   "execution_count": 2,
   "metadata": {},
   "outputs": [],
   "source": [
    "from cornac.models import MF, EMF, NEMF, ALS\n",
    "from cornac.explainer import EMFExplainer, ALSExplainer, PHI4MFExplainer"
   ]
  },
  {
   "cell_type": "code",
   "execution_count": 3,
   "metadata": {},
   "outputs": [
    {
     "name": "stdout",
     "output_type": "stream",
     "text": [
      "rating_threshold = 1.0\n",
      "exclude_unknowns = True\n",
      "---\n",
      "Training data:\n",
      "Number of users = 25692\n",
      "Number of items = 29744\n",
      "Number of ratings = 103377\n",
      "Max rating = 5.0\n",
      "Min rating = 0.0\n",
      "Global mean = 3.8\n",
      "---\n",
      "Test data:\n",
      "Number of users = 9110\n",
      "Number of items = 6836\n",
      "Number of ratings = 18934\n",
      "Number of unknown users = 0\n",
      "Number of unknown items = 0\n",
      "---\n",
      "Total users = 25692\n",
      "Total items = 29744\n"
     ]
    }
   ],
   "source": [
    "path = '../tests/dataset/good_read_UIR_sample.csv'\n",
    "df = pd.read_csv(path, sep='\\t', header=0, names=['user_id', 'item_id', 'rating'])\n",
    "data = df[['user_id', 'item_id', 'rating']].values\n",
    "ratio_split = cornac.eval_methods.RatioSplit(data=data, test_size=0.2, verbose=True)"
   ]
  },
  {
   "cell_type": "code",
   "execution_count": 4,
   "metadata": {},
   "outputs": [],
   "source": [
    "def experiment_mf(model):\n",
    "    metrics = [cornac.metrics.MAE(), cornac.metrics.RMSE(), cornac.metrics.Precision(k=10), cornac.metrics.Recall(k=10), cornac.metrics.NDCG(k=10), cornac.metrics.AUC(), cornac.metrics.MAP()]\n",
    "    cornac.Experiment(eval_method=ratio_split, models=[model], metrics=metrics).run()"
   ]
  },
  {
   "cell_type": "code",
   "execution_count": 5,
   "metadata": {},
   "outputs": [],
   "source": [
    "mf = MF(k=10, max_iter=200, learning_rate=0.001, lambda_reg=0.001, verbose=True, seed=6, num_threads=6, early_stop=True)\n",
    "emf = EMF(k=10, max_iter=200, learning_rate=0.001, lambda_reg=0.01, explain_reg=0.01, verbose=True, seed=6, num_threads=6, early_stop=True)\n",
    "nemf = NEMF(k=10, max_iter=200, learning_rate=0.001, lambda_reg=0.01, explain_reg=0.01, novel_reg=0.01, verbose=True, seed=6, num_threads=6, early_stop=True)\n",
    "als = ALS(k=10, max_iter=200, lambda_reg=0.001, alpha=1, verbose=True, seed=6, num_threads=6)"
   ]
  },
  {
   "cell_type": "code",
   "execution_count": 6,
   "metadata": {},
   "outputs": [
    {
     "name": "stdout",
     "output_type": "stream",
     "text": [
      "\n",
      "[MF] Training started!\n"
     ]
    },
    {
     "data": {
      "application/vnd.jupyter.widget-view+json": {
       "model_id": "c726b6727a414427b31c82df36e43e38",
       "version_major": 2,
       "version_minor": 0
      },
      "text/plain": [
       "  0%|          | 0/200 [00:00<?, ?it/s]"
      ]
     },
     "metadata": {},
     "output_type": "display_data"
    },
    {
     "name": "stdout",
     "output_type": "stream",
     "text": [
      "Optimization finished!\n",
      "\n",
      "[MF] Evaluation started!\n"
     ]
    },
    {
     "data": {
      "application/vnd.jupyter.widget-view+json": {
       "model_id": "34085ee89b0144a1ae5beb973b097d74",
       "version_major": 2,
       "version_minor": 0
      },
      "text/plain": [
       "Rating:   0%|          | 0/19075 [00:00<?, ?it/s]"
      ]
     },
     "metadata": {},
     "output_type": "display_data"
    },
    {
     "data": {
      "application/vnd.jupyter.widget-view+json": {
       "model_id": "160e47302e5a48eb8b8c4fe8532dbb2e",
       "version_major": 2,
       "version_minor": 0
      },
      "text/plain": [
       "Ranking:   0%|          | 0/9220 [00:00<?, ?it/s]"
      ]
     },
     "metadata": {},
     "output_type": "display_data"
    },
    {
     "name": "stdout",
     "output_type": "stream",
     "text": [
      "\n",
      "TEST:\n",
      "...\n",
      "   |    MAE |   RMSE |    AUC |    MAP | NDCG@10 | Precision@10 | Recall@10 | Train (s) | Test (s)\n",
      "-- + ------ + ------ + ------ + ------ + ------- + ------------ + --------- + --------- + --------\n",
      "MF | 0.8449 | 0.8972 | 0.5975 | 0.0020 |  0.0017 |       0.0008 |    0.0041 |    1.1122 |  64.8875\n",
      "\n"
     ]
    }
   ],
   "source": [
    "experiment_mf(mf)"
   ]
  },
  {
   "cell_type": "code",
   "execution_count": 7,
   "metadata": {},
   "outputs": [
    {
     "name": "stdout",
     "output_type": "stream",
     "text": [
      "\n",
      "[EMF] Training started!\n"
     ]
    },
    {
     "data": {
      "application/vnd.jupyter.widget-view+json": {
       "model_id": "3a0dc6d3a6f44dd998f016b196d7d880",
       "version_major": 2,
       "version_minor": 0
      },
      "text/plain": [
       "  0%|          | 0/200 [00:00<?, ?it/s]"
      ]
     },
     "metadata": {},
     "output_type": "display_data"
    },
    {
     "name": "stdout",
     "output_type": "stream",
     "text": [
      "Optimization finished!\n",
      "\n",
      "[EMF] Evaluation started!\n"
     ]
    },
    {
     "data": {
      "application/vnd.jupyter.widget-view+json": {
       "model_id": "d5cf1806fd8d449da6a052279014e3c2",
       "version_major": 2,
       "version_minor": 0
      },
      "text/plain": [
       "Rating:   0%|          | 0/18971 [00:00<?, ?it/s]"
      ]
     },
     "metadata": {},
     "output_type": "display_data"
    },
    {
     "data": {
      "application/vnd.jupyter.widget-view+json": {
       "model_id": "06808011765546c292bf187b913a48d7",
       "version_major": 2,
       "version_minor": 0
      },
      "text/plain": [
       "Ranking:   0%|          | 0/9156 [00:00<?, ?it/s]"
      ]
     },
     "metadata": {},
     "output_type": "display_data"
    },
    {
     "name": "stdout",
     "output_type": "stream",
     "text": [
      "\n",
      "TEST:\n",
      "...\n",
      "    |    MAE |   RMSE |    AUC |    MAP | NDCG@10 | Precision@10 | Recall@10 | Train (s) | Test (s)\n",
      "--- + ------ + ------ + ------ + ------ + ------- + ------------ + --------- + --------- + --------\n",
      "EMF | 0.9702 | 1.0347 | 0.5401 | 0.0027 |  0.0026 |       0.0008 |    0.0054 |   99.4979 |  76.1230\n",
      "\n"
     ]
    }
   ],
   "source": [
    "experiment_mf(emf)"
   ]
  },
  {
   "cell_type": "code",
   "execution_count": 8,
   "metadata": {},
   "outputs": [
    {
     "name": "stdout",
     "output_type": "stream",
     "text": [
      "\n",
      "[NEMF] Training started!\n",
      "Start compute edge weight matrix...\n",
      "Start compute novel matrix...\n",
      "Matrix computation finished!\n"
     ]
    },
    {
     "data": {
      "application/vnd.jupyter.widget-view+json": {
       "model_id": "bd8fe2d98d5b4944add6253b26f48c2f",
       "version_major": 2,
       "version_minor": 0
      },
      "text/plain": [
       "  0%|          | 0/200 [00:00<?, ?it/s]"
      ]
     },
     "metadata": {},
     "output_type": "display_data"
    },
    {
     "name": "stdout",
     "output_type": "stream",
     "text": [
      "Optimization finished!\n",
      "\n",
      "[NEMF] Evaluation started!\n"
     ]
    },
    {
     "data": {
      "application/vnd.jupyter.widget-view+json": {
       "model_id": "ebaf8aba56a942d7a7e0df2b0a45d691",
       "version_major": 2,
       "version_minor": 0
      },
      "text/plain": [
       "Rating:   0%|          | 0/18971 [00:00<?, ?it/s]"
      ]
     },
     "metadata": {},
     "output_type": "display_data"
    },
    {
     "data": {
      "application/vnd.jupyter.widget-view+json": {
       "model_id": "0fae5602213b4dc4b800f1c09b6a55bb",
       "version_major": 2,
       "version_minor": 0
      },
      "text/plain": [
       "Ranking:   0%|          | 0/9156 [00:00<?, ?it/s]"
      ]
     },
     "metadata": {},
     "output_type": "display_data"
    },
    {
     "name": "stdout",
     "output_type": "stream",
     "text": [
      "\n",
      "TEST:\n",
      "...\n",
      "     |    MAE |   RMSE |    AUC |    MAP | NDCG@10 | Precision@10 | Recall@10 | Train (s) | Test (s)\n",
      "---- + ------ + ------ + ------ + ------ + ------- + ------------ + --------- + --------- + --------\n",
      "NEMF | 0.8577 | 0.9138 | 0.5725 | 0.0023 |  0.0028 |       0.0013 |    0.0046 |  145.1590 |  77.6844\n",
      "\n"
     ]
    }
   ],
   "source": [
    "experiment_mf(nemf)"
   ]
  },
  {
   "cell_type": "code",
   "execution_count": 6,
   "metadata": {},
   "outputs": [
    {
     "name": "stdout",
     "output_type": "stream",
     "text": [
      "\n",
      "[ALS] Training started!\n"
     ]
    },
    {
     "name": "stderr",
     "output_type": "stream",
     "text": [
      "c:\\Users\\linan\\.conda\\envs\\cornactest\\lib\\site-packages\\implicit\\utils.py:33: UserWarning: Intel MKL BLAS detected. Its highly recommend to set the environment variable 'export MKL_NUM_THREADS=1' to disable its internal multithreading\n",
      "  warnings.warn(\n"
     ]
    },
    {
     "data": {
      "application/vnd.jupyter.widget-view+json": {
       "model_id": "85ce41cf6ff84a26aa52bd4dad6c1b33",
       "version_major": 2,
       "version_minor": 0
      },
      "text/plain": [
       "  0%|          | 0/200 [00:00<?, ?it/s]"
      ]
     },
     "metadata": {},
     "output_type": "display_data"
    },
    {
     "name": "stderr",
     "output_type": "stream",
     "text": [
      "INFO:implicit:Final training loss 0.0004\n"
     ]
    },
    {
     "name": "stdout",
     "output_type": "stream",
     "text": [
      "\n",
      "[ALS] Evaluation started!\n"
     ]
    },
    {
     "data": {
      "application/vnd.jupyter.widget-view+json": {
       "model_id": "22e403f43c654c1a972dd48d66e25d77",
       "version_major": 2,
       "version_minor": 0
      },
      "text/plain": [
       "Rating:   0%|          | 0/18934 [00:00<?, ?it/s]"
      ]
     },
     "metadata": {},
     "output_type": "display_data"
    },
    {
     "data": {
      "application/vnd.jupyter.widget-view+json": {
       "model_id": "82b80f0b69974e41a79e64deca432533",
       "version_major": 2,
       "version_minor": 0
      },
      "text/plain": [
       "Ranking:   0%|          | 0/9110 [00:00<?, ?it/s]"
      ]
     },
     "metadata": {},
     "output_type": "display_data"
    },
    {
     "name": "stdout",
     "output_type": "stream",
     "text": [
      "\n",
      "TEST:\n",
      "...\n",
      "    |    MAE |   RMSE |    AUC |    MAP | NDCG@10 | Precision@10 | Recall@10 | Train (s) | Test (s)\n",
      "--- + ------ + ------ + ------ + ------ + ------- + ------------ + --------- + --------- + --------\n",
      "ALS | 3.7788 | 3.8253 | 0.8116 | 0.0472 |  0.0592 |       0.0187 |    0.1044 |   27.8736 |  71.9747\n",
      "\n"
     ]
    }
   ],
   "source": [
    "experiment_mf(als)"
   ]
  },
  {
   "cell_type": "code",
   "execution_count": 33,
   "metadata": {},
   "outputs": [],
   "source": [
    "users = {'5f0d7ea4515a98abebea35cec77f864c',\n",
    "         '419d645596370839d4c723c0f8661b3b',\n",
    "         'cc9203c7b89299484b9a6695d947869c',\n",
    "         '7486fc29bb00a3b83f323214f7552ca6',\n",
    "         'd02090eba4c74022bee5a3b661ef487d'}"
   ]
  },
  {
   "cell_type": "code",
   "execution_count": 35,
   "metadata": {},
   "outputs": [
    {
     "data": {
      "application/vnd.jupyter.widget-view+json": {
       "model_id": "faad9f003c5446b0ae9148dc66ef42b9",
       "version_major": 2,
       "version_minor": 0
      },
      "text/plain": [
       "Computing explanations:   0%|          | 0/15 [00:00<?, ?it/s]"
      ]
     },
     "metadata": {},
     "output_type": "display_data"
    },
    {
     "name": "stdout",
     "output_type": "stream",
     "text": [
      "                             user_id   item_id  prediction  \\\n",
      "0   5f0d7ea4515a98abebea35cec77f864c  26723194    5.162625   \n",
      "1   5f0d7ea4515a98abebea35cec77f864c    395962    4.965280   \n",
      "2   5f0d7ea4515a98abebea35cec77f864c  23381014    4.889035   \n",
      "3   cc9203c7b89299484b9a6695d947869c   3591262    5.118013   \n",
      "4   cc9203c7b89299484b9a6695d947869c     92144    4.716733   \n",
      "5   cc9203c7b89299484b9a6695d947869c   1118668    4.617853   \n",
      "6   7486fc29bb00a3b83f323214f7552ca6  18594409    4.921811   \n",
      "7   7486fc29bb00a3b83f323214f7552ca6  29095428    4.874328   \n",
      "8   7486fc29bb00a3b83f323214f7552ca6  13623150    4.822907   \n",
      "9   419d645596370839d4c723c0f8661b3b  33916178    5.208796   \n",
      "10  419d645596370839d4c723c0f8661b3b  18809475    5.049128   \n",
      "11  419d645596370839d4c723c0f8661b3b  26827419    4.944519   \n",
      "12  d02090eba4c74022bee5a3b661ef487d     48002    4.917584   \n",
      "13  d02090eba4c74022bee5a3b661ef487d  18594409    4.868793   \n",
      "14  d02090eba4c74022bee5a3b661ef487d     22871    4.862644   \n",
      "\n",
      "                explanations  \n",
      "0                         {}  \n",
      "1                   {5.0: 1}  \n",
      "2                         {}  \n",
      "3   {3.0: 2, 4.0: 3, 5.0: 5}  \n",
      "4                         {}  \n",
      "5                         {}  \n",
      "6   {3.0: 2, 4.0: 3, 5.0: 5}  \n",
      "7                         {}  \n",
      "8                         {}  \n",
      "9                         {}  \n",
      "10          {4.0: 2, 5.0: 7}  \n",
      "11                        {}  \n",
      "12  {3.0: 1, 4.0: 3, 5.0: 3}  \n",
      "13                        {}  \n",
      "14                        {}  \n"
     ]
    }
   ],
   "source": [
    "recommendations = emf.recommend(users, 3)\n",
    "emf_explainer = EMFExplainer(emf, ratio_split.train_set)\n",
    "explanations = emf_explainer.explain_recommendations(recommendations)\n",
    "print(explanations)"
   ]
  },
  {
   "cell_type": "code",
   "execution_count": 7,
   "metadata": {},
   "outputs": [],
   "source": [
    "users = ['8e7e5b546a63cb9add8431ee6914cf59',\n",
    "         'cb4527a42f29840bd0933a8a0a6f33f6',\n",
    "         '5a1de0997778a6c9c4adff89a5f02de8',\n",
    "         'fae5119b1177246f4f5fef9ca0c8fcc6',\n",
    "         '5a1de0997778a6c9c4adff89a5f02de8',\n",
    "         'd029dc3d13a17f66da3eda6454afd5d6']"
   ]
  },
  {
   "cell_type": "code",
   "execution_count": 9,
   "metadata": {},
   "outputs": [
    {
     "data": {
      "application/vnd.jupyter.widget-view+json": {
       "model_id": "51a6555fe8d54c6dbb12948a6f8bb39f",
       "version_major": 2,
       "version_minor": 0
      },
      "text/plain": [
       "Computing explanations:   0%|          | 0/18 [00:00<?, ?it/s]"
      ]
     },
     "metadata": {},
     "output_type": "display_data"
    },
    {
     "name": "stdout",
     "output_type": "stream",
     "text": [
      "                             user_id   item_id  prediction  \\\n",
      "0   8e7e5b546a63cb9add8431ee6914cf59   8667848    6.352953   \n",
      "1   8e7e5b546a63cb9add8431ee6914cf59  16068905    5.163914   \n",
      "2   8e7e5b546a63cb9add8431ee6914cf59   2118745    4.686979   \n",
      "3   cb4527a42f29840bd0933a8a0a6f33f6  16068905    4.696466   \n",
      "4   cb4527a42f29840bd0933a8a0a6f33f6  17370618    4.494055   \n",
      "5   cb4527a42f29840bd0933a8a0a6f33f6  11043410    4.446526   \n",
      "6   5a1de0997778a6c9c4adff89a5f02de8  17370618    4.329241   \n",
      "7   5a1de0997778a6c9c4adff89a5f02de8  11043410    4.285030   \n",
      "8   5a1de0997778a6c9c4adff89a5f02de8    105986    4.267663   \n",
      "9   fae5119b1177246f4f5fef9ca0c8fcc6  11857408    4.982469   \n",
      "10  fae5119b1177246f4f5fef9ca0c8fcc6  16068905    4.777263   \n",
      "11  fae5119b1177246f4f5fef9ca0c8fcc6  17370618    4.476998   \n",
      "12  5a1de0997778a6c9c4adff89a5f02de8  17370618    4.329241   \n",
      "13  5a1de0997778a6c9c4adff89a5f02de8  11043410    4.285030   \n",
      "14  5a1de0997778a6c9c4adff89a5f02de8    105986    4.267663   \n",
      "15  d029dc3d13a17f66da3eda6454afd5d6  16068905    4.816089   \n",
      "16  d029dc3d13a17f66da3eda6454afd5d6  17370618    4.094179   \n",
      "17  d029dc3d13a17f66da3eda6454afd5d6  11043410    4.043398   \n",
      "\n",
      "                                         explanations  \n",
      "0   [6218281=>8667848, 7686667=>8667848, 6482837=>...  \n",
      "1   [15749186=>16068905, 7686667=>16068905, 128125...  \n",
      "2   [5310515=>2118745, 7686667=>2118745, 12812550=...  \n",
      "3   [22510983=>16068905, 17399160=>16068905, 87095...  \n",
      "4                                                  []  \n",
      "5                                                  []  \n",
      "6                                                  []  \n",
      "7                                                  []  \n",
      "8                                                  []  \n",
      "9                                [16068905=>11857408]  \n",
      "10  [16151178=>16068905, 17061=>16068905, 2213661=...  \n",
      "11                                                 []  \n",
      "12                                                 []  \n",
      "13                                                 []  \n",
      "14                                                 []  \n",
      "15             [2118745=>16068905, 5310515=>16068905]  \n",
      "16                                                 []  \n",
      "17                                                 []  \n"
     ]
    }
   ],
   "source": [
    "recommendations = mf.recommend(users, 3)\n",
    "phi_explainer = PHI4MFExplainer(mf, ratio_split.train_set, 0.001, 0.001, 0.01)\n",
    "explanations = phi_explainer.explain_recommendations(recommendations)\n",
    "print(explanations)"
   ]
  },
  {
   "cell_type": "code",
   "execution_count": 8,
   "metadata": {},
   "outputs": [
    {
     "data": {
      "application/vnd.jupyter.widget-view+json": {
       "model_id": "bb048bd7d2bd49609377a756c7516dcb",
       "version_major": 2,
       "version_minor": 0
      },
      "text/plain": [
       "Computing explanations:   0%|          | 0/18 [00:00<?, ?it/s]"
      ]
     },
     "metadata": {},
     "output_type": "display_data"
    },
    {
     "name": "stdout",
     "output_type": "stream",
     "text": [
      "                             user_id   item_id  prediction  \\\n",
      "0   8e7e5b546a63cb9add8431ee6914cf59    100915    2.083831   \n",
      "1   8e7e5b546a63cb9add8431ee6914cf59   5310515    1.826583   \n",
      "2   8e7e5b546a63cb9add8431ee6914cf59  12127750    1.780168   \n",
      "3   cb4527a42f29840bd0933a8a0a6f33f6  16068905    1.096844   \n",
      "4   cb4527a42f29840bd0933a8a0a6f33f6  15749186    1.018936   \n",
      "5   cb4527a42f29840bd0933a8a0a6f33f6  12812550    0.950120   \n",
      "6   5a1de0997778a6c9c4adff89a5f02de8  16068905    1.374194   \n",
      "7   5a1de0997778a6c9c4adff89a5f02de8   6482837    1.266620   \n",
      "8   5a1de0997778a6c9c4adff89a5f02de8   6218281    1.033718   \n",
      "9   fae5119b1177246f4f5fef9ca0c8fcc6  16151178    1.152069   \n",
      "10  fae5119b1177246f4f5fef9ca0c8fcc6  11857408    1.066897   \n",
      "11  fae5119b1177246f4f5fef9ca0c8fcc6   2213661    1.040462   \n",
      "12  5a1de0997778a6c9c4adff89a5f02de8  16068905    1.374194   \n",
      "13  5a1de0997778a6c9c4adff89a5f02de8   6482837    1.266620   \n",
      "14  5a1de0997778a6c9c4adff89a5f02de8   6218281    1.033718   \n",
      "15  d029dc3d13a17f66da3eda6454afd5d6   2213661    0.888748   \n",
      "16  d029dc3d13a17f66da3eda6454afd5d6  16068905    0.809704   \n",
      "17  d029dc3d13a17f66da3eda6454afd5d6   2118745    0.629087   \n",
      "\n",
      "                                         explanations  \n",
      "0   {5060378: 0.41022232288138677, 84119: 0.227793...  \n",
      "1   {5310515: 0.41706616339871994, 6482837: 0.2627...  \n",
      "2   {7686667: 0.515202358410663, 8306761: 0.401168...  \n",
      "3   {16068905: 0.9923731533962875, 22510983: 0.051...  \n",
      "4   {15749186: 0.9674546388643334, 17399160: 0.064...  \n",
      "5   {16164271: 1.3225625689138902, 23299512: 0.829...  \n",
      "6   {16068905: 0.9348276584084476, 2118745: 0.2222...  \n",
      "7   {7686667: 0.9797789062818498, 6609765: 0.44830...  \n",
      "8   {6218281: 0.8320850496238188, 6609765: 0.12235...  \n",
      "9   {285205: 1.3452532697961923, 13312527: 0.89387...  \n",
      "10  {11857408: 0.9848423557918583, 18693716: 0.043...  \n",
      "11  {2213661: 0.9819033351299506, 16150996: 0.0625...  \n",
      "12  {16068905: 0.9348276584084476, 2118745: 0.2222...  \n",
      "13  {7686667: 0.9797789062818498, 6609765: 0.44830...  \n",
      "14  {6218281: 0.8320850496238188, 6609765: 0.12235...  \n",
      "15  {6375833: 3.402686053303734, 5310515: 2.706606...  \n",
      "16  {16068905: 0.998936092995903, 49852: 0.0073911...  \n",
      "17  {2118745: 0.9891964594471847, 8450509: 0.05747...  \n"
     ]
    }
   ],
   "source": [
    "recommendations = als.recommend(users, 3)\n",
    "als_explainer = ALSExplainer(als, ratio_split.train_set)\n",
    "explanations = als_explainer.explain_recommendations(recommendations)\n",
    "print(explanations)"
   ]
  },
  {
   "cell_type": "code",
   "execution_count": 10,
   "metadata": {},
   "outputs": [
    {
     "name": "stdout",
     "output_type": "stream",
     "text": [
      "user_id                          8e7e5b546a63cb9add8431ee6914cf59\n",
      "item_id                                                    100915\n",
      "prediction                                               2.083831\n",
      "explanations    {5060378: 0.41022232288138677, 84119: 0.227793...\n",
      "Name: 0, dtype: object\n"
     ]
    }
   ],
   "source": [
    "print(explanations.iloc[0])"
   ]
  },
  {
   "cell_type": "code",
   "execution_count": 9,
   "metadata": {},
   "outputs": [
    {
     "data": {
      "text/plain": [
       "{5060378: 0.41022232288138677,\n",
       " 84119: 0.22779380294845225,\n",
       " 16068905: 0.2258606880351472,\n",
       " 16164271: 0.18668785912044722,\n",
       " 29801: 0.12652015763350594,\n",
       " 118944: 0.12460275238002383,\n",
       " 91714: 0.10825451261757725,\n",
       " 7686667: 0.09496001821585659,\n",
       " 11737306: 0.08034126710212261,\n",
       " 20775020: 0.07811528910782888}"
      ]
     },
     "execution_count": 9,
     "metadata": {},
     "output_type": "execute_result"
    }
   ],
   "source": [
    "explanations['explanations'][0]"
   ]
  }
 ],
 "metadata": {
  "kernelspec": {
   "display_name": "cornactest",
   "language": "python",
   "name": "python3"
  },
  "language_info": {
   "codemirror_mode": {
    "name": "ipython",
    "version": 3
   },
   "file_extension": ".py",
   "mimetype": "text/x-python",
   "name": "python",
   "nbconvert_exporter": "python",
   "pygments_lexer": "ipython3",
   "version": "3.8.16"
  },
  "orig_nbformat": 4
 },
 "nbformat": 4,
 "nbformat_minor": 2
}
