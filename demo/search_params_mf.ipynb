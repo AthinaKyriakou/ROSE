{
 "cells": [
  {
   "cell_type": "code",
   "execution_count": 1,
   "metadata": {},
   "outputs": [
    {
     "name": "stdout",
     "output_type": "stream",
     "text": [
      "FM model is only supported on Linux.\n",
      "Windows executable can be found at http://www.libfm.org.\n"
     ]
    }
   ],
   "source": [
    "import numpy as np\n",
    "import cornac\n",
    "from cornac.eval_methods import RatioSplit\n",
    "from cornac.hyperopt import Discrete, Continuous\n",
    "from cornac.hyperopt import GridSearch\n",
    "import pandas as pd\n",
    "\n",
    "from cornac.models import MF, EMF, NEMF, ALS"
   ]
  },
  {
   "cell_type": "markdown",
   "metadata": {},
   "source": [
    "# Dense Rating Dataset"
   ]
  },
  {
   "cell_type": "code",
   "execution_count": 2,
   "metadata": {},
   "outputs": [],
   "source": [
    "path = '../cornac/datasets/good_reads/good_read_dense.csv'\n",
    "df = pd.read_csv(path, sep='\\t', header=0, names=['user_id', 'item_id', 'rating'])\n",
    "data = df[['user_id', 'item_id', 'rating']].values\n",
    "ratio_split = cornac.eval_methods.RatioSplit(data=data, test_size=0.1, val_size = 0.2, verbose=False)\n",
    "matrics = [cornac.metrics.MAE(), cornac.metrics.RMSE(), cornac.metrics.Precision(), cornac.metrics.Recall(), cornac.metrics.NDCG(), cornac.metrics.AUC(), cornac.metrics.MAP()]"
   ]
  },
  {
   "cell_type": "markdown",
   "metadata": {},
   "source": [
    "## MF with dense rating dataset"
   ]
  },
  {
   "cell_type": "code",
   "execution_count": 3,
   "metadata": {},
   "outputs": [
    {
     "name": "stdout",
     "output_type": "stream",
     "text": [
      "\n",
      "VALIDATION:\n",
      "...\n",
      "              |    MAE |   RMSE |    AUC |    MAP | NDCG@-1 | Precision@-1 | Recall@-1 | Time (s)\n",
      "------------- + ------ + ------ + ------ + ------ + ------- + ------------ + --------- + --------\n",
      "GridSearch_MF | 1.0925 | 1.2713 | 0.4988 | 0.2120 |  0.5660 |       0.1800 |    1.0000 |   0.1629\n",
      "\n",
      "TEST:\n",
      "...\n",
      "              |    MAE |   RMSE |    AUC |    MAP | NDCG@-1 | Precision@-1 | Recall@-1 | Train (s) | Test (s)\n",
      "------------- + ------ + ------ + ------ + ------ + ------- + ------------ + --------- + --------- + --------\n",
      "GridSearch_MF | 1.0677 | 1.2545 | 0.5137 | 0.1290 |  0.4363 |       0.0900 |    1.0000 |    0.5087 |   0.1061\n",
      "\n",
      "{'lambda_reg': 0.1}\n"
     ]
    }
   ],
   "source": [
    "mf = MF(k=10, max_iter=500, use_bias=True, learning_rate=0.001)\n",
    "gs_mf = GridSearch(\n",
    "    model=mf,\n",
    "    space=[\n",
    "        Discrete(\"lambda_reg\", [1e-1, 1e-2, 1e-3, 1e-4]),\n",
    "    ],\n",
    "    metric=cornac.metrics.RMSE(),\n",
    "    eval_method=ratio_split,\n",
    ")\n",
    "cornac.Experiment(\n",
    "    eval_method=ratio_split,\n",
    "    models=[gs_mf],\n",
    "    metrics=matrics,\n",
    "    user_based=False,\n",
    ").run()\n",
    "print(gs_mf.best_params)"
   ]
  },
  {
   "cell_type": "markdown",
   "metadata": {},
   "source": [
    "## EMF with dense rating dataset"
   ]
  },
  {
   "cell_type": "code",
   "execution_count": 4,
   "metadata": {},
   "outputs": [
    {
     "name": "stdout",
     "output_type": "stream",
     "text": [
      "\n",
      "VALIDATION:\n",
      "...\n",
      "               |    MAE |   RMSE |    AUC |    MAP | NDCG@-1 | Precision@-1 | Recall@-1 | Time (s)\n",
      "-------------- + ------ + ------ + ------ + ------ + ------- + ------------ + --------- + --------\n",
      "GridSearch_EMF | 1.1250 | 1.3268 | 0.5101 | 0.2089 |  0.5586 |       0.1800 |    1.0000 |   0.1199\n",
      "\n",
      "TEST:\n",
      "...\n",
      "               |    MAE |   RMSE |    AUC |    MAP | NDCG@-1 | Precision@-1 | Recall@-1 | Train (s) | Test (s)\n",
      "-------------- + ------ + ------ + ------ + ------ + ------- + ------------ + --------- + --------- + --------\n",
      "GridSearch_EMF | 1.1025 | 1.2938 | 0.4876 | 0.1223 |  0.4255 |       0.0900 |    1.0000 |    6.1223 |   0.1143\n",
      "\n",
      "{'explain_reg': 0.01, 'lambda_reg': 0.1}\n"
     ]
    }
   ],
   "source": [
    "emf = EMF(k=10, max_iter=500, use_bias=True, learning_rate=0.001)\n",
    "gs_emf = GridSearch(\n",
    "    model=emf,\n",
    "    space=[\n",
    "        Discrete(\"lambda_reg\", [1e-1, 1e-2, 1e-3, 1e-4]),\n",
    "        Discrete(\"explain_reg\", [1, 1e-1, 1e-2, 1e-3, 1e-4]),\n",
    "    ],\n",
    "    metric=cornac.metrics.RMSE(),\n",
    "    eval_method=ratio_split,\n",
    ")\n",
    "cornac.Experiment(\n",
    "    eval_method=ratio_split,\n",
    "    models=[gs_emf],\n",
    "    metrics=matrics,\n",
    "    user_based=False,\n",
    ").run()\n",
    "print(gs_emf.best_params)"
   ]
  },
  {
   "cell_type": "markdown",
   "metadata": {},
   "source": [
    "## NEMF with dense rating dataset"
   ]
  },
  {
   "cell_type": "code",
   "execution_count": 5,
   "metadata": {},
   "outputs": [
    {
     "name": "stdout",
     "output_type": "stream",
     "text": [
      "Start compute edge weight matrix...\n",
      "Start compute novel matrix...\n",
      "Matrix computation finished!\n",
      "Start compute edge weight matrix...\n",
      "Start compute novel matrix...\n",
      "Matrix computation finished!\n",
      "Start compute edge weight matrix...\n",
      "Start compute novel matrix...\n",
      "Matrix computation finished!\n",
      "Start compute edge weight matrix...\n",
      "Start compute novel matrix...\n",
      "Matrix computation finished!\n",
      "Start compute edge weight matrix...\n",
      "Start compute novel matrix...\n",
      "Matrix computation finished!\n",
      "Start compute edge weight matrix...\n",
      "Start compute novel matrix...\n",
      "Matrix computation finished!\n",
      "Start compute edge weight matrix...\n",
      "Start compute novel matrix...\n",
      "Matrix computation finished!\n",
      "Start compute edge weight matrix...\n",
      "Start compute novel matrix...\n",
      "Matrix computation finished!\n",
      "Start compute edge weight matrix...\n",
      "Start compute novel matrix...\n",
      "Matrix computation finished!\n",
      "Start compute edge weight matrix...\n",
      "Start compute novel matrix...\n",
      "Matrix computation finished!\n",
      "Start compute edge weight matrix...\n",
      "Start compute novel matrix...\n",
      "Matrix computation finished!\n",
      "Start compute edge weight matrix...\n",
      "Start compute novel matrix...\n",
      "Matrix computation finished!\n",
      "Start compute edge weight matrix...\n",
      "Start compute novel matrix...\n",
      "Matrix computation finished!\n",
      "Start compute edge weight matrix...\n",
      "Start compute novel matrix...\n",
      "Matrix computation finished!\n",
      "Start compute edge weight matrix...\n",
      "Start compute novel matrix...\n",
      "Matrix computation finished!\n",
      "Start compute edge weight matrix...\n",
      "Start compute novel matrix...\n",
      "Matrix computation finished!\n",
      "Start compute edge weight matrix...\n",
      "Start compute novel matrix...\n",
      "Matrix computation finished!\n",
      "Start compute edge weight matrix...\n",
      "Start compute novel matrix...\n",
      "Matrix computation finished!\n",
      "Start compute edge weight matrix...\n",
      "Start compute novel matrix...\n",
      "Matrix computation finished!\n",
      "Start compute edge weight matrix...\n",
      "Start compute novel matrix...\n",
      "Matrix computation finished!\n",
      "Start compute edge weight matrix...\n",
      "Start compute novel matrix...\n",
      "Matrix computation finished!\n",
      "Start compute edge weight matrix...\n",
      "Start compute novel matrix...\n",
      "Matrix computation finished!\n",
      "Start compute edge weight matrix...\n",
      "Start compute novel matrix...\n",
      "Matrix computation finished!\n",
      "Start compute edge weight matrix...\n",
      "Start compute novel matrix...\n",
      "Matrix computation finished!\n",
      "Start compute edge weight matrix...\n",
      "Start compute novel matrix...\n",
      "Matrix computation finished!\n",
      "Start compute edge weight matrix...\n",
      "Start compute novel matrix...\n",
      "Matrix computation finished!\n",
      "Start compute edge weight matrix...\n",
      "Start compute novel matrix...\n",
      "Matrix computation finished!\n",
      "Start compute edge weight matrix...\n",
      "Start compute novel matrix...\n",
      "Matrix computation finished!\n",
      "Start compute edge weight matrix...\n",
      "Start compute novel matrix...\n",
      "Matrix computation finished!\n",
      "Start compute edge weight matrix...\n",
      "Start compute novel matrix...\n",
      "Matrix computation finished!\n",
      "Start compute edge weight matrix...\n",
      "Start compute novel matrix...\n",
      "Matrix computation finished!\n",
      "Start compute edge weight matrix...\n",
      "Start compute novel matrix...\n",
      "Matrix computation finished!\n",
      "Start compute edge weight matrix...\n",
      "Start compute novel matrix...\n",
      "Matrix computation finished!\n",
      "Start compute edge weight matrix...\n",
      "Start compute novel matrix...\n",
      "Matrix computation finished!\n",
      "Start compute edge weight matrix...\n",
      "Start compute novel matrix...\n",
      "Matrix computation finished!\n",
      "Start compute edge weight matrix...\n",
      "Start compute novel matrix...\n",
      "Matrix computation finished!\n",
      "Start compute edge weight matrix...\n",
      "Start compute novel matrix...\n",
      "Matrix computation finished!\n",
      "Start compute edge weight matrix...\n",
      "Start compute novel matrix...\n",
      "Matrix computation finished!\n",
      "Start compute edge weight matrix...\n",
      "Start compute novel matrix...\n",
      "Matrix computation finished!\n",
      "Start compute edge weight matrix...\n",
      "Start compute novel matrix...\n",
      "Matrix computation finished!\n",
      "Start compute edge weight matrix...\n",
      "Start compute novel matrix...\n",
      "Matrix computation finished!\n",
      "Start compute edge weight matrix...\n",
      "Start compute novel matrix...\n",
      "Matrix computation finished!\n",
      "Start compute edge weight matrix...\n",
      "Start compute novel matrix...\n",
      "Matrix computation finished!\n",
      "Start compute edge weight matrix...\n",
      "Start compute novel matrix...\n",
      "Matrix computation finished!\n",
      "Start compute edge weight matrix...\n",
      "Start compute novel matrix...\n",
      "Matrix computation finished!\n",
      "Start compute edge weight matrix...\n",
      "Start compute novel matrix...\n",
      "Matrix computation finished!\n",
      "Start compute edge weight matrix...\n",
      "Start compute novel matrix...\n",
      "Matrix computation finished!\n",
      "Start compute edge weight matrix...\n",
      "Start compute novel matrix...\n",
      "Matrix computation finished!\n",
      "Start compute edge weight matrix...\n",
      "Start compute novel matrix...\n",
      "Matrix computation finished!\n",
      "Start compute edge weight matrix...\n",
      "Start compute novel matrix...\n",
      "Matrix computation finished!\n",
      "Start compute edge weight matrix...\n",
      "Start compute novel matrix...\n",
      "Matrix computation finished!\n",
      "Start compute edge weight matrix...\n",
      "Start compute novel matrix...\n",
      "Matrix computation finished!\n",
      "Start compute edge weight matrix...\n",
      "Start compute novel matrix...\n",
      "Matrix computation finished!\n",
      "Start compute edge weight matrix...\n",
      "Start compute novel matrix...\n",
      "Matrix computation finished!\n",
      "Start compute edge weight matrix...\n",
      "Start compute novel matrix...\n",
      "Matrix computation finished!\n",
      "Start compute edge weight matrix...\n",
      "Start compute novel matrix...\n",
      "Matrix computation finished!\n",
      "Start compute edge weight matrix...\n",
      "Start compute novel matrix...\n",
      "Matrix computation finished!\n",
      "Start compute edge weight matrix...\n",
      "Start compute novel matrix...\n",
      "Matrix computation finished!\n",
      "Start compute edge weight matrix...\n",
      "Start compute novel matrix...\n",
      "Matrix computation finished!\n",
      "Start compute edge weight matrix...\n",
      "Start compute novel matrix...\n",
      "Matrix computation finished!\n",
      "Start compute edge weight matrix...\n",
      "Start compute novel matrix...\n",
      "Matrix computation finished!\n",
      "Start compute edge weight matrix...\n",
      "Start compute novel matrix...\n",
      "Matrix computation finished!\n",
      "Start compute edge weight matrix...\n",
      "Start compute novel matrix...\n",
      "Matrix computation finished!\n",
      "Start compute edge weight matrix...\n",
      "Start compute novel matrix...\n",
      "Matrix computation finished!\n",
      "Start compute edge weight matrix...\n",
      "Start compute novel matrix...\n",
      "Matrix computation finished!\n",
      "Start compute edge weight matrix...\n",
      "Start compute novel matrix...\n",
      "Matrix computation finished!\n",
      "Start compute edge weight matrix...\n",
      "Start compute novel matrix...\n",
      "Matrix computation finished!\n",
      "Start compute edge weight matrix...\n",
      "Start compute novel matrix...\n",
      "Matrix computation finished!\n",
      "Start compute edge weight matrix...\n",
      "Start compute novel matrix...\n",
      "Matrix computation finished!\n",
      "Start compute edge weight matrix...\n",
      "Start compute novel matrix...\n",
      "Matrix computation finished!\n",
      "Start compute edge weight matrix...\n",
      "Start compute novel matrix...\n",
      "Matrix computation finished!\n",
      "Start compute edge weight matrix...\n",
      "Start compute novel matrix...\n",
      "Matrix computation finished!\n",
      "Start compute edge weight matrix...\n",
      "Start compute novel matrix...\n",
      "Matrix computation finished!\n",
      "Start compute edge weight matrix...\n",
      "Start compute novel matrix...\n",
      "Matrix computation finished!\n",
      "Start compute edge weight matrix...\n",
      "Start compute novel matrix...\n",
      "Matrix computation finished!\n",
      "Start compute edge weight matrix...\n",
      "Start compute novel matrix...\n",
      "Matrix computation finished!\n",
      "Start compute edge weight matrix...\n",
      "Start compute novel matrix...\n",
      "Matrix computation finished!\n",
      "Start compute edge weight matrix...\n",
      "Start compute novel matrix...\n",
      "Matrix computation finished!\n",
      "Start compute edge weight matrix...\n",
      "Start compute novel matrix...\n",
      "Matrix computation finished!\n",
      "Start compute edge weight matrix...\n",
      "Start compute novel matrix...\n",
      "Matrix computation finished!\n",
      "Start compute edge weight matrix...\n",
      "Start compute novel matrix...\n",
      "Matrix computation finished!\n",
      "Start compute edge weight matrix...\n",
      "Start compute novel matrix...\n",
      "Matrix computation finished!\n",
      "Start compute edge weight matrix...\n",
      "Start compute novel matrix...\n",
      "Matrix computation finished!\n",
      "Start compute edge weight matrix...\n",
      "Start compute novel matrix...\n",
      "Matrix computation finished!\n",
      "Start compute edge weight matrix...\n",
      "Start compute novel matrix...\n",
      "Matrix computation finished!\n",
      "Start compute edge weight matrix...\n",
      "Start compute novel matrix...\n",
      "Matrix computation finished!\n",
      "Start compute edge weight matrix...\n",
      "Start compute novel matrix...\n",
      "Matrix computation finished!\n",
      "Start compute edge weight matrix...\n",
      "Start compute novel matrix...\n",
      "Matrix computation finished!\n",
      "Start compute edge weight matrix...\n",
      "Start compute novel matrix...\n",
      "Matrix computation finished!\n",
      "Start compute edge weight matrix...\n",
      "Start compute novel matrix...\n",
      "Matrix computation finished!\n",
      "Start compute edge weight matrix...\n",
      "Start compute novel matrix...\n",
      "Matrix computation finished!\n",
      "Start compute edge weight matrix...\n",
      "Start compute novel matrix...\n",
      "Matrix computation finished!\n",
      "Start compute edge weight matrix...\n",
      "Start compute novel matrix...\n",
      "Matrix computation finished!\n",
      "Start compute edge weight matrix...\n",
      "Start compute novel matrix...\n",
      "Matrix computation finished!\n",
      "Start compute edge weight matrix...\n",
      "Start compute novel matrix...\n",
      "Matrix computation finished!\n",
      "Start compute edge weight matrix...\n",
      "Start compute novel matrix...\n",
      "Matrix computation finished!\n",
      "Start compute edge weight matrix...\n",
      "Start compute novel matrix...\n",
      "Matrix computation finished!\n",
      "Start compute edge weight matrix...\n",
      "Start compute novel matrix...\n",
      "Matrix computation finished!\n",
      "Start compute edge weight matrix...\n",
      "Start compute novel matrix...\n",
      "Matrix computation finished!\n",
      "Start compute edge weight matrix...\n",
      "Start compute novel matrix...\n",
      "Matrix computation finished!\n",
      "\n",
      "VALIDATION:\n",
      "...\n",
      "                |    MAE |   RMSE |    AUC |    MAP | NDCG@-1 | Precision@-1 | Recall@-1 | Time (s)\n",
      "--------------- + ------ + ------ + ------ + ------ + ------- + ------------ + --------- + --------\n",
      "GridSearch_NEMF | 1.1698 | 1.3980 | 0.4825 | 0.2244 |  0.5890 |       0.1800 |    1.0000 |   0.1296\n",
      "\n",
      "TEST:\n",
      "...\n",
      "                |    MAE |   RMSE |    AUC |    MAP | NDCG@-1 | Precision@-1 | Recall@-1 | Train (s) | Test (s)\n",
      "--------------- + ------ + ------ + ------ + ------ + ------- + ------------ + --------- + --------- + --------\n",
      "GridSearch_NEMF | 1.1598 | 1.3891 | 0.5056 | 0.1366 |  0.4452 |       0.0900 |    1.0000 |   41.7400 |   0.1061\n",
      "\n",
      "{'explain_reg': 0.01, 'lambda_reg': 0.1, 'novel_reg': 1}\n"
     ]
    }
   ],
   "source": [
    "nemf = NEMF(k=10, max_iter=500, use_bias=True, learning_rate=0.001)\n",
    "gs_nemf = GridSearch(\n",
    "    model=nemf,\n",
    "    space=[\n",
    "        Discrete(\"lambda_reg\", [1e-1, 1e-2, 1e-3, 1e-4]),\n",
    "        Discrete(\"explain_reg\", [1, 1e-1, 1e-2, 1e-3, 1e-4]),\n",
    "        Discrete(\"novel_reg\", [1, 1e-1, 1e-2, 1e-3, 1e-4]),\n",
    "    ],\n",
    "    metric=cornac.metrics.RMSE(),\n",
    "    eval_method=ratio_split,\n",
    ")\n",
    "cornac.Experiment(\n",
    "    eval_method=ratio_split,\n",
    "    models=[gs_nemf],\n",
    "    metrics=matrics,\n",
    "    user_based=False,\n",
    ").run()\n",
    "print(gs_nemf.best_params)"
   ]
  },
  {
   "cell_type": "markdown",
   "metadata": {},
   "source": [
    "## ALS with dense rating dataset"
   ]
  },
  {
   "cell_type": "code",
   "execution_count": 6,
   "metadata": {},
   "outputs": [
    {
     "name": "stderr",
     "output_type": "stream",
     "text": [
      "c:\\Users\\linan\\.conda\\envs\\cornactest\\lib\\site-packages\\implicit\\utils.py:33: UserWarning: Intel MKL BLAS detected. Its highly recommend to set the environment variable 'export MKL_NUM_THREADS=1' to disable its internal multithreading\n",
      "  warnings.warn(\n"
     ]
    },
    {
     "data": {
      "application/vnd.jupyter.widget-view+json": {
       "model_id": "ca4654e494b64c0895e9128a8c7cd09e",
       "version_major": 2,
       "version_minor": 0
      },
      "text/plain": [
       "  0%|          | 0/500 [00:00<?, ?it/s]"
      ]
     },
     "metadata": {},
     "output_type": "display_data"
    },
    {
     "name": "stderr",
     "output_type": "stream",
     "text": [
      "INFO:implicit:Final training loss 0.1437\n"
     ]
    },
    {
     "data": {
      "application/vnd.jupyter.widget-view+json": {
       "model_id": "ad789378c54e43e7b2d8011e1145a297",
       "version_major": 2,
       "version_minor": 0
      },
      "text/plain": [
       "  0%|          | 0/500 [00:00<?, ?it/s]"
      ]
     },
     "metadata": {},
     "output_type": "display_data"
    },
    {
     "name": "stderr",
     "output_type": "stream",
     "text": [
      "INFO:implicit:Final training loss 0.1439\n"
     ]
    },
    {
     "data": {
      "application/vnd.jupyter.widget-view+json": {
       "model_id": "d060d3bd6e0e4524a07a29850ac463b8",
       "version_major": 2,
       "version_minor": 0
      },
      "text/plain": [
       "  0%|          | 0/500 [00:00<?, ?it/s]"
      ]
     },
     "metadata": {},
     "output_type": "display_data"
    },
    {
     "name": "stderr",
     "output_type": "stream",
     "text": [
      "INFO:implicit:Final training loss 0.1439\n"
     ]
    },
    {
     "data": {
      "application/vnd.jupyter.widget-view+json": {
       "model_id": "a77ce29546d945d1a8ec4dc9983867d8",
       "version_major": 2,
       "version_minor": 0
      },
      "text/plain": [
       "  0%|          | 0/500 [00:00<?, ?it/s]"
      ]
     },
     "metadata": {},
     "output_type": "display_data"
    },
    {
     "name": "stderr",
     "output_type": "stream",
     "text": [
      "INFO:implicit:Final training loss 0.1453\n"
     ]
    },
    {
     "data": {
      "application/vnd.jupyter.widget-view+json": {
       "model_id": "d1b34da42d85462a8f388bde0cc4fa97",
       "version_major": 2,
       "version_minor": 0
      },
      "text/plain": [
       "  0%|          | 0/500 [00:00<?, ?it/s]"
      ]
     },
     "metadata": {},
     "output_type": "display_data"
    },
    {
     "name": "stderr",
     "output_type": "stream",
     "text": [
      "INFO:implicit:Final training loss 0.1048\n"
     ]
    },
    {
     "data": {
      "application/vnd.jupyter.widget-view+json": {
       "model_id": "1df52a17ef5a42798e0f671db7ebaa75",
       "version_major": 2,
       "version_minor": 0
      },
      "text/plain": [
       "  0%|          | 0/500 [00:00<?, ?it/s]"
      ]
     },
     "metadata": {},
     "output_type": "display_data"
    },
    {
     "name": "stderr",
     "output_type": "stream",
     "text": [
      "INFO:implicit:Final training loss 0.1051\n"
     ]
    },
    {
     "data": {
      "application/vnd.jupyter.widget-view+json": {
       "model_id": "4aee0d7533bd41788addc7c260e782f8",
       "version_major": 2,
       "version_minor": 0
      },
      "text/plain": [
       "  0%|          | 0/500 [00:00<?, ?it/s]"
      ]
     },
     "metadata": {},
     "output_type": "display_data"
    },
    {
     "name": "stderr",
     "output_type": "stream",
     "text": [
      "INFO:implicit:Final training loss 0.1051\n"
     ]
    },
    {
     "data": {
      "application/vnd.jupyter.widget-view+json": {
       "model_id": "4090a67f5c284064a8dbeb4572e9e558",
       "version_major": 2,
       "version_minor": 0
      },
      "text/plain": [
       "  0%|          | 0/500 [00:00<?, ?it/s]"
      ]
     },
     "metadata": {},
     "output_type": "display_data"
    },
    {
     "name": "stderr",
     "output_type": "stream",
     "text": [
      "INFO:implicit:Final training loss 0.1057\n"
     ]
    },
    {
     "data": {
      "application/vnd.jupyter.widget-view+json": {
       "model_id": "5ac793cf425c40b18a814d63172517de",
       "version_major": 2,
       "version_minor": 0
      },
      "text/plain": [
       "  0%|          | 0/500 [00:00<?, ?it/s]"
      ]
     },
     "metadata": {},
     "output_type": "display_data"
    },
    {
     "name": "stderr",
     "output_type": "stream",
     "text": [
      "INFO:implicit:Final training loss 0.0168\n"
     ]
    },
    {
     "data": {
      "application/vnd.jupyter.widget-view+json": {
       "model_id": "28ccd4944faa447abe9c5507284915b2",
       "version_major": 2,
       "version_minor": 0
      },
      "text/plain": [
       "  0%|          | 0/500 [00:00<?, ?it/s]"
      ]
     },
     "metadata": {},
     "output_type": "display_data"
    },
    {
     "name": "stderr",
     "output_type": "stream",
     "text": [
      "INFO:implicit:Final training loss 0.0172\n"
     ]
    },
    {
     "data": {
      "application/vnd.jupyter.widget-view+json": {
       "model_id": "a313773426254dbbb536ec3286c77e45",
       "version_major": 2,
       "version_minor": 0
      },
      "text/plain": [
       "  0%|          | 0/500 [00:00<?, ?it/s]"
      ]
     },
     "metadata": {},
     "output_type": "display_data"
    },
    {
     "name": "stderr",
     "output_type": "stream",
     "text": [
      "INFO:implicit:Final training loss 0.0175\n"
     ]
    },
    {
     "data": {
      "application/vnd.jupyter.widget-view+json": {
       "model_id": "7b8abd12617e45c0b66fd878b41ed578",
       "version_major": 2,
       "version_minor": 0
      },
      "text/plain": [
       "  0%|          | 0/500 [00:00<?, ?it/s]"
      ]
     },
     "metadata": {},
     "output_type": "display_data"
    },
    {
     "name": "stderr",
     "output_type": "stream",
     "text": [
      "INFO:implicit:Final training loss 0.0176\n"
     ]
    },
    {
     "data": {
      "application/vnd.jupyter.widget-view+json": {
       "model_id": "d07e1c147ab74c228e183c61827dd283",
       "version_major": 2,
       "version_minor": 0
      },
      "text/plain": [
       "  0%|          | 0/500 [00:00<?, ?it/s]"
      ]
     },
     "metadata": {},
     "output_type": "display_data"
    },
    {
     "name": "stderr",
     "output_type": "stream",
     "text": [
      "INFO:implicit:Final training loss 0.0035\n"
     ]
    },
    {
     "data": {
      "application/vnd.jupyter.widget-view+json": {
       "model_id": "1867ee067d1c4e1eac1b128a6ac52c6e",
       "version_major": 2,
       "version_minor": 0
      },
      "text/plain": [
       "  0%|          | 0/500 [00:00<?, ?it/s]"
      ]
     },
     "metadata": {},
     "output_type": "display_data"
    },
    {
     "name": "stderr",
     "output_type": "stream",
     "text": [
      "INFO:implicit:Final training loss 0.0038\n"
     ]
    },
    {
     "data": {
      "application/vnd.jupyter.widget-view+json": {
       "model_id": "2a1b7830ba734dc4b637cd49caf1b809",
       "version_major": 2,
       "version_minor": 0
      },
      "text/plain": [
       "  0%|          | 0/500 [00:00<?, ?it/s]"
      ]
     },
     "metadata": {},
     "output_type": "display_data"
    },
    {
     "name": "stderr",
     "output_type": "stream",
     "text": [
      "INFO:implicit:Final training loss 0.0042\n"
     ]
    },
    {
     "data": {
      "application/vnd.jupyter.widget-view+json": {
       "model_id": "dab2d1d1748e409fbb3dae982cbef918",
       "version_major": 2,
       "version_minor": 0
      },
      "text/plain": [
       "  0%|          | 0/500 [00:00<?, ?it/s]"
      ]
     },
     "metadata": {},
     "output_type": "display_data"
    },
    {
     "name": "stderr",
     "output_type": "stream",
     "text": [
      "INFO:implicit:Final training loss 0.0044\n"
     ]
    },
    {
     "data": {
      "application/vnd.jupyter.widget-view+json": {
       "model_id": "8de0e6331cf64aad9bd9abc8faee87fa",
       "version_major": 2,
       "version_minor": 0
      },
      "text/plain": [
       "  0%|          | 0/500 [00:00<?, ?it/s]"
      ]
     },
     "metadata": {},
     "output_type": "display_data"
    },
    {
     "name": "stderr",
     "output_type": "stream",
     "text": [
      "INFO:implicit:Final training loss 0.0018\n"
     ]
    },
    {
     "data": {
      "application/vnd.jupyter.widget-view+json": {
       "model_id": "a6ea9250816a44bb987e4ccfbed7ac22",
       "version_major": 2,
       "version_minor": 0
      },
      "text/plain": [
       "  0%|          | 0/500 [00:00<?, ?it/s]"
      ]
     },
     "metadata": {},
     "output_type": "display_data"
    },
    {
     "name": "stderr",
     "output_type": "stream",
     "text": [
      "INFO:implicit:Final training loss 0.0019\n"
     ]
    },
    {
     "data": {
      "application/vnd.jupyter.widget-view+json": {
       "model_id": "e9028271394f40f0b04d7da44e9c5e0c",
       "version_major": 2,
       "version_minor": 0
      },
      "text/plain": [
       "  0%|          | 0/500 [00:00<?, ?it/s]"
      ]
     },
     "metadata": {},
     "output_type": "display_data"
    },
    {
     "name": "stderr",
     "output_type": "stream",
     "text": [
      "INFO:implicit:Final training loss 0.0023\n"
     ]
    },
    {
     "data": {
      "application/vnd.jupyter.widget-view+json": {
       "model_id": "88f477dce01d4183810badc41041743b",
       "version_major": 2,
       "version_minor": 0
      },
      "text/plain": [
       "  0%|          | 0/500 [00:00<?, ?it/s]"
      ]
     },
     "metadata": {},
     "output_type": "display_data"
    },
    {
     "name": "stderr",
     "output_type": "stream",
     "text": [
      "INFO:implicit:Final training loss 0.0026\n"
     ]
    },
    {
     "name": "stdout",
     "output_type": "stream",
     "text": [
      "\n",
      "VALIDATION:\n",
      "...\n",
      "               |    MAE |   RMSE |    AUC |    MAP | NDCG@-1 | Precision@-1 | Recall@-1 | Time (s)\n",
      "-------------- + ------ + ------ + ------ + ------ + ------- + ------------ + --------- + --------\n",
      "GridSearch_ALS | 1.9938 | 2.3454 | 0.4856 | 0.1335 |  0.4736 |       0.1800 |    1.0000 |   0.1751\n",
      "\n",
      "TEST:\n",
      "...\n",
      "               |    MAE |   RMSE |    AUC |    MAP | NDCG@-1 | Precision@-1 | Recall@-1 | Train (s) | Test (s)\n",
      "-------------- + ------ + ------ + ------ + ------ + ------- + ------------ + --------- + --------- + --------\n",
      "GridSearch_ALS | 1.9288 | 2.2770 | 0.5033 | 0.0796 |  0.3696 |       0.0900 |    1.0000 |   34.1308 |   0.1198\n",
      "\n",
      "{'alpha': 1, 'lambda_reg': 0.001}\n"
     ]
    }
   ],
   "source": [
    "als = ALS(k=10, max_iter=500)\n",
    "gs_als = GridSearch(\n",
    "    model=als,\n",
    "    space=[\n",
    "        Discrete(\"lambda_reg\", [1e-1, 1e-2, 1e-3, 1e-4]),\n",
    "        Discrete(\"alpha\", [0.5, 1, 10, 50, 100]),\n",
    "    ],\n",
    "    metric=cornac.metrics.RMSE(),\n",
    "    eval_method=ratio_split,\n",
    ")\n",
    "cornac.Experiment(\n",
    "    eval_method=ratio_split,\n",
    "    models=[gs_als],\n",
    "    metrics=matrics,\n",
    "    user_based=False,\n",
    ").run()\n",
    "print(gs_als.best_params)"
   ]
  },
  {
   "cell_type": "markdown",
   "metadata": {},
   "source": [
    "# Small Rating Dataset\n"
   ]
  },
  {
   "cell_type": "code",
   "execution_count": null,
   "metadata": {},
   "outputs": [],
   "source": [
    "path = '../cornac/datasets/good_reads/good_read_UIR_1000.csv'\n",
    "df = pd.read_csv(path, sep='\\t', header=0, names=['user_id', 'item_id', 'rating'])\n",
    "data = df[['user_id', 'item_id', 'rating']].values\n",
    "ratio_split = cornac.eval_methods.RatioSplit(data=data, test_size=0.1, val_size = 0.2, verbose=False)\n",
    "matrics = [cornac.metrics.MAE(), cornac.metrics.RMSE(), cornac.metrics.Precision(), cornac.metrics.Recall(), cornac.metrics.NDCG(), cornac.metrics.AUC(), cornac.metrics.MAP()]"
   ]
  },
  {
   "cell_type": "markdown",
   "metadata": {},
   "source": [
    "## MF with small rating dataset"
   ]
  },
  {
   "cell_type": "code",
   "execution_count": null,
   "metadata": {},
   "outputs": [
    {
     "name": "stdout",
     "output_type": "stream",
     "text": [
      "\n",
      "VALIDATION:\n",
      "...\n",
      "              |    MAE |   RMSE |    AUC |    MAP | NDCG@-1 | Precision@-1 | Recall@-1 | Time (s)\n",
      "------------- + ------ + ------ + ------ + ------ + ------- + ------------ + --------- + --------\n",
      "GridSearch_MF | 0.7663 | 1.0277 | 0.5765 | 0.0017 |  0.1414 |       0.0004 |    1.0000 |   4.1097\n",
      "\n",
      "TEST:\n",
      "...\n",
      "              |    MAE |   RMSE |    AUC |    MAP | NDCG@-1 | Precision@-1 | Recall@-1 | Train (s) | Test (s)\n",
      "------------- + ------ + ------ + ------ + ------ + ------- + ------------ + --------- + --------- + --------\n",
      "GridSearch_MF | 0.7557 | 1.0264 | 0.5721 | 0.0017 |  0.1169 |       0.0002 |    1.0000 |    1.2131 |   3.4368\n",
      "\n",
      "{'lambda_reg': 0.01}\n"
     ]
    }
   ],
   "source": [
    "mf = MF(k=10, max_iter=500, use_bias=True, learning_rate=0.001)\n",
    "gs_mf = GridSearch(\n",
    "    model=mf,\n",
    "    space=[\n",
    "        Discrete(\"lambda_reg\", [1e-1, 1e-2, 1e-3, 1e-4]),\n",
    "    ],\n",
    "    metric=cornac.metrics.RMSE(),\n",
    "    eval_method=ratio_split,\n",
    ")\n",
    "cornac.Experiment(\n",
    "    eval_method=ratio_split,\n",
    "    models=[gs_mf],\n",
    "    metrics=matrics,\n",
    "    user_based=False,\n",
    ").run()\n",
    "print(gs_mf.best_params)"
   ]
  },
  {
   "cell_type": "markdown",
   "metadata": {},
   "source": [
    "## EMF with small rating dataset"
   ]
  },
  {
   "cell_type": "code",
   "execution_count": null,
   "metadata": {},
   "outputs": [
    {
     "name": "stdout",
     "output_type": "stream",
     "text": [
      "\n",
      "VALIDATION:\n",
      "...\n",
      "               |    MAE |   RMSE |    AUC |    MAP | NDCG@-1 | Precision@-1 | Recall@-1 | Time (s)\n",
      "-------------- + ------ + ------ + ------ + ------ + ------- + ------------ + --------- + --------\n",
      "GridSearch_EMF | 0.8552 | 1.1295 | 0.5370 | 0.0024 |  0.1442 |       0.0004 |    1.0000 |   4.4530\n",
      "\n",
      "TEST:\n",
      "...\n",
      "               |    MAE |   RMSE |    AUC |    MAP | NDCG@-1 | Precision@-1 | Recall@-1 | Train (s) | Test (s)\n",
      "-------------- + ------ + ------ + ------ + ------ + ------- + ------------ + --------- + --------- + --------\n",
      "GridSearch_EMF | 0.8611 | 1.1460 | 0.5486 | 0.0033 |  0.1214 |       0.0002 |    1.0000 |   40.3469 |   3.7337\n",
      "\n",
      "{'explain_reg': 0.0001, 'lambda_reg': 0.1}\n"
     ]
    }
   ],
   "source": [
    "emf = EMF(k=10, max_iter=500, use_bias=True, learning_rate=0.001)\n",
    "gs_emf = GridSearch(\n",
    "    model=emf,\n",
    "    space=[\n",
    "        Discrete(\"lambda_reg\", [1e-1, 1e-2, 1e-3, 1e-4]),\n",
    "        Discrete(\"explain_reg\", [1, 1e-1, 1e-2, 1e-3, 1e-4]),\n",
    "    ],\n",
    "    metric=cornac.metrics.RMSE(),\n",
    "    eval_method=ratio_split,\n",
    ")\n",
    "cornac.Experiment(\n",
    "    eval_method=ratio_split,\n",
    "    models=[gs_emf],\n",
    "    metrics=matrics,\n",
    "    user_based=False,\n",
    ").run()\n",
    "print(gs_emf.best_params)"
   ]
  },
  {
   "cell_type": "markdown",
   "metadata": {},
   "source": [
    "## NEMF with small rating dataset"
   ]
  },
  {
   "cell_type": "code",
   "execution_count": null,
   "metadata": {},
   "outputs": [
    {
     "name": "stdout",
     "output_type": "stream",
     "text": [
      "Start compute edge weight matrix...\n",
      "Start compute novel matrix...\n",
      "Matrix computation finished!\n",
      "Start compute edge weight matrix...\n",
      "Start compute novel matrix...\n",
      "Matrix computation finished!\n",
      "Start compute edge weight matrix...\n",
      "Start compute novel matrix...\n",
      "Matrix computation finished!\n",
      "Start compute edge weight matrix...\n",
      "Start compute novel matrix...\n",
      "Matrix computation finished!\n",
      "Start compute edge weight matrix...\n",
      "Start compute novel matrix...\n",
      "Matrix computation finished!\n",
      "Start compute edge weight matrix...\n",
      "Start compute novel matrix...\n",
      "Matrix computation finished!\n",
      "Start compute edge weight matrix...\n",
      "Start compute novel matrix...\n",
      "Matrix computation finished!\n",
      "Start compute edge weight matrix...\n",
      "Start compute novel matrix...\n",
      "Matrix computation finished!\n",
      "Start compute edge weight matrix...\n",
      "Start compute novel matrix...\n",
      "Matrix computation finished!\n",
      "Start compute edge weight matrix...\n",
      "Start compute novel matrix...\n",
      "Matrix computation finished!\n",
      "Start compute edge weight matrix...\n",
      "Start compute novel matrix...\n",
      "Matrix computation finished!\n",
      "Start compute edge weight matrix...\n",
      "Start compute novel matrix...\n",
      "Matrix computation finished!\n",
      "Start compute edge weight matrix...\n",
      "Start compute novel matrix...\n",
      "Matrix computation finished!\n",
      "Start compute edge weight matrix...\n",
      "Start compute novel matrix...\n",
      "Matrix computation finished!\n",
      "Start compute edge weight matrix...\n",
      "Start compute novel matrix...\n",
      "Matrix computation finished!\n",
      "Start compute edge weight matrix...\n",
      "Start compute novel matrix...\n",
      "Matrix computation finished!\n",
      "Start compute edge weight matrix...\n",
      "Start compute novel matrix...\n",
      "Matrix computation finished!\n",
      "Start compute edge weight matrix...\n",
      "Start compute novel matrix...\n",
      "Matrix computation finished!\n",
      "Start compute edge weight matrix...\n",
      "Start compute novel matrix...\n",
      "Matrix computation finished!\n",
      "Start compute edge weight matrix...\n",
      "Start compute novel matrix...\n",
      "Matrix computation finished!\n",
      "Start compute edge weight matrix...\n",
      "Start compute novel matrix...\n",
      "Matrix computation finished!\n",
      "Start compute edge weight matrix...\n",
      "Start compute novel matrix...\n",
      "Matrix computation finished!\n",
      "Start compute edge weight matrix...\n",
      "Start compute novel matrix...\n",
      "Matrix computation finished!\n",
      "Start compute edge weight matrix...\n",
      "Start compute novel matrix...\n",
      "Matrix computation finished!\n",
      "Start compute edge weight matrix...\n",
      "Start compute novel matrix...\n",
      "Matrix computation finished!\n",
      "Start compute edge weight matrix...\n",
      "Start compute novel matrix...\n",
      "Matrix computation finished!\n",
      "Start compute edge weight matrix...\n",
      "Start compute novel matrix...\n",
      "Matrix computation finished!\n",
      "Start compute edge weight matrix...\n",
      "Start compute novel matrix...\n",
      "Matrix computation finished!\n",
      "Start compute edge weight matrix...\n",
      "Start compute novel matrix...\n",
      "Matrix computation finished!\n",
      "Start compute edge weight matrix...\n",
      "Start compute novel matrix...\n",
      "Matrix computation finished!\n",
      "Start compute edge weight matrix...\n",
      "Start compute novel matrix...\n",
      "Matrix computation finished!\n",
      "Start compute edge weight matrix...\n",
      "Start compute novel matrix...\n",
      "Matrix computation finished!\n",
      "Start compute edge weight matrix...\n",
      "Start compute novel matrix...\n",
      "Matrix computation finished!\n",
      "Start compute edge weight matrix...\n",
      "Start compute novel matrix...\n",
      "Matrix computation finished!\n",
      "Start compute edge weight matrix...\n",
      "Start compute novel matrix...\n",
      "Matrix computation finished!\n",
      "Start compute edge weight matrix...\n",
      "Start compute novel matrix...\n",
      "Matrix computation finished!\n",
      "Start compute edge weight matrix...\n",
      "Start compute novel matrix...\n",
      "Matrix computation finished!\n",
      "Start compute edge weight matrix...\n",
      "Start compute novel matrix...\n",
      "Matrix computation finished!\n",
      "Start compute edge weight matrix...\n",
      "Start compute novel matrix...\n",
      "Matrix computation finished!\n",
      "Start compute edge weight matrix...\n",
      "Start compute novel matrix...\n",
      "Matrix computation finished!\n",
      "Start compute edge weight matrix...\n",
      "Start compute novel matrix...\n",
      "Matrix computation finished!\n",
      "Start compute edge weight matrix...\n",
      "Start compute novel matrix...\n",
      "Matrix computation finished!\n",
      "Start compute edge weight matrix...\n",
      "Start compute novel matrix...\n",
      "Matrix computation finished!\n",
      "Start compute edge weight matrix...\n",
      "Start compute novel matrix...\n",
      "Matrix computation finished!\n",
      "Start compute edge weight matrix...\n",
      "Start compute novel matrix...\n",
      "Matrix computation finished!\n",
      "Start compute edge weight matrix...\n",
      "Start compute novel matrix...\n",
      "Matrix computation finished!\n",
      "Start compute edge weight matrix...\n",
      "Start compute novel matrix...\n",
      "Matrix computation finished!\n",
      "Start compute edge weight matrix...\n",
      "Start compute novel matrix...\n",
      "Matrix computation finished!\n",
      "Start compute edge weight matrix...\n",
      "Start compute novel matrix...\n",
      "Matrix computation finished!\n",
      "Start compute edge weight matrix...\n",
      "Start compute novel matrix...\n",
      "Matrix computation finished!\n",
      "Start compute edge weight matrix...\n",
      "Start compute novel matrix...\n",
      "Matrix computation finished!\n",
      "Start compute edge weight matrix...\n",
      "Start compute novel matrix...\n",
      "Matrix computation finished!\n",
      "Start compute edge weight matrix...\n",
      "Start compute novel matrix...\n",
      "Matrix computation finished!\n",
      "Start compute edge weight matrix...\n",
      "Start compute novel matrix...\n",
      "Matrix computation finished!\n",
      "Start compute edge weight matrix...\n",
      "Start compute novel matrix...\n",
      "Matrix computation finished!\n",
      "Start compute edge weight matrix...\n",
      "Start compute novel matrix...\n",
      "Matrix computation finished!\n",
      "Start compute edge weight matrix...\n",
      "Start compute novel matrix...\n",
      "Matrix computation finished!\n",
      "Start compute edge weight matrix...\n",
      "Start compute novel matrix...\n",
      "Matrix computation finished!\n",
      "Start compute edge weight matrix...\n",
      "Start compute novel matrix...\n",
      "Matrix computation finished!\n",
      "Start compute edge weight matrix...\n",
      "Start compute novel matrix...\n",
      "Matrix computation finished!\n",
      "Start compute edge weight matrix...\n",
      "Start compute novel matrix...\n",
      "Matrix computation finished!\n",
      "Start compute edge weight matrix...\n",
      "Start compute novel matrix...\n",
      "Matrix computation finished!\n",
      "Start compute edge weight matrix...\n",
      "Start compute novel matrix...\n",
      "Matrix computation finished!\n",
      "Start compute edge weight matrix...\n",
      "Start compute novel matrix...\n",
      "Matrix computation finished!\n",
      "Start compute edge weight matrix...\n",
      "Start compute novel matrix...\n",
      "Matrix computation finished!\n",
      "Start compute edge weight matrix...\n",
      "Start compute novel matrix...\n",
      "Matrix computation finished!\n",
      "Start compute edge weight matrix...\n",
      "Start compute novel matrix...\n",
      "Matrix computation finished!\n",
      "Start compute edge weight matrix...\n",
      "Start compute novel matrix...\n",
      "Matrix computation finished!\n",
      "Start compute edge weight matrix...\n",
      "Start compute novel matrix...\n",
      "Matrix computation finished!\n",
      "Start compute edge weight matrix...\n",
      "Start compute novel matrix...\n",
      "Matrix computation finished!\n",
      "Start compute edge weight matrix...\n",
      "Start compute novel matrix...\n",
      "Matrix computation finished!\n",
      "Start compute edge weight matrix...\n",
      "Start compute novel matrix...\n",
      "Matrix computation finished!\n",
      "Start compute edge weight matrix...\n",
      "Start compute novel matrix...\n",
      "Matrix computation finished!\n",
      "Start compute edge weight matrix...\n",
      "Start compute novel matrix...\n",
      "Matrix computation finished!\n",
      "Start compute edge weight matrix...\n",
      "Start compute novel matrix...\n",
      "Matrix computation finished!\n",
      "Start compute edge weight matrix...\n",
      "Start compute novel matrix...\n",
      "Matrix computation finished!\n",
      "Start compute edge weight matrix...\n",
      "Start compute novel matrix...\n",
      "Matrix computation finished!\n",
      "Start compute edge weight matrix...\n",
      "Start compute novel matrix...\n",
      "Matrix computation finished!\n",
      "Start compute edge weight matrix...\n",
      "Start compute novel matrix...\n",
      "Matrix computation finished!\n",
      "Start compute edge weight matrix...\n",
      "Start compute novel matrix...\n",
      "Matrix computation finished!\n",
      "Start compute edge weight matrix...\n",
      "Start compute novel matrix...\n",
      "Matrix computation finished!\n",
      "Start compute edge weight matrix...\n",
      "Start compute novel matrix...\n",
      "Matrix computation finished!\n",
      "Start compute edge weight matrix...\n",
      "Start compute novel matrix...\n",
      "Matrix computation finished!\n",
      "Start compute edge weight matrix...\n",
      "Start compute novel matrix...\n",
      "Matrix computation finished!\n",
      "Start compute edge weight matrix...\n",
      "Start compute novel matrix...\n",
      "Matrix computation finished!\n",
      "Start compute edge weight matrix...\n",
      "Start compute novel matrix...\n",
      "Matrix computation finished!\n",
      "Start compute edge weight matrix...\n",
      "Start compute novel matrix...\n",
      "Matrix computation finished!\n",
      "Start compute edge weight matrix...\n",
      "Start compute novel matrix...\n",
      "Matrix computation finished!\n",
      "Start compute edge weight matrix...\n",
      "Start compute novel matrix...\n",
      "Matrix computation finished!\n",
      "Start compute edge weight matrix...\n",
      "Start compute novel matrix...\n",
      "Matrix computation finished!\n",
      "Start compute edge weight matrix...\n",
      "Start compute novel matrix...\n",
      "Matrix computation finished!\n",
      "Start compute edge weight matrix...\n",
      "Start compute novel matrix...\n",
      "Matrix computation finished!\n",
      "Start compute edge weight matrix...\n",
      "Start compute novel matrix...\n",
      "Matrix computation finished!\n",
      "Start compute edge weight matrix...\n",
      "Start compute novel matrix...\n",
      "Matrix computation finished!\n",
      "Start compute edge weight matrix...\n",
      "Start compute novel matrix...\n",
      "Matrix computation finished!\n",
      "Start compute edge weight matrix...\n",
      "Start compute novel matrix...\n",
      "Matrix computation finished!\n",
      "Start compute edge weight matrix...\n",
      "Start compute novel matrix...\n",
      "Matrix computation finished!\n",
      "Start compute edge weight matrix...\n",
      "Start compute novel matrix...\n",
      "Matrix computation finished!\n",
      "Start compute edge weight matrix...\n",
      "Start compute novel matrix...\n",
      "Matrix computation finished!\n",
      "Start compute edge weight matrix...\n",
      "Start compute novel matrix...\n",
      "Matrix computation finished!\n",
      "\n",
      "VALIDATION:\n",
      "...\n",
      "                |    MAE |   RMSE |    AUC |    MAP | NDCG@-1 | Precision@-1 | Recall@-1 | Time (s)\n",
      "--------------- + ------ + ------ + ------ + ------ + ------- + ------------ + --------- + --------\n",
      "GridSearch_NEMF | 0.7976 | 1.0782 | 0.5566 | 0.0020 |  0.1384 |       0.0004 |    1.0000 |   4.6795\n",
      "\n",
      "TEST:\n",
      "...\n",
      "                |    MAE |   RMSE |    AUC |    MAP | NDCG@-1 | Precision@-1 | Recall@-1 | Train (s) | Test (s)\n",
      "--------------- + ------ + ------ + ------ + ------ + ------- + ------------ + --------- + --------- + --------\n",
      "GridSearch_NEMF | 0.7935 | 1.0671 | 0.5703 | 0.0018 |  0.1153 |       0.0002 |    1.0000 |  543.2552 |   3.9295\n",
      "\n",
      "{'explain_reg': 0.001, 'lambda_reg': 0.1, 'novel_reg': 0.001}\n"
     ]
    }
   ],
   "source": [
    "nemf = NEMF(k=10, max_iter=500, use_bias=True, learning_rate=0.001)\n",
    "gs_nemf = GridSearch(\n",
    "    model=nemf,\n",
    "    space=[\n",
    "        Discrete(\"lambda_reg\", [1e-1, 1e-2, 1e-3, 1e-4]),\n",
    "        Discrete(\"explain_reg\", [1, 1e-1, 1e-2, 1e-3, 1e-4]),\n",
    "        Discrete(\"novel_reg\", [1, 1e-1, 1e-2, 1e-3, 1e-4]),\n",
    "    ],\n",
    "    metric=cornac.metrics.RMSE(),\n",
    "    eval_method=ratio_split,\n",
    ")\n",
    "cornac.Experiment(\n",
    "    eval_method=ratio_split,\n",
    "    models=[gs_nemf],\n",
    "    metrics=matrics,\n",
    "    user_based=False,\n",
    ").run()\n",
    "print(gs_nemf.best_params)"
   ]
  },
  {
   "cell_type": "markdown",
   "metadata": {},
   "source": [
    "## ALS with small rating dataset"
   ]
  },
  {
   "cell_type": "code",
   "execution_count": null,
   "metadata": {},
   "outputs": [
    {
     "name": "stderr",
     "output_type": "stream",
     "text": [
      "c:\\Users\\linan\\.conda\\envs\\cornactest\\lib\\site-packages\\implicit\\utils.py:33: UserWarning: Intel MKL BLAS detected. Its highly recommend to set the environment variable 'export MKL_NUM_THREADS=1' to disable its internal multithreading\n",
      "  warnings.warn(\n"
     ]
    },
    {
     "data": {
      "application/vnd.jupyter.widget-view+json": {
       "model_id": "775dd195e6504a60bc7bedc3a6e71ef1",
       "version_major": 2,
       "version_minor": 0
      },
      "text/plain": [
       "  0%|          | 0/500 [00:00<?, ?it/s]"
      ]
     },
     "metadata": {},
     "output_type": "display_data"
    },
    {
     "name": "stderr",
     "output_type": "stream",
     "text": [
      "INFO:implicit:Final training loss 0.0032\n"
     ]
    },
    {
     "data": {
      "application/vnd.jupyter.widget-view+json": {
       "model_id": "1f8bc48ca41b42d9a83143497e1050fc",
       "version_major": 2,
       "version_minor": 0
      },
      "text/plain": [
       "  0%|          | 0/500 [00:00<?, ?it/s]"
      ]
     },
     "metadata": {},
     "output_type": "display_data"
    },
    {
     "name": "stderr",
     "output_type": "stream",
     "text": [
      "INFO:implicit:Final training loss 0.0032\n"
     ]
    },
    {
     "data": {
      "application/vnd.jupyter.widget-view+json": {
       "model_id": "3617ff1db94e4c76902cecf2a55a6fab",
       "version_major": 2,
       "version_minor": 0
      },
      "text/plain": [
       "  0%|          | 0/500 [00:00<?, ?it/s]"
      ]
     },
     "metadata": {},
     "output_type": "display_data"
    },
    {
     "name": "stderr",
     "output_type": "stream",
     "text": [
      "INFO:implicit:Final training loss 0.0032\n"
     ]
    },
    {
     "data": {
      "application/vnd.jupyter.widget-view+json": {
       "model_id": "709bd0c983d549fd8464df7fe2b69bb9",
       "version_major": 2,
       "version_minor": 0
      },
      "text/plain": [
       "  0%|          | 0/500 [00:00<?, ?it/s]"
      ]
     },
     "metadata": {},
     "output_type": "display_data"
    },
    {
     "name": "stderr",
     "output_type": "stream",
     "text": [
      "INFO:implicit:Final training loss 0.0032\n"
     ]
    },
    {
     "data": {
      "application/vnd.jupyter.widget-view+json": {
       "model_id": "d6f225f82cce4aa88da52e01a6814146",
       "version_major": 2,
       "version_minor": 0
      },
      "text/plain": [
       "  0%|          | 0/500 [00:00<?, ?it/s]"
      ]
     },
     "metadata": {},
     "output_type": "display_data"
    },
    {
     "name": "stderr",
     "output_type": "stream",
     "text": [
      "INFO:implicit:Final training loss 0.0059\n"
     ]
    },
    {
     "data": {
      "application/vnd.jupyter.widget-view+json": {
       "model_id": "d796b1b80df94e9694ec2d26d4401207",
       "version_major": 2,
       "version_minor": 0
      },
      "text/plain": [
       "  0%|          | 0/500 [00:00<?, ?it/s]"
      ]
     },
     "metadata": {},
     "output_type": "display_data"
    },
    {
     "name": "stderr",
     "output_type": "stream",
     "text": [
      "INFO:implicit:Final training loss 0.0059\n"
     ]
    },
    {
     "data": {
      "application/vnd.jupyter.widget-view+json": {
       "model_id": "5591eb1760ba4f588a3fa27152161337",
       "version_major": 2,
       "version_minor": 0
      },
      "text/plain": [
       "  0%|          | 0/500 [00:00<?, ?it/s]"
      ]
     },
     "metadata": {},
     "output_type": "display_data"
    },
    {
     "name": "stderr",
     "output_type": "stream",
     "text": [
      "INFO:implicit:Final training loss 0.0059\n"
     ]
    },
    {
     "data": {
      "application/vnd.jupyter.widget-view+json": {
       "model_id": "d3824e5690b94aafb10e453aada780f3",
       "version_major": 2,
       "version_minor": 0
      },
      "text/plain": [
       "  0%|          | 0/500 [00:00<?, ?it/s]"
      ]
     },
     "metadata": {},
     "output_type": "display_data"
    },
    {
     "name": "stderr",
     "output_type": "stream",
     "text": [
      "INFO:implicit:Final training loss 0.0059\n"
     ]
    },
    {
     "data": {
      "application/vnd.jupyter.widget-view+json": {
       "model_id": "54136a72bc654739a609d23a6089112c",
       "version_major": 2,
       "version_minor": 0
      },
      "text/plain": [
       "  0%|          | 0/500 [00:00<?, ?it/s]"
      ]
     },
     "metadata": {},
     "output_type": "display_data"
    },
    {
     "name": "stderr",
     "output_type": "stream",
     "text": [
      "INFO:implicit:Final training loss 0.0317\n"
     ]
    },
    {
     "data": {
      "application/vnd.jupyter.widget-view+json": {
       "model_id": "0d50057323cc414f810230797c398b7f",
       "version_major": 2,
       "version_minor": 0
      },
      "text/plain": [
       "  0%|          | 0/500 [00:00<?, ?it/s]"
      ]
     },
     "metadata": {},
     "output_type": "display_data"
    },
    {
     "name": "stderr",
     "output_type": "stream",
     "text": [
      "INFO:implicit:Final training loss 0.0317\n"
     ]
    },
    {
     "data": {
      "application/vnd.jupyter.widget-view+json": {
       "model_id": "347083c79e934581b1aac100bc9001ca",
       "version_major": 2,
       "version_minor": 0
      },
      "text/plain": [
       "  0%|          | 0/500 [00:00<?, ?it/s]"
      ]
     },
     "metadata": {},
     "output_type": "display_data"
    },
    {
     "name": "stderr",
     "output_type": "stream",
     "text": [
      "INFO:implicit:Final training loss 0.0317\n"
     ]
    },
    {
     "data": {
      "application/vnd.jupyter.widget-view+json": {
       "model_id": "2177eeeeacd3490687585ac7a831ce95",
       "version_major": 2,
       "version_minor": 0
      },
      "text/plain": [
       "  0%|          | 0/500 [00:00<?, ?it/s]"
      ]
     },
     "metadata": {},
     "output_type": "display_data"
    },
    {
     "name": "stderr",
     "output_type": "stream",
     "text": [
      "INFO:implicit:Final training loss 0.0317\n"
     ]
    },
    {
     "data": {
      "application/vnd.jupyter.widget-view+json": {
       "model_id": "82d1c4c0a8ee4dffabb20ab42f2e557e",
       "version_major": 2,
       "version_minor": 0
      },
      "text/plain": [
       "  0%|          | 0/500 [00:00<?, ?it/s]"
      ]
     },
     "metadata": {},
     "output_type": "display_data"
    },
    {
     "name": "stderr",
     "output_type": "stream",
     "text": [
      "INFO:implicit:Final training loss 0.0499\n"
     ]
    },
    {
     "data": {
      "application/vnd.jupyter.widget-view+json": {
       "model_id": "c171bacbcb3c4de68ae4f2cb524d02e3",
       "version_major": 2,
       "version_minor": 0
      },
      "text/plain": [
       "  0%|          | 0/500 [00:00<?, ?it/s]"
      ]
     },
     "metadata": {},
     "output_type": "display_data"
    },
    {
     "name": "stderr",
     "output_type": "stream",
     "text": [
      "INFO:implicit:Final training loss 0.0500\n"
     ]
    },
    {
     "data": {
      "application/vnd.jupyter.widget-view+json": {
       "model_id": "fb8acede0cdc476ea35ab3a9fe268faf",
       "version_major": 2,
       "version_minor": 0
      },
      "text/plain": [
       "  0%|          | 0/500 [00:00<?, ?it/s]"
      ]
     },
     "metadata": {},
     "output_type": "display_data"
    },
    {
     "name": "stderr",
     "output_type": "stream",
     "text": [
      "INFO:implicit:Final training loss 0.0501\n"
     ]
    },
    {
     "data": {
      "application/vnd.jupyter.widget-view+json": {
       "model_id": "868ce6cad7d54b21bf430ab84a4a14d4",
       "version_major": 2,
       "version_minor": 0
      },
      "text/plain": [
       "  0%|          | 0/500 [00:00<?, ?it/s]"
      ]
     },
     "metadata": {},
     "output_type": "display_data"
    },
    {
     "name": "stderr",
     "output_type": "stream",
     "text": [
      "INFO:implicit:Final training loss 0.0501\n"
     ]
    },
    {
     "data": {
      "application/vnd.jupyter.widget-view+json": {
       "model_id": "0135a35a7a4e4017ab0670b89790f6ac",
       "version_major": 2,
       "version_minor": 0
      },
      "text/plain": [
       "  0%|          | 0/500 [00:00<?, ?it/s]"
      ]
     },
     "metadata": {},
     "output_type": "display_data"
    },
    {
     "name": "stderr",
     "output_type": "stream",
     "text": [
      "INFO:implicit:Final training loss 0.0462\n"
     ]
    },
    {
     "data": {
      "application/vnd.jupyter.widget-view+json": {
       "model_id": "2fdc09cf3c8d44c6a0cd8a90d7857016",
       "version_major": 2,
       "version_minor": 0
      },
      "text/plain": [
       "  0%|          | 0/500 [00:00<?, ?it/s]"
      ]
     },
     "metadata": {},
     "output_type": "display_data"
    },
    {
     "name": "stderr",
     "output_type": "stream",
     "text": [
      "INFO:implicit:Final training loss 0.0463\n"
     ]
    },
    {
     "data": {
      "application/vnd.jupyter.widget-view+json": {
       "model_id": "4b46211d39284164a7fb11e0787fbd9b",
       "version_major": 2,
       "version_minor": 0
      },
      "text/plain": [
       "  0%|          | 0/500 [00:00<?, ?it/s]"
      ]
     },
     "metadata": {},
     "output_type": "display_data"
    },
    {
     "name": "stderr",
     "output_type": "stream",
     "text": [
      "INFO:implicit:Final training loss 0.0464\n"
     ]
    },
    {
     "data": {
      "application/vnd.jupyter.widget-view+json": {
       "model_id": "a0da7696ce514b7e850d086e8990a16b",
       "version_major": 2,
       "version_minor": 0
      },
      "text/plain": [
       "  0%|          | 0/500 [00:00<?, ?it/s]"
      ]
     },
     "metadata": {},
     "output_type": "display_data"
    },
    {
     "name": "stderr",
     "output_type": "stream",
     "text": [
      "INFO:implicit:Final training loss 0.0465\n"
     ]
    },
    {
     "name": "stdout",
     "output_type": "stream",
     "text": [
      "\n",
      "VALIDATION:\n",
      "...\n",
      "               |    MAE |   RMSE |    AUC |    MAP | NDCG@-1 | Precision@-1 | Recall@-1 | Time (s)\n",
      "-------------- + ------ + ------ + ------ + ------ + ------- + ------------ + --------- + --------\n",
      "GridSearch_ALS | 3.1314 | 3.3352 | 0.8590 | 0.0316 |  0.2269 |       0.0004 |    1.0000 |   4.7093\n",
      "\n",
      "TEST:\n",
      "...\n",
      "               |    MAE |   RMSE |    AUC |    MAP | NDCG@-1 | Precision@-1 | Recall@-1 | Train (s) | Test (s)\n",
      "-------------- + ------ + ------ + ------ + ------ + ------- + ------------ + --------- + --------- + --------\n",
      "GridSearch_ALS | 3.1529 | 3.3523 | 0.8616 | 0.0275 |  0.1868 |       0.0002 |    1.0000 |   82.0259 |   4.1238\n",
      "\n",
      "{'alpha': 100, 'lambda_reg': 0.001}\n"
     ]
    }
   ],
   "source": [
    "als = ALS(k=10, max_iter=500)\n",
    "gs_als = GridSearch(\n",
    "    model=als,\n",
    "    space=[\n",
    "        Discrete(\"lambda_reg\", [1e-1, 1e-2, 1e-3, 1e-4]),\n",
    "        Discrete(\"alpha\", [0.5, 1, 10, 50, 100]),\n",
    "    ],\n",
    "    metric=cornac.metrics.RMSE(),\n",
    "    eval_method=ratio_split,\n",
    ")\n",
    "cornac.Experiment(\n",
    "    eval_method=ratio_split,\n",
    "    models=[gs_als],\n",
    "    metrics=matrics,\n",
    "    user_based=False,\n",
    ").run()\n",
    "print(gs_als.best_params)"
   ]
  },
  {
   "cell_type": "markdown",
   "metadata": {},
   "source": [
    "# Large Rating Dataset"
   ]
  },
  {
   "cell_type": "code",
   "execution_count": 7,
   "metadata": {},
   "outputs": [],
   "source": [
    "# path = '../cornac/datasets/good_reads/good_read_UIR_1000.csv'\n",
    "path = '../cornac/datasets/good_reads/good_read_UIR_sample.csv'\n",
    "df = pd.read_csv(path, sep='\\t', header=0, names=['user_id', 'item_id', 'rating'])\n",
    "data = df[['user_id', 'item_id', 'rating']].values\n",
    "ratio_split = cornac.eval_methods.RatioSplit(data=data, test_size=0.1, val_size = 0.2, verbose=False)\n",
    "matrics = [cornac.metrics.MAE(), cornac.metrics.RMSE(), cornac.metrics.Precision(), cornac.metrics.Recall(), cornac.metrics.NDCG(), cornac.metrics.AUC(), cornac.metrics.MAP()]"
   ]
  },
  {
   "cell_type": "markdown",
   "metadata": {},
   "source": [
    "## MF with Large rating dataset"
   ]
  },
  {
   "cell_type": "code",
   "execution_count": 8,
   "metadata": {},
   "outputs": [
    {
     "name": "stdout",
     "output_type": "stream",
     "text": [
      "\n",
      "VALIDATION:\n",
      "...\n",
      "              |    MAE |   RMSE |    AUC |    MAP | NDCG@-1 | Precision@-1 | Recall@-1 | Time (s)\n",
      "------------- + ------ + ------ + ------ + ------ + ------- + ------------ + --------- + --------\n",
      "GridSearch_MF | 0.8279 | 1.1093 | 0.5565 | 0.0004 |  0.0931 |       0.0001 |    1.0000 |  76.3860\n",
      "\n",
      "TEST:\n",
      "...\n",
      "              |    MAE |   RMSE |    AUC |    MAP | NDCG@-1 | Precision@-1 | Recall@-1 | Train (s) | Test (s)\n",
      "------------- + ------ + ------ + ------ + ------ + ------- + ------------ + --------- + --------- + --------\n",
      "GridSearch_MF | 0.8262 | 1.0970 | 0.5562 | 0.0005 |  0.0870 |       0.0001 |    1.0000 |    3.6418 |  48.0340\n",
      "\n",
      "{'lambda_reg': 0.1}\n"
     ]
    }
   ],
   "source": [
    "mf = MF(k=10, max_iter=500, use_bias=True, learning_rate=0.001)\n",
    "gs_mf = GridSearch(\n",
    "    model=mf,\n",
    "    space=[\n",
    "        Discrete(\"lambda_reg\", [1e-1, 1e-2, 1e-3, 1e-4]),\n",
    "    ],\n",
    "    metric=cornac.metrics.RMSE(),\n",
    "    eval_method=ratio_split,\n",
    ")\n",
    "cornac.Experiment(\n",
    "    eval_method=ratio_split,\n",
    "    models=[gs_mf],\n",
    "    metrics=matrics,\n",
    "    user_based=False,\n",
    ").run()\n",
    "print(gs_mf.best_params)"
   ]
  },
  {
   "cell_type": "markdown",
   "metadata": {},
   "source": [
    "## EMF with Large rating dataset"
   ]
  },
  {
   "cell_type": "code",
   "execution_count": 9,
   "metadata": {},
   "outputs": [
    {
     "name": "stdout",
     "output_type": "stream",
     "text": [
      "\n",
      "VALIDATION:\n",
      "...\n",
      "               |    MAE |   RMSE |    AUC |    MAP | NDCG@-1 | Precision@-1 | Recall@-1 | Time (s)\n",
      "-------------- + ------ + ------ + ------ + ------ + ------- + ------------ + --------- + --------\n",
      "GridSearch_EMF | 0.8912 | 1.1858 | 0.5380 | 0.0015 |  0.0981 |       0.0001 |    1.0000 |  86.8760\n",
      "\n",
      "TEST:\n",
      "...\n",
      "               |    MAE |   RMSE |    AUC |    MAP | NDCG@-1 | Precision@-1 | Recall@-1 |  Train (s) | Test (s)\n",
      "-------------- + ------ + ------ + ------ + ------ + ------- + ------------ + --------- + ---------- + --------\n",
      "GridSearch_EMF | 0.8915 | 1.1777 | 0.5328 | 0.0014 |  0.0914 |       0.0001 |    1.0000 | 28889.6864 |  57.5734\n",
      "\n",
      "{'explain_reg': 0.01, 'lambda_reg': 0.1}\n"
     ]
    }
   ],
   "source": [
    "emf = EMF(k=10, max_iter=500, use_bias=True, learning_rate=0.001)\n",
    "gs_emf = GridSearch(\n",
    "    model=emf,\n",
    "    space=[\n",
    "        Discrete(\"lambda_reg\", [1e-1, 1e-2, 1e-3, 1e-4]),\n",
    "        Discrete(\"explain_reg\", [1, 1e-1, 1e-2, 1e-3, 1e-4]),\n",
    "    ],\n",
    "    metric=cornac.metrics.RMSE(),\n",
    "    eval_method=ratio_split,\n",
    ")\n",
    "cornac.Experiment(\n",
    "    eval_method=ratio_split,\n",
    "    models=[gs_emf],\n",
    "    metrics=matrics,\n",
    "    user_based=False,\n",
    ").run()\n",
    "print(gs_emf.best_params)"
   ]
  },
  {
   "cell_type": "markdown",
   "metadata": {},
   "source": [
    "## ALS with Large rating dataset"
   ]
  },
  {
   "cell_type": "code",
   "execution_count": 10,
   "metadata": {},
   "outputs": [
    {
     "data": {
      "application/vnd.jupyter.widget-view+json": {
       "model_id": "538a98113e694a8dbee328829701eaa0",
       "version_major": 2,
       "version_minor": 0
      },
      "text/plain": [
       "  0%|          | 0/500 [00:00<?, ?it/s]"
      ]
     },
     "metadata": {},
     "output_type": "display_data"
    },
    {
     "name": "stderr",
     "output_type": "stream",
     "text": [
      "INFO:implicit:Final training loss 0.0002\n"
     ]
    },
    {
     "data": {
      "application/vnd.jupyter.widget-view+json": {
       "model_id": "f3e953daec354366833d6ae7e8621706",
       "version_major": 2,
       "version_minor": 0
      },
      "text/plain": [
       "  0%|          | 0/500 [00:00<?, ?it/s]"
      ]
     },
     "metadata": {},
     "output_type": "display_data"
    },
    {
     "name": "stderr",
     "output_type": "stream",
     "text": [
      "INFO:implicit:Final training loss 0.0002\n"
     ]
    },
    {
     "data": {
      "application/vnd.jupyter.widget-view+json": {
       "model_id": "d6fdd39e5afc40aebd1e3119fe96f6b5",
       "version_major": 2,
       "version_minor": 0
      },
      "text/plain": [
       "  0%|          | 0/500 [00:00<?, ?it/s]"
      ]
     },
     "metadata": {},
     "output_type": "display_data"
    },
    {
     "name": "stderr",
     "output_type": "stream",
     "text": [
      "INFO:implicit:Final training loss 0.0002\n"
     ]
    },
    {
     "data": {
      "application/vnd.jupyter.widget-view+json": {
       "model_id": "6f50c7d862654055bfa81a044019e353",
       "version_major": 2,
       "version_minor": 0
      },
      "text/plain": [
       "  0%|          | 0/500 [00:00<?, ?it/s]"
      ]
     },
     "metadata": {},
     "output_type": "display_data"
    },
    {
     "name": "stderr",
     "output_type": "stream",
     "text": [
      "INFO:implicit:Final training loss 0.0003\n"
     ]
    },
    {
     "data": {
      "application/vnd.jupyter.widget-view+json": {
       "model_id": "dafc5cb6c35540a6aeace16697869be1",
       "version_major": 2,
       "version_minor": 0
      },
      "text/plain": [
       "  0%|          | 0/500 [00:00<?, ?it/s]"
      ]
     },
     "metadata": {},
     "output_type": "display_data"
    },
    {
     "name": "stderr",
     "output_type": "stream",
     "text": [
      "INFO:implicit:Final training loss 0.0005\n"
     ]
    },
    {
     "data": {
      "application/vnd.jupyter.widget-view+json": {
       "model_id": "bdbfab8d2c9344eca5aa3cf9b83b5236",
       "version_major": 2,
       "version_minor": 0
      },
      "text/plain": [
       "  0%|          | 0/500 [00:00<?, ?it/s]"
      ]
     },
     "metadata": {},
     "output_type": "display_data"
    },
    {
     "name": "stderr",
     "output_type": "stream",
     "text": [
      "INFO:implicit:Final training loss 0.0005\n"
     ]
    },
    {
     "data": {
      "application/vnd.jupyter.widget-view+json": {
       "model_id": "d20329dab60043ee81cdc0a9907bf343",
       "version_major": 2,
       "version_minor": 0
      },
      "text/plain": [
       "  0%|          | 0/500 [00:00<?, ?it/s]"
      ]
     },
     "metadata": {},
     "output_type": "display_data"
    },
    {
     "name": "stderr",
     "output_type": "stream",
     "text": [
      "INFO:implicit:Final training loss 0.0005\n"
     ]
    },
    {
     "data": {
      "application/vnd.jupyter.widget-view+json": {
       "model_id": "fb483b577ccf487f92af64e79bec3d2c",
       "version_major": 2,
       "version_minor": 0
      },
      "text/plain": [
       "  0%|          | 0/500 [00:00<?, ?it/s]"
      ]
     },
     "metadata": {},
     "output_type": "display_data"
    },
    {
     "name": "stderr",
     "output_type": "stream",
     "text": [
      "INFO:implicit:Final training loss 0.0005\n"
     ]
    },
    {
     "data": {
      "application/vnd.jupyter.widget-view+json": {
       "model_id": "0e794be0bd5947e1bb03865ea95168cd",
       "version_major": 2,
       "version_minor": 0
      },
      "text/plain": [
       "  0%|          | 0/500 [00:00<?, ?it/s]"
      ]
     },
     "metadata": {},
     "output_type": "display_data"
    },
    {
     "name": "stderr",
     "output_type": "stream",
     "text": [
      "INFO:implicit:Final training loss 0.0034\n"
     ]
    },
    {
     "data": {
      "application/vnd.jupyter.widget-view+json": {
       "model_id": "a208ffbccba7443ca3e4d5450b579a45",
       "version_major": 2,
       "version_minor": 0
      },
      "text/plain": [
       "  0%|          | 0/500 [00:00<?, ?it/s]"
      ]
     },
     "metadata": {},
     "output_type": "display_data"
    },
    {
     "name": "stderr",
     "output_type": "stream",
     "text": [
      "INFO:implicit:Final training loss 0.0034\n"
     ]
    },
    {
     "data": {
      "application/vnd.jupyter.widget-view+json": {
       "model_id": "8c9c4f7171344ffeaf8de98c07ef4577",
       "version_major": 2,
       "version_minor": 0
      },
      "text/plain": [
       "  0%|          | 0/500 [00:00<?, ?it/s]"
      ]
     },
     "metadata": {},
     "output_type": "display_data"
    },
    {
     "name": "stderr",
     "output_type": "stream",
     "text": [
      "INFO:implicit:Final training loss 0.0034\n"
     ]
    },
    {
     "data": {
      "application/vnd.jupyter.widget-view+json": {
       "model_id": "7e9df75dc50b400d839ee0dfbb98b3e8",
       "version_major": 2,
       "version_minor": 0
      },
      "text/plain": [
       "  0%|          | 0/500 [00:00<?, ?it/s]"
      ]
     },
     "metadata": {},
     "output_type": "display_data"
    },
    {
     "name": "stderr",
     "output_type": "stream",
     "text": [
      "INFO:implicit:Final training loss 0.0034\n"
     ]
    },
    {
     "data": {
      "application/vnd.jupyter.widget-view+json": {
       "model_id": "dd3707cd66e9489b9ecfe24ef13c5345",
       "version_major": 2,
       "version_minor": 0
      },
      "text/plain": [
       "  0%|          | 0/500 [00:00<?, ?it/s]"
      ]
     },
     "metadata": {},
     "output_type": "display_data"
    },
    {
     "name": "stderr",
     "output_type": "stream",
     "text": [
      "INFO:implicit:Final training loss 0.0112\n"
     ]
    },
    {
     "data": {
      "application/vnd.jupyter.widget-view+json": {
       "model_id": "873d4fd73a8b4d3e866133b21557c2b9",
       "version_major": 2,
       "version_minor": 0
      },
      "text/plain": [
       "  0%|          | 0/500 [00:00<?, ?it/s]"
      ]
     },
     "metadata": {},
     "output_type": "display_data"
    },
    {
     "name": "stderr",
     "output_type": "stream",
     "text": [
      "INFO:implicit:Final training loss 0.0112\n"
     ]
    },
    {
     "data": {
      "application/vnd.jupyter.widget-view+json": {
       "model_id": "e3e70d30f31949658988972005d71333",
       "version_major": 2,
       "version_minor": 0
      },
      "text/plain": [
       "  0%|          | 0/500 [00:00<?, ?it/s]"
      ]
     },
     "metadata": {},
     "output_type": "display_data"
    },
    {
     "name": "stderr",
     "output_type": "stream",
     "text": [
      "INFO:implicit:Final training loss 0.0112\n"
     ]
    },
    {
     "data": {
      "application/vnd.jupyter.widget-view+json": {
       "model_id": "79ace09b73b547bcafd751d7c6e263a4",
       "version_major": 2,
       "version_minor": 0
      },
      "text/plain": [
       "  0%|          | 0/500 [00:00<?, ?it/s]"
      ]
     },
     "metadata": {},
     "output_type": "display_data"
    },
    {
     "name": "stderr",
     "output_type": "stream",
     "text": [
      "INFO:implicit:Final training loss 0.0112\n"
     ]
    },
    {
     "data": {
      "application/vnd.jupyter.widget-view+json": {
       "model_id": "9a399c19c35641fa868dbfdb55adb525",
       "version_major": 2,
       "version_minor": 0
      },
      "text/plain": [
       "  0%|          | 0/500 [00:00<?, ?it/s]"
      ]
     },
     "metadata": {},
     "output_type": "display_data"
    },
    {
     "name": "stderr",
     "output_type": "stream",
     "text": [
      "INFO:implicit:Final training loss 0.0169\n"
     ]
    },
    {
     "data": {
      "application/vnd.jupyter.widget-view+json": {
       "model_id": "45793d23294640e7a0d795c56db8771a",
       "version_major": 2,
       "version_minor": 0
      },
      "text/plain": [
       "  0%|          | 0/500 [00:00<?, ?it/s]"
      ]
     },
     "metadata": {},
     "output_type": "display_data"
    },
    {
     "name": "stderr",
     "output_type": "stream",
     "text": [
      "INFO:implicit:Final training loss 0.0169\n"
     ]
    },
    {
     "data": {
      "application/vnd.jupyter.widget-view+json": {
       "model_id": "9344de38d9b3448c9aa6093d41a60773",
       "version_major": 2,
       "version_minor": 0
      },
      "text/plain": [
       "  0%|          | 0/500 [00:00<?, ?it/s]"
      ]
     },
     "metadata": {},
     "output_type": "display_data"
    },
    {
     "name": "stderr",
     "output_type": "stream",
     "text": [
      "INFO:implicit:Final training loss 0.0170\n"
     ]
    },
    {
     "data": {
      "application/vnd.jupyter.widget-view+json": {
       "model_id": "ea2d5b25b079418194c1f2d2a23d684b",
       "version_major": 2,
       "version_minor": 0
      },
      "text/plain": [
       "  0%|          | 0/500 [00:00<?, ?it/s]"
      ]
     },
     "metadata": {},
     "output_type": "display_data"
    },
    {
     "name": "stderr",
     "output_type": "stream",
     "text": [
      "INFO:implicit:Final training loss 0.0170\n"
     ]
    },
    {
     "name": "stdout",
     "output_type": "stream",
     "text": [
      "\n",
      "VALIDATION:\n",
      "...\n",
      "               |    MAE |   RMSE |    AUC |    MAP | NDCG@-1 | Precision@-1 | Recall@-1 | Time (s)\n",
      "-------------- + ------ + ------ + ------ + ------ + ------- + ------------ + --------- + --------\n",
      "GridSearch_ALS | 3.3438 | 3.5454 | 0.8471 | 0.0455 |  0.1892 |       0.0001 |    1.0000 |  86.5089\n",
      "\n",
      "TEST:\n",
      "...\n",
      "               |    MAE |   RMSE |    AUC |    MAP | NDCG@-1 | Precision@-1 | Recall@-1 | Train (s) | Test (s)\n",
      "-------------- + ------ + ------ + ------ + ------ + ------- + ------------ + --------- + --------- + --------\n",
      "GridSearch_ALS | 3.3647 | 3.5643 | 0.8498 | 0.0412 |  0.1740 |       0.0001 |    1.0000 |  201.5453 |  57.4864\n",
      "\n",
      "{'alpha': 100, 'lambda_reg': 0.1}\n"
     ]
    }
   ],
   "source": [
    "als = ALS(k=10, max_iter=500)\n",
    "gs_als = GridSearch(\n",
    "    model=als,\n",
    "    space=[\n",
    "        Discrete(\"lambda_reg\", [1e-1, 1e-2, 1e-3, 1e-4]),\n",
    "        Discrete(\"alpha\", [0.5, 1, 10, 50, 100]),\n",
    "    ],\n",
    "    metric=cornac.metrics.RMSE(),\n",
    "    eval_method=ratio_split,\n",
    ")\n",
    "cornac.Experiment(\n",
    "    eval_method=ratio_split,\n",
    "    models=[gs_als],\n",
    "    metrics=matrics,\n",
    "    user_based=False,\n",
    ").run()\n",
    "print(gs_als.best_params)"
   ]
  }
 ],
 "metadata": {
  "kernelspec": {
   "display_name": "cornactest",
   "language": "python",
   "name": "python3"
  },
  "language_info": {
   "codemirror_mode": {
    "name": "ipython",
    "version": 3
   },
   "file_extension": ".py",
   "mimetype": "text/x-python",
   "name": "python",
   "nbconvert_exporter": "python",
   "pygments_lexer": "ipython3",
   "version": "3.8.16"
  },
  "orig_nbformat": 4
 },
 "nbformat": 4,
 "nbformat_minor": 2
}
